{
 "cells": [
  {
   "cell_type": "code",
   "execution_count": 47,
   "id": "b0e0de49",
   "metadata": {},
   "outputs": [
    {
     "data": {
      "text/html": [
       "<div>\n",
       "<style scoped>\n",
       "    .dataframe tbody tr th:only-of-type {\n",
       "        vertical-align: middle;\n",
       "    }\n",
       "\n",
       "    .dataframe tbody tr th {\n",
       "        vertical-align: top;\n",
       "    }\n",
       "\n",
       "    .dataframe thead th {\n",
       "        text-align: right;\n",
       "    }\n",
       "</style>\n",
       "<table border=\"1\" class=\"dataframe\">\n",
       "  <thead>\n",
       "    <tr style=\"text-align: right;\">\n",
       "      <th></th>\n",
       "      <th>Pet</th>\n",
       "      <th>Percentage</th>\n",
       "    </tr>\n",
       "  </thead>\n",
       "  <tbody>\n",
       "    <tr>\n",
       "      <th>0</th>\n",
       "      <td>Cat</td>\n",
       "      <td>88.6</td>\n",
       "    </tr>\n",
       "    <tr>\n",
       "      <th>1</th>\n",
       "      <td>Dog</td>\n",
       "      <td>10.1</td>\n",
       "    </tr>\n",
       "    <tr>\n",
       "      <th>2</th>\n",
       "      <td>Other</td>\n",
       "      <td>1.3</td>\n",
       "    </tr>\n",
       "  </tbody>\n",
       "</table>\n",
       "</div>"
      ],
      "text/plain": [
       "     Pet  Percentage\n",
       "0    Cat        88.6\n",
       "1    Dog        10.1\n",
       "2  Other         1.3"
      ]
     },
     "execution_count": 47,
     "metadata": {},
     "output_type": "execute_result"
    }
   ],
   "source": [
    "import pandas as pd\n",
    "\n",
    "data = [{'Pet' : 'Cat', 'Percentage': 88.6},\n",
    "       {'Pet' : 'Dog', 'Percentage': 10.1},\n",
    "       {'Pet' : 'Other', 'Percentage': 1.3},]\n",
    "df = pd.DataFrame(data)\n",
    "df.head()"
   ]
  },
  {
   "cell_type": "code",
   "execution_count": 48,
   "id": "8c30cc3d",
   "metadata": {},
   "outputs": [
    {
     "name": "stderr",
     "output_type": "stream",
     "text": [
      "/Users/angelica/Library/Python/3.8/lib/python/site-packages/altair/utils/core.py:317: FutureWarning: iteritems is deprecated and will be removed in a future version. Use .items instead.\n",
      "  for col_name, dtype in df.dtypes.iteritems():\n"
     ]
    },
    {
     "data": {
      "text/html": [
       "\n",
       "<div id=\"altair-viz-773dafaa63bd45cda23c4be97bf3dc8e\"></div>\n",
       "<script type=\"text/javascript\">\n",
       "  var VEGA_DEBUG = (typeof VEGA_DEBUG == \"undefined\") ? {} : VEGA_DEBUG;\n",
       "  (function(spec, embedOpt){\n",
       "    let outputDiv = document.currentScript.previousElementSibling;\n",
       "    if (outputDiv.id !== \"altair-viz-773dafaa63bd45cda23c4be97bf3dc8e\") {\n",
       "      outputDiv = document.getElementById(\"altair-viz-773dafaa63bd45cda23c4be97bf3dc8e\");\n",
       "    }\n",
       "    const paths = {\n",
       "      \"vega\": \"https://cdn.jsdelivr.net/npm//vega@5?noext\",\n",
       "      \"vega-lib\": \"https://cdn.jsdelivr.net/npm//vega-lib?noext\",\n",
       "      \"vega-lite\": \"https://cdn.jsdelivr.net/npm//vega-lite@4.17.0?noext\",\n",
       "      \"vega-embed\": \"https://cdn.jsdelivr.net/npm//vega-embed@6?noext\",\n",
       "    };\n",
       "\n",
       "    function maybeLoadScript(lib, version) {\n",
       "      var key = `${lib.replace(\"-\", \"\")}_version`;\n",
       "      return (VEGA_DEBUG[key] == version) ?\n",
       "        Promise.resolve(paths[lib]) :\n",
       "        new Promise(function(resolve, reject) {\n",
       "          var s = document.createElement('script');\n",
       "          document.getElementsByTagName(\"head\")[0].appendChild(s);\n",
       "          s.async = true;\n",
       "          s.onload = () => {\n",
       "            VEGA_DEBUG[key] = version;\n",
       "            return resolve(paths[lib]);\n",
       "          };\n",
       "          s.onerror = () => reject(`Error loading script: ${paths[lib]}`);\n",
       "          s.src = paths[lib];\n",
       "        });\n",
       "    }\n",
       "\n",
       "    function showError(err) {\n",
       "      outputDiv.innerHTML = `<div class=\"error\" style=\"color:red;\">${err}</div>`;\n",
       "      throw err;\n",
       "    }\n",
       "\n",
       "    function displayChart(vegaEmbed) {\n",
       "      vegaEmbed(outputDiv, spec, embedOpt)\n",
       "        .catch(err => showError(`Javascript Error: ${err.message}<br>This usually means there's a typo in your chart specification. See the javascript console for the full traceback.`));\n",
       "    }\n",
       "\n",
       "    if(typeof define === \"function\" && define.amd) {\n",
       "      requirejs.config({paths});\n",
       "      require([\"vega-embed\"], displayChart, err => showError(`Error loading script: ${err.message}`));\n",
       "    } else {\n",
       "      maybeLoadScript(\"vega\", \"5\")\n",
       "        .then(() => maybeLoadScript(\"vega-lite\", \"4.17.0\"))\n",
       "        .then(() => maybeLoadScript(\"vega-embed\", \"6\"))\n",
       "        .catch(showError)\n",
       "        .then(() => displayChart(vegaEmbed));\n",
       "    }\n",
       "  })({\"config\": {\"view\": {\"continuousWidth\": 400, \"continuousHeight\": 300}}, \"data\": {\"name\": \"data-39f1fb95d18519001905909b23edb3cc\"}, \"mark\": {\"type\": \"bar\", \"size\": 100}, \"encoding\": {\"color\": {\"field\": \"Pet\", \"legend\": null, \"scale\": {\"range\": [\"#f77f00\", \"#fcbf49\", \"#eae2b7\"]}, \"type\": \"nominal\"}, \"x\": {\"axis\": {\"labelAngle\": 0, \"title\": \"\"}, \"field\": \"Pet\", \"type\": \"nominal\"}, \"y\": {\"field\": \"Percentage\", \"type\": \"quantitative\"}}, \"title\": \"Percentage of Pets\", \"width\": 400, \"$schema\": \"https://vega.github.io/schema/vega-lite/v4.17.0.json\", \"datasets\": {\"data-39f1fb95d18519001905909b23edb3cc\": [{\"Pet\": \"Cat\", \"Percentage\": 88.6}, {\"Pet\": \"Dog\", \"Percentage\": 10.1}, {\"Pet\": \"Other\", \"Percentage\": 1.3}]}}, {\"mode\": \"vega-lite\"});\n",
       "</script>"
      ],
      "text/plain": [
       "alt.Chart(...)"
      ]
     },
     "execution_count": 48,
     "metadata": {},
     "output_type": "execute_result"
    }
   ],
   "source": [
    "import altair as alt\n",
    "\n",
    "scale = alt.Scale(range=['#f77f00', '#fcbf49','#eae2b7'])\n",
    "\n",
    "chart = alt.Chart(df).mark_bar(size=100).encode(\n",
    "    x=alt.X('Pet',axis=alt.Axis(labelAngle=0, title='')),\n",
    "    y=alt.Y('Percentage'),\n",
    "    color=alt.Color('Pet', legend=None,scale=scale),\n",
    "\n",
    ").properties(width=400, title='Percentage of Pets')\n",
    "\n",
    "chart"
   ]
  },
  {
   "cell_type": "markdown",
   "id": "32f74f45",
   "metadata": {},
   "source": [
    "# Information"
   ]
  },
  {
   "cell_type": "code",
   "execution_count": 49,
   "id": "f635d84b",
   "metadata": {},
   "outputs": [],
   "source": [
    "df.drop(index=[2],axis=0,inplace=True)"
   ]
  },
  {
   "cell_type": "code",
   "execution_count": 50,
   "id": "9a5de7b6",
   "metadata": {},
   "outputs": [],
   "source": [
    "df['Percentage'] = df['Percentage']/10"
   ]
  },
  {
   "cell_type": "code",
   "execution_count": 51,
   "id": "212de097",
   "metadata": {},
   "outputs": [
    {
     "data": {
      "text/html": [
       "<div>\n",
       "<style scoped>\n",
       "    .dataframe tbody tr th:only-of-type {\n",
       "        vertical-align: middle;\n",
       "    }\n",
       "\n",
       "    .dataframe tbody tr th {\n",
       "        vertical-align: top;\n",
       "    }\n",
       "\n",
       "    .dataframe thead th {\n",
       "        text-align: right;\n",
       "    }\n",
       "</style>\n",
       "<table border=\"1\" class=\"dataframe\">\n",
       "  <thead>\n",
       "    <tr style=\"text-align: right;\">\n",
       "      <th></th>\n",
       "      <th>Pet</th>\n",
       "      <th>Percentage</th>\n",
       "    </tr>\n",
       "  </thead>\n",
       "  <tbody>\n",
       "    <tr>\n",
       "      <th>0</th>\n",
       "      <td>Cat</td>\n",
       "      <td>8.86</td>\n",
       "    </tr>\n",
       "    <tr>\n",
       "      <th>1</th>\n",
       "      <td>Dog</td>\n",
       "      <td>1.01</td>\n",
       "    </tr>\n",
       "  </tbody>\n",
       "</table>\n",
       "</div>"
      ],
      "text/plain": [
       "   Pet  Percentage\n",
       "0  Cat        8.86\n",
       "1  Dog        1.01"
      ]
     },
     "execution_count": 51,
     "metadata": {},
     "output_type": "execute_result"
    }
   ],
   "source": [
    "df.head()"
   ]
  },
  {
   "cell_type": "code",
   "execution_count": 118,
   "id": "0dc23894",
   "metadata": {},
   "outputs": [
    {
     "name": "stderr",
     "output_type": "stream",
     "text": [
      "/Users/angelica/Library/Python/3.8/lib/python/site-packages/altair/utils/core.py:317: FutureWarning: iteritems is deprecated and will be removed in a future version. Use .items instead.\n",
      "  for col_name, dtype in df.dtypes.iteritems():\n"
     ]
    },
    {
     "data": {
      "text/html": [
       "\n",
       "<div id=\"altair-viz-b5434ce61fd94319a2747e9864893e2c\"></div>\n",
       "<script type=\"text/javascript\">\n",
       "  var VEGA_DEBUG = (typeof VEGA_DEBUG == \"undefined\") ? {} : VEGA_DEBUG;\n",
       "  (function(spec, embedOpt){\n",
       "    let outputDiv = document.currentScript.previousElementSibling;\n",
       "    if (outputDiv.id !== \"altair-viz-b5434ce61fd94319a2747e9864893e2c\") {\n",
       "      outputDiv = document.getElementById(\"altair-viz-b5434ce61fd94319a2747e9864893e2c\");\n",
       "    }\n",
       "    const paths = {\n",
       "      \"vega\": \"https://cdn.jsdelivr.net/npm//vega@5?noext\",\n",
       "      \"vega-lib\": \"https://cdn.jsdelivr.net/npm//vega-lib?noext\",\n",
       "      \"vega-lite\": \"https://cdn.jsdelivr.net/npm//vega-lite@4.17.0?noext\",\n",
       "      \"vega-embed\": \"https://cdn.jsdelivr.net/npm//vega-embed@6?noext\",\n",
       "    };\n",
       "\n",
       "    function maybeLoadScript(lib, version) {\n",
       "      var key = `${lib.replace(\"-\", \"\")}_version`;\n",
       "      return (VEGA_DEBUG[key] == version) ?\n",
       "        Promise.resolve(paths[lib]) :\n",
       "        new Promise(function(resolve, reject) {\n",
       "          var s = document.createElement('script');\n",
       "          document.getElementsByTagName(\"head\")[0].appendChild(s);\n",
       "          s.async = true;\n",
       "          s.onload = () => {\n",
       "            VEGA_DEBUG[key] = version;\n",
       "            return resolve(paths[lib]);\n",
       "          };\n",
       "          s.onerror = () => reject(`Error loading script: ${paths[lib]}`);\n",
       "          s.src = paths[lib];\n",
       "        });\n",
       "    }\n",
       "\n",
       "    function showError(err) {\n",
       "      outputDiv.innerHTML = `<div class=\"error\" style=\"color:red;\">${err}</div>`;\n",
       "      throw err;\n",
       "    }\n",
       "\n",
       "    function displayChart(vegaEmbed) {\n",
       "      vegaEmbed(outputDiv, spec, embedOpt)\n",
       "        .catch(err => showError(`Javascript Error: ${err.message}<br>This usually means there's a typo in your chart specification. See the javascript console for the full traceback.`));\n",
       "    }\n",
       "\n",
       "    if(typeof define === \"function\" && define.amd) {\n",
       "      requirejs.config({paths});\n",
       "      require([\"vega-embed\"], displayChart, err => showError(`Error loading script: ${err.message}`));\n",
       "    } else {\n",
       "      maybeLoadScript(\"vega\", \"5\")\n",
       "        .then(() => maybeLoadScript(\"vega-lite\", \"4.17.0\"))\n",
       "        .then(() => maybeLoadScript(\"vega-embed\", \"6\"))\n",
       "        .catch(showError)\n",
       "        .then(() => displayChart(vegaEmbed));\n",
       "    }\n",
       "  })({\"config\": {\"view\": {\"continuousWidth\": 400, \"continuousHeight\": 300}}, \"data\": {\"name\": \"data-77785718e951b4397fc0a683964de4b5\"}, \"mark\": {\"type\": \"text\", \"fontSize\": 20}, \"encoding\": {\"color\": {\"field\": \"text\", \"legend\": null, \"scale\": {\"range\": [\"#f77f00\", \"#fcbf49\"]}, \"type\": \"ordinal\"}, \"text\": {\"field\": \"text\", \"type\": \"nominal\"}, \"x\": {\"axis\": {\"grid\": false, \"orient\": \"bottom\", \"tickMinStep\": 1, \"title\": null}, \"field\": \"x\", \"scale\": {\"domain\": [0, 10]}, \"type\": \"quantitative\"}}, \"$schema\": \"https://vega.github.io/schema/vega-lite/v4.17.0.json\", \"datasets\": {\"data-77785718e951b4397fc0a683964de4b5\": [{\"text\": \"cat\", \"x\": 0.5}, {\"text\": \"dog\", \"x\": 9.4}]}}, {\"mode\": \"vega-lite\"});\n",
       "</script>"
      ],
      "text/plain": [
       "alt.Chart(...)"
      ]
     },
     "execution_count": 118,
     "metadata": {},
     "output_type": "execute_result"
    }
   ],
   "source": [
    "data = pd.DataFrame([{'text' : 'cat', 'x': 0.5},\n",
    "                     {'text' : 'dog', 'x': 9.4}\n",
    "                    ])\n",
    "scale = alt.Scale(range=['#f77f00', '#fcbf49'])\n",
    "text = alt.Chart(data).mark_text(\n",
    "    fontSize=20, \n",
    ").encode(\n",
    "    text='text:N',\n",
    "    x=alt.X('x:Q', scale=alt.Scale(domain=[0, 10]),axis=alt.Axis(tickMinStep = 1,grid=False, title=None, orient='bottom')),\n",
    "    color=alt.Color('text:O', scale=scale, legend=None)\n",
    "    \n",
    ")\n",
    "\n",
    "text"
   ]
  },
  {
   "cell_type": "code",
   "execution_count": 120,
   "id": "5a766fcd",
   "metadata": {},
   "outputs": [
    {
     "data": {
      "text/html": [
       "\n",
       "<div id=\"altair-viz-d9d2ce2cc1d044249743b9ab6221c0fd\"></div>\n",
       "<script type=\"text/javascript\">\n",
       "  var VEGA_DEBUG = (typeof VEGA_DEBUG == \"undefined\") ? {} : VEGA_DEBUG;\n",
       "  (function(spec, embedOpt){\n",
       "    let outputDiv = document.currentScript.previousElementSibling;\n",
       "    if (outputDiv.id !== \"altair-viz-d9d2ce2cc1d044249743b9ab6221c0fd\") {\n",
       "      outputDiv = document.getElementById(\"altair-viz-d9d2ce2cc1d044249743b9ab6221c0fd\");\n",
       "    }\n",
       "    const paths = {\n",
       "      \"vega\": \"https://cdn.jsdelivr.net/npm//vega@5?noext\",\n",
       "      \"vega-lib\": \"https://cdn.jsdelivr.net/npm//vega-lib?noext\",\n",
       "      \"vega-lite\": \"https://cdn.jsdelivr.net/npm//vega-lite@4.17.0?noext\",\n",
       "      \"vega-embed\": \"https://cdn.jsdelivr.net/npm//vega-embed@6?noext\",\n",
       "    };\n",
       "\n",
       "    function maybeLoadScript(lib, version) {\n",
       "      var key = `${lib.replace(\"-\", \"\")}_version`;\n",
       "      return (VEGA_DEBUG[key] == version) ?\n",
       "        Promise.resolve(paths[lib]) :\n",
       "        new Promise(function(resolve, reject) {\n",
       "          var s = document.createElement('script');\n",
       "          document.getElementsByTagName(\"head\")[0].appendChild(s);\n",
       "          s.async = true;\n",
       "          s.onload = () => {\n",
       "            VEGA_DEBUG[key] = version;\n",
       "            return resolve(paths[lib]);\n",
       "          };\n",
       "          s.onerror = () => reject(`Error loading script: ${paths[lib]}`);\n",
       "          s.src = paths[lib];\n",
       "        });\n",
       "    }\n",
       "\n",
       "    function showError(err) {\n",
       "      outputDiv.innerHTML = `<div class=\"error\" style=\"color:red;\">${err}</div>`;\n",
       "      throw err;\n",
       "    }\n",
       "\n",
       "    function displayChart(vegaEmbed) {\n",
       "      vegaEmbed(outputDiv, spec, embedOpt)\n",
       "        .catch(err => showError(`Javascript Error: ${err.message}<br>This usually means there's a typo in your chart specification. See the javascript console for the full traceback.`));\n",
       "    }\n",
       "\n",
       "    if(typeof define === \"function\" && define.amd) {\n",
       "      requirejs.config({paths});\n",
       "      require([\"vega-embed\"], displayChart, err => showError(`Error loading script: ${err.message}`));\n",
       "    } else {\n",
       "      maybeLoadScript(\"vega\", \"5\")\n",
       "        .then(() => maybeLoadScript(\"vega-lite\", \"4.17.0\"))\n",
       "        .then(() => maybeLoadScript(\"vega-embed\", \"6\"))\n",
       "        .catch(showError)\n",
       "        .then(() => displayChart(vegaEmbed));\n",
       "    }\n",
       "  })({\"config\": {\"view\": {\"continuousWidth\": 400, \"continuousHeight\": 300, \"strokeOpacity\": 0}}, \"layer\": [{\"data\": {\"name\": \"data-77785718e951b4397fc0a683964de4b5\"}, \"mark\": {\"type\": \"text\", \"fontSize\": 20}, \"encoding\": {\"color\": {\"field\": \"text\", \"legend\": null, \"scale\": {\"range\": [\"#f77f00\", \"#fcbf49\"]}, \"type\": \"ordinal\"}, \"text\": {\"field\": \"text\", \"type\": \"nominal\"}, \"x\": {\"axis\": {\"grid\": false, \"orient\": \"bottom\", \"tickMinStep\": 1, \"title\": null}, \"field\": \"x\", \"scale\": {\"domain\": [0, 10]}, \"type\": \"quantitative\"}}}, {\"data\": {\"name\": \"data-568b89d5717eb9cd629f9975fa644641\"}, \"mark\": {\"type\": \"bar\", \"size\": 50}, \"encoding\": {\"color\": {\"field\": \"Pet\", \"legend\": null, \"scale\": {\"range\": [\"#f77f00\", \"#fcbf49\"]}, \"type\": \"ordinal\"}, \"opacity\": {\"value\": 0.6}, \"stroke\": {\"field\": \"Pet\", \"legend\": null, \"scale\": {\"range\": [\"#f77f00\", \"#fcbf49\"]}, \"type\": \"ordinal\"}, \"strokeWidth\": {\"value\": 2}, \"x\": {\"axis\": {\"grid\": false, \"orient\": \"bottom\", \"tickMinStep\": 1, \"title\": null}, \"field\": \"Percentage\", \"scale\": {\"domain\": [0, 10]}, \"type\": \"quantitative\"}}, \"height\": 100}], \"resolve\": {\"scale\": {\"color\": \"independent\"}}, \"$schema\": \"https://vega.github.io/schema/vega-lite/v4.17.0.json\", \"datasets\": {\"data-77785718e951b4397fc0a683964de4b5\": [{\"text\": \"cat\", \"x\": 0.5}, {\"text\": \"dog\", \"x\": 9.4}], \"data-568b89d5717eb9cd629f9975fa644641\": [{\"Pet\": \"Cat\", \"Percentage\": 8.86}, {\"Pet\": \"Dog\", \"Percentage\": 1.01}]}}, {\"mode\": \"vega-lite\"});\n",
       "</script>"
      ],
      "text/plain": [
       "alt.LayerChart(...)"
      ]
     },
     "execution_count": 120,
     "metadata": {},
     "output_type": "execute_result"
    }
   ],
   "source": [
    "chart = alt.Chart(df).mark_bar(size=50\n",
    "    ).encode(\n",
    "    x=alt.X('Percentage:Q', \n",
    "            scale=alt.Scale(domain=[0, 10]),\n",
    "            axis=alt.Axis(tickMinStep = 1,grid=False, title=None, orient='bottom')\n",
    "           ),\n",
    "    color=alt.Color('Pet:O', legend=None,scale=scale),\n",
    "    stroke=alt.Color('Pet:O',scale=scale, legend=None),\n",
    "    strokeWidth=alt.value(2),\n",
    "    opacity=alt.value(0.6)\n",
    "\n",
    ").properties(height=100)\n",
    "\n",
    "layer = alt.layer(\n",
    "    text,\n",
    "    chart\n",
    ").resolve_scale(\n",
    "    color='independent'\n",
    ").configure_view(\n",
    "    strokeOpacity=0\n",
    ").properties()\n",
    "\n",
    "layer"
   ]
  },
  {
   "cell_type": "code",
   "execution_count": null,
   "id": "ab9c1c9d",
   "metadata": {},
   "outputs": [],
   "source": []
  },
  {
   "cell_type": "markdown",
   "id": "9fb8fc58",
   "metadata": {},
   "source": [
    "# Knowledge"
   ]
  },
  {
   "cell_type": "code",
   "execution_count": 72,
   "id": "3f1149d3",
   "metadata": {},
   "outputs": [
    {
     "data": {
      "text/html": [
       "\n",
       "<div id=\"altair-viz-966c1ca8a82d44bcb0ff0b8f601bf481\"></div>\n",
       "<script type=\"text/javascript\">\n",
       "  var VEGA_DEBUG = (typeof VEGA_DEBUG == \"undefined\") ? {} : VEGA_DEBUG;\n",
       "  (function(spec, embedOpt){\n",
       "    let outputDiv = document.currentScript.previousElementSibling;\n",
       "    if (outputDiv.id !== \"altair-viz-966c1ca8a82d44bcb0ff0b8f601bf481\") {\n",
       "      outputDiv = document.getElementById(\"altair-viz-966c1ca8a82d44bcb0ff0b8f601bf481\");\n",
       "    }\n",
       "    const paths = {\n",
       "      \"vega\": \"https://cdn.jsdelivr.net/npm//vega@5?noext\",\n",
       "      \"vega-lib\": \"https://cdn.jsdelivr.net/npm//vega-lib?noext\",\n",
       "      \"vega-lite\": \"https://cdn.jsdelivr.net/npm//vega-lite@4.17.0?noext\",\n",
       "      \"vega-embed\": \"https://cdn.jsdelivr.net/npm//vega-embed@6?noext\",\n",
       "    };\n",
       "\n",
       "    function maybeLoadScript(lib, version) {\n",
       "      var key = `${lib.replace(\"-\", \"\")}_version`;\n",
       "      return (VEGA_DEBUG[key] == version) ?\n",
       "        Promise.resolve(paths[lib]) :\n",
       "        new Promise(function(resolve, reject) {\n",
       "          var s = document.createElement('script');\n",
       "          document.getElementsByTagName(\"head\")[0].appendChild(s);\n",
       "          s.async = true;\n",
       "          s.onload = () => {\n",
       "            VEGA_DEBUG[key] = version;\n",
       "            return resolve(paths[lib]);\n",
       "          };\n",
       "          s.onerror = () => reject(`Error loading script: ${paths[lib]}`);\n",
       "          s.src = paths[lib];\n",
       "        });\n",
       "    }\n",
       "\n",
       "    function showError(err) {\n",
       "      outputDiv.innerHTML = `<div class=\"error\" style=\"color:red;\">${err}</div>`;\n",
       "      throw err;\n",
       "    }\n",
       "\n",
       "    function displayChart(vegaEmbed) {\n",
       "      vegaEmbed(outputDiv, spec, embedOpt)\n",
       "        .catch(err => showError(`Javascript Error: ${err.message}<br>This usually means there's a typo in your chart specification. See the javascript console for the full traceback.`));\n",
       "    }\n",
       "\n",
       "    if(typeof define === \"function\" && define.amd) {\n",
       "      requirejs.config({paths});\n",
       "      require([\"vega-embed\"], displayChart, err => showError(`Error loading script: ${err.message}`));\n",
       "    } else {\n",
       "      maybeLoadScript(\"vega\", \"5\")\n",
       "        .then(() => maybeLoadScript(\"vega-lite\", \"4.17.0\"))\n",
       "        .then(() => maybeLoadScript(\"vega-embed\", \"6\"))\n",
       "        .catch(showError)\n",
       "        .then(() => displayChart(vegaEmbed));\n",
       "    }\n",
       "  })({\"config\": {\"view\": {\"continuousWidth\": 400, \"continuousHeight\": 300, \"strokeOpacity\": 0}}, \"layer\": [{\"data\": {\"name\": \"data-568b89d5717eb9cd629f9975fa644641\"}, \"mark\": {\"type\": \"bar\", \"size\": 40}, \"encoding\": {\"color\": {\"field\": \"Pet\", \"legend\": null, \"scale\": {\"range\": [\"#f77f00\", \"#fcbf49\"]}, \"type\": \"ordinal\"}, \"opacity\": {\"value\": 0.6}, \"stroke\": {\"field\": \"Pet\", \"legend\": null, \"scale\": {\"range\": [\"#f77f00\", \"#fcbf49\"]}, \"type\": \"ordinal\"}, \"strokeWidth\": {\"value\": 2}, \"x\": {\"aggregate\": \"sum\", \"axis\": {\"grid\": false, \"tickMinStep\": 1, \"title\": null}, \"field\": \"Percentage\", \"scale\": {\"domain\": [0, 10]}, \"type\": \"quantitative\"}}}, {\"data\": {\"name\": \"data-77785718e951b4397fc0a683964de4b5\"}, \"mark\": {\"type\": \"text\", \"fontSize\": 20}, \"encoding\": {\"color\": {\"field\": \"text\", \"legend\": null, \"scale\": {\"range\": [\"#f77f00\", \"#fcbf49\"]}, \"type\": \"ordinal\"}, \"text\": {\"field\": \"text\", \"type\": \"nominal\"}, \"x\": {\"axis\": null, \"field\": \"x\", \"scale\": {\"domain\": [0, 10]}, \"type\": \"quantitative\"}}}], \"height\": 50, \"resolve\": {\"scale\": {\"color\": \"independent\"}}, \"title\": \"Percentage of people employed in our company\", \"$schema\": \"https://vega.github.io/schema/vega-lite/v4.17.0.json\", \"datasets\": {\"data-568b89d5717eb9cd629f9975fa644641\": [{\"Pet\": \"Cat\", \"Percentage\": 8.86}, {\"Pet\": \"Dog\", \"Percentage\": 1.01}], \"data-77785718e951b4397fc0a683964de4b5\": [{\"text\": \"cat\", \"x\": 0.5}, {\"text\": \"dog\", \"x\": 9.4}]}}, {\"mode\": \"vega-lite\"});\n",
       "</script>"
      ],
      "text/plain": [
       "alt.LayerChart(...)"
      ]
     },
     "execution_count": 72,
     "metadata": {},
     "output_type": "execute_result"
    }
   ],
   "source": [
    "layer2 = alt.layer(\n",
    "    chart,\n",
    "    text\n",
    ").resolve_scale(\n",
    "    color='independent'\n",
    ").configure_view(\n",
    "    strokeOpacity=0\n",
    ").properties(\n",
    "    height=50,\n",
    "    title='Percentage of people employed in our company'\n",
    ")\n",
    "\n",
    "layer2"
   ]
  },
  {
   "cell_type": "markdown",
   "id": "1650dd9f",
   "metadata": {},
   "source": [
    "# Wisdom"
   ]
  },
  {
   "cell_type": "code",
   "execution_count": 73,
   "id": "ba2c7886",
   "metadata": {},
   "outputs": [
    {
     "data": {
      "text/html": [
       "\n",
       "<div id=\"altair-viz-608070977ac74fb4a91c544f152b7540\"></div>\n",
       "<script type=\"text/javascript\">\n",
       "  var VEGA_DEBUG = (typeof VEGA_DEBUG == \"undefined\") ? {} : VEGA_DEBUG;\n",
       "  (function(spec, embedOpt){\n",
       "    let outputDiv = document.currentScript.previousElementSibling;\n",
       "    if (outputDiv.id !== \"altair-viz-608070977ac74fb4a91c544f152b7540\") {\n",
       "      outputDiv = document.getElementById(\"altair-viz-608070977ac74fb4a91c544f152b7540\");\n",
       "    }\n",
       "    const paths = {\n",
       "      \"vega\": \"https://cdn.jsdelivr.net/npm//vega@5?noext\",\n",
       "      \"vega-lib\": \"https://cdn.jsdelivr.net/npm//vega-lib?noext\",\n",
       "      \"vega-lite\": \"https://cdn.jsdelivr.net/npm//vega-lite@4.17.0?noext\",\n",
       "      \"vega-embed\": \"https://cdn.jsdelivr.net/npm//vega-embed@6?noext\",\n",
       "    };\n",
       "\n",
       "    function maybeLoadScript(lib, version) {\n",
       "      var key = `${lib.replace(\"-\", \"\")}_version`;\n",
       "      return (VEGA_DEBUG[key] == version) ?\n",
       "        Promise.resolve(paths[lib]) :\n",
       "        new Promise(function(resolve, reject) {\n",
       "          var s = document.createElement('script');\n",
       "          document.getElementsByTagName(\"head\")[0].appendChild(s);\n",
       "          s.async = true;\n",
       "          s.onload = () => {\n",
       "            VEGA_DEBUG[key] = version;\n",
       "            return resolve(paths[lib]);\n",
       "          };\n",
       "          s.onerror = () => reject(`Error loading script: ${paths[lib]}`);\n",
       "          s.src = paths[lib];\n",
       "        });\n",
       "    }\n",
       "\n",
       "    function showError(err) {\n",
       "      outputDiv.innerHTML = `<div class=\"error\" style=\"color:red;\">${err}</div>`;\n",
       "      throw err;\n",
       "    }\n",
       "\n",
       "    function displayChart(vegaEmbed) {\n",
       "      vegaEmbed(outputDiv, spec, embedOpt)\n",
       "        .catch(err => showError(`Javascript Error: ${err.message}<br>This usually means there's a typo in your chart specification. See the javascript console for the full traceback.`));\n",
       "    }\n",
       "\n",
       "    if(typeof define === \"function\" && define.amd) {\n",
       "      requirejs.config({paths});\n",
       "      require([\"vega-embed\"], displayChart, err => showError(`Error loading script: ${err.message}`));\n",
       "    } else {\n",
       "      maybeLoadScript(\"vega\", \"5\")\n",
       "        .then(() => maybeLoadScript(\"vega-lite\", \"4.17.0\"))\n",
       "        .then(() => maybeLoadScript(\"vega-embed\", \"6\"))\n",
       "        .catch(showError)\n",
       "        .then(() => displayChart(vegaEmbed));\n",
       "    }\n",
       "  })({\"config\": {\"view\": {\"continuousWidth\": 400, \"continuousHeight\": 300}}, \"data\": {\"name\": \"data-77785718e951b4397fc0a683964de4b5\"}, \"mark\": {\"type\": \"text\", \"color\": \"#FFC300\", \"fontSize\": 22}, \"encoding\": {\"text\": {\"value\": \"What can we do to increase the recruitment of women?\"}, \"y\": {\"value\": 90}}, \"$schema\": \"https://vega.github.io/schema/vega-lite/v4.17.0.json\", \"datasets\": {\"data-77785718e951b4397fc0a683964de4b5\": [{\"text\": \"cat\", \"x\": 0.5}, {\"text\": \"dog\", \"x\": 9.4}]}}, {\"mode\": \"vega-lite\"});\n",
       "</script>"
      ],
      "text/plain": [
       "alt.Chart(...)"
      ]
     },
     "execution_count": 73,
     "metadata": {},
     "output_type": "execute_result"
    }
   ],
   "source": [
    "action = alt.Chart(data).mark_text(\n",
    "    fontSize=22, \n",
    "    color='#FFC300', \n",
    ").encode(\n",
    "    y=alt.value(90),\n",
    "    text=alt.value('What can we do to increase the recruitment of women?')\n",
    ")\n",
    "action"
   ]
  },
  {
   "cell_type": "code",
   "execution_count": 74,
   "id": "e39a8e95",
   "metadata": {},
   "outputs": [
    {
     "data": {
      "text/html": [
       "\n",
       "<div id=\"altair-viz-3ecf50d55e1d4959a04d5c37b2dcb1aa\"></div>\n",
       "<script type=\"text/javascript\">\n",
       "  var VEGA_DEBUG = (typeof VEGA_DEBUG == \"undefined\") ? {} : VEGA_DEBUG;\n",
       "  (function(spec, embedOpt){\n",
       "    let outputDiv = document.currentScript.previousElementSibling;\n",
       "    if (outputDiv.id !== \"altair-viz-3ecf50d55e1d4959a04d5c37b2dcb1aa\") {\n",
       "      outputDiv = document.getElementById(\"altair-viz-3ecf50d55e1d4959a04d5c37b2dcb1aa\");\n",
       "    }\n",
       "    const paths = {\n",
       "      \"vega\": \"https://cdn.jsdelivr.net/npm//vega@5?noext\",\n",
       "      \"vega-lib\": \"https://cdn.jsdelivr.net/npm//vega-lib?noext\",\n",
       "      \"vega-lite\": \"https://cdn.jsdelivr.net/npm//vega-lite@4.17.0?noext\",\n",
       "      \"vega-embed\": \"https://cdn.jsdelivr.net/npm//vega-embed@6?noext\",\n",
       "    };\n",
       "\n",
       "    function maybeLoadScript(lib, version) {\n",
       "      var key = `${lib.replace(\"-\", \"\")}_version`;\n",
       "      return (VEGA_DEBUG[key] == version) ?\n",
       "        Promise.resolve(paths[lib]) :\n",
       "        new Promise(function(resolve, reject) {\n",
       "          var s = document.createElement('script');\n",
       "          document.getElementsByTagName(\"head\")[0].appendChild(s);\n",
       "          s.async = true;\n",
       "          s.onload = () => {\n",
       "            VEGA_DEBUG[key] = version;\n",
       "            return resolve(paths[lib]);\n",
       "          };\n",
       "          s.onerror = () => reject(`Error loading script: ${paths[lib]}`);\n",
       "          s.src = paths[lib];\n",
       "        });\n",
       "    }\n",
       "\n",
       "    function showError(err) {\n",
       "      outputDiv.innerHTML = `<div class=\"error\" style=\"color:red;\">${err}</div>`;\n",
       "      throw err;\n",
       "    }\n",
       "\n",
       "    function displayChart(vegaEmbed) {\n",
       "      vegaEmbed(outputDiv, spec, embedOpt)\n",
       "        .catch(err => showError(`Javascript Error: ${err.message}<br>This usually means there's a typo in your chart specification. See the javascript console for the full traceback.`));\n",
       "    }\n",
       "\n",
       "    if(typeof define === \"function\" && define.amd) {\n",
       "      requirejs.config({paths});\n",
       "      require([\"vega-embed\"], displayChart, err => showError(`Error loading script: ${err.message}`));\n",
       "    } else {\n",
       "      maybeLoadScript(\"vega\", \"5\")\n",
       "        .then(() => maybeLoadScript(\"vega-lite\", \"4.17.0\"))\n",
       "        .then(() => maybeLoadScript(\"vega-embed\", \"6\"))\n",
       "        .catch(showError)\n",
       "        .then(() => displayChart(vegaEmbed));\n",
       "    }\n",
       "  })({\"config\": {\"view\": {\"continuousWidth\": 400, \"continuousHeight\": 300, \"strokeOpacity\": 0}}, \"layer\": [{\"data\": {\"name\": \"data-568b89d5717eb9cd629f9975fa644641\"}, \"mark\": {\"type\": \"bar\", \"size\": 40}, \"encoding\": {\"color\": {\"field\": \"Pet\", \"legend\": null, \"scale\": {\"range\": [\"#f77f00\", \"#fcbf49\"]}, \"type\": \"ordinal\"}, \"opacity\": {\"value\": 0.6}, \"stroke\": {\"field\": \"Pet\", \"legend\": null, \"scale\": {\"range\": [\"#f77f00\", \"#fcbf49\"]}, \"type\": \"ordinal\"}, \"strokeWidth\": {\"value\": 2}, \"x\": {\"aggregate\": \"sum\", \"axis\": {\"grid\": false, \"tickMinStep\": 1, \"title\": null}, \"field\": \"Percentage\", \"scale\": {\"domain\": [0, 10]}, \"type\": \"quantitative\"}}}, {\"data\": {\"name\": \"data-77785718e951b4397fc0a683964de4b5\"}, \"mark\": {\"type\": \"text\", \"fontSize\": 20}, \"encoding\": {\"color\": {\"field\": \"text\", \"legend\": null, \"scale\": {\"range\": [\"#f77f00\", \"#fcbf49\"]}, \"type\": \"ordinal\"}, \"text\": {\"field\": \"text\", \"type\": \"nominal\"}, \"x\": {\"axis\": null, \"field\": \"x\", \"scale\": {\"domain\": [0, 10]}, \"type\": \"quantitative\"}}}, {\"data\": {\"name\": \"data-77785718e951b4397fc0a683964de4b5\"}, \"mark\": {\"type\": \"text\", \"color\": \"#FFC300\", \"fontSize\": 22}, \"encoding\": {\"text\": {\"value\": \"What can we do to increase the recruitment of women?\"}, \"y\": {\"value\": 90}}}], \"height\": 50, \"resolve\": {\"scale\": {\"color\": \"independent\"}}, \"title\": \"Percentage of people employed in our company\", \"$schema\": \"https://vega.github.io/schema/vega-lite/v4.17.0.json\", \"datasets\": {\"data-568b89d5717eb9cd629f9975fa644641\": [{\"Pet\": \"Cat\", \"Percentage\": 8.86}, {\"Pet\": \"Dog\", \"Percentage\": 1.01}], \"data-77785718e951b4397fc0a683964de4b5\": [{\"text\": \"cat\", \"x\": 0.5}, {\"text\": \"dog\", \"x\": 9.4}]}}, {\"mode\": \"vega-lite\"});\n",
       "</script>"
      ],
      "text/plain": [
       "alt.LayerChart(...)"
      ]
     },
     "execution_count": 74,
     "metadata": {},
     "output_type": "execute_result"
    }
   ],
   "source": [
    "layer3 = alt.layer(\n",
    "    chart,\n",
    "    text,\n",
    "    action\n",
    ").resolve_scale(\n",
    "    color='independent'\n",
    ").configure_view(\n",
    "    strokeOpacity=0\n",
    ").properties(\n",
    "    height=50,\n",
    "    title='Percentage of people employed in our company'\n",
    ")\n",
    "layer3"
   ]
  },
  {
   "cell_type": "code",
   "execution_count": null,
   "id": "50cf105b",
   "metadata": {},
   "outputs": [],
   "source": []
  },
  {
   "cell_type": "code",
   "execution_count": null,
   "id": "b710d5c8",
   "metadata": {},
   "outputs": [],
   "source": []
  }
 ],
 "metadata": {
  "kernelspec": {
   "display_name": "Python 3 (ipykernel)",
   "language": "python",
   "name": "python3"
  },
  "language_info": {
   "codemirror_mode": {
    "name": "ipython",
    "version": 3
   },
   "file_extension": ".py",
   "mimetype": "text/x-python",
   "name": "python",
   "nbconvert_exporter": "python",
   "pygments_lexer": "ipython3",
   "version": "3.8.9"
  }
 },
 "nbformat": 4,
 "nbformat_minor": 5
}
