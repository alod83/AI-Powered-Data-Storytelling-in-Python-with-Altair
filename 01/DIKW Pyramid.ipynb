{
 "cells": [
  {
   "cell_type": "code",
   "execution_count": 11,
   "id": "2140b450",
   "metadata": {},
   "outputs": [
    {
     "name": "stdout",
     "output_type": "stream",
     "text": [
      "The autoreload extension is already loaded. To reload it, use:\n",
      "  %reload_ext autoreload\n"
     ]
    }
   ],
   "source": [
    "%load_ext autoreload\n",
    "%autoreload 2"
   ]
  },
  {
   "cell_type": "markdown",
   "id": "e1dbee7e",
   "metadata": {},
   "source": [
    "# The DIKW Pyramid\n",
    "\n",
    "## Data"
   ]
  },
  {
   "cell_type": "code",
   "execution_count": 133,
   "id": "b0e0de49",
   "metadata": {},
   "outputs": [
    {
     "data": {
      "text/html": [
       "<div><div id=e36977fc-e4d8-496e-a6d4-2a0d10bc6f78 style=\"display:none; background-color:#9D6CFF; color:white; width:200px; height:30px; padding-left:5px; border-radius:4px; flex-direction:row; justify-content:space-around; align-items:center;\" onmouseover=\"this.style.backgroundColor='#BA9BF8'\" onmouseout=\"this.style.backgroundColor='#9D6CFF'\" onclick=\"window.commands?.execute('create-mitosheet-from-dataframe-output');\">See Full Dataframe in Mito</div> <script> if (window.commands.hasCommand('create-mitosheet-from-dataframe-output')) document.getElementById('e36977fc-e4d8-496e-a6d4-2a0d10bc6f78').style.display = 'flex' </script> <table border=\"1\" class=\"dataframe\">\n",
       "  <thead>\n",
       "    <tr style=\"text-align: right;\">\n",
       "      <th></th>\n",
       "      <th>pet</th>\n",
       "      <th>number_of_participants</th>\n",
       "      <th>percentage</th>\n",
       "      <th>number_of_advertised_sites</th>\n",
       "    </tr>\n",
       "  </thead>\n",
       "  <tbody>\n",
       "    <tr>\n",
       "      <th>0</th>\n",
       "      <td>Cat</td>\n",
       "      <td>1138</td>\n",
       "      <td>88.560311</td>\n",
       "      <td>150</td>\n",
       "    </tr>\n",
       "    <tr>\n",
       "      <th>1</th>\n",
       "      <td>Dog</td>\n",
       "      <td>130</td>\n",
       "      <td>10.116732</td>\n",
       "      <td>28</td>\n",
       "    </tr>\n",
       "    <tr>\n",
       "      <th>2</th>\n",
       "      <td>Other</td>\n",
       "      <td>17</td>\n",
       "      <td>1.322957</td>\n",
       "      <td>147</td>\n",
       "    </tr>\n",
       "  </tbody>\n",
       "</table></div>"
      ],
      "text/plain": [
       "     pet  number_of_participants  percentage  number_of_advertised_sites\n",
       "0    Cat                    1138   88.560311                         150\n",
       "1    Dog                     130   10.116732                          28\n",
       "2  Other                      17    1.322957                         147"
      ]
     },
     "execution_count": 133,
     "metadata": {},
     "output_type": "execute_result"
    }
   ],
   "source": [
    "import pandas as pd\n",
    "from config import *\n",
    "\n",
    "df = pd.read_csv('source/pets.csv')\n",
    "df.head()"
   ]
  },
  {
   "cell_type": "code",
   "execution_count": 117,
   "id": "8c30cc3d",
   "metadata": {},
   "outputs": [
    {
     "data": {
      "text/html": [
       "\n",
       "<div id=\"altair-viz-fc905fa2163b45c9a68c8c047579cdf3\"></div>\n",
       "<script type=\"text/javascript\">\n",
       "  var VEGA_DEBUG = (typeof VEGA_DEBUG == \"undefined\") ? {} : VEGA_DEBUG;\n",
       "  (function(spec, embedOpt){\n",
       "    let outputDiv = document.currentScript.previousElementSibling;\n",
       "    if (outputDiv.id !== \"altair-viz-fc905fa2163b45c9a68c8c047579cdf3\") {\n",
       "      outputDiv = document.getElementById(\"altair-viz-fc905fa2163b45c9a68c8c047579cdf3\");\n",
       "    }\n",
       "    const paths = {\n",
       "      \"vega\": \"https://cdn.jsdelivr.net/npm//vega@5?noext\",\n",
       "      \"vega-lib\": \"https://cdn.jsdelivr.net/npm//vega-lib?noext\",\n",
       "      \"vega-lite\": \"https://cdn.jsdelivr.net/npm//vega-lite@4.17.0?noext\",\n",
       "      \"vega-embed\": \"https://cdn.jsdelivr.net/npm//vega-embed@6?noext\",\n",
       "    };\n",
       "\n",
       "    function maybeLoadScript(lib, version) {\n",
       "      var key = `${lib.replace(\"-\", \"\")}_version`;\n",
       "      return (VEGA_DEBUG[key] == version) ?\n",
       "        Promise.resolve(paths[lib]) :\n",
       "        new Promise(function(resolve, reject) {\n",
       "          var s = document.createElement('script');\n",
       "          document.getElementsByTagName(\"head\")[0].appendChild(s);\n",
       "          s.async = true;\n",
       "          s.onload = () => {\n",
       "            VEGA_DEBUG[key] = version;\n",
       "            return resolve(paths[lib]);\n",
       "          };\n",
       "          s.onerror = () => reject(`Error loading script: ${paths[lib]}`);\n",
       "          s.src = paths[lib];\n",
       "        });\n",
       "    }\n",
       "\n",
       "    function showError(err) {\n",
       "      outputDiv.innerHTML = `<div class=\"error\" style=\"color:red;\">${err}</div>`;\n",
       "      throw err;\n",
       "    }\n",
       "\n",
       "    function displayChart(vegaEmbed) {\n",
       "      vegaEmbed(outputDiv, spec, embedOpt)\n",
       "        .catch(err => showError(`Javascript Error: ${err.message}<br>This usually means there's a typo in your chart specification. See the javascript console for the full traceback.`));\n",
       "    }\n",
       "\n",
       "    if(typeof define === \"function\" && define.amd) {\n",
       "      requirejs.config({paths});\n",
       "      require([\"vega-embed\"], displayChart, err => showError(`Error loading script: ${err.message}`));\n",
       "    } else {\n",
       "      maybeLoadScript(\"vega\", \"5\")\n",
       "        .then(() => maybeLoadScript(\"vega-lite\", \"4.17.0\"))\n",
       "        .then(() => maybeLoadScript(\"vega-embed\", \"6\"))\n",
       "        .catch(showError)\n",
       "        .then(() => displayChart(vegaEmbed));\n",
       "    }\n",
       "  })({\"config\": {\"view\": {\"continuousWidth\": 400, \"continuousHeight\": 300}, \"axis\": {\"labelFontSize\": 15, \"titleFontSize\": 20}, \"title\": {\"fontSize\": 25}}, \"data\": {\"name\": \"data-6a77b92cd2438c485b88c059ddf09442\"}, \"mark\": {\"type\": \"bar\", \"color\": \"#636466\", \"size\": 100}, \"encoding\": {\"x\": {\"axis\": {\"labelAngle\": 0, \"title\": \"\"}, \"field\": \"pet\", \"type\": \"nominal\"}, \"y\": {\"field\": \"percentage\", \"type\": \"quantitative\"}}, \"height\": 300, \"title\": \"Percentage of Pets\", \"width\": 672, \"$schema\": \"https://vega.github.io/schema/vega-lite/v4.17.0.json\", \"datasets\": {\"data-6a77b92cd2438c485b88c059ddf09442\": [{\"pet\": \"Cat\", \"number_of_participants\": 1138, \"percentage\": 88.56031128, \"number_of_advertised_sites\": 150}, {\"pet\": \"Dog\", \"number_of_participants\": 130, \"percentage\": 10.11673152, \"number_of_advertised_sites\": 28}, {\"pet\": \"Other\", \"number_of_participants\": 17, \"percentage\": 1.322957198, \"number_of_advertised_sites\": 147}]}}, {\"mode\": \"vega-lite\"});\n",
       "</script>"
      ],
      "text/plain": [
       "alt.Chart(...)"
      ]
     },
     "execution_count": 117,
     "metadata": {},
     "output_type": "execute_result"
    }
   ],
   "source": [
    "import altair as alt\n",
    "\n",
    "\n",
    "scale = alt.Scale(range=['#f77f00', '#fcbf49','#eae2b7'])\n",
    "\n",
    "chart = alt.Chart(df).mark_bar(size=100,color=color).encode(\n",
    "    x=alt.X('pet',axis=alt.Axis(labelAngle=0, title='')),\n",
    "    y=alt.Y('percentage'),\n",
    "\n",
    ").properties(width=width, height=height, title='Percentage of Pets')\n",
    "\n",
    "configure_layout(chart)"
   ]
  },
  {
   "cell_type": "markdown",
   "id": "32f74f45",
   "metadata": {},
   "source": [
    "# Information"
   ]
  },
  {
   "cell_type": "code",
   "execution_count": 118,
   "id": "f635d84b",
   "metadata": {},
   "outputs": [],
   "source": [
    "df.drop(index=[2],axis=0,inplace=True)"
   ]
  },
  {
   "cell_type": "code",
   "execution_count": 119,
   "id": "9a5de7b6",
   "metadata": {},
   "outputs": [],
   "source": [
    "df['percentage'] = df['percentage']/10"
   ]
  },
  {
   "cell_type": "code",
   "execution_count": 120,
   "id": "212de097",
   "metadata": {},
   "outputs": [
    {
     "data": {
      "text/html": [
       "<div><div id=afba2ab4-68d3-4445-b352-0c24c85032e0 style=\"display:none; background-color:#9D6CFF; color:white; width:200px; height:30px; padding-left:5px; border-radius:4px; flex-direction:row; justify-content:space-around; align-items:center;\" onmouseover=\"this.style.backgroundColor='#BA9BF8'\" onmouseout=\"this.style.backgroundColor='#9D6CFF'\" onclick=\"window.commands?.execute('create-mitosheet-from-dataframe-output');\">See Full Dataframe in Mito</div> <script> if (window.commands.hasCommand('create-mitosheet-from-dataframe-output')) document.getElementById('afba2ab4-68d3-4445-b352-0c24c85032e0').style.display = 'flex' </script> <table border=\"1\" class=\"dataframe\">\n",
       "  <thead>\n",
       "    <tr style=\"text-align: right;\">\n",
       "      <th></th>\n",
       "      <th>pet</th>\n",
       "      <th>number_of_participants</th>\n",
       "      <th>percentage</th>\n",
       "      <th>number_of_advertised_sites</th>\n",
       "    </tr>\n",
       "  </thead>\n",
       "  <tbody>\n",
       "    <tr>\n",
       "      <th>0</th>\n",
       "      <td>Cat</td>\n",
       "      <td>1138</td>\n",
       "      <td>8.856031</td>\n",
       "      <td>150</td>\n",
       "    </tr>\n",
       "    <tr>\n",
       "      <th>1</th>\n",
       "      <td>Dog</td>\n",
       "      <td>130</td>\n",
       "      <td>1.011673</td>\n",
       "      <td>28</td>\n",
       "    </tr>\n",
       "  </tbody>\n",
       "</table></div>"
      ],
      "text/plain": [
       "   pet  number_of_participants  percentage  number_of_advertised_sites\n",
       "0  Cat                    1138    8.856031                         150\n",
       "1  Dog                     130    1.011673                          28"
      ]
     },
     "execution_count": 120,
     "metadata": {},
     "output_type": "execute_result"
    }
   ],
   "source": [
    "df.head()"
   ]
  },
  {
   "cell_type": "code",
   "execution_count": 130,
   "id": "0dc23894",
   "metadata": {},
   "outputs": [
    {
     "data": {
      "text/html": [
       "\n",
       "<div id=\"altair-viz-16c30e6d258d48acb2dfe32ec7e79e2d\"></div>\n",
       "<script type=\"text/javascript\">\n",
       "  var VEGA_DEBUG = (typeof VEGA_DEBUG == \"undefined\") ? {} : VEGA_DEBUG;\n",
       "  (function(spec, embedOpt){\n",
       "    let outputDiv = document.currentScript.previousElementSibling;\n",
       "    if (outputDiv.id !== \"altair-viz-16c30e6d258d48acb2dfe32ec7e79e2d\") {\n",
       "      outputDiv = document.getElementById(\"altair-viz-16c30e6d258d48acb2dfe32ec7e79e2d\");\n",
       "    }\n",
       "    const paths = {\n",
       "      \"vega\": \"https://cdn.jsdelivr.net/npm//vega@5?noext\",\n",
       "      \"vega-lib\": \"https://cdn.jsdelivr.net/npm//vega-lib?noext\",\n",
       "      \"vega-lite\": \"https://cdn.jsdelivr.net/npm//vega-lite@4.17.0?noext\",\n",
       "      \"vega-embed\": \"https://cdn.jsdelivr.net/npm//vega-embed@6?noext\",\n",
       "    };\n",
       "\n",
       "    function maybeLoadScript(lib, version) {\n",
       "      var key = `${lib.replace(\"-\", \"\")}_version`;\n",
       "      return (VEGA_DEBUG[key] == version) ?\n",
       "        Promise.resolve(paths[lib]) :\n",
       "        new Promise(function(resolve, reject) {\n",
       "          var s = document.createElement('script');\n",
       "          document.getElementsByTagName(\"head\")[0].appendChild(s);\n",
       "          s.async = true;\n",
       "          s.onload = () => {\n",
       "            VEGA_DEBUG[key] = version;\n",
       "            return resolve(paths[lib]);\n",
       "          };\n",
       "          s.onerror = () => reject(`Error loading script: ${paths[lib]}`);\n",
       "          s.src = paths[lib];\n",
       "        });\n",
       "    }\n",
       "\n",
       "    function showError(err) {\n",
       "      outputDiv.innerHTML = `<div class=\"error\" style=\"color:red;\">${err}</div>`;\n",
       "      throw err;\n",
       "    }\n",
       "\n",
       "    function displayChart(vegaEmbed) {\n",
       "      vegaEmbed(outputDiv, spec, embedOpt)\n",
       "        .catch(err => showError(`Javascript Error: ${err.message}<br>This usually means there's a typo in your chart specification. See the javascript console for the full traceback.`));\n",
       "    }\n",
       "\n",
       "    if(typeof define === \"function\" && define.amd) {\n",
       "      requirejs.config({paths});\n",
       "      require([\"vega-embed\"], displayChart, err => showError(`Error loading script: ${err.message}`));\n",
       "    } else {\n",
       "      maybeLoadScript(\"vega\", \"5\")\n",
       "        .then(() => maybeLoadScript(\"vega-lite\", \"4.17.0\"))\n",
       "        .then(() => maybeLoadScript(\"vega-embed\", \"6\"))\n",
       "        .catch(showError)\n",
       "        .then(() => displayChart(vegaEmbed));\n",
       "    }\n",
       "  })({\"config\": {\"view\": {\"continuousWidth\": 400, \"continuousHeight\": 300}}, \"data\": {\"name\": \"data-77785718e951b4397fc0a683964de4b5\"}, \"mark\": {\"type\": \"text\", \"fontSize\": 22}, \"encoding\": {\"color\": {\"field\": \"text\", \"legend\": null, \"scale\": {\"range\": [\"#636466\", \"#80C11E\"]}, \"type\": \"ordinal\"}, \"text\": {\"field\": \"text\", \"type\": \"nominal\"}, \"x\": {\"axis\": {\"grid\": false, \"orient\": \"bottom\", \"tickMinStep\": 1, \"title\": null}, \"field\": \"x\", \"scale\": {\"domain\": [0, 10]}, \"type\": \"quantitative\"}, \"y\": {\"value\": 30}}, \"$schema\": \"https://vega.github.io/schema/vega-lite/v4.17.0.json\", \"datasets\": {\"data-77785718e951b4397fc0a683964de4b5\": [{\"text\": \"cat\", \"x\": 0.5}, {\"text\": \"dog\", \"x\": 9.4}]}}, {\"mode\": \"vega-lite\"});\n",
       "</script>"
      ],
      "text/plain": [
       "alt.Chart(...)"
      ]
     },
     "execution_count": 130,
     "metadata": {},
     "output_type": "execute_result"
    }
   ],
   "source": [
    "data = pd.DataFrame([{'text' : 'cat', 'x': 0.5},\n",
    "                     {'text' : 'dog', 'x': 9.4}\n",
    "                    ])\n",
    "scale = alt.Scale(range=color2)\n",
    "text = alt.Chart(data).mark_text(\n",
    "    fontSize=textFontSize, \n",
    ").encode(\n",
    "    text='text:N',\n",
    "    x=alt.X('x:Q', scale=alt.Scale(domain=[0, 10]),axis=alt.Axis(tickMinStep = 1,grid=False, title=None, orient='bottom')),\n",
    "    y=alt.value(30),\n",
    "    color=alt.Color('text:O', scale = alt.Scale(range=color2), legend=None)\n",
    "    \n",
    ")\n",
    "\n",
    "text"
   ]
  },
  {
   "cell_type": "code",
   "execution_count": 131,
   "id": "5a766fcd",
   "metadata": {},
   "outputs": [
    {
     "data": {
      "text/html": [
       "\n",
       "<div id=\"altair-viz-e5d9c7e88fcc46b5b9e6a1ad2eca33a0\"></div>\n",
       "<script type=\"text/javascript\">\n",
       "  var VEGA_DEBUG = (typeof VEGA_DEBUG == \"undefined\") ? {} : VEGA_DEBUG;\n",
       "  (function(spec, embedOpt){\n",
       "    let outputDiv = document.currentScript.previousElementSibling;\n",
       "    if (outputDiv.id !== \"altair-viz-e5d9c7e88fcc46b5b9e6a1ad2eca33a0\") {\n",
       "      outputDiv = document.getElementById(\"altair-viz-e5d9c7e88fcc46b5b9e6a1ad2eca33a0\");\n",
       "    }\n",
       "    const paths = {\n",
       "      \"vega\": \"https://cdn.jsdelivr.net/npm//vega@5?noext\",\n",
       "      \"vega-lib\": \"https://cdn.jsdelivr.net/npm//vega-lib?noext\",\n",
       "      \"vega-lite\": \"https://cdn.jsdelivr.net/npm//vega-lite@4.17.0?noext\",\n",
       "      \"vega-embed\": \"https://cdn.jsdelivr.net/npm//vega-embed@6?noext\",\n",
       "    };\n",
       "\n",
       "    function maybeLoadScript(lib, version) {\n",
       "      var key = `${lib.replace(\"-\", \"\")}_version`;\n",
       "      return (VEGA_DEBUG[key] == version) ?\n",
       "        Promise.resolve(paths[lib]) :\n",
       "        new Promise(function(resolve, reject) {\n",
       "          var s = document.createElement('script');\n",
       "          document.getElementsByTagName(\"head\")[0].appendChild(s);\n",
       "          s.async = true;\n",
       "          s.onload = () => {\n",
       "            VEGA_DEBUG[key] = version;\n",
       "            return resolve(paths[lib]);\n",
       "          };\n",
       "          s.onerror = () => reject(`Error loading script: ${paths[lib]}`);\n",
       "          s.src = paths[lib];\n",
       "        });\n",
       "    }\n",
       "\n",
       "    function showError(err) {\n",
       "      outputDiv.innerHTML = `<div class=\"error\" style=\"color:red;\">${err}</div>`;\n",
       "      throw err;\n",
       "    }\n",
       "\n",
       "    function displayChart(vegaEmbed) {\n",
       "      vegaEmbed(outputDiv, spec, embedOpt)\n",
       "        .catch(err => showError(`Javascript Error: ${err.message}<br>This usually means there's a typo in your chart specification. See the javascript console for the full traceback.`));\n",
       "    }\n",
       "\n",
       "    if(typeof define === \"function\" && define.amd) {\n",
       "      requirejs.config({paths});\n",
       "      require([\"vega-embed\"], displayChart, err => showError(`Error loading script: ${err.message}`));\n",
       "    } else {\n",
       "      maybeLoadScript(\"vega\", \"5\")\n",
       "        .then(() => maybeLoadScript(\"vega-lite\", \"4.17.0\"))\n",
       "        .then(() => maybeLoadScript(\"vega-embed\", \"6\"))\n",
       "        .catch(showError)\n",
       "        .then(() => displayChart(vegaEmbed));\n",
       "    }\n",
       "  })({\"config\": {\"view\": {\"continuousWidth\": 400, \"continuousHeight\": 300, \"strokeOpacity\": 0}}, \"layer\": [{\"data\": {\"name\": \"data-77785718e951b4397fc0a683964de4b5\"}, \"mark\": {\"type\": \"text\", \"fontSize\": 22}, \"encoding\": {\"color\": {\"field\": \"text\", \"legend\": null, \"scale\": {\"range\": [\"#636466\", \"#80C11E\"]}, \"type\": \"ordinal\"}, \"text\": {\"field\": \"text\", \"type\": \"nominal\"}, \"x\": {\"axis\": {\"grid\": false, \"orient\": \"bottom\", \"tickMinStep\": 1, \"title\": null}, \"field\": \"x\", \"scale\": {\"domain\": [0, 10]}, \"type\": \"quantitative\"}, \"y\": {\"value\": 30}}}, {\"data\": {\"name\": \"data-eed7b3246ab042143a76f3352fafd93c\"}, \"mark\": {\"type\": \"bar\", \"size\": 50}, \"encoding\": {\"color\": {\"field\": \"pet\", \"legend\": null, \"scale\": {\"range\": [\"#636466\", \"#80C11E\"]}, \"type\": \"ordinal\"}, \"opacity\": {\"value\": 0.6}, \"stroke\": {\"field\": \"pet\", \"legend\": null, \"scale\": {\"range\": [\"#636466\", \"#80C11E\"]}, \"type\": \"ordinal\"}, \"strokeWidth\": {\"value\": 2}, \"x\": {\"axis\": {\"grid\": false, \"orient\": \"bottom\", \"tickMinStep\": 1, \"title\": null}, \"field\": \"percentage\", \"scale\": {\"domain\": [0, 10]}, \"type\": \"quantitative\"}, \"y\": {\"value\": 80}}, \"height\": 130}], \"resolve\": {\"scale\": {\"color\": \"independent\"}}, \"$schema\": \"https://vega.github.io/schema/vega-lite/v4.17.0.json\", \"datasets\": {\"data-77785718e951b4397fc0a683964de4b5\": [{\"text\": \"cat\", \"x\": 0.5}, {\"text\": \"dog\", \"x\": 9.4}], \"data-eed7b3246ab042143a76f3352fafd93c\": [{\"pet\": \"Cat\", \"number_of_participants\": 1138, \"percentage\": 8.856031128, \"number_of_advertised_sites\": 150, \"participation_rate\": 7.586666666666667}, {\"pet\": \"Dog\", \"number_of_participants\": 130, \"percentage\": 1.011673152, \"number_of_advertised_sites\": 28, \"participation_rate\": 4.642857142857143}]}}, {\"mode\": \"vega-lite\"});\n",
       "</script>"
      ],
      "text/plain": [
       "alt.LayerChart(...)"
      ]
     },
     "execution_count": 131,
     "metadata": {},
     "output_type": "execute_result"
    }
   ],
   "source": [
    "chart = alt.Chart(df).mark_bar(size=50\n",
    "    ).encode(\n",
    "    x=alt.X('percentage:Q', \n",
    "            scale=alt.Scale(domain=[0, 10]),\n",
    "            axis=alt.Axis(tickMinStep = 1,grid=False, title=None, orient='bottom')\n",
    "           ),\n",
    "    y=alt.value(80),\n",
    "    color=alt.Color('pet:O', legend=None,scale=scale),\n",
    "    stroke=alt.Color('pet:O',scale=scale, legend=None),\n",
    "    strokeWidth=alt.value(2),\n",
    "    opacity=alt.value(0.6)\n",
    "\n",
    ").properties(height=130)\n",
    "\n",
    "layer = alt.layer(\n",
    "    text,\n",
    "    chart\n",
    ").resolve_scale(\n",
    "    color='independent'\n",
    ").configure_view(\n",
    "    strokeOpacity=0\n",
    ").properties()\n",
    "\n",
    "layer"
   ]
  },
  {
   "cell_type": "markdown",
   "id": "9fb8fc58",
   "metadata": {},
   "source": [
    "# Knowledge\n",
    "\n",
    "Calculate the participation rate in the event"
   ]
  },
  {
   "cell_type": "code",
   "execution_count": 123,
   "id": "2e466dc5",
   "metadata": {},
   "outputs": [
    {
     "data": {
      "text/html": [
       "<div><div id=b3f8abcc-902e-4c89-91e0-3fdb7736a80a style=\"display:none; background-color:#9D6CFF; color:white; width:200px; height:30px; padding-left:5px; border-radius:4px; flex-direction:row; justify-content:space-around; align-items:center;\" onmouseover=\"this.style.backgroundColor='#BA9BF8'\" onmouseout=\"this.style.backgroundColor='#9D6CFF'\" onclick=\"window.commands?.execute('create-mitosheet-from-dataframe-output');\">See Full Dataframe in Mito</div> <script> if (window.commands.hasCommand('create-mitosheet-from-dataframe-output')) document.getElementById('b3f8abcc-902e-4c89-91e0-3fdb7736a80a').style.display = 'flex' </script> <table border=\"1\" class=\"dataframe\">\n",
       "  <thead>\n",
       "    <tr style=\"text-align: right;\">\n",
       "      <th></th>\n",
       "      <th>pet</th>\n",
       "      <th>number_of_participants</th>\n",
       "      <th>percentage</th>\n",
       "      <th>number_of_advertised_sites</th>\n",
       "      <th>participation_rate</th>\n",
       "    </tr>\n",
       "  </thead>\n",
       "  <tbody>\n",
       "    <tr>\n",
       "      <th>0</th>\n",
       "      <td>Cat</td>\n",
       "      <td>1138</td>\n",
       "      <td>8.856031</td>\n",
       "      <td>150</td>\n",
       "      <td>7.586667</td>\n",
       "    </tr>\n",
       "    <tr>\n",
       "      <th>1</th>\n",
       "      <td>Dog</td>\n",
       "      <td>130</td>\n",
       "      <td>1.011673</td>\n",
       "      <td>28</td>\n",
       "      <td>4.642857</td>\n",
       "    </tr>\n",
       "  </tbody>\n",
       "</table></div>"
      ],
      "text/plain": [
       "   pet  number_of_participants  percentage  number_of_advertised_sites  \\\n",
       "0  Cat                    1138    8.856031                         150   \n",
       "1  Dog                     130    1.011673                          28   \n",
       "\n",
       "   participation_rate  \n",
       "0            7.586667  \n",
       "1            4.642857  "
      ]
     },
     "execution_count": 123,
     "metadata": {},
     "output_type": "execute_result"
    }
   ],
   "source": [
    "df['participation_rate'] = df['number_of_participants']/df['number_of_advertised_sites']\n",
    "df"
   ]
  },
  {
   "cell_type": "code",
   "execution_count": 124,
   "id": "80a9239d",
   "metadata": {},
   "outputs": [
    {
     "data": {
      "text/html": [
       "\n",
       "<div id=\"altair-viz-80ca493230624100834e04d0b331ef55\"></div>\n",
       "<script type=\"text/javascript\">\n",
       "  var VEGA_DEBUG = (typeof VEGA_DEBUG == \"undefined\") ? {} : VEGA_DEBUG;\n",
       "  (function(spec, embedOpt){\n",
       "    let outputDiv = document.currentScript.previousElementSibling;\n",
       "    if (outputDiv.id !== \"altair-viz-80ca493230624100834e04d0b331ef55\") {\n",
       "      outputDiv = document.getElementById(\"altair-viz-80ca493230624100834e04d0b331ef55\");\n",
       "    }\n",
       "    const paths = {\n",
       "      \"vega\": \"https://cdn.jsdelivr.net/npm//vega@5?noext\",\n",
       "      \"vega-lib\": \"https://cdn.jsdelivr.net/npm//vega-lib?noext\",\n",
       "      \"vega-lite\": \"https://cdn.jsdelivr.net/npm//vega-lite@4.17.0?noext\",\n",
       "      \"vega-embed\": \"https://cdn.jsdelivr.net/npm//vega-embed@6?noext\",\n",
       "    };\n",
       "\n",
       "    function maybeLoadScript(lib, version) {\n",
       "      var key = `${lib.replace(\"-\", \"\")}_version`;\n",
       "      return (VEGA_DEBUG[key] == version) ?\n",
       "        Promise.resolve(paths[lib]) :\n",
       "        new Promise(function(resolve, reject) {\n",
       "          var s = document.createElement('script');\n",
       "          document.getElementsByTagName(\"head\")[0].appendChild(s);\n",
       "          s.async = true;\n",
       "          s.onload = () => {\n",
       "            VEGA_DEBUG[key] = version;\n",
       "            return resolve(paths[lib]);\n",
       "          };\n",
       "          s.onerror = () => reject(`Error loading script: ${paths[lib]}`);\n",
       "          s.src = paths[lib];\n",
       "        });\n",
       "    }\n",
       "\n",
       "    function showError(err) {\n",
       "      outputDiv.innerHTML = `<div class=\"error\" style=\"color:red;\">${err}</div>`;\n",
       "      throw err;\n",
       "    }\n",
       "\n",
       "    function displayChart(vegaEmbed) {\n",
       "      vegaEmbed(outputDiv, spec, embedOpt)\n",
       "        .catch(err => showError(`Javascript Error: ${err.message}<br>This usually means there's a typo in your chart specification. See the javascript console for the full traceback.`));\n",
       "    }\n",
       "\n",
       "    if(typeof define === \"function\" && define.amd) {\n",
       "      requirejs.config({paths});\n",
       "      require([\"vega-embed\"], displayChart, err => showError(`Error loading script: ${err.message}`));\n",
       "    } else {\n",
       "      maybeLoadScript(\"vega\", \"5\")\n",
       "        .then(() => maybeLoadScript(\"vega-lite\", \"4.17.0\"))\n",
       "        .then(() => maybeLoadScript(\"vega-embed\", \"6\"))\n",
       "        .catch(showError)\n",
       "        .then(() => displayChart(vegaEmbed));\n",
       "    }\n",
       "  })({\"config\": {\"view\": {\"continuousWidth\": 400, \"continuousHeight\": 300}}, \"data\": {\"name\": \"data-da2264258f9a86a8352dbdc491207e4b\"}, \"mark\": {\"type\": \"text\", \"color\": \"#636466\", \"fontSize\": 22}, \"encoding\": {\"text\": {\"field\": \"text\", \"type\": \"nominal\"}, \"y\": {\"value\": 0}}, \"$schema\": \"https://vega.github.io/schema/vega-lite/v4.17.0.json\", \"datasets\": {\"data-da2264258f9a86a8352dbdc491207e4b\": [{\"text\": [\"The participation rate of cats in the event is almost 8% on a campaign of 150 sites,\", \"while the participation rate of dogs is almost 5% on a campaign of almost 30 sites.\"]}]}}, {\"mode\": \"vega-lite\"});\n",
       "</script>"
      ],
      "text/plain": [
       "alt.Chart(...)"
      ]
     },
     "execution_count": 124,
     "metadata": {},
     "output_type": "execute_result"
    }
   ],
   "source": [
    "text = [\"The participation rate of cats in the event is almost 8% on a campaign of 150 sites,\", \n",
    "        \"while the participation rate of dogs is almost 5% on a campaign of almost 30 sites.\"]\n",
    "\n",
    "heading = pd.DataFrame([{'text' : text }])\n",
    "\n",
    "text = alt.Chart(heading).mark_text(\n",
    "    fontSize=textFontSize, \n",
    "    color=color\n",
    ").encode(\n",
    "    text='text:N',\n",
    "    y=alt.value(0)\n",
    ")\n",
    "\n",
    "text"
   ]
  },
  {
   "cell_type": "code",
   "execution_count": 129,
   "id": "3f1149d3",
   "metadata": {},
   "outputs": [
    {
     "data": {
      "text/html": [
       "\n",
       "<div id=\"altair-viz-74720bfdd0584f08914bb361df7d7ff3\"></div>\n",
       "<script type=\"text/javascript\">\n",
       "  var VEGA_DEBUG = (typeof VEGA_DEBUG == \"undefined\") ? {} : VEGA_DEBUG;\n",
       "  (function(spec, embedOpt){\n",
       "    let outputDiv = document.currentScript.previousElementSibling;\n",
       "    if (outputDiv.id !== \"altair-viz-74720bfdd0584f08914bb361df7d7ff3\") {\n",
       "      outputDiv = document.getElementById(\"altair-viz-74720bfdd0584f08914bb361df7d7ff3\");\n",
       "    }\n",
       "    const paths = {\n",
       "      \"vega\": \"https://cdn.jsdelivr.net/npm//vega@5?noext\",\n",
       "      \"vega-lib\": \"https://cdn.jsdelivr.net/npm//vega-lib?noext\",\n",
       "      \"vega-lite\": \"https://cdn.jsdelivr.net/npm//vega-lite@4.17.0?noext\",\n",
       "      \"vega-embed\": \"https://cdn.jsdelivr.net/npm//vega-embed@6?noext\",\n",
       "    };\n",
       "\n",
       "    function maybeLoadScript(lib, version) {\n",
       "      var key = `${lib.replace(\"-\", \"\")}_version`;\n",
       "      return (VEGA_DEBUG[key] == version) ?\n",
       "        Promise.resolve(paths[lib]) :\n",
       "        new Promise(function(resolve, reject) {\n",
       "          var s = document.createElement('script');\n",
       "          document.getElementsByTagName(\"head\")[0].appendChild(s);\n",
       "          s.async = true;\n",
       "          s.onload = () => {\n",
       "            VEGA_DEBUG[key] = version;\n",
       "            return resolve(paths[lib]);\n",
       "          };\n",
       "          s.onerror = () => reject(`Error loading script: ${paths[lib]}`);\n",
       "          s.src = paths[lib];\n",
       "        });\n",
       "    }\n",
       "\n",
       "    function showError(err) {\n",
       "      outputDiv.innerHTML = `<div class=\"error\" style=\"color:red;\">${err}</div>`;\n",
       "      throw err;\n",
       "    }\n",
       "\n",
       "    function displayChart(vegaEmbed) {\n",
       "      vegaEmbed(outputDiv, spec, embedOpt)\n",
       "        .catch(err => showError(`Javascript Error: ${err.message}<br>This usually means there's a typo in your chart specification. See the javascript console for the full traceback.`));\n",
       "    }\n",
       "\n",
       "    if(typeof define === \"function\" && define.amd) {\n",
       "      requirejs.config({paths});\n",
       "      require([\"vega-embed\"], displayChart, err => showError(`Error loading script: ${err.message}`));\n",
       "    } else {\n",
       "      maybeLoadScript(\"vega\", \"5\")\n",
       "        .then(() => maybeLoadScript(\"vega-lite\", \"4.17.0\"))\n",
       "        .then(() => maybeLoadScript(\"vega-embed\", \"6\"))\n",
       "        .catch(showError)\n",
       "        .then(() => displayChart(vegaEmbed));\n",
       "    }\n",
       "  })({\"config\": {\"view\": {\"continuousWidth\": 400, \"continuousHeight\": 300, \"strokeOpacity\": 0}, \"axis\": {\"labelFontSize\": 15, \"titleFontSize\": 20}, \"title\": {\"fontSize\": 25}}, \"layer\": [{\"data\": {\"name\": \"data-eed7b3246ab042143a76f3352fafd93c\"}, \"mark\": {\"type\": \"bar\", \"size\": 50}, \"encoding\": {\"color\": {\"field\": \"pet\", \"legend\": null, \"scale\": {\"range\": [\"#80C11E\", \"#636466\"]}, \"type\": \"ordinal\"}, \"opacity\": {\"value\": 0.6}, \"stroke\": {\"field\": \"pet\", \"legend\": null, \"scale\": {\"range\": [\"#80C11E\", \"#636466\"]}, \"type\": \"ordinal\"}, \"strokeWidth\": {\"value\": 2}, \"x\": {\"axis\": {\"grid\": false, \"orient\": \"bottom\", \"tickMinStep\": 1, \"title\": null}, \"field\": \"percentage\", \"scale\": {\"domain\": [0, 10]}, \"type\": \"quantitative\"}, \"y\": {\"value\": 80}}, \"height\": 130}, {\"data\": {\"name\": \"data-da2264258f9a86a8352dbdc491207e4b\"}, \"mark\": {\"type\": \"text\", \"color\": \"#636466\", \"fontSize\": 22}, \"encoding\": {\"text\": {\"field\": \"text\", \"type\": \"nominal\"}, \"y\": {\"value\": 0}}}], \"height\": 200, \"resolve\": {\"scale\": {\"color\": \"independent\"}}, \"title\": \"9 pets out of 10 are cats\", \"$schema\": \"https://vega.github.io/schema/vega-lite/v4.17.0.json\", \"datasets\": {\"data-eed7b3246ab042143a76f3352fafd93c\": [{\"pet\": \"Cat\", \"number_of_participants\": 1138, \"percentage\": 8.856031128, \"number_of_advertised_sites\": 150, \"participation_rate\": 7.586666666666667}, {\"pet\": \"Dog\", \"number_of_participants\": 130, \"percentage\": 1.011673152, \"number_of_advertised_sites\": 28, \"participation_rate\": 4.642857142857143}], \"data-da2264258f9a86a8352dbdc491207e4b\": [{\"text\": [\"The participation rate of cats in the event is almost 8% on a campaign of 150 sites,\", \"while the participation rate of dogs is almost 5% on a campaign of almost 30 sites.\"]}]}}, {\"mode\": \"vega-lite\"});\n",
       "</script>"
      ],
      "text/plain": [
       "alt.LayerChart(...)"
      ]
     },
     "execution_count": 129,
     "metadata": {},
     "output_type": "execute_result"
    }
   ],
   "source": [
    "layer2 = alt.layer(\n",
    "    chart,\n",
    "    text\n",
    ").resolve_scale(\n",
    "    color='independent'\n",
    ").configure_view(\n",
    "    strokeOpacity=0\n",
    ").properties(\n",
    "    height=200,\n",
    "    title='9 pets out of 10 are cats',\n",
    ")\n",
    "\n",
    "configure_layout(layer2)"
   ]
  },
  {
   "cell_type": "code",
   "execution_count": 99,
   "id": "40c516df",
   "metadata": {},
   "outputs": [
    {
     "data": {
      "text/html": [
       "\n",
       "<div id=\"altair-viz-9ad105acda144f1f87a673893f8ced72\"></div>\n",
       "<script type=\"text/javascript\">\n",
       "  var VEGA_DEBUG = (typeof VEGA_DEBUG == \"undefined\") ? {} : VEGA_DEBUG;\n",
       "  (function(spec, embedOpt){\n",
       "    let outputDiv = document.currentScript.previousElementSibling;\n",
       "    if (outputDiv.id !== \"altair-viz-9ad105acda144f1f87a673893f8ced72\") {\n",
       "      outputDiv = document.getElementById(\"altair-viz-9ad105acda144f1f87a673893f8ced72\");\n",
       "    }\n",
       "    const paths = {\n",
       "      \"vega\": \"https://cdn.jsdelivr.net/npm//vega@5?noext\",\n",
       "      \"vega-lib\": \"https://cdn.jsdelivr.net/npm//vega-lib?noext\",\n",
       "      \"vega-lite\": \"https://cdn.jsdelivr.net/npm//vega-lite@4.17.0?noext\",\n",
       "      \"vega-embed\": \"https://cdn.jsdelivr.net/npm//vega-embed@6?noext\",\n",
       "    };\n",
       "\n",
       "    function maybeLoadScript(lib, version) {\n",
       "      var key = `${lib.replace(\"-\", \"\")}_version`;\n",
       "      return (VEGA_DEBUG[key] == version) ?\n",
       "        Promise.resolve(paths[lib]) :\n",
       "        new Promise(function(resolve, reject) {\n",
       "          var s = document.createElement('script');\n",
       "          document.getElementsByTagName(\"head\")[0].appendChild(s);\n",
       "          s.async = true;\n",
       "          s.onload = () => {\n",
       "            VEGA_DEBUG[key] = version;\n",
       "            return resolve(paths[lib]);\n",
       "          };\n",
       "          s.onerror = () => reject(`Error loading script: ${paths[lib]}`);\n",
       "          s.src = paths[lib];\n",
       "        });\n",
       "    }\n",
       "\n",
       "    function showError(err) {\n",
       "      outputDiv.innerHTML = `<div class=\"error\" style=\"color:red;\">${err}</div>`;\n",
       "      throw err;\n",
       "    }\n",
       "\n",
       "    function displayChart(vegaEmbed) {\n",
       "      vegaEmbed(outputDiv, spec, embedOpt)\n",
       "        .catch(err => showError(`Javascript Error: ${err.message}<br>This usually means there's a typo in your chart specification. See the javascript console for the full traceback.`));\n",
       "    }\n",
       "\n",
       "    if(typeof define === \"function\" && define.amd) {\n",
       "      requirejs.config({paths});\n",
       "      require([\"vega-embed\"], displayChart, err => showError(`Error loading script: ${err.message}`));\n",
       "    } else {\n",
       "      maybeLoadScript(\"vega\", \"5\")\n",
       "        .then(() => maybeLoadScript(\"vega-lite\", \"4.17.0\"))\n",
       "        .then(() => maybeLoadScript(\"vega-embed\", \"6\"))\n",
       "        .catch(showError)\n",
       "        .then(() => displayChart(vegaEmbed));\n",
       "    }\n",
       "  })({\"config\": {\"view\": {\"continuousWidth\": 400, \"continuousHeight\": 300}}, \"data\": {\"name\": \"data-8e3a1bd2af825c56ce37658f6a89ed02\"}, \"mark\": {\"type\": \"image\", \"height\": 50, \"width\": 50}, \"encoding\": {\"url\": {\"field\": \"img\", \"type\": \"nominal\"}, \"x\": {\"axis\": {\"grid\": false, \"orient\": \"bottom\", \"tickMinStep\": 1, \"title\": null}, \"field\": \"x\", \"scale\": {\"domain\": [0, 10]}, \"type\": \"quantitative\"}, \"y\": {\"value\": 100}}, \"$schema\": \"https://vega.github.io/schema/vega-lite/v4.17.0.json\", \"datasets\": {\"data-8e3a1bd2af825c56ce37658f6a89ed02\": [{\"x\": 0.0, \"img\": \"img/cat.png\"}, {\"x\": 9.8, \"img\": \"img/dog.png\"}]}}, {\"mode\": \"vega-lite\"});\n",
       "</script>"
      ],
      "text/plain": [
       "alt.Chart(...)"
      ]
     },
     "execution_count": 99,
     "metadata": {},
     "output_type": "execute_result"
    }
   ],
   "source": [
    "source = pd.DataFrame.from_records([\n",
    "      {\"x\": 0, \"img\": \"img/cat.png\"},\n",
    "      {\"x\": 9.8, \"img\": \"img/dog.png\"}\n",
    "])\n",
    "\n",
    "img = alt.Chart(source).mark_image(\n",
    "    width=50,\n",
    "    height=50\n",
    ").encode(\n",
    "    x=alt.X('x:Q', scale=alt.Scale(domain=[0, 10]),axis=alt.Axis(tickMinStep = 1,grid=False, title=None, orient='bottom')),\n",
    "    y = alt.value(100),\n",
    "    url='img',\n",
    "    \n",
    ")\n",
    "\n",
    "img"
   ]
  },
  {
   "cell_type": "code",
   "execution_count": 100,
   "id": "07d2d2ee",
   "metadata": {},
   "outputs": [
    {
     "data": {
      "text/html": [
       "\n",
       "<div id=\"altair-viz-842fb2301c3d434e91176e4805e95ff1\"></div>\n",
       "<script type=\"text/javascript\">\n",
       "  var VEGA_DEBUG = (typeof VEGA_DEBUG == \"undefined\") ? {} : VEGA_DEBUG;\n",
       "  (function(spec, embedOpt){\n",
       "    let outputDiv = document.currentScript.previousElementSibling;\n",
       "    if (outputDiv.id !== \"altair-viz-842fb2301c3d434e91176e4805e95ff1\") {\n",
       "      outputDiv = document.getElementById(\"altair-viz-842fb2301c3d434e91176e4805e95ff1\");\n",
       "    }\n",
       "    const paths = {\n",
       "      \"vega\": \"https://cdn.jsdelivr.net/npm//vega@5?noext\",\n",
       "      \"vega-lib\": \"https://cdn.jsdelivr.net/npm//vega-lib?noext\",\n",
       "      \"vega-lite\": \"https://cdn.jsdelivr.net/npm//vega-lite@4.17.0?noext\",\n",
       "      \"vega-embed\": \"https://cdn.jsdelivr.net/npm//vega-embed@6?noext\",\n",
       "    };\n",
       "\n",
       "    function maybeLoadScript(lib, version) {\n",
       "      var key = `${lib.replace(\"-\", \"\")}_version`;\n",
       "      return (VEGA_DEBUG[key] == version) ?\n",
       "        Promise.resolve(paths[lib]) :\n",
       "        new Promise(function(resolve, reject) {\n",
       "          var s = document.createElement('script');\n",
       "          document.getElementsByTagName(\"head\")[0].appendChild(s);\n",
       "          s.async = true;\n",
       "          s.onload = () => {\n",
       "            VEGA_DEBUG[key] = version;\n",
       "            return resolve(paths[lib]);\n",
       "          };\n",
       "          s.onerror = () => reject(`Error loading script: ${paths[lib]}`);\n",
       "          s.src = paths[lib];\n",
       "        });\n",
       "    }\n",
       "\n",
       "    function showError(err) {\n",
       "      outputDiv.innerHTML = `<div class=\"error\" style=\"color:red;\">${err}</div>`;\n",
       "      throw err;\n",
       "    }\n",
       "\n",
       "    function displayChart(vegaEmbed) {\n",
       "      vegaEmbed(outputDiv, spec, embedOpt)\n",
       "        .catch(err => showError(`Javascript Error: ${err.message}<br>This usually means there's a typo in your chart specification. See the javascript console for the full traceback.`));\n",
       "    }\n",
       "\n",
       "    if(typeof define === \"function\" && define.amd) {\n",
       "      requirejs.config({paths});\n",
       "      require([\"vega-embed\"], displayChart, err => showError(`Error loading script: ${err.message}`));\n",
       "    } else {\n",
       "      maybeLoadScript(\"vega\", \"5\")\n",
       "        .then(() => maybeLoadScript(\"vega-lite\", \"4.17.0\"))\n",
       "        .then(() => maybeLoadScript(\"vega-embed\", \"6\"))\n",
       "        .catch(showError)\n",
       "        .then(() => displayChart(vegaEmbed));\n",
       "    }\n",
       "  })({\"config\": {\"view\": {\"continuousWidth\": 400, \"continuousHeight\": 300, \"strokeOpacity\": 0}, \"axis\": {\"labelFontSize\": 15, \"titleFontSize\": 20}, \"title\": {\"fontSize\": 25}}, \"layer\": [{\"data\": {\"name\": \"data-eed7b3246ab042143a76f3352fafd93c\"}, \"mark\": {\"type\": \"bar\", \"size\": 50}, \"encoding\": {\"color\": {\"field\": \"pet\", \"legend\": null, \"scale\": {\"range\": [\"#636466\", \"#80C11E\"]}, \"type\": \"ordinal\"}, \"opacity\": {\"value\": 0.6}, \"stroke\": {\"field\": \"pet\", \"legend\": null, \"scale\": {\"range\": [\"#636466\", \"#80C11E\"]}, \"type\": \"ordinal\"}, \"strokeWidth\": {\"value\": 2}, \"x\": {\"axis\": {\"grid\": false, \"orient\": \"bottom\", \"tickMinStep\": 1, \"title\": null}, \"field\": \"percentage\", \"scale\": {\"domain\": [0, 10]}, \"type\": \"quantitative\"}, \"y\": {\"value\": 80}}, \"height\": 130}, {\"data\": {\"name\": \"data-da2264258f9a86a8352dbdc491207e4b\"}, \"mark\": {\"type\": \"text\", \"color\": \"#636466\", \"fontSize\": 22}, \"encoding\": {\"text\": {\"field\": \"text\", \"type\": \"nominal\"}, \"y\": {\"value\": 0}}}, {\"data\": {\"name\": \"data-8e3a1bd2af825c56ce37658f6a89ed02\"}, \"mark\": {\"type\": \"image\", \"height\": 50, \"width\": 50}, \"encoding\": {\"url\": {\"field\": \"img\", \"type\": \"nominal\"}, \"x\": {\"axis\": {\"grid\": false, \"orient\": \"bottom\", \"tickMinStep\": 1, \"title\": null}, \"field\": \"x\", \"scale\": {\"domain\": [0, 10]}, \"type\": \"quantitative\"}, \"y\": {\"value\": 100}}}], \"height\": 50, \"resolve\": {\"scale\": {\"color\": \"independent\"}}, \"title\": \"9 pets out of 10 are cats\", \"$schema\": \"https://vega.github.io/schema/vega-lite/v4.17.0.json\", \"datasets\": {\"data-eed7b3246ab042143a76f3352fafd93c\": [{\"pet\": \"Cat\", \"number_of_participants\": 1138, \"percentage\": 8.856031128, \"number_of_advertised_sites\": 150, \"participation_rate\": 7.586666666666667}, {\"pet\": \"Dog\", \"number_of_participants\": 130, \"percentage\": 1.011673152, \"number_of_advertised_sites\": 28, \"participation_rate\": 4.642857142857143}], \"data-da2264258f9a86a8352dbdc491207e4b\": [{\"text\": [\"The participation rate of cats in the event is almost 8% on a campaign of 150 sites,\", \"while the participation rate of dogs is almost 5% on a campaign of almost 30 sites.\"]}], \"data-8e3a1bd2af825c56ce37658f6a89ed02\": [{\"x\": 0.0, \"img\": \"img/cat.png\"}, {\"x\": 9.8, \"img\": \"img/dog.png\"}]}}, {\"mode\": \"vega-lite\"});\n",
       "</script>"
      ],
      "text/plain": [
       "alt.LayerChart(...)"
      ]
     },
     "execution_count": 100,
     "metadata": {},
     "output_type": "execute_result"
    }
   ],
   "source": [
    "layer3 = alt.layer(\n",
    "    chart,\n",
    "    text,\n",
    "    img\n",
    ").resolve_scale(\n",
    "    color='independent'\n",
    ").configure_view(\n",
    "    strokeOpacity=0\n",
    ").properties(\n",
    "    height=50,\n",
    "    title='9 pets out of 10 are cats',\n",
    ")\n",
    "\n",
    "configure_layout(layer3)"
   ]
  },
  {
   "cell_type": "markdown",
   "id": "1650dd9f",
   "metadata": {},
   "source": [
    "# Wisdom"
   ]
  },
  {
   "cell_type": "code",
   "execution_count": 132,
   "id": "4b926b8b",
   "metadata": {
    "scrolled": true
   },
   "outputs": [
    {
     "data": {
      "text/html": [
       "\n",
       "<div id=\"altair-viz-c5326b5344b1489ca6e59bdce75f3409\"></div>\n",
       "<script type=\"text/javascript\">\n",
       "  var VEGA_DEBUG = (typeof VEGA_DEBUG == \"undefined\") ? {} : VEGA_DEBUG;\n",
       "  (function(spec, embedOpt){\n",
       "    let outputDiv = document.currentScript.previousElementSibling;\n",
       "    if (outputDiv.id !== \"altair-viz-c5326b5344b1489ca6e59bdce75f3409\") {\n",
       "      outputDiv = document.getElementById(\"altair-viz-c5326b5344b1489ca6e59bdce75f3409\");\n",
       "    }\n",
       "    const paths = {\n",
       "      \"vega\": \"https://cdn.jsdelivr.net/npm//vega@5?noext\",\n",
       "      \"vega-lib\": \"https://cdn.jsdelivr.net/npm//vega-lib?noext\",\n",
       "      \"vega-lite\": \"https://cdn.jsdelivr.net/npm//vega-lite@4.17.0?noext\",\n",
       "      \"vega-embed\": \"https://cdn.jsdelivr.net/npm//vega-embed@6?noext\",\n",
       "    };\n",
       "\n",
       "    function maybeLoadScript(lib, version) {\n",
       "      var key = `${lib.replace(\"-\", \"\")}_version`;\n",
       "      return (VEGA_DEBUG[key] == version) ?\n",
       "        Promise.resolve(paths[lib]) :\n",
       "        new Promise(function(resolve, reject) {\n",
       "          var s = document.createElement('script');\n",
       "          document.getElementsByTagName(\"head\")[0].appendChild(s);\n",
       "          s.async = true;\n",
       "          s.onload = () => {\n",
       "            VEGA_DEBUG[key] = version;\n",
       "            return resolve(paths[lib]);\n",
       "          };\n",
       "          s.onerror = () => reject(`Error loading script: ${paths[lib]}`);\n",
       "          s.src = paths[lib];\n",
       "        });\n",
       "    }\n",
       "\n",
       "    function showError(err) {\n",
       "      outputDiv.innerHTML = `<div class=\"error\" style=\"color:red;\">${err}</div>`;\n",
       "      throw err;\n",
       "    }\n",
       "\n",
       "    function displayChart(vegaEmbed) {\n",
       "      vegaEmbed(outputDiv, spec, embedOpt)\n",
       "        .catch(err => showError(`Javascript Error: ${err.message}<br>This usually means there's a typo in your chart specification. See the javascript console for the full traceback.`));\n",
       "    }\n",
       "\n",
       "    if(typeof define === \"function\" && define.amd) {\n",
       "      requirejs.config({paths});\n",
       "      require([\"vega-embed\"], displayChart, err => showError(`Error loading script: ${err.message}`));\n",
       "    } else {\n",
       "      maybeLoadScript(\"vega\", \"5\")\n",
       "        .then(() => maybeLoadScript(\"vega-lite\", \"4.17.0\"))\n",
       "        .then(() => maybeLoadScript(\"vega-embed\", \"6\"))\n",
       "        .catch(showError)\n",
       "        .then(() => displayChart(vegaEmbed));\n",
       "    }\n",
       "  })({\"config\": {\"view\": {\"continuousWidth\": 400, \"continuousHeight\": 300, \"strokeOpacity\": 0}, \"axis\": {\"labelFontSize\": 15, \"titleFontSize\": 20}, \"title\": {\"fontSize\": 25}}, \"layer\": [{\"data\": {\"name\": \"data-eed7b3246ab042143a76f3352fafd93c\"}, \"mark\": {\"type\": \"bar\", \"size\": 50}, \"encoding\": {\"color\": {\"field\": \"pet\", \"legend\": null, \"scale\": {\"range\": [\"#636466\", \"#80C11E\"]}, \"type\": \"ordinal\"}, \"opacity\": {\"value\": 0.6}, \"stroke\": {\"field\": \"pet\", \"legend\": null, \"scale\": {\"range\": [\"#636466\", \"#80C11E\"]}, \"type\": \"ordinal\"}, \"strokeWidth\": {\"value\": 2}, \"x\": {\"axis\": {\"grid\": false, \"orient\": \"bottom\", \"tickMinStep\": 1, \"title\": null}, \"field\": \"percentage\", \"scale\": {\"domain\": [0, 10]}, \"type\": \"quantitative\"}, \"y\": {\"value\": 80}}, \"height\": 130}, {\"data\": {\"name\": \"data-77785718e951b4397fc0a683964de4b5\"}, \"mark\": {\"type\": \"text\", \"fontSize\": 22}, \"encoding\": {\"color\": {\"field\": \"text\", \"legend\": null, \"scale\": {\"range\": [\"#636466\", \"#80C11E\"]}, \"type\": \"ordinal\"}, \"text\": {\"field\": \"text\", \"type\": \"nominal\"}, \"x\": {\"axis\": {\"grid\": false, \"orient\": \"bottom\", \"tickMinStep\": 1, \"title\": null}, \"field\": \"x\", \"scale\": {\"domain\": [0, 10]}, \"type\": \"quantitative\"}, \"y\": {\"value\": 30}}}, {\"data\": {\"name\": \"data-8e3a1bd2af825c56ce37658f6a89ed02\"}, \"mark\": {\"type\": \"image\", \"height\": 50, \"width\": 50}, \"encoding\": {\"url\": {\"field\": \"img\", \"type\": \"nominal\"}, \"x\": {\"axis\": {\"grid\": false, \"orient\": \"bottom\", \"tickMinStep\": 1, \"title\": null}, \"field\": \"x\", \"scale\": {\"domain\": [0, 10]}, \"type\": \"quantitative\"}, \"y\": {\"value\": 100}}}], \"height\": 50, \"resolve\": {\"scale\": {\"color\": \"independent\"}}, \"title\": \"Increase the advertising campaign on dog-related websites!\", \"$schema\": \"https://vega.github.io/schema/vega-lite/v4.17.0.json\", \"datasets\": {\"data-eed7b3246ab042143a76f3352fafd93c\": [{\"pet\": \"Cat\", \"number_of_participants\": 1138, \"percentage\": 8.856031128, \"number_of_advertised_sites\": 150, \"participation_rate\": 7.586666666666667}, {\"pet\": \"Dog\", \"number_of_participants\": 130, \"percentage\": 1.011673152, \"number_of_advertised_sites\": 28, \"participation_rate\": 4.642857142857143}], \"data-77785718e951b4397fc0a683964de4b5\": [{\"text\": \"cat\", \"x\": 0.5}, {\"text\": \"dog\", \"x\": 9.4}], \"data-8e3a1bd2af825c56ce37658f6a89ed02\": [{\"x\": 0.0, \"img\": \"img/cat.png\"}, {\"x\": 9.8, \"img\": \"img/dog.png\"}]}}, {\"mode\": \"vega-lite\"});\n",
       "</script>"
      ],
      "text/plain": [
       "alt.LayerChart(...)"
      ]
     },
     "execution_count": 132,
     "metadata": {},
     "output_type": "execute_result"
    }
   ],
   "source": [
    "layer3 = alt.layer(\n",
    "    chart,\n",
    "    text,\n",
    "    img\n",
    ").resolve_scale(\n",
    "    color='independent'\n",
    ").configure_view(\n",
    "    strokeOpacity=0\n",
    ").properties(\n",
    "    height=50,\n",
    "    title='Increase the advertising campaign on dog-related websites!',\n",
    ").configure_title(fontSize=24,color=\"#003049\")\n",
    "\n",
    "configure_layout(layer3)"
   ]
  },
  {
   "cell_type": "code",
   "execution_count": null,
   "id": "50cf105b",
   "metadata": {},
   "outputs": [],
   "source": []
  },
  {
   "cell_type": "code",
   "execution_count": null,
   "id": "b710d5c8",
   "metadata": {},
   "outputs": [],
   "source": []
  }
 ],
 "metadata": {
  "kernelspec": {
   "display_name": "Python 3 (ipykernel)",
   "language": "python",
   "name": "python3"
  },
  "language_info": {
   "codemirror_mode": {
    "name": "ipython",
    "version": 3
   },
   "file_extension": ".py",
   "mimetype": "text/x-python",
   "name": "python",
   "nbconvert_exporter": "python",
   "pygments_lexer": "ipython3",
   "version": "3.8.10"
  }
 },
 "nbformat": 4,
 "nbformat_minor": 5
}
