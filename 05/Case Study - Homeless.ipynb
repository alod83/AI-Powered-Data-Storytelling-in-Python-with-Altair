{
 "cells": [
  {
   "cell_type": "markdown",
   "id": "86b6b4b5",
   "metadata": {},
   "source": [
    "# Case Study - Homeless"
   ]
  },
  {
   "cell_type": "code",
   "execution_count": 9,
   "id": "11bc2226",
   "metadata": {},
   "outputs": [
    {
     "data": {
      "text/html": [
       "<div><div id=79c99e7d-a589-42e0-b414-fb0c48945e1e style=\"display:none; background-color:#9D6CFF; color:white; width:200px; height:30px; padding-left:5px; border-radius:4px; flex-direction:row; justify-content:space-around; align-items:center;\" onmouseover=\"this.style.backgroundColor='#BA9BF8'\" onmouseout=\"this.style.backgroundColor='#9D6CFF'\" onclick=\"window.commands?.execute('create-mitosheet-from-dataframe-output');\">See Full Dataframe in Mito</div> <script> if (window.commands.hasCommand('create-mitosheet-from-dataframe-output')) document.getElementById('79c99e7d-a589-42e0-b414-fb0c48945e1e').style.display = 'flex' </script> <table border=\"1\" class=\"dataframe\">\n",
       "  <thead>\n",
       "    <tr style=\"text-align: right;\">\n",
       "      <th></th>\n",
       "      <th>ITTER107</th>\n",
       "      <th>Territory</th>\n",
       "      <th>Sex</th>\n",
       "      <th>Age</th>\n",
       "      <th>Citizenship</th>\n",
       "      <th>Value</th>\n",
       "    </tr>\n",
       "  </thead>\n",
       "  <tbody>\n",
       "    <tr>\n",
       "      <th>0</th>\n",
       "      <td>ITC1</td>\n",
       "      <td>Piemonte</td>\n",
       "      <td>M</td>\n",
       "      <td>TOTAL</td>\n",
       "      <td>ITL</td>\n",
       "      <td>4218</td>\n",
       "    </tr>\n",
       "    <tr>\n",
       "      <th>1</th>\n",
       "      <td>ITC1</td>\n",
       "      <td>Piemonte</td>\n",
       "      <td>F</td>\n",
       "      <td>TOTAL</td>\n",
       "      <td>ITL</td>\n",
       "      <td>1496</td>\n",
       "    </tr>\n",
       "    <tr>\n",
       "      <th>2</th>\n",
       "      <td>ITC1</td>\n",
       "      <td>Piemonte</td>\n",
       "      <td>T</td>\n",
       "      <td>TOTAL</td>\n",
       "      <td>ITL</td>\n",
       "      <td>5714</td>\n",
       "    </tr>\n",
       "    <tr>\n",
       "      <th>3</th>\n",
       "      <td>ITC2</td>\n",
       "      <td>Valle d'Aosta</td>\n",
       "      <td>M</td>\n",
       "      <td>TOTAL</td>\n",
       "      <td>ITL</td>\n",
       "      <td>41</td>\n",
       "    </tr>\n",
       "    <tr>\n",
       "      <th>4</th>\n",
       "      <td>ITC2</td>\n",
       "      <td>Valle d'Aosta</td>\n",
       "      <td>F</td>\n",
       "      <td>TOTAL</td>\n",
       "      <td>ITL</td>\n",
       "      <td>17</td>\n",
       "    </tr>\n",
       "  </tbody>\n",
       "</table></div>"
      ],
      "text/plain": [
       "  ITTER107      Territory Sex    Age Citizenship  Value\n",
       "0     ITC1       Piemonte   M  TOTAL         ITL   4218\n",
       "1     ITC1       Piemonte   F  TOTAL         ITL   1496\n",
       "2     ITC1       Piemonte   T  TOTAL         ITL   5714\n",
       "3     ITC2  Valle d'Aosta   M  TOTAL         ITL     41\n",
       "4     ITC2  Valle d'Aosta   F  TOTAL         ITL     17"
      ]
     },
     "execution_count": 9,
     "metadata": {},
     "output_type": "execute_result"
    }
   ],
   "source": [
    "import pandas as pd\n",
    "from config import *\n",
    "\n",
    "df = pd.read_csv('source/homeless.csv')\n",
    "df.head()"
   ]
  },
  {
   "cell_type": "markdown",
   "id": "a8b0807d",
   "metadata": {},
   "source": [
    "Select only some fields"
   ]
  },
  {
   "cell_type": "code",
   "execution_count": 10,
   "id": "2127eb08",
   "metadata": {},
   "outputs": [
    {
     "data": {
      "text/plain": [
       "array(['ITL', 'FRGAPO', 'TOTAL'], dtype=object)"
      ]
     },
     "execution_count": 10,
     "metadata": {},
     "output_type": "execute_result"
    }
   ],
   "source": [
    "df.Citizenship.unique()"
   ]
  },
  {
   "cell_type": "code",
   "execution_count": 11,
   "id": "580aaac3",
   "metadata": {},
   "outputs": [],
   "source": [
    "df['Territory'] = df['Territory'].str.replace('Trentino Alto Adige', 'Trentino-Alto Adige/Südtirol')"
   ]
  },
  {
   "cell_type": "markdown",
   "id": "69890bda",
   "metadata": {},
   "source": [
    "Focus on total age, total sex and total citizenship"
   ]
  },
  {
   "cell_type": "code",
   "execution_count": 12,
   "id": "e692909d",
   "metadata": {},
   "outputs": [],
   "source": [
    "df_tot = df[(df['Age'] == 'TOTAL') & (df['Sex'] == 'T') &  (df['Citizenship'] == 'TOTAL')]"
   ]
  },
  {
   "cell_type": "markdown",
   "id": "851daed6",
   "metadata": {},
   "source": [
    "## Draw a preliminary map"
   ]
  },
  {
   "cell_type": "code",
   "execution_count": 13,
   "id": "0efb0b28",
   "metadata": {},
   "outputs": [
    {
     "data": {
      "text/html": [
       "\n",
       "<div id=\"altair-viz-8f55fe39e5924266b5e703bc0cfe916c\"></div>\n",
       "<script type=\"text/javascript\">\n",
       "  var VEGA_DEBUG = (typeof VEGA_DEBUG == \"undefined\") ? {} : VEGA_DEBUG;\n",
       "  (function(spec, embedOpt){\n",
       "    let outputDiv = document.currentScript.previousElementSibling;\n",
       "    if (outputDiv.id !== \"altair-viz-8f55fe39e5924266b5e703bc0cfe916c\") {\n",
       "      outputDiv = document.getElementById(\"altair-viz-8f55fe39e5924266b5e703bc0cfe916c\");\n",
       "    }\n",
       "    const paths = {\n",
       "      \"vega\": \"https://cdn.jsdelivr.net/npm//vega@5?noext\",\n",
       "      \"vega-lib\": \"https://cdn.jsdelivr.net/npm//vega-lib?noext\",\n",
       "      \"vega-lite\": \"https://cdn.jsdelivr.net/npm//vega-lite@4.17.0?noext\",\n",
       "      \"vega-embed\": \"https://cdn.jsdelivr.net/npm//vega-embed@6?noext\",\n",
       "    };\n",
       "\n",
       "    function maybeLoadScript(lib, version) {\n",
       "      var key = `${lib.replace(\"-\", \"\")}_version`;\n",
       "      return (VEGA_DEBUG[key] == version) ?\n",
       "        Promise.resolve(paths[lib]) :\n",
       "        new Promise(function(resolve, reject) {\n",
       "          var s = document.createElement('script');\n",
       "          document.getElementsByTagName(\"head\")[0].appendChild(s);\n",
       "          s.async = true;\n",
       "          s.onload = () => {\n",
       "            VEGA_DEBUG[key] = version;\n",
       "            return resolve(paths[lib]);\n",
       "          };\n",
       "          s.onerror = () => reject(`Error loading script: ${paths[lib]}`);\n",
       "          s.src = paths[lib];\n",
       "        });\n",
       "    }\n",
       "\n",
       "    function showError(err) {\n",
       "      outputDiv.innerHTML = `<div class=\"error\" style=\"color:red;\">${err}</div>`;\n",
       "      throw err;\n",
       "    }\n",
       "\n",
       "    function displayChart(vegaEmbed) {\n",
       "      vegaEmbed(outputDiv, spec, embedOpt)\n",
       "        .catch(err => showError(`Javascript Error: ${err.message}<br>This usually means there's a typo in your chart specification. See the javascript console for the full traceback.`));\n",
       "    }\n",
       "\n",
       "    if(typeof define === \"function\" && define.amd) {\n",
       "      requirejs.config({paths});\n",
       "      require([\"vega-embed\"], displayChart, err => showError(`Error loading script: ${err.message}`));\n",
       "    } else {\n",
       "      maybeLoadScript(\"vega\", \"5\")\n",
       "        .then(() => maybeLoadScript(\"vega-lite\", \"4.17.0\"))\n",
       "        .then(() => maybeLoadScript(\"vega-embed\", \"6\"))\n",
       "        .catch(showError)\n",
       "        .then(() => displayChart(vegaEmbed));\n",
       "    }\n",
       "  })({\"config\": {\"view\": {\"continuousWidth\": 400, \"continuousHeight\": 300, \"strokeWidth\": 0}, \"axis\": {\"labelFontSize\": 15, \"titleFontSize\": 20}, \"legend\": {\"labelFontSize\": 15, \"titleFontSize\": 20}, \"title\": {\"fontSize\": 25, \"offset\": 25}}, \"data\": {\"url\": \"https://raw.githubusercontent.com/openpolis/geojson-italy/master/topojson/limits_IT_regions.topo.json\", \"format\": {\"feature\": \"regions\", \"type\": \"topojson\"}}, \"mark\": \"geoshape\", \"encoding\": {\"color\": {\"field\": \"Value\", \"type\": \"quantitative\"}, \"tooltip\": {\"field\": \"properties.reg_name\", \"type\": \"nominal\"}}, \"height\": 500, \"projection\": {\"type\": \"mercator\"}, \"title\": \"Homeless in Italy in 2021\", \"transform\": [{\"lookup\": \"properties.reg_name\", \"from\": {\"data\": {\"name\": \"data-173fc42a59142070ff2d85d416ae0312\"}, \"key\": \"Territory\", \"fields\": [\"Territory\", \"Value\"]}}], \"width\": 500, \"$schema\": \"https://vega.github.io/schema/vega-lite/v4.17.0.json\", \"datasets\": {\"data-173fc42a59142070ff2d85d416ae0312\": [{\"ITTER107\": \"ITC1\", \"Territory\": \"Piemonte\", \"Sex\": \"T\", \"Age\": \"TOTAL\", \"Citizenship\": \"TOTAL\", \"Value\": 8766}, {\"ITTER107\": \"ITC2\", \"Territory\": \"Valle d'Aosta\", \"Sex\": \"T\", \"Age\": \"TOTAL\", \"Citizenship\": \"TOTAL\", \"Value\": 73}, {\"ITTER107\": \"ITC3\", \"Territory\": \"Liguria\", \"Sex\": \"T\", \"Age\": \"TOTAL\", \"Citizenship\": \"TOTAL\", \"Value\": 4293}, {\"ITTER107\": \"ITC4\", \"Territory\": \"Lombardia\", \"Sex\": \"T\", \"Age\": \"TOTAL\", \"Citizenship\": \"TOTAL\", \"Value\": 16346}, {\"ITTER107\": \"ITDA\", \"Territory\": \"Trentino-Alto Adige/S\\u00fcdtirol\", \"Sex\": \"T\", \"Age\": \"TOTAL\", \"Citizenship\": \"TOTAL\", \"Value\": 612}, {\"ITTER107\": \"ITD3\", \"Territory\": \"Veneto\", \"Sex\": \"T\", \"Age\": \"TOTAL\", \"Citizenship\": \"TOTAL\", \"Value\": 3794}, {\"ITTER107\": \"ITD4\", \"Territory\": \"Friuli-Venezia Giulia\", \"Sex\": \"T\", \"Age\": \"TOTAL\", \"Citizenship\": \"TOTAL\", \"Value\": 1451}, {\"ITTER107\": \"ITD5\", \"Territory\": \"Emilia-Romagna\", \"Sex\": \"T\", \"Age\": \"TOTAL\", \"Citizenship\": \"TOTAL\", \"Value\": 4926}, {\"ITTER107\": \"ITE1\", \"Territory\": \"Toscana\", \"Sex\": \"T\", \"Age\": \"TOTAL\", \"Citizenship\": \"TOTAL\", \"Value\": 4450}, {\"ITTER107\": \"ITE2\", \"Territory\": \"Umbria\", \"Sex\": \"T\", \"Age\": \"TOTAL\", \"Citizenship\": \"TOTAL\", \"Value\": 431}, {\"ITTER107\": \"ITE3\", \"Territory\": \"Marche\", \"Sex\": \"T\", \"Age\": \"TOTAL\", \"Citizenship\": \"TOTAL\", \"Value\": 1107}, {\"ITTER107\": \"ITE4\", \"Territory\": \"Lazio\", \"Sex\": \"T\", \"Age\": \"TOTAL\", \"Citizenship\": \"TOTAL\", \"Value\": 24049}, {\"ITTER107\": \"ITF1\", \"Territory\": \"Abruzzo\", \"Sex\": \"T\", \"Age\": \"TOTAL\", \"Citizenship\": \"TOTAL\", \"Value\": 610}, {\"ITTER107\": \"ITF2\", \"Territory\": \"Molise\", \"Sex\": \"T\", \"Age\": \"TOTAL\", \"Citizenship\": \"TOTAL\", \"Value\": 101}, {\"ITTER107\": \"ITF3\", \"Territory\": \"Campania\", \"Sex\": \"T\", \"Age\": \"TOTAL\", \"Citizenship\": \"TOTAL\", \"Value\": 7828}, {\"ITTER107\": \"ITF4\", \"Territory\": \"Puglia\", \"Sex\": \"T\", \"Age\": \"TOTAL\", \"Citizenship\": \"TOTAL\", \"Value\": 7655}, {\"ITTER107\": \"ITF5\", \"Territory\": \"Basilicata\", \"Sex\": \"T\", \"Age\": \"TOTAL\", \"Citizenship\": \"TOTAL\", \"Value\": 119}, {\"ITTER107\": \"ITF6\", \"Territory\": \"Calabria\", \"Sex\": \"T\", \"Age\": \"TOTAL\", \"Citizenship\": \"TOTAL\", \"Value\": 2351}, {\"ITTER107\": \"ITG1\", \"Territory\": \"Sicilia\", \"Sex\": \"T\", \"Age\": \"TOTAL\", \"Citizenship\": \"TOTAL\", \"Value\": 4023}, {\"ITTER107\": \"ITG2\", \"Territory\": \"Sardegna\", \"Sex\": \"T\", \"Age\": \"TOTAL\", \"Citizenship\": \"TOTAL\", \"Value\": 3212}]}}, {\"mode\": \"vega-lite\"});\n",
       "</script>"
      ],
      "text/plain": [
       "alt.Chart(...)"
      ]
     },
     "execution_count": 13,
     "metadata": {},
     "output_type": "execute_result"
    }
   ],
   "source": [
    "import altair as alt\n",
    "\n",
    "# Load the TopoJSON file by URL\n",
    "url = \"https://raw.githubusercontent.com/openpolis/geojson-italy/master/topojson/limits_IT_regions.topo.json\"\n",
    "\n",
    "\n",
    "source = alt.topo_feature(url, \"regions\")\n",
    "\n",
    "chart = alt.Chart(source).mark_geoshape().encode(\n",
    "    tooltip='properties.reg_name:N',\n",
    "    color=alt.Color('Value:Q')\n",
    ").project('mercator').properties(\n",
    "    width=500,\n",
    "    height=500\n",
    ").transform_lookup(\n",
    "    lookup='properties.reg_name',\n",
    "    from_=alt.LookupData(df_tot, 'Territory', ['Territory', 'Value'])\n",
    ").properties(title='Homeless in Italy in 2021')\n",
    "\n",
    "configure_layout(chart)"
   ]
  },
  {
   "cell_type": "markdown",
   "id": "c0a86cff",
   "metadata": {},
   "source": [
    "# Focus on the key message"
   ]
  },
  {
   "cell_type": "code",
   "execution_count": 14,
   "id": "8b4d1a79",
   "metadata": {
    "scrolled": true
   },
   "outputs": [
    {
     "name": "stderr",
     "output_type": "stream",
     "text": [
      "/var/folders/vc/8c80t7jd1dq_mmp6cwgwxt640000gn/T/ipykernel_1634/589044412.py:1: SettingWithCopyWarning: \n",
      "A value is trying to be set on a copy of a slice from a DataFrame.\n",
      "Try using .loc[row_indexer,col_indexer] = value instead\n",
      "\n",
      "See the caveats in the documentation: https://pandas.pydata.org/pandas-docs/stable/user_guide/indexing.html#returning-a-view-versus-a-copy\n",
      "  df_tot['Territory'] = df_tot['Territory'].str.replace('Trentino-Alto Adige/Südtirol','Trentino Alto Adige')\n"
     ]
    },
    {
     "data": {
      "text/html": [
       "\n",
       "<div id=\"altair-viz-a643b35e5837498bb3677e27870e791a\"></div>\n",
       "<script type=\"text/javascript\">\n",
       "  var VEGA_DEBUG = (typeof VEGA_DEBUG == \"undefined\") ? {} : VEGA_DEBUG;\n",
       "  (function(spec, embedOpt){\n",
       "    let outputDiv = document.currentScript.previousElementSibling;\n",
       "    if (outputDiv.id !== \"altair-viz-a643b35e5837498bb3677e27870e791a\") {\n",
       "      outputDiv = document.getElementById(\"altair-viz-a643b35e5837498bb3677e27870e791a\");\n",
       "    }\n",
       "    const paths = {\n",
       "      \"vega\": \"https://cdn.jsdelivr.net/npm//vega@5?noext\",\n",
       "      \"vega-lib\": \"https://cdn.jsdelivr.net/npm//vega-lib?noext\",\n",
       "      \"vega-lite\": \"https://cdn.jsdelivr.net/npm//vega-lite@4.17.0?noext\",\n",
       "      \"vega-embed\": \"https://cdn.jsdelivr.net/npm//vega-embed@6?noext\",\n",
       "    };\n",
       "\n",
       "    function maybeLoadScript(lib, version) {\n",
       "      var key = `${lib.replace(\"-\", \"\")}_version`;\n",
       "      return (VEGA_DEBUG[key] == version) ?\n",
       "        Promise.resolve(paths[lib]) :\n",
       "        new Promise(function(resolve, reject) {\n",
       "          var s = document.createElement('script');\n",
       "          document.getElementsByTagName(\"head\")[0].appendChild(s);\n",
       "          s.async = true;\n",
       "          s.onload = () => {\n",
       "            VEGA_DEBUG[key] = version;\n",
       "            return resolve(paths[lib]);\n",
       "          };\n",
       "          s.onerror = () => reject(`Error loading script: ${paths[lib]}`);\n",
       "          s.src = paths[lib];\n",
       "        });\n",
       "    }\n",
       "\n",
       "    function showError(err) {\n",
       "      outputDiv.innerHTML = `<div class=\"error\" style=\"color:red;\">${err}</div>`;\n",
       "      throw err;\n",
       "    }\n",
       "\n",
       "    function displayChart(vegaEmbed) {\n",
       "      vegaEmbed(outputDiv, spec, embedOpt)\n",
       "        .catch(err => showError(`Javascript Error: ${err.message}<br>This usually means there's a typo in your chart specification. See the javascript console for the full traceback.`));\n",
       "    }\n",
       "\n",
       "    if(typeof define === \"function\" && define.amd) {\n",
       "      requirejs.config({paths});\n",
       "      require([\"vega-embed\"], displayChart, err => showError(`Error loading script: ${err.message}`));\n",
       "    } else {\n",
       "      maybeLoadScript(\"vega\", \"5\")\n",
       "        .then(() => maybeLoadScript(\"vega-lite\", \"4.17.0\"))\n",
       "        .then(() => maybeLoadScript(\"vega-embed\", \"6\"))\n",
       "        .catch(showError)\n",
       "        .then(() => displayChart(vegaEmbed));\n",
       "    }\n",
       "  })({\"config\": {\"view\": {\"continuousWidth\": 400, \"continuousHeight\": 300, \"strokeWidth\": 0}, \"axis\": {\"labelFontSize\": 15, \"titleFontSize\": 20}, \"legend\": {\"labelFontSize\": 15, \"titleFontSize\": 20}, \"title\": {\"fontSize\": 25, \"offset\": 25}}, \"data\": {\"name\": \"data-e1f042bb29ef9eb76753dfceac8823e4\"}, \"mark\": {\"type\": \"bar\", \"color\": \"#636466\"}, \"encoding\": {\"x\": {\"axis\": {\"title\": \"Number of homeless\"}, \"field\": \"Value\", \"type\": \"quantitative\"}, \"y\": {\"axis\": {\"title\": \"\"}, \"field\": \"Territory\", \"sort\": \"-x\", \"type\": \"nominal\"}}, \"title\": \"Homeless in Italy in 2021\", \"$schema\": \"https://vega.github.io/schema/vega-lite/v4.17.0.json\", \"datasets\": {\"data-e1f042bb29ef9eb76753dfceac8823e4\": [{\"ITTER107\": \"ITC1\", \"Territory\": \"Piemonte\", \"Sex\": \"T\", \"Age\": \"TOTAL\", \"Citizenship\": \"TOTAL\", \"Value\": 8766}, {\"ITTER107\": \"ITC2\", \"Territory\": \"Valle d'Aosta\", \"Sex\": \"T\", \"Age\": \"TOTAL\", \"Citizenship\": \"TOTAL\", \"Value\": 73}, {\"ITTER107\": \"ITC3\", \"Territory\": \"Liguria\", \"Sex\": \"T\", \"Age\": \"TOTAL\", \"Citizenship\": \"TOTAL\", \"Value\": 4293}, {\"ITTER107\": \"ITC4\", \"Territory\": \"Lombardia\", \"Sex\": \"T\", \"Age\": \"TOTAL\", \"Citizenship\": \"TOTAL\", \"Value\": 16346}, {\"ITTER107\": \"ITDA\", \"Territory\": \"Trentino Alto Adige\", \"Sex\": \"T\", \"Age\": \"TOTAL\", \"Citizenship\": \"TOTAL\", \"Value\": 612}, {\"ITTER107\": \"ITD3\", \"Territory\": \"Veneto\", \"Sex\": \"T\", \"Age\": \"TOTAL\", \"Citizenship\": \"TOTAL\", \"Value\": 3794}, {\"ITTER107\": \"ITD4\", \"Territory\": \"Friuli-Venezia Giulia\", \"Sex\": \"T\", \"Age\": \"TOTAL\", \"Citizenship\": \"TOTAL\", \"Value\": 1451}, {\"ITTER107\": \"ITD5\", \"Territory\": \"Emilia-Romagna\", \"Sex\": \"T\", \"Age\": \"TOTAL\", \"Citizenship\": \"TOTAL\", \"Value\": 4926}, {\"ITTER107\": \"ITE1\", \"Territory\": \"Toscana\", \"Sex\": \"T\", \"Age\": \"TOTAL\", \"Citizenship\": \"TOTAL\", \"Value\": 4450}, {\"ITTER107\": \"ITE2\", \"Territory\": \"Umbria\", \"Sex\": \"T\", \"Age\": \"TOTAL\", \"Citizenship\": \"TOTAL\", \"Value\": 431}, {\"ITTER107\": \"ITE3\", \"Territory\": \"Marche\", \"Sex\": \"T\", \"Age\": \"TOTAL\", \"Citizenship\": \"TOTAL\", \"Value\": 1107}, {\"ITTER107\": \"ITE4\", \"Territory\": \"Lazio\", \"Sex\": \"T\", \"Age\": \"TOTAL\", \"Citizenship\": \"TOTAL\", \"Value\": 24049}, {\"ITTER107\": \"ITF1\", \"Territory\": \"Abruzzo\", \"Sex\": \"T\", \"Age\": \"TOTAL\", \"Citizenship\": \"TOTAL\", \"Value\": 610}, {\"ITTER107\": \"ITF2\", \"Territory\": \"Molise\", \"Sex\": \"T\", \"Age\": \"TOTAL\", \"Citizenship\": \"TOTAL\", \"Value\": 101}, {\"ITTER107\": \"ITF3\", \"Territory\": \"Campania\", \"Sex\": \"T\", \"Age\": \"TOTAL\", \"Citizenship\": \"TOTAL\", \"Value\": 7828}, {\"ITTER107\": \"ITF4\", \"Territory\": \"Puglia\", \"Sex\": \"T\", \"Age\": \"TOTAL\", \"Citizenship\": \"TOTAL\", \"Value\": 7655}, {\"ITTER107\": \"ITF5\", \"Territory\": \"Basilicata\", \"Sex\": \"T\", \"Age\": \"TOTAL\", \"Citizenship\": \"TOTAL\", \"Value\": 119}, {\"ITTER107\": \"ITF6\", \"Territory\": \"Calabria\", \"Sex\": \"T\", \"Age\": \"TOTAL\", \"Citizenship\": \"TOTAL\", \"Value\": 2351}, {\"ITTER107\": \"ITG1\", \"Territory\": \"Sicilia\", \"Sex\": \"T\", \"Age\": \"TOTAL\", \"Citizenship\": \"TOTAL\", \"Value\": 4023}, {\"ITTER107\": \"ITG2\", \"Territory\": \"Sardegna\", \"Sex\": \"T\", \"Age\": \"TOTAL\", \"Citizenship\": \"TOTAL\", \"Value\": 3212}]}}, {\"mode\": \"vega-lite\"});\n",
       "</script>"
      ],
      "text/plain": [
       "alt.Chart(...)"
      ]
     },
     "execution_count": 14,
     "metadata": {},
     "output_type": "execute_result"
    }
   ],
   "source": [
    "df_tot['Territory'] = df_tot['Territory'].str.replace('Trentino-Alto Adige/Südtirol','Trentino Alto Adige')\n",
    "\n",
    "chart = alt.Chart(df_tot).mark_bar(color=color).encode(\n",
    "    y = alt.Y('Territory:N', sort='-x', axis=alt.Axis(title='')),\n",
    "    x = alt.X('Value:Q', axis=alt.Axis(title='Number of homeless')),\n",
    "   \n",
    ").properties(title='Homeless in Italy in 2021')\n",
    "\n",
    "configure_layout(chart)"
   ]
  },
  {
   "cell_type": "code",
   "execution_count": 15,
   "id": "a618f0c5",
   "metadata": {},
   "outputs": [
    {
     "data": {
      "text/html": [
       "\n",
       "<div id=\"altair-viz-252c4cbfe9964e83a2e898c476b6cae5\"></div>\n",
       "<script type=\"text/javascript\">\n",
       "  var VEGA_DEBUG = (typeof VEGA_DEBUG == \"undefined\") ? {} : VEGA_DEBUG;\n",
       "  (function(spec, embedOpt){\n",
       "    let outputDiv = document.currentScript.previousElementSibling;\n",
       "    if (outputDiv.id !== \"altair-viz-252c4cbfe9964e83a2e898c476b6cae5\") {\n",
       "      outputDiv = document.getElementById(\"altair-viz-252c4cbfe9964e83a2e898c476b6cae5\");\n",
       "    }\n",
       "    const paths = {\n",
       "      \"vega\": \"https://cdn.jsdelivr.net/npm//vega@5?noext\",\n",
       "      \"vega-lib\": \"https://cdn.jsdelivr.net/npm//vega-lib?noext\",\n",
       "      \"vega-lite\": \"https://cdn.jsdelivr.net/npm//vega-lite@4.17.0?noext\",\n",
       "      \"vega-embed\": \"https://cdn.jsdelivr.net/npm//vega-embed@6?noext\",\n",
       "    };\n",
       "\n",
       "    function maybeLoadScript(lib, version) {\n",
       "      var key = `${lib.replace(\"-\", \"\")}_version`;\n",
       "      return (VEGA_DEBUG[key] == version) ?\n",
       "        Promise.resolve(paths[lib]) :\n",
       "        new Promise(function(resolve, reject) {\n",
       "          var s = document.createElement('script');\n",
       "          document.getElementsByTagName(\"head\")[0].appendChild(s);\n",
       "          s.async = true;\n",
       "          s.onload = () => {\n",
       "            VEGA_DEBUG[key] = version;\n",
       "            return resolve(paths[lib]);\n",
       "          };\n",
       "          s.onerror = () => reject(`Error loading script: ${paths[lib]}`);\n",
       "          s.src = paths[lib];\n",
       "        });\n",
       "    }\n",
       "\n",
       "    function showError(err) {\n",
       "      outputDiv.innerHTML = `<div class=\"error\" style=\"color:red;\">${err}</div>`;\n",
       "      throw err;\n",
       "    }\n",
       "\n",
       "    function displayChart(vegaEmbed) {\n",
       "      vegaEmbed(outputDiv, spec, embedOpt)\n",
       "        .catch(err => showError(`Javascript Error: ${err.message}<br>This usually means there's a typo in your chart specification. See the javascript console for the full traceback.`));\n",
       "    }\n",
       "\n",
       "    if(typeof define === \"function\" && define.amd) {\n",
       "      requirejs.config({paths});\n",
       "      require([\"vega-embed\"], displayChart, err => showError(`Error loading script: ${err.message}`));\n",
       "    } else {\n",
       "      maybeLoadScript(\"vega\", \"5\")\n",
       "        .then(() => maybeLoadScript(\"vega-lite\", \"4.17.0\"))\n",
       "        .then(() => maybeLoadScript(\"vega-embed\", \"6\"))\n",
       "        .catch(showError)\n",
       "        .then(() => displayChart(vegaEmbed));\n",
       "    }\n",
       "  })({\"config\": {\"view\": {\"continuousWidth\": 400, \"continuousHeight\": 300}}, \"data\": {\"name\": \"data-e1f042bb29ef9eb76753dfceac8823e4\"}, \"mark\": {\"type\": \"bar\", \"color\": \"#636466\"}, \"encoding\": {\"x\": {\"axis\": {\"title\": \"Number of homeless\"}, \"field\": \"Value\", \"type\": \"quantitative\"}, \"y\": {\"axis\": {\"title\": \"\"}, \"field\": \"Territory\", \"sort\": \"-x\", \"type\": \"nominal\"}}, \"title\": \"Homeless in Italy in 2021\", \"$schema\": \"https://vega.github.io/schema/vega-lite/v4.17.0.json\", \"datasets\": {\"data-e1f042bb29ef9eb76753dfceac8823e4\": [{\"ITTER107\": \"ITC1\", \"Territory\": \"Piemonte\", \"Sex\": \"T\", \"Age\": \"TOTAL\", \"Citizenship\": \"TOTAL\", \"Value\": 8766}, {\"ITTER107\": \"ITC2\", \"Territory\": \"Valle d'Aosta\", \"Sex\": \"T\", \"Age\": \"TOTAL\", \"Citizenship\": \"TOTAL\", \"Value\": 73}, {\"ITTER107\": \"ITC3\", \"Territory\": \"Liguria\", \"Sex\": \"T\", \"Age\": \"TOTAL\", \"Citizenship\": \"TOTAL\", \"Value\": 4293}, {\"ITTER107\": \"ITC4\", \"Territory\": \"Lombardia\", \"Sex\": \"T\", \"Age\": \"TOTAL\", \"Citizenship\": \"TOTAL\", \"Value\": 16346}, {\"ITTER107\": \"ITDA\", \"Territory\": \"Trentino Alto Adige\", \"Sex\": \"T\", \"Age\": \"TOTAL\", \"Citizenship\": \"TOTAL\", \"Value\": 612}, {\"ITTER107\": \"ITD3\", \"Territory\": \"Veneto\", \"Sex\": \"T\", \"Age\": \"TOTAL\", \"Citizenship\": \"TOTAL\", \"Value\": 3794}, {\"ITTER107\": \"ITD4\", \"Territory\": \"Friuli-Venezia Giulia\", \"Sex\": \"T\", \"Age\": \"TOTAL\", \"Citizenship\": \"TOTAL\", \"Value\": 1451}, {\"ITTER107\": \"ITD5\", \"Territory\": \"Emilia-Romagna\", \"Sex\": \"T\", \"Age\": \"TOTAL\", \"Citizenship\": \"TOTAL\", \"Value\": 4926}, {\"ITTER107\": \"ITE1\", \"Territory\": \"Toscana\", \"Sex\": \"T\", \"Age\": \"TOTAL\", \"Citizenship\": \"TOTAL\", \"Value\": 4450}, {\"ITTER107\": \"ITE2\", \"Territory\": \"Umbria\", \"Sex\": \"T\", \"Age\": \"TOTAL\", \"Citizenship\": \"TOTAL\", \"Value\": 431}, {\"ITTER107\": \"ITE3\", \"Territory\": \"Marche\", \"Sex\": \"T\", \"Age\": \"TOTAL\", \"Citizenship\": \"TOTAL\", \"Value\": 1107}, {\"ITTER107\": \"ITE4\", \"Territory\": \"Lazio\", \"Sex\": \"T\", \"Age\": \"TOTAL\", \"Citizenship\": \"TOTAL\", \"Value\": 24049}, {\"ITTER107\": \"ITF1\", \"Territory\": \"Abruzzo\", \"Sex\": \"T\", \"Age\": \"TOTAL\", \"Citizenship\": \"TOTAL\", \"Value\": 610}, {\"ITTER107\": \"ITF2\", \"Territory\": \"Molise\", \"Sex\": \"T\", \"Age\": \"TOTAL\", \"Citizenship\": \"TOTAL\", \"Value\": 101}, {\"ITTER107\": \"ITF3\", \"Territory\": \"Campania\", \"Sex\": \"T\", \"Age\": \"TOTAL\", \"Citizenship\": \"TOTAL\", \"Value\": 7828}, {\"ITTER107\": \"ITF4\", \"Territory\": \"Puglia\", \"Sex\": \"T\", \"Age\": \"TOTAL\", \"Citizenship\": \"TOTAL\", \"Value\": 7655}, {\"ITTER107\": \"ITF5\", \"Territory\": \"Basilicata\", \"Sex\": \"T\", \"Age\": \"TOTAL\", \"Citizenship\": \"TOTAL\", \"Value\": 119}, {\"ITTER107\": \"ITF6\", \"Territory\": \"Calabria\", \"Sex\": \"T\", \"Age\": \"TOTAL\", \"Citizenship\": \"TOTAL\", \"Value\": 2351}, {\"ITTER107\": \"ITG1\", \"Territory\": \"Sicilia\", \"Sex\": \"T\", \"Age\": \"TOTAL\", \"Citizenship\": \"TOTAL\", \"Value\": 4023}, {\"ITTER107\": \"ITG2\", \"Territory\": \"Sardegna\", \"Sex\": \"T\", \"Age\": \"TOTAL\", \"Citizenship\": \"TOTAL\", \"Value\": 3212}]}}, {\"mode\": \"vega-lite\"});\n",
       "</script>"
      ],
      "text/plain": [
       "alt.Chart(...)"
      ]
     },
     "execution_count": 15,
     "metadata": {},
     "output_type": "execute_result"
    }
   ],
   "source": [
    "chart"
   ]
  },
  {
   "cell_type": "code",
   "execution_count": 16,
   "id": "19452d9c",
   "metadata": {},
   "outputs": [],
   "source": [
    "chart.save('chart.html')"
   ]
  },
  {
   "cell_type": "markdown",
   "id": "59f96213",
   "metadata": {},
   "source": [
    "Normalize by population"
   ]
  },
  {
   "cell_type": "code",
   "execution_count": 17,
   "id": "54196e28",
   "metadata": {},
   "outputs": [
    {
     "data": {
      "text/html": [
       "<div><div id=654530df-aa4f-45e6-b11f-c8f562b500ed style=\"display:none; background-color:#9D6CFF; color:white; width:200px; height:30px; padding-left:5px; border-radius:4px; flex-direction:row; justify-content:space-around; align-items:center;\" onmouseover=\"this.style.backgroundColor='#BA9BF8'\" onmouseout=\"this.style.backgroundColor='#9D6CFF'\" onclick=\"window.commands?.execute('create-mitosheet-from-dataframe-output');\">See Full Dataframe in Mito</div> <script> if (window.commands.hasCommand('create-mitosheet-from-dataframe-output')) document.getElementById('654530df-aa4f-45e6-b11f-c8f562b500ed').style.display = 'flex' </script> <table border=\"1\" class=\"dataframe\">\n",
       "  <thead>\n",
       "    <tr style=\"text-align: right;\">\n",
       "      <th></th>\n",
       "      <th>ITTER107</th>\n",
       "      <th>Territory</th>\n",
       "      <th>Sex</th>\n",
       "      <th>Age</th>\n",
       "      <th>Value</th>\n",
       "    </tr>\n",
       "  </thead>\n",
       "  <tbody>\n",
       "    <tr>\n",
       "      <th>0</th>\n",
       "      <td>ITF1</td>\n",
       "      <td>Abruzzo</td>\n",
       "      <td>M</td>\n",
       "      <td>Y50-54</td>\n",
       "      <td>50764</td>\n",
       "    </tr>\n",
       "    <tr>\n",
       "      <th>1</th>\n",
       "      <td>ITF1</td>\n",
       "      <td>Abruzzo</td>\n",
       "      <td>T</td>\n",
       "      <td>Y55-59</td>\n",
       "      <td>102824</td>\n",
       "    </tr>\n",
       "    <tr>\n",
       "      <th>2</th>\n",
       "      <td>ITF1</td>\n",
       "      <td>Abruzzo</td>\n",
       "      <td>T</td>\n",
       "      <td>Y80-84</td>\n",
       "      <td>50370</td>\n",
       "    </tr>\n",
       "    <tr>\n",
       "      <th>3</th>\n",
       "      <td>ITF1</td>\n",
       "      <td>Abruzzo</td>\n",
       "      <td>M</td>\n",
       "      <td>Y25-29</td>\n",
       "      <td>33107</td>\n",
       "    </tr>\n",
       "    <tr>\n",
       "      <th>4</th>\n",
       "      <td>ITF1</td>\n",
       "      <td>Abruzzo</td>\n",
       "      <td>M</td>\n",
       "      <td>Y45-49</td>\n",
       "      <td>48230</td>\n",
       "    </tr>\n",
       "  </tbody>\n",
       "</table></div>"
      ],
      "text/plain": [
       "  ITTER107 Territory Sex     Age   Value\n",
       "0     ITF1   Abruzzo   M  Y50-54   50764\n",
       "1     ITF1   Abruzzo   T  Y55-59  102824\n",
       "2     ITF1   Abruzzo   T  Y80-84   50370\n",
       "3     ITF1   Abruzzo   M  Y25-29   33107\n",
       "4     ITF1   Abruzzo   M  Y45-49   48230"
      ]
     },
     "execution_count": 17,
     "metadata": {},
     "output_type": "execute_result"
    }
   ],
   "source": [
    "population = pd.read_csv('source/population.csv')\n",
    "population.head()"
   ]
  },
  {
   "cell_type": "code",
   "execution_count": 18,
   "id": "93afd3a0",
   "metadata": {},
   "outputs": [],
   "source": [
    "pop_tot = population[(population['Age'] == 'TOTAL') & (population['Sex'] == 'T')]"
   ]
  },
  {
   "cell_type": "code",
   "execution_count": 19,
   "id": "1270288d",
   "metadata": {},
   "outputs": [
    {
     "data": {
      "text/plain": [
       "(20, 20)"
      ]
     },
     "execution_count": 19,
     "metadata": {},
     "output_type": "execute_result"
    }
   ],
   "source": [
    "len(df_tot), len(pop_tot)"
   ]
  },
  {
   "cell_type": "code",
   "execution_count": 20,
   "id": "0d9d55d8",
   "metadata": {},
   "outputs": [
    {
     "data": {
      "text/plain": [
       "Index(['ITTER107', 'Territory', 'Sex', 'Age', 'Citizenship', 'Value'], dtype='object')"
      ]
     },
     "execution_count": 20,
     "metadata": {},
     "output_type": "execute_result"
    }
   ],
   "source": [
    "df_tot.columns"
   ]
  },
  {
   "cell_type": "code",
   "execution_count": 21,
   "id": "37f7488c",
   "metadata": {},
   "outputs": [
    {
     "data": {
      "text/plain": [
       "array(['Piemonte', \"Valle d'Aosta\", 'Liguria', 'Lombardia',\n",
       "       'Trentino Alto Adige', 'Veneto', 'Friuli-Venezia Giulia',\n",
       "       'Emilia-Romagna', 'Toscana', 'Umbria', 'Marche', 'Lazio',\n",
       "       'Abruzzo', 'Molise', 'Campania', 'Puglia', 'Basilicata',\n",
       "       'Calabria', 'Sicilia', 'Sardegna'], dtype=object)"
      ]
     },
     "execution_count": 21,
     "metadata": {},
     "output_type": "execute_result"
    }
   ],
   "source": [
    "df_tot.Territory.unique()"
   ]
  },
  {
   "cell_type": "code",
   "execution_count": 22,
   "id": "7fa6b885",
   "metadata": {},
   "outputs": [
    {
     "data": {
      "text/plain": [
       "array(['Abruzzo', 'Basilicata', 'Calabria', 'Campania', 'Emilia-Romagna',\n",
       "       'Friuli-Venezia Giulia', 'Lazio', 'Liguria', 'Lombardia', 'Marche',\n",
       "       'Molise', 'Piemonte', 'Puglia', 'Sardegna', 'Sicilia', 'Toscana',\n",
       "       'Trentino Alto Adige', 'Umbria', \"Valle d'Aosta\", 'Veneto'],\n",
       "      dtype=object)"
      ]
     },
     "execution_count": 22,
     "metadata": {},
     "output_type": "execute_result"
    }
   ],
   "source": [
    "pop_tot.Territory.unique()"
   ]
  },
  {
   "cell_type": "markdown",
   "id": "e80cd5f5",
   "metadata": {},
   "source": [
    "Join the two datasets"
   ]
  },
  {
   "cell_type": "code",
   "execution_count": 23,
   "id": "2c5c2e9c",
   "metadata": {},
   "outputs": [],
   "source": [
    "df_tot = df_tot[['Value', 'ITTER107']]\n",
    "pop_tot = pop_tot[['Value', 'ITTER107','Territory']]"
   ]
  },
  {
   "cell_type": "code",
   "execution_count": 24,
   "id": "30135c81",
   "metadata": {},
   "outputs": [],
   "source": [
    "df3 = pop_tot.set_index('ITTER107').join(df_tot.set_index('ITTER107'),lsuffix='_pop', rsuffix='_hom').reset_index()"
   ]
  },
  {
   "cell_type": "markdown",
   "id": "15fcaef3",
   "metadata": {},
   "source": [
    "Calculate ratio: number of homeless people over 1000 inhabitants"
   ]
  },
  {
   "cell_type": "code",
   "execution_count": 25,
   "id": "bbc2828f",
   "metadata": {},
   "outputs": [],
   "source": [
    "df3['Ratio'] = df3['Value_hom']/df3['Value_pop']*1000"
   ]
  },
  {
   "cell_type": "code",
   "execution_count": 26,
   "id": "76ff7621",
   "metadata": {},
   "outputs": [
    {
     "data": {
      "text/html": [
       "\n",
       "<div id=\"altair-viz-fece9e8692d34d9fb5683161bbb47f6b\"></div>\n",
       "<script type=\"text/javascript\">\n",
       "  var VEGA_DEBUG = (typeof VEGA_DEBUG == \"undefined\") ? {} : VEGA_DEBUG;\n",
       "  (function(spec, embedOpt){\n",
       "    let outputDiv = document.currentScript.previousElementSibling;\n",
       "    if (outputDiv.id !== \"altair-viz-fece9e8692d34d9fb5683161bbb47f6b\") {\n",
       "      outputDiv = document.getElementById(\"altair-viz-fece9e8692d34d9fb5683161bbb47f6b\");\n",
       "    }\n",
       "    const paths = {\n",
       "      \"vega\": \"https://cdn.jsdelivr.net/npm//vega@5?noext\",\n",
       "      \"vega-lib\": \"https://cdn.jsdelivr.net/npm//vega-lib?noext\",\n",
       "      \"vega-lite\": \"https://cdn.jsdelivr.net/npm//vega-lite@4.17.0?noext\",\n",
       "      \"vega-embed\": \"https://cdn.jsdelivr.net/npm//vega-embed@6?noext\",\n",
       "    };\n",
       "\n",
       "    function maybeLoadScript(lib, version) {\n",
       "      var key = `${lib.replace(\"-\", \"\")}_version`;\n",
       "      return (VEGA_DEBUG[key] == version) ?\n",
       "        Promise.resolve(paths[lib]) :\n",
       "        new Promise(function(resolve, reject) {\n",
       "          var s = document.createElement('script');\n",
       "          document.getElementsByTagName(\"head\")[0].appendChild(s);\n",
       "          s.async = true;\n",
       "          s.onload = () => {\n",
       "            VEGA_DEBUG[key] = version;\n",
       "            return resolve(paths[lib]);\n",
       "          };\n",
       "          s.onerror = () => reject(`Error loading script: ${paths[lib]}`);\n",
       "          s.src = paths[lib];\n",
       "        });\n",
       "    }\n",
       "\n",
       "    function showError(err) {\n",
       "      outputDiv.innerHTML = `<div class=\"error\" style=\"color:red;\">${err}</div>`;\n",
       "      throw err;\n",
       "    }\n",
       "\n",
       "    function displayChart(vegaEmbed) {\n",
       "      vegaEmbed(outputDiv, spec, embedOpt)\n",
       "        .catch(err => showError(`Javascript Error: ${err.message}<br>This usually means there's a typo in your chart specification. See the javascript console for the full traceback.`));\n",
       "    }\n",
       "\n",
       "    if(typeof define === \"function\" && define.amd) {\n",
       "      requirejs.config({paths});\n",
       "      require([\"vega-embed\"], displayChart, err => showError(`Error loading script: ${err.message}`));\n",
       "    } else {\n",
       "      maybeLoadScript(\"vega\", \"5\")\n",
       "        .then(() => maybeLoadScript(\"vega-lite\", \"4.17.0\"))\n",
       "        .then(() => maybeLoadScript(\"vega-embed\", \"6\"))\n",
       "        .catch(showError)\n",
       "        .then(() => displayChart(vegaEmbed));\n",
       "    }\n",
       "  })({\"config\": {\"view\": {\"continuousWidth\": 400, \"continuousHeight\": 300, \"strokeWidth\": 0}, \"axis\": {\"labelFontSize\": 15, \"titleFontSize\": 20}, \"legend\": {\"labelFontSize\": 15, \"titleFontSize\": 20}, \"title\": {\"fontSize\": 25, \"offset\": 25}}, \"data\": {\"name\": \"data-74c3b3a2e88392a1f86d85511cbf8ce7\"}, \"mark\": \"bar\", \"encoding\": {\"color\": {\"condition\": {\"value\": \"#80C11E\", \"test\": \"(datum.Ratio > 2)\"}, \"value\": \"lightgray\"}, \"x\": {\"axis\": {\"tickCount\": 4, \"title\": \"\"}, \"field\": \"Ratio\", \"type\": \"quantitative\"}, \"y\": {\"axis\": {\"title\": \"\"}, \"field\": \"Territory\", \"sort\": \"-x\", \"type\": \"nominal\"}}, \"title\": \"Number of homeless people in a population of 1,000\", \"width\": 500, \"$schema\": \"https://vega.github.io/schema/vega-lite/v4.17.0.json\", \"datasets\": {\"data-74c3b3a2e88392a1f86d85511cbf8ce7\": [{\"ITTER107\": \"ITF1\", \"Value_pop\": 1275950, \"Territory\": \"Abruzzo\", \"Value_hom\": 610, \"Ratio\": 0.47807515968494063}, {\"ITTER107\": \"ITF5\", \"Value_pop\": 541168, \"Territory\": \"Basilicata\", \"Value_hom\": 119, \"Ratio\": 0.21989474617863583}, {\"ITTER107\": \"ITF6\", \"Value_pop\": 1855454, \"Territory\": \"Calabria\", \"Value_hom\": 2351, \"Ratio\": 1.267075335739932}, {\"ITTER107\": \"ITF3\", \"Value_pop\": 5624420, \"Territory\": \"Campania\", \"Value_hom\": 7828, \"Ratio\": 1.3917879532467348}, {\"ITTER107\": \"ITD5\", \"Value_pop\": 4425366, \"Territory\": \"Emilia-Romagna\", \"Value_hom\": 4926, \"Ratio\": 1.1131282700685095}, {\"ITTER107\": \"ITD4\", \"Value_pop\": 1194647, \"Territory\": \"Friuli-Venezia Giulia\", \"Value_hom\": 1451, \"Ratio\": 1.2145847267016951}, {\"ITTER107\": \"ITE4\", \"Value_pop\": 5714882, \"Territory\": \"Lazio\", \"Value_hom\": 24049, \"Ratio\": 4.208135881020815}, {\"ITTER107\": \"ITC3\", \"Value_pop\": 1509227, \"Territory\": \"Liguria\", \"Value_hom\": 4293, \"Ratio\": 2.8445025168513416}, {\"ITTER107\": \"ITC4\", \"Value_pop\": 9943004, \"Territory\": \"Lombardia\", \"Value_hom\": 16346, \"Ratio\": 1.643969971248126}, {\"ITTER107\": \"ITE3\", \"Value_pop\": 1487150, \"Territory\": \"Marche\", \"Value_hom\": 1107, \"Ratio\": 0.7443768281612481}, {\"ITTER107\": \"ITF2\", \"Value_pop\": 292150, \"Territory\": \"Molise\", \"Value_hom\": 101, \"Ratio\": 0.3457128187574876}, {\"ITTER107\": \"ITC1\", \"Value_pop\": 4256350, \"Territory\": \"Piemonte\", \"Value_hom\": 8766, \"Ratio\": 2.0595110834400367}, {\"ITTER107\": \"ITF4\", \"Value_pop\": 3922941, \"Territory\": \"Puglia\", \"Value_hom\": 7655, \"Ratio\": 1.9513421180690713}, {\"ITTER107\": \"ITG2\", \"Value_pop\": 1587413, \"Territory\": \"Sardegna\", \"Value_hom\": 3212, \"Ratio\": 2.023417976292244}, {\"ITTER107\": \"ITG1\", \"Value_pop\": 4833329, \"Territory\": \"Sicilia\", \"Value_hom\": 4023, \"Ratio\": 0.8323455738270662}, {\"ITTER107\": \"ITE1\", \"Value_pop\": 3663191, \"Territory\": \"Toscana\", \"Value_hom\": 4450, \"Ratio\": 1.214787872103857}, {\"ITTER107\": \"ITDA\", \"Value_pop\": 1073574, \"Territory\": \"Trentino Alto Adige\", \"Value_hom\": 612, \"Ratio\": 0.5700585148299047}, {\"ITTER107\": \"ITE2\", \"Value_pop\": 858812, \"Territory\": \"Umbria\", \"Value_hom\": 431, \"Ratio\": 0.501856052314127}, {\"ITTER107\": \"ITC2\", \"Value_pop\": 123360, \"Territory\": \"Valle d'Aosta\", \"Value_hom\": 73, \"Ratio\": 0.5917639429312581}, {\"ITTER107\": \"ITD3\", \"Value_pop\": 4847745, \"Territory\": \"Veneto\", \"Value_hom\": 3794, \"Ratio\": 0.7826319247402658}]}}, {\"mode\": \"vega-lite\"});\n",
       "</script>"
      ],
      "text/plain": [
       "alt.Chart(...)"
      ]
     },
     "execution_count": 26,
     "metadata": {},
     "output_type": "execute_result"
    }
   ],
   "source": [
    "chart = alt.Chart(df3).mark_bar().encode(\n",
    "    y = alt.Y('Territory', sort='-x', axis=alt.Axis(title='')),\n",
    "    x = alt.X('Ratio', axis=alt.Axis(tickCount=4,title='')),\n",
    "    color=alt.condition(alt.datum.Ratio > 2, alt.value(iColor), alt.value('lightgray'))\n",
    "   \n",
    ").properties(width=500,title='Number of homeless people in a population of 1,000')\n",
    "\n",
    "configure_layout(chart)"
   ]
  },
  {
   "cell_type": "markdown",
   "id": "2a907880",
   "metadata": {},
   "source": [
    "# Adding a context"
   ]
  },
  {
   "cell_type": "code",
   "execution_count": 27,
   "id": "cedbfa6d",
   "metadata": {},
   "outputs": [
    {
     "data": {
      "text/html": [
       "\n",
       "<div id=\"altair-viz-d1f8840968284b6b8c5bf86d1d22fc3e\"></div>\n",
       "<script type=\"text/javascript\">\n",
       "  var VEGA_DEBUG = (typeof VEGA_DEBUG == \"undefined\") ? {} : VEGA_DEBUG;\n",
       "  (function(spec, embedOpt){\n",
       "    let outputDiv = document.currentScript.previousElementSibling;\n",
       "    if (outputDiv.id !== \"altair-viz-d1f8840968284b6b8c5bf86d1d22fc3e\") {\n",
       "      outputDiv = document.getElementById(\"altair-viz-d1f8840968284b6b8c5bf86d1d22fc3e\");\n",
       "    }\n",
       "    const paths = {\n",
       "      \"vega\": \"https://cdn.jsdelivr.net/npm//vega@5?noext\",\n",
       "      \"vega-lib\": \"https://cdn.jsdelivr.net/npm//vega-lib?noext\",\n",
       "      \"vega-lite\": \"https://cdn.jsdelivr.net/npm//vega-lite@4.17.0?noext\",\n",
       "      \"vega-embed\": \"https://cdn.jsdelivr.net/npm//vega-embed@6?noext\",\n",
       "    };\n",
       "\n",
       "    function maybeLoadScript(lib, version) {\n",
       "      var key = `${lib.replace(\"-\", \"\")}_version`;\n",
       "      return (VEGA_DEBUG[key] == version) ?\n",
       "        Promise.resolve(paths[lib]) :\n",
       "        new Promise(function(resolve, reject) {\n",
       "          var s = document.createElement('script');\n",
       "          document.getElementsByTagName(\"head\")[0].appendChild(s);\n",
       "          s.async = true;\n",
       "          s.onload = () => {\n",
       "            VEGA_DEBUG[key] = version;\n",
       "            return resolve(paths[lib]);\n",
       "          };\n",
       "          s.onerror = () => reject(`Error loading script: ${paths[lib]}`);\n",
       "          s.src = paths[lib];\n",
       "        });\n",
       "    }\n",
       "\n",
       "    function showError(err) {\n",
       "      outputDiv.innerHTML = `<div class=\"error\" style=\"color:red;\">${err}</div>`;\n",
       "      throw err;\n",
       "    }\n",
       "\n",
       "    function displayChart(vegaEmbed) {\n",
       "      vegaEmbed(outputDiv, spec, embedOpt)\n",
       "        .catch(err => showError(`Javascript Error: ${err.message}<br>This usually means there's a typo in your chart specification. See the javascript console for the full traceback.`));\n",
       "    }\n",
       "\n",
       "    if(typeof define === \"function\" && define.amd) {\n",
       "      requirejs.config({paths});\n",
       "      require([\"vega-embed\"], displayChart, err => showError(`Error loading script: ${err.message}`));\n",
       "    } else {\n",
       "      maybeLoadScript(\"vega\", \"5\")\n",
       "        .then(() => maybeLoadScript(\"vega-lite\", \"4.17.0\"))\n",
       "        .then(() => maybeLoadScript(\"vega-embed\", \"6\"))\n",
       "        .catch(showError)\n",
       "        .then(() => displayChart(vegaEmbed));\n",
       "    }\n",
       "  })({\"config\": {\"view\": {\"continuousWidth\": 400, \"continuousHeight\": 300, \"strokeWidth\": 0}, \"axis\": {\"labelFontSize\": 15, \"titleFontSize\": 20}, \"legend\": {\"labelFontSize\": 15, \"titleFontSize\": 20}, \"title\": {\"fontSize\": 25, \"offset\": 25}}, \"data\": {\"name\": \"data-74c3b3a2e88392a1f86d85511cbf8ce7\"}, \"mark\": \"bar\", \"encoding\": {\"color\": {\"condition\": {\"value\": \"#80C11E\", \"test\": \"(datum.Ratio > 2)\"}, \"value\": \"lightgray\"}, \"x\": {\"axis\": {\"tickCount\": 4, \"title\": \"\"}, \"field\": \"Ratio\", \"type\": \"quantitative\"}, \"y\": {\"axis\": {\"title\": \"\"}, \"field\": \"Territory\", \"sort\": \"-x\", \"type\": \"nominal\"}}, \"title\": {\"text\": [\"Together, Let's Make a Difference:\", \"Support Our Project to Help the Homeless!\"], \"subtitle\": [\"Homelessness is a heartbreaking reality that leaves individuals and families without a stable home,\", \"leading to devastating consequences such as poor health and social isolation.\"], \"subtitleFontSize\": 18}, \"width\": 500, \"$schema\": \"https://vega.github.io/schema/vega-lite/v4.17.0.json\", \"datasets\": {\"data-74c3b3a2e88392a1f86d85511cbf8ce7\": [{\"ITTER107\": \"ITF1\", \"Value_pop\": 1275950, \"Territory\": \"Abruzzo\", \"Value_hom\": 610, \"Ratio\": 0.47807515968494063}, {\"ITTER107\": \"ITF5\", \"Value_pop\": 541168, \"Territory\": \"Basilicata\", \"Value_hom\": 119, \"Ratio\": 0.21989474617863583}, {\"ITTER107\": \"ITF6\", \"Value_pop\": 1855454, \"Territory\": \"Calabria\", \"Value_hom\": 2351, \"Ratio\": 1.267075335739932}, {\"ITTER107\": \"ITF3\", \"Value_pop\": 5624420, \"Territory\": \"Campania\", \"Value_hom\": 7828, \"Ratio\": 1.3917879532467348}, {\"ITTER107\": \"ITD5\", \"Value_pop\": 4425366, \"Territory\": \"Emilia-Romagna\", \"Value_hom\": 4926, \"Ratio\": 1.1131282700685095}, {\"ITTER107\": \"ITD4\", \"Value_pop\": 1194647, \"Territory\": \"Friuli-Venezia Giulia\", \"Value_hom\": 1451, \"Ratio\": 1.2145847267016951}, {\"ITTER107\": \"ITE4\", \"Value_pop\": 5714882, \"Territory\": \"Lazio\", \"Value_hom\": 24049, \"Ratio\": 4.208135881020815}, {\"ITTER107\": \"ITC3\", \"Value_pop\": 1509227, \"Territory\": \"Liguria\", \"Value_hom\": 4293, \"Ratio\": 2.8445025168513416}, {\"ITTER107\": \"ITC4\", \"Value_pop\": 9943004, \"Territory\": \"Lombardia\", \"Value_hom\": 16346, \"Ratio\": 1.643969971248126}, {\"ITTER107\": \"ITE3\", \"Value_pop\": 1487150, \"Territory\": \"Marche\", \"Value_hom\": 1107, \"Ratio\": 0.7443768281612481}, {\"ITTER107\": \"ITF2\", \"Value_pop\": 292150, \"Territory\": \"Molise\", \"Value_hom\": 101, \"Ratio\": 0.3457128187574876}, {\"ITTER107\": \"ITC1\", \"Value_pop\": 4256350, \"Territory\": \"Piemonte\", \"Value_hom\": 8766, \"Ratio\": 2.0595110834400367}, {\"ITTER107\": \"ITF4\", \"Value_pop\": 3922941, \"Territory\": \"Puglia\", \"Value_hom\": 7655, \"Ratio\": 1.9513421180690713}, {\"ITTER107\": \"ITG2\", \"Value_pop\": 1587413, \"Territory\": \"Sardegna\", \"Value_hom\": 3212, \"Ratio\": 2.023417976292244}, {\"ITTER107\": \"ITG1\", \"Value_pop\": 4833329, \"Territory\": \"Sicilia\", \"Value_hom\": 4023, \"Ratio\": 0.8323455738270662}, {\"ITTER107\": \"ITE1\", \"Value_pop\": 3663191, \"Territory\": \"Toscana\", \"Value_hom\": 4450, \"Ratio\": 1.214787872103857}, {\"ITTER107\": \"ITDA\", \"Value_pop\": 1073574, \"Territory\": \"Trentino Alto Adige\", \"Value_hom\": 612, \"Ratio\": 0.5700585148299047}, {\"ITTER107\": \"ITE2\", \"Value_pop\": 858812, \"Territory\": \"Umbria\", \"Value_hom\": 431, \"Ratio\": 0.501856052314127}, {\"ITTER107\": \"ITC2\", \"Value_pop\": 123360, \"Territory\": \"Valle d'Aosta\", \"Value_hom\": 73, \"Ratio\": 0.5917639429312581}, {\"ITTER107\": \"ITD3\", \"Value_pop\": 4847745, \"Territory\": \"Veneto\", \"Value_hom\": 3794, \"Ratio\": 0.7826319247402658}]}}, {\"mode\": \"vega-lite\"});\n",
       "</script>"
      ],
      "text/plain": [
       "alt.Chart(...)"
      ]
     },
     "execution_count": 27,
     "metadata": {},
     "output_type": "execute_result"
    }
   ],
   "source": [
    "chart = alt.Chart(df3).mark_bar().encode(\n",
    "    y = alt.Y('Territory', sort='-x', axis=alt.Axis(title='')),\n",
    "    x = alt.X('Ratio', axis=alt.Axis(tickCount=4,title='')),\n",
    "    color=alt.condition(alt.datum.Ratio > 2, alt.value(iColor), alt.value('lightgray'))\n",
    "   \n",
    ").properties(width=500,title=alt.TitleParams(\n",
    "    text=[\"Together, Let's Make a Difference:\",\"Support Our Project to Help the Homeless!\"],\n",
    "    subtitle=['Homelessness is a heartbreaking reality that leaves individuals and families without a stable home,','leading to devastating consequences such as poor health and social isolation.'],\n",
    "    subtitleFontSize=18\n",
    "))\n",
    "\n",
    "\n",
    "configure_layout(chart)"
   ]
  },
  {
   "cell_type": "code",
   "execution_count": 28,
   "id": "f1096077",
   "metadata": {},
   "outputs": [
    {
     "data": {
      "text/html": [
       "\n",
       "<div id=\"altair-viz-b15717a8b7584321bd3b3eb1e099d05a\"></div>\n",
       "<script type=\"text/javascript\">\n",
       "  var VEGA_DEBUG = (typeof VEGA_DEBUG == \"undefined\") ? {} : VEGA_DEBUG;\n",
       "  (function(spec, embedOpt){\n",
       "    let outputDiv = document.currentScript.previousElementSibling;\n",
       "    if (outputDiv.id !== \"altair-viz-b15717a8b7584321bd3b3eb1e099d05a\") {\n",
       "      outputDiv = document.getElementById(\"altair-viz-b15717a8b7584321bd3b3eb1e099d05a\");\n",
       "    }\n",
       "    const paths = {\n",
       "      \"vega\": \"https://cdn.jsdelivr.net/npm//vega@5?noext\",\n",
       "      \"vega-lib\": \"https://cdn.jsdelivr.net/npm//vega-lib?noext\",\n",
       "      \"vega-lite\": \"https://cdn.jsdelivr.net/npm//vega-lite@4.17.0?noext\",\n",
       "      \"vega-embed\": \"https://cdn.jsdelivr.net/npm//vega-embed@6?noext\",\n",
       "    };\n",
       "\n",
       "    function maybeLoadScript(lib, version) {\n",
       "      var key = `${lib.replace(\"-\", \"\")}_version`;\n",
       "      return (VEGA_DEBUG[key] == version) ?\n",
       "        Promise.resolve(paths[lib]) :\n",
       "        new Promise(function(resolve, reject) {\n",
       "          var s = document.createElement('script');\n",
       "          document.getElementsByTagName(\"head\")[0].appendChild(s);\n",
       "          s.async = true;\n",
       "          s.onload = () => {\n",
       "            VEGA_DEBUG[key] = version;\n",
       "            return resolve(paths[lib]);\n",
       "          };\n",
       "          s.onerror = () => reject(`Error loading script: ${paths[lib]}`);\n",
       "          s.src = paths[lib];\n",
       "        });\n",
       "    }\n",
       "\n",
       "    function showError(err) {\n",
       "      outputDiv.innerHTML = `<div class=\"error\" style=\"color:red;\">${err}</div>`;\n",
       "      throw err;\n",
       "    }\n",
       "\n",
       "    function displayChart(vegaEmbed) {\n",
       "      vegaEmbed(outputDiv, spec, embedOpt)\n",
       "        .catch(err => showError(`Javascript Error: ${err.message}<br>This usually means there's a typo in your chart specification. See the javascript console for the full traceback.`));\n",
       "    }\n",
       "\n",
       "    if(typeof define === \"function\" && define.amd) {\n",
       "      requirejs.config({paths});\n",
       "      require([\"vega-embed\"], displayChart, err => showError(`Error loading script: ${err.message}`));\n",
       "    } else {\n",
       "      maybeLoadScript(\"vega\", \"5\")\n",
       "        .then(() => maybeLoadScript(\"vega-lite\", \"4.17.0\"))\n",
       "        .then(() => maybeLoadScript(\"vega-embed\", \"6\"))\n",
       "        .catch(showError)\n",
       "        .then(() => displayChart(vegaEmbed));\n",
       "    }\n",
       "  })({\"config\": {\"view\": {\"continuousWidth\": 400, \"continuousHeight\": 300, \"strokeWidth\": 0}, \"axis\": {\"labelFontSize\": 15, \"titleFontSize\": 20}, \"legend\": {\"labelFontSize\": 15, \"titleFontSize\": 20}, \"title\": {\"fontSize\": 25, \"offset\": 25}}, \"hconcat\": [{\"layer\": [{\"data\": {\"name\": \"data-54472d059aac7e7eb20b87acf986c92a\"}, \"mark\": {\"type\": \"image\", \"height\": 200, \"width\": 200}, \"encoding\": {\"url\": {\"field\": \"image_url\", \"type\": \"nominal\"}, \"x\": {\"value\": 0}, \"y\": {\"value\": 50}}}, {\"data\": {\"name\": \"data-a6543ab1f05cedfcb79693f060039abe\"}, \"mark\": {\"type\": \"image\", \"height\": 200, \"width\": 200}, \"encoding\": {\"url\": {\"field\": \"image_url\", \"type\": \"nominal\"}, \"x\": {\"value\": 0}, \"y\": {\"value\": 300}}}]}, {\"data\": {\"name\": \"data-74c3b3a2e88392a1f86d85511cbf8ce7\"}, \"mark\": \"bar\", \"encoding\": {\"color\": {\"condition\": {\"value\": \"#80C11E\", \"test\": \"(datum.Ratio > 2)\"}, \"value\": \"lightgray\"}, \"x\": {\"axis\": {\"tickCount\": 4, \"title\": \"\"}, \"field\": \"Ratio\", \"type\": \"quantitative\"}, \"y\": {\"axis\": {\"title\": \"\"}, \"field\": \"Territory\", \"sort\": \"-x\", \"type\": \"nominal\"}}, \"title\": {\"text\": [\"Together, Let's Make a Difference:\", \"Support Our Project to Help the Homeless!\"], \"subtitle\": [\"Homelessness is a heartbreaking reality that leaves individuals and families without a stable home,\", \"leading to devastating consequences such as poor health and social isolation.\"], \"subtitleFontSize\": 18}, \"width\": 500}], \"$schema\": \"https://vega.github.io/schema/vega-lite/v4.17.0.json\", \"datasets\": {\"data-54472d059aac7e7eb20b87acf986c92a\": [{\"image_url\": \"source/homeless1.png\"}], \"data-a6543ab1f05cedfcb79693f060039abe\": [{\"image_url\": \"source/homeless2.png\"}], \"data-74c3b3a2e88392a1f86d85511cbf8ce7\": [{\"ITTER107\": \"ITF1\", \"Value_pop\": 1275950, \"Territory\": \"Abruzzo\", \"Value_hom\": 610, \"Ratio\": 0.47807515968494063}, {\"ITTER107\": \"ITF5\", \"Value_pop\": 541168, \"Territory\": \"Basilicata\", \"Value_hom\": 119, \"Ratio\": 0.21989474617863583}, {\"ITTER107\": \"ITF6\", \"Value_pop\": 1855454, \"Territory\": \"Calabria\", \"Value_hom\": 2351, \"Ratio\": 1.267075335739932}, {\"ITTER107\": \"ITF3\", \"Value_pop\": 5624420, \"Territory\": \"Campania\", \"Value_hom\": 7828, \"Ratio\": 1.3917879532467348}, {\"ITTER107\": \"ITD5\", \"Value_pop\": 4425366, \"Territory\": \"Emilia-Romagna\", \"Value_hom\": 4926, \"Ratio\": 1.1131282700685095}, {\"ITTER107\": \"ITD4\", \"Value_pop\": 1194647, \"Territory\": \"Friuli-Venezia Giulia\", \"Value_hom\": 1451, \"Ratio\": 1.2145847267016951}, {\"ITTER107\": \"ITE4\", \"Value_pop\": 5714882, \"Territory\": \"Lazio\", \"Value_hom\": 24049, \"Ratio\": 4.208135881020815}, {\"ITTER107\": \"ITC3\", \"Value_pop\": 1509227, \"Territory\": \"Liguria\", \"Value_hom\": 4293, \"Ratio\": 2.8445025168513416}, {\"ITTER107\": \"ITC4\", \"Value_pop\": 9943004, \"Territory\": \"Lombardia\", \"Value_hom\": 16346, \"Ratio\": 1.643969971248126}, {\"ITTER107\": \"ITE3\", \"Value_pop\": 1487150, \"Territory\": \"Marche\", \"Value_hom\": 1107, \"Ratio\": 0.7443768281612481}, {\"ITTER107\": \"ITF2\", \"Value_pop\": 292150, \"Territory\": \"Molise\", \"Value_hom\": 101, \"Ratio\": 0.3457128187574876}, {\"ITTER107\": \"ITC1\", \"Value_pop\": 4256350, \"Territory\": \"Piemonte\", \"Value_hom\": 8766, \"Ratio\": 2.0595110834400367}, {\"ITTER107\": \"ITF4\", \"Value_pop\": 3922941, \"Territory\": \"Puglia\", \"Value_hom\": 7655, \"Ratio\": 1.9513421180690713}, {\"ITTER107\": \"ITG2\", \"Value_pop\": 1587413, \"Territory\": \"Sardegna\", \"Value_hom\": 3212, \"Ratio\": 2.023417976292244}, {\"ITTER107\": \"ITG1\", \"Value_pop\": 4833329, \"Territory\": \"Sicilia\", \"Value_hom\": 4023, \"Ratio\": 0.8323455738270662}, {\"ITTER107\": \"ITE1\", \"Value_pop\": 3663191, \"Territory\": \"Toscana\", \"Value_hom\": 4450, \"Ratio\": 1.214787872103857}, {\"ITTER107\": \"ITDA\", \"Value_pop\": 1073574, \"Territory\": \"Trentino Alto Adige\", \"Value_hom\": 612, \"Ratio\": 0.5700585148299047}, {\"ITTER107\": \"ITE2\", \"Value_pop\": 858812, \"Territory\": \"Umbria\", \"Value_hom\": 431, \"Ratio\": 0.501856052314127}, {\"ITTER107\": \"ITC2\", \"Value_pop\": 123360, \"Territory\": \"Valle d'Aosta\", \"Value_hom\": 73, \"Ratio\": 0.5917639429312581}, {\"ITTER107\": \"ITD3\", \"Value_pop\": 4847745, \"Territory\": \"Veneto\", \"Value_hom\": 3794, \"Ratio\": 0.7826319247402658}]}}, {\"mode\": \"vega-lite\"});\n",
       "</script>"
      ],
      "text/plain": [
       "alt.HConcatChart(...)"
      ]
     },
     "execution_count": 28,
     "metadata": {},
     "output_type": "execute_result"
    }
   ],
   "source": [
    "\n",
    "# Create an Altair chart with an image mark\n",
    "image1 = alt.Chart(pd.DataFrame({'image_url': ['source/homeless1.png']})).mark_image(\n",
    "    width=200,\n",
    "    height=200,\n",
    ").encode(\n",
    "    url='image_url',\n",
    "    x=alt.value(0),  # pixels from left\n",
    "    y=alt.value(50)\n",
    ")\n",
    "\n",
    "image2 = alt.Chart(pd.DataFrame({'image_url': ['source/homeless2.png']})).mark_image(\n",
    "    width=200,\n",
    "    height=200,\n",
    ").encode(\n",
    "    url='image_url',\n",
    "    x=alt.value(0),  # pixels from left\n",
    "    y=alt.value(300)\n",
    ")\n",
    "\n",
    "configure_layout(image1 + image2| chart)"
   ]
  },
  {
   "cell_type": "markdown",
   "id": "61efbb0b",
   "metadata": {},
   "source": [
    "# Adding next steps"
   ]
  },
  {
   "cell_type": "code",
   "execution_count": 29,
   "id": "a3fe2659",
   "metadata": {},
   "outputs": [
    {
     "data": {
      "text/html": [
       "<div><div id=bcc71515-c090-41b4-8077-7477673a42a2 style=\"display:none; background-color:#9D6CFF; color:white; width:200px; height:30px; padding-left:5px; border-radius:4px; flex-direction:row; justify-content:space-around; align-items:center;\" onmouseover=\"this.style.backgroundColor='#BA9BF8'\" onmouseout=\"this.style.backgroundColor='#9D6CFF'\" onclick=\"window.commands?.execute('create-mitosheet-from-dataframe-output');\">See Full Dataframe in Mito</div> <script> if (window.commands.hasCommand('create-mitosheet-from-dataframe-output')) document.getElementById('bcc71515-c090-41b4-8077-7477673a42a2').style.display = 'flex' </script> <table border=\"1\" class=\"dataframe\">\n",
       "  <thead>\n",
       "    <tr style=\"text-align: right;\">\n",
       "      <th></th>\n",
       "      <th>Category</th>\n",
       "      <th>Allocation</th>\n",
       "    </tr>\n",
       "  </thead>\n",
       "  <tbody>\n",
       "    <tr>\n",
       "      <th>0</th>\n",
       "      <td>Shelter and Housing</td>\n",
       "      <td>35</td>\n",
       "    </tr>\n",
       "    <tr>\n",
       "      <th>1</th>\n",
       "      <td>Job Training</td>\n",
       "      <td>25</td>\n",
       "    </tr>\n",
       "    <tr>\n",
       "      <th>2</th>\n",
       "      <td>Education</td>\n",
       "      <td>20</td>\n",
       "    </tr>\n",
       "    <tr>\n",
       "      <th>3</th>\n",
       "      <td>Healthcare</td>\n",
       "      <td>10</td>\n",
       "    </tr>\n",
       "    <tr>\n",
       "      <th>4</th>\n",
       "      <td>Basic Necessities</td>\n",
       "      <td>10</td>\n",
       "    </tr>\n",
       "  </tbody>\n",
       "</table></div>"
      ],
      "text/plain": [
       "              Category  Allocation\n",
       "0  Shelter and Housing          35\n",
       "1         Job Training          25\n",
       "2            Education          20\n",
       "3           Healthcare          10\n",
       "4    Basic Necessities          10"
      ]
     },
     "execution_count": 29,
     "metadata": {},
     "output_type": "execute_result"
    }
   ],
   "source": [
    "ns = pd.read_csv('source/next_steps.csv')\n",
    "ns.head()"
   ]
  },
  {
   "cell_type": "code",
   "execution_count": 32,
   "id": "6a44f98d",
   "metadata": {},
   "outputs": [
    {
     "data": {
      "text/html": [
       "\n",
       "<div id=\"altair-viz-8848e9e57e0b43198ec5be0f914afe7b\"></div>\n",
       "<script type=\"text/javascript\">\n",
       "  var VEGA_DEBUG = (typeof VEGA_DEBUG == \"undefined\") ? {} : VEGA_DEBUG;\n",
       "  (function(spec, embedOpt){\n",
       "    let outputDiv = document.currentScript.previousElementSibling;\n",
       "    if (outputDiv.id !== \"altair-viz-8848e9e57e0b43198ec5be0f914afe7b\") {\n",
       "      outputDiv = document.getElementById(\"altair-viz-8848e9e57e0b43198ec5be0f914afe7b\");\n",
       "    }\n",
       "    const paths = {\n",
       "      \"vega\": \"https://cdn.jsdelivr.net/npm//vega@5?noext\",\n",
       "      \"vega-lib\": \"https://cdn.jsdelivr.net/npm//vega-lib?noext\",\n",
       "      \"vega-lite\": \"https://cdn.jsdelivr.net/npm//vega-lite@4.17.0?noext\",\n",
       "      \"vega-embed\": \"https://cdn.jsdelivr.net/npm//vega-embed@6?noext\",\n",
       "    };\n",
       "\n",
       "    function maybeLoadScript(lib, version) {\n",
       "      var key = `${lib.replace(\"-\", \"\")}_version`;\n",
       "      return (VEGA_DEBUG[key] == version) ?\n",
       "        Promise.resolve(paths[lib]) :\n",
       "        new Promise(function(resolve, reject) {\n",
       "          var s = document.createElement('script');\n",
       "          document.getElementsByTagName(\"head\")[0].appendChild(s);\n",
       "          s.async = true;\n",
       "          s.onload = () => {\n",
       "            VEGA_DEBUG[key] = version;\n",
       "            return resolve(paths[lib]);\n",
       "          };\n",
       "          s.onerror = () => reject(`Error loading script: ${paths[lib]}`);\n",
       "          s.src = paths[lib];\n",
       "        });\n",
       "    }\n",
       "\n",
       "    function showError(err) {\n",
       "      outputDiv.innerHTML = `<div class=\"error\" style=\"color:red;\">${err}</div>`;\n",
       "      throw err;\n",
       "    }\n",
       "\n",
       "    function displayChart(vegaEmbed) {\n",
       "      vegaEmbed(outputDiv, spec, embedOpt)\n",
       "        .catch(err => showError(`Javascript Error: ${err.message}<br>This usually means there's a typo in your chart specification. See the javascript console for the full traceback.`));\n",
       "    }\n",
       "\n",
       "    if(typeof define === \"function\" && define.amd) {\n",
       "      requirejs.config({paths});\n",
       "      require([\"vega-embed\"], displayChart, err => showError(`Error loading script: ${err.message}`));\n",
       "    } else {\n",
       "      maybeLoadScript(\"vega\", \"5\")\n",
       "        .then(() => maybeLoadScript(\"vega-lite\", \"4.17.0\"))\n",
       "        .then(() => maybeLoadScript(\"vega-embed\", \"6\"))\n",
       "        .catch(showError)\n",
       "        .then(() => displayChart(vegaEmbed));\n",
       "    }\n",
       "  })({\"config\": {\"view\": {\"continuousWidth\": 400, \"continuousHeight\": 300, \"strokeWidth\": 0}, \"axis\": {\"labelFontSize\": 15, \"titleFontSize\": 20}, \"legend\": {\"labelFontSize\": 15, \"titleFontSize\": 20}, \"title\": {\"fontSize\": 25, \"offset\": 25}}, \"hconcat\": [{\"hconcat\": [{\"hconcat\": [{\"hconcat\": [{\"layer\": [{\"mark\": {\"type\": \"text\", \"size\": 16, \"text\": \"Shelter and Housing\", \"y\": 0}}, {\"mark\": {\"type\": \"arc\", \"innerRadius\": 20, \"outerRadius\": 30}, \"encoding\": {\"color\": {\"field\": \"Category\", \"legend\": null, \"scale\": {\"range\": [\"#80C11E\", \"lightgray\"]}, \"type\": \"nominal\"}, \"theta\": {\"field\": \"Value\", \"stack\": true, \"type\": \"quantitative\"}}, \"height\": 100, \"width\": 100}, {\"mark\": {\"type\": \"text\", \"color\": \"#80C11E\", \"size\": 16, \"text\": \"35%\"}}], \"data\": {\"name\": \"data-9020c53a4f82480f56c7134810a3b55e\"}}, {\"layer\": [{\"mark\": {\"type\": \"text\", \"size\": 16, \"text\": \"Job Training\", \"y\": 0}}, {\"mark\": {\"type\": \"arc\", \"innerRadius\": 20, \"outerRadius\": 30}, \"encoding\": {\"color\": {\"field\": \"Category\", \"legend\": null, \"scale\": {\"range\": [\"#80C11E\", \"lightgray\"]}, \"type\": \"nominal\"}, \"theta\": {\"field\": \"Value\", \"stack\": true, \"type\": \"quantitative\"}}, \"height\": 100, \"width\": 100}, {\"mark\": {\"type\": \"text\", \"color\": \"#80C11E\", \"size\": 16, \"text\": \"25%\"}}], \"data\": {\"name\": \"data-179e2f844ad93f085b826ddd47730b3b\"}}]}, {\"layer\": [{\"mark\": {\"type\": \"text\", \"size\": 16, \"text\": \"Education\", \"y\": 0}}, {\"mark\": {\"type\": \"arc\", \"innerRadius\": 20, \"outerRadius\": 30}, \"encoding\": {\"color\": {\"field\": \"Category\", \"legend\": null, \"scale\": {\"range\": [\"#80C11E\", \"lightgray\"]}, \"type\": \"nominal\"}, \"theta\": {\"field\": \"Value\", \"stack\": true, \"type\": \"quantitative\"}}, \"height\": 100, \"width\": 100}, {\"mark\": {\"type\": \"text\", \"color\": \"#80C11E\", \"size\": 16, \"text\": \"20%\"}}], \"data\": {\"name\": \"data-5a120d371782a148b77852b194039c6c\"}}]}, {\"layer\": [{\"mark\": {\"type\": \"text\", \"size\": 16, \"text\": \"Healthcare\", \"y\": 0}}, {\"mark\": {\"type\": \"arc\", \"innerRadius\": 20, \"outerRadius\": 30}, \"encoding\": {\"color\": {\"field\": \"Category\", \"legend\": null, \"scale\": {\"range\": [\"#80C11E\", \"lightgray\"]}, \"type\": \"nominal\"}, \"theta\": {\"field\": \"Value\", \"stack\": true, \"type\": \"quantitative\"}}, \"height\": 100, \"width\": 100}, {\"mark\": {\"type\": \"text\", \"color\": \"#80C11E\", \"size\": 16, \"text\": \"10%\"}}], \"data\": {\"name\": \"data-9580aa0bfc5e6b3e8a59cd35e1d1b07d\"}}]}, {\"layer\": [{\"mark\": {\"type\": \"text\", \"size\": 16, \"text\": \"Basic Necessities\", \"y\": 0}}, {\"mark\": {\"type\": \"arc\", \"innerRadius\": 20, \"outerRadius\": 30}, \"encoding\": {\"color\": {\"field\": \"Category\", \"legend\": null, \"scale\": {\"range\": [\"#80C11E\", \"lightgray\"]}, \"type\": \"nominal\"}, \"theta\": {\"field\": \"Value\", \"stack\": true, \"type\": \"quantitative\"}}, \"height\": 100, \"width\": 100}, {\"mark\": {\"type\": \"text\", \"color\": \"#80C11E\", \"size\": 16, \"text\": \"10%\"}}], \"data\": {\"name\": \"data-9580aa0bfc5e6b3e8a59cd35e1d1b07d\"}}], \"title\": \"Our visionary plan to harness the funds\", \"$schema\": \"https://vega.github.io/schema/vega-lite/v4.17.0.json\", \"datasets\": {\"data-9020c53a4f82480f56c7134810a3b55e\": [{\"Category\": \"A\", \"Value\": 35}, {\"Category\": \"B\", \"Value\": 65}], \"data-179e2f844ad93f085b826ddd47730b3b\": [{\"Category\": \"A\", \"Value\": 25}, {\"Category\": \"B\", \"Value\": 75}], \"data-5a120d371782a148b77852b194039c6c\": [{\"Category\": \"A\", \"Value\": 20}, {\"Category\": \"B\", \"Value\": 80}], \"data-9580aa0bfc5e6b3e8a59cd35e1d1b07d\": [{\"Category\": \"A\", \"Value\": 10}, {\"Category\": \"B\", \"Value\": 90}]}}, {\"mode\": \"vega-lite\"});\n",
       "</script>"
      ],
      "text/plain": [
       "alt.HConcatChart(...)"
      ]
     },
     "execution_count": 32,
     "metadata": {},
     "output_type": "execute_result"
    }
   ],
   "source": [
    "donuts = None\n",
    "for index, row in ns.iterrows():\n",
    "    # Create a pie chart for the current row\n",
    "    curr_ns = pd.DataFrame(\n",
    "        {'Category': ['A', 'B'],\n",
    "         'Value': [row['Allocation'], 100-row['Allocation']]\n",
    "        }\n",
    "    )\n",
    "    donut = alt.Chart(curr_ns).mark_arc(outerRadius=30,innerRadius=20).encode(\n",
    "        theta=alt.Theta(\"Value:Q\",stack=True),\n",
    "        color=alt.Color(\"Category:N\",scale=alt.Scale(range=[iColor, 'lightgray']),legend=None)\n",
    "    )\n",
    "    title = alt.Chart(curr_ns).mark_text(text=row['Category'], y=0, size=16)\n",
    "    text = alt.Chart(curr_ns).mark_text(text=f\"{row['Allocation']}%\", color=iColor, size=16)\n",
    "    donut = donut.properties(\n",
    "        height=100, \n",
    "        width=100\n",
    "    )\n",
    "    if index == 0:\n",
    "        donuts = title+donut+text\n",
    "    else:\n",
    "        donuts = alt.hconcat(donuts, title+donut+text)\n",
    "donuts = donuts.properties(title='Our visionary plan to harness the funds')\n",
    "configure_layout(donuts)"
   ]
  },
  {
   "cell_type": "code",
   "execution_count": 31,
   "id": "9c252c85",
   "metadata": {},
   "outputs": [
    {
     "data": {
      "text/html": [
       "\n",
       "<div id=\"altair-viz-aee46d0cc1b84eaa9f98c119f47d36bd\"></div>\n",
       "<script type=\"text/javascript\">\n",
       "  var VEGA_DEBUG = (typeof VEGA_DEBUG == \"undefined\") ? {} : VEGA_DEBUG;\n",
       "  (function(spec, embedOpt){\n",
       "    let outputDiv = document.currentScript.previousElementSibling;\n",
       "    if (outputDiv.id !== \"altair-viz-aee46d0cc1b84eaa9f98c119f47d36bd\") {\n",
       "      outputDiv = document.getElementById(\"altair-viz-aee46d0cc1b84eaa9f98c119f47d36bd\");\n",
       "    }\n",
       "    const paths = {\n",
       "      \"vega\": \"https://cdn.jsdelivr.net/npm//vega@5?noext\",\n",
       "      \"vega-lib\": \"https://cdn.jsdelivr.net/npm//vega-lib?noext\",\n",
       "      \"vega-lite\": \"https://cdn.jsdelivr.net/npm//vega-lite@4.17.0?noext\",\n",
       "      \"vega-embed\": \"https://cdn.jsdelivr.net/npm//vega-embed@6?noext\",\n",
       "    };\n",
       "\n",
       "    function maybeLoadScript(lib, version) {\n",
       "      var key = `${lib.replace(\"-\", \"\")}_version`;\n",
       "      return (VEGA_DEBUG[key] == version) ?\n",
       "        Promise.resolve(paths[lib]) :\n",
       "        new Promise(function(resolve, reject) {\n",
       "          var s = document.createElement('script');\n",
       "          document.getElementsByTagName(\"head\")[0].appendChild(s);\n",
       "          s.async = true;\n",
       "          s.onload = () => {\n",
       "            VEGA_DEBUG[key] = version;\n",
       "            return resolve(paths[lib]);\n",
       "          };\n",
       "          s.onerror = () => reject(`Error loading script: ${paths[lib]}`);\n",
       "          s.src = paths[lib];\n",
       "        });\n",
       "    }\n",
       "\n",
       "    function showError(err) {\n",
       "      outputDiv.innerHTML = `<div class=\"error\" style=\"color:red;\">${err}</div>`;\n",
       "      throw err;\n",
       "    }\n",
       "\n",
       "    function displayChart(vegaEmbed) {\n",
       "      vegaEmbed(outputDiv, spec, embedOpt)\n",
       "        .catch(err => showError(`Javascript Error: ${err.message}<br>This usually means there's a typo in your chart specification. See the javascript console for the full traceback.`));\n",
       "    }\n",
       "\n",
       "    if(typeof define === \"function\" && define.amd) {\n",
       "      requirejs.config({paths});\n",
       "      require([\"vega-embed\"], displayChart, err => showError(`Error loading script: ${err.message}`));\n",
       "    } else {\n",
       "      maybeLoadScript(\"vega\", \"5\")\n",
       "        .then(() => maybeLoadScript(\"vega-lite\", \"4.17.0\"))\n",
       "        .then(() => maybeLoadScript(\"vega-embed\", \"6\"))\n",
       "        .catch(showError)\n",
       "        .then(() => displayChart(vegaEmbed));\n",
       "    }\n",
       "  })({\"config\": {\"view\": {\"continuousWidth\": 400, \"continuousHeight\": 300, \"strokeWidth\": 0}, \"axis\": {\"labelFontSize\": 15, \"titleFontSize\": 20}, \"legend\": {\"labelFontSize\": 15, \"titleFontSize\": 20}, \"title\": {\"fontSize\": 25, \"offset\": 25}}, \"vconcat\": [{\"hconcat\": [{\"layer\": [{\"data\": {\"name\": \"data-54472d059aac7e7eb20b87acf986c92a\"}, \"mark\": {\"type\": \"image\", \"height\": 200, \"width\": 200}, \"encoding\": {\"url\": {\"field\": \"image_url\", \"type\": \"nominal\"}, \"x\": {\"value\": 0}, \"y\": {\"value\": 50}}}, {\"data\": {\"name\": \"data-a6543ab1f05cedfcb79693f060039abe\"}, \"mark\": {\"type\": \"image\", \"height\": 200, \"width\": 200}, \"encoding\": {\"url\": {\"field\": \"image_url\", \"type\": \"nominal\"}, \"x\": {\"value\": 0}, \"y\": {\"value\": 300}}}]}, {\"data\": {\"name\": \"data-74c3b3a2e88392a1f86d85511cbf8ce7\"}, \"mark\": \"bar\", \"encoding\": {\"color\": {\"condition\": {\"value\": \"#80C11E\", \"test\": \"(datum.Ratio > 2)\"}, \"value\": \"lightgray\"}, \"x\": {\"axis\": {\"tickCount\": 4, \"title\": \"\"}, \"field\": \"Ratio\", \"type\": \"quantitative\"}, \"y\": {\"axis\": {\"title\": \"\"}, \"field\": \"Territory\", \"sort\": \"-x\", \"type\": \"nominal\"}}, \"title\": {\"text\": [\"Together, Let's Make a Difference:\", \"Support Our Project to Help the Homeless!\"], \"subtitle\": [\"Homelessness is a heartbreaking reality that leaves individuals and families without a stable home,\", \"leading to devastating consequences such as poor health and social isolation.\"], \"subtitleFontSize\": 18}, \"width\": 500}]}, {\"hconcat\": [{\"hconcat\": [{\"hconcat\": [{\"hconcat\": [{\"layer\": [{\"mark\": {\"type\": \"text\", \"size\": 16, \"text\": \"Shelter and Housing\", \"y\": 0}}, {\"mark\": {\"type\": \"arc\", \"innerRadius\": 20, \"outerRadius\": 30}, \"encoding\": {\"color\": {\"field\": \"Category\", \"legend\": null, \"scale\": {\"range\": [\"#80C11E\", \"lightgray\"]}, \"type\": \"nominal\"}, \"theta\": {\"field\": \"Value\", \"stack\": true, \"type\": \"quantitative\"}}, \"height\": 100, \"width\": 100}, {\"mark\": {\"type\": \"text\", \"color\": \"#80C11E\", \"size\": 16, \"text\": \"35%\"}}], \"data\": {\"name\": \"data-9020c53a4f82480f56c7134810a3b55e\"}}, {\"layer\": [{\"mark\": {\"type\": \"text\", \"size\": 16, \"text\": \"Job Training\", \"y\": 0}}, {\"mark\": {\"type\": \"arc\", \"innerRadius\": 20, \"outerRadius\": 30}, \"encoding\": {\"color\": {\"field\": \"Category\", \"legend\": null, \"scale\": {\"range\": [\"#80C11E\", \"lightgray\"]}, \"type\": \"nominal\"}, \"theta\": {\"field\": \"Value\", \"stack\": true, \"type\": \"quantitative\"}}, \"height\": 100, \"width\": 100}, {\"mark\": {\"type\": \"text\", \"color\": \"#80C11E\", \"size\": 16, \"text\": \"25%\"}}], \"data\": {\"name\": \"data-179e2f844ad93f085b826ddd47730b3b\"}}]}, {\"layer\": [{\"mark\": {\"type\": \"text\", \"size\": 16, \"text\": \"Education\", \"y\": 0}}, {\"mark\": {\"type\": \"arc\", \"innerRadius\": 20, \"outerRadius\": 30}, \"encoding\": {\"color\": {\"field\": \"Category\", \"legend\": null, \"scale\": {\"range\": [\"#80C11E\", \"lightgray\"]}, \"type\": \"nominal\"}, \"theta\": {\"field\": \"Value\", \"stack\": true, \"type\": \"quantitative\"}}, \"height\": 100, \"width\": 100}, {\"mark\": {\"type\": \"text\", \"color\": \"#80C11E\", \"size\": 16, \"text\": \"20%\"}}], \"data\": {\"name\": \"data-5a120d371782a148b77852b194039c6c\"}}]}, {\"layer\": [{\"mark\": {\"type\": \"text\", \"size\": 16, \"text\": \"Healthcare\", \"y\": 0}}, {\"mark\": {\"type\": \"arc\", \"innerRadius\": 20, \"outerRadius\": 30}, \"encoding\": {\"color\": {\"field\": \"Category\", \"legend\": null, \"scale\": {\"range\": [\"#80C11E\", \"lightgray\"]}, \"type\": \"nominal\"}, \"theta\": {\"field\": \"Value\", \"stack\": true, \"type\": \"quantitative\"}}, \"height\": 100, \"width\": 100}, {\"mark\": {\"type\": \"text\", \"color\": \"#80C11E\", \"size\": 16, \"text\": \"10%\"}}], \"data\": {\"name\": \"data-9580aa0bfc5e6b3e8a59cd35e1d1b07d\"}}]}, {\"layer\": [{\"mark\": {\"type\": \"text\", \"size\": 16, \"text\": \"Basic Necessities\", \"y\": 0}}, {\"mark\": {\"type\": \"arc\", \"innerRadius\": 20, \"outerRadius\": 30}, \"encoding\": {\"color\": {\"field\": \"Category\", \"legend\": null, \"scale\": {\"range\": [\"#80C11E\", \"lightgray\"]}, \"type\": \"nominal\"}, \"theta\": {\"field\": \"Value\", \"stack\": true, \"type\": \"quantitative\"}}, \"height\": 100, \"width\": 100}, {\"mark\": {\"type\": \"text\", \"color\": \"#80C11E\", \"size\": 16, \"text\": \"10%\"}}], \"data\": {\"name\": \"data-9580aa0bfc5e6b3e8a59cd35e1d1b07d\"}}], \"title\": \"Our visionary plan to harness the funds\"}], \"$schema\": \"https://vega.github.io/schema/vega-lite/v4.17.0.json\", \"datasets\": {\"data-54472d059aac7e7eb20b87acf986c92a\": [{\"image_url\": \"source/homeless1.png\"}], \"data-a6543ab1f05cedfcb79693f060039abe\": [{\"image_url\": \"source/homeless2.png\"}], \"data-74c3b3a2e88392a1f86d85511cbf8ce7\": [{\"ITTER107\": \"ITF1\", \"Value_pop\": 1275950, \"Territory\": \"Abruzzo\", \"Value_hom\": 610, \"Ratio\": 0.47807515968494063}, {\"ITTER107\": \"ITF5\", \"Value_pop\": 541168, \"Territory\": \"Basilicata\", \"Value_hom\": 119, \"Ratio\": 0.21989474617863583}, {\"ITTER107\": \"ITF6\", \"Value_pop\": 1855454, \"Territory\": \"Calabria\", \"Value_hom\": 2351, \"Ratio\": 1.267075335739932}, {\"ITTER107\": \"ITF3\", \"Value_pop\": 5624420, \"Territory\": \"Campania\", \"Value_hom\": 7828, \"Ratio\": 1.3917879532467348}, {\"ITTER107\": \"ITD5\", \"Value_pop\": 4425366, \"Territory\": \"Emilia-Romagna\", \"Value_hom\": 4926, \"Ratio\": 1.1131282700685095}, {\"ITTER107\": \"ITD4\", \"Value_pop\": 1194647, \"Territory\": \"Friuli-Venezia Giulia\", \"Value_hom\": 1451, \"Ratio\": 1.2145847267016951}, {\"ITTER107\": \"ITE4\", \"Value_pop\": 5714882, \"Territory\": \"Lazio\", \"Value_hom\": 24049, \"Ratio\": 4.208135881020815}, {\"ITTER107\": \"ITC3\", \"Value_pop\": 1509227, \"Territory\": \"Liguria\", \"Value_hom\": 4293, \"Ratio\": 2.8445025168513416}, {\"ITTER107\": \"ITC4\", \"Value_pop\": 9943004, \"Territory\": \"Lombardia\", \"Value_hom\": 16346, \"Ratio\": 1.643969971248126}, {\"ITTER107\": \"ITE3\", \"Value_pop\": 1487150, \"Territory\": \"Marche\", \"Value_hom\": 1107, \"Ratio\": 0.7443768281612481}, {\"ITTER107\": \"ITF2\", \"Value_pop\": 292150, \"Territory\": \"Molise\", \"Value_hom\": 101, \"Ratio\": 0.3457128187574876}, {\"ITTER107\": \"ITC1\", \"Value_pop\": 4256350, \"Territory\": \"Piemonte\", \"Value_hom\": 8766, \"Ratio\": 2.0595110834400367}, {\"ITTER107\": \"ITF4\", \"Value_pop\": 3922941, \"Territory\": \"Puglia\", \"Value_hom\": 7655, \"Ratio\": 1.9513421180690713}, {\"ITTER107\": \"ITG2\", \"Value_pop\": 1587413, \"Territory\": \"Sardegna\", \"Value_hom\": 3212, \"Ratio\": 2.023417976292244}, {\"ITTER107\": \"ITG1\", \"Value_pop\": 4833329, \"Territory\": \"Sicilia\", \"Value_hom\": 4023, \"Ratio\": 0.8323455738270662}, {\"ITTER107\": \"ITE1\", \"Value_pop\": 3663191, \"Territory\": \"Toscana\", \"Value_hom\": 4450, \"Ratio\": 1.214787872103857}, {\"ITTER107\": \"ITDA\", \"Value_pop\": 1073574, \"Territory\": \"Trentino Alto Adige\", \"Value_hom\": 612, \"Ratio\": 0.5700585148299047}, {\"ITTER107\": \"ITE2\", \"Value_pop\": 858812, \"Territory\": \"Umbria\", \"Value_hom\": 431, \"Ratio\": 0.501856052314127}, {\"ITTER107\": \"ITC2\", \"Value_pop\": 123360, \"Territory\": \"Valle d'Aosta\", \"Value_hom\": 73, \"Ratio\": 0.5917639429312581}, {\"ITTER107\": \"ITD3\", \"Value_pop\": 4847745, \"Territory\": \"Veneto\", \"Value_hom\": 3794, \"Ratio\": 0.7826319247402658}], \"data-9020c53a4f82480f56c7134810a3b55e\": [{\"Category\": \"A\", \"Value\": 35}, {\"Category\": \"B\", \"Value\": 65}], \"data-179e2f844ad93f085b826ddd47730b3b\": [{\"Category\": \"A\", \"Value\": 25}, {\"Category\": \"B\", \"Value\": 75}], \"data-5a120d371782a148b77852b194039c6c\": [{\"Category\": \"A\", \"Value\": 20}, {\"Category\": \"B\", \"Value\": 80}], \"data-9580aa0bfc5e6b3e8a59cd35e1d1b07d\": [{\"Category\": \"A\", \"Value\": 10}, {\"Category\": \"B\", \"Value\": 90}]}}, {\"mode\": \"vega-lite\"});\n",
       "</script>"
      ],
      "text/plain": [
       "alt.VConcatChart(...)"
      ]
     },
     "execution_count": 31,
     "metadata": {},
     "output_type": "execute_result"
    }
   ],
   "source": [
    "configure_layout(alt.vconcat(image1 + image2| chart,donuts))"
   ]
  },
  {
   "cell_type": "code",
   "execution_count": null,
   "id": "82919c59",
   "metadata": {},
   "outputs": [],
   "source": []
  },
  {
   "cell_type": "code",
   "execution_count": null,
   "id": "dd0199bd",
   "metadata": {},
   "outputs": [],
   "source": []
  }
 ],
 "metadata": {
  "kernelspec": {
   "display_name": "Python 3 (ipykernel)",
   "language": "python",
   "name": "python3"
  },
  "language_info": {
   "codemirror_mode": {
    "name": "ipython",
    "version": 3
   },
   "file_extension": ".py",
   "mimetype": "text/x-python",
   "name": "python",
   "nbconvert_exporter": "python",
   "pygments_lexer": "ipython3",
   "version": "3.8.10"
  }
 },
 "nbformat": 4,
 "nbformat_minor": 5
}
