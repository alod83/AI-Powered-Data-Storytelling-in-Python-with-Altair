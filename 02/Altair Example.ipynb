{
 "cells": [
  {
   "cell_type": "markdown",
   "id": "dee30215",
   "metadata": {},
   "source": [
    "# Altair Example: Tourist Arrivals\n",
    "\n",
    "## Read the dataset"
   ]
  },
  {
   "cell_type": "code",
   "execution_count": 70,
   "id": "53f95a53",
   "metadata": {},
   "outputs": [
    {
     "data": {
      "text/html": [
       "<div><div id=7db6c36e-f162-4fa2-8b7f-f883acaefe9a style=\"display:none; background-color:#9D6CFF; color:white; width:200px; height:30px; padding-left:5px; border-radius:4px; flex-direction:row; justify-content:space-around; align-items:center;\" onmouseover=\"this.style.backgroundColor='#BA9BF8'\" onmouseout=\"this.style.backgroundColor='#9D6CFF'\" onclick=\"window.commands?.execute('create-mitosheet-from-dataframe-output');\">See Full Dataframe in Mito</div> <script> if (window.commands.hasCommand('create-mitosheet-from-dataframe-output')) document.getElementById('7db6c36e-f162-4fa2-8b7f-f883acaefe9a').style.display = 'flex' </script> <table border=\"1\" class=\"dataframe\">\n",
       "  <thead>\n",
       "    <tr style=\"text-align: right;\">\n",
       "      <th></th>\n",
       "      <th>Date</th>\n",
       "      <th>IT</th>\n",
       "      <th>FR</th>\n",
       "      <th>DE</th>\n",
       "      <th>PT</th>\n",
       "      <th>ES</th>\n",
       "      <th>UK</th>\n",
       "    </tr>\n",
       "  </thead>\n",
       "  <tbody>\n",
       "    <tr>\n",
       "      <th>0</th>\n",
       "      <td>1990-01-01</td>\n",
       "      <td>2543920.0</td>\n",
       "      <td>NaN</td>\n",
       "      <td>3185877.0</td>\n",
       "      <td>325138.0</td>\n",
       "      <td>1723786.0</td>\n",
       "      <td>1776000.0</td>\n",
       "    </tr>\n",
       "    <tr>\n",
       "      <th>1</th>\n",
       "      <td>1990-02-01</td>\n",
       "      <td>2871632.0</td>\n",
       "      <td>NaN</td>\n",
       "      <td>3588879.0</td>\n",
       "      <td>381539.0</td>\n",
       "      <td>1885718.0</td>\n",
       "      <td>2250000.0</td>\n",
       "    </tr>\n",
       "    <tr>\n",
       "      <th>2</th>\n",
       "      <td>1990-03-01</td>\n",
       "      <td>3774702.0</td>\n",
       "      <td>NaN</td>\n",
       "      <td>4272437.0</td>\n",
       "      <td>493957.0</td>\n",
       "      <td>2337847.0</td>\n",
       "      <td>2662000.0</td>\n",
       "    </tr>\n",
       "    <tr>\n",
       "      <th>3</th>\n",
       "      <td>1990-04-01</td>\n",
       "      <td>5107712.0</td>\n",
       "      <td>NaN</td>\n",
       "      <td>4689424.0</td>\n",
       "      <td>635822.0</td>\n",
       "      <td>3172302.0</td>\n",
       "      <td>2645000.0</td>\n",
       "    </tr>\n",
       "    <tr>\n",
       "      <th>4</th>\n",
       "      <td>1990-05-01</td>\n",
       "      <td>4738376.0</td>\n",
       "      <td>NaN</td>\n",
       "      <td>6045278.0</td>\n",
       "      <td>609952.0</td>\n",
       "      <td>3072480.0</td>\n",
       "      <td>3096000.0</td>\n",
       "    </tr>\n",
       "  </tbody>\n",
       "</table></div>"
      ],
      "text/plain": [
       "        Date         IT  FR         DE        PT         ES         UK\n",
       "0 1990-01-01  2543920.0 NaN  3185877.0  325138.0  1723786.0  1776000.0\n",
       "1 1990-02-01  2871632.0 NaN  3588879.0  381539.0  1885718.0  2250000.0\n",
       "2 1990-03-01  3774702.0 NaN  4272437.0  493957.0  2337847.0  2662000.0\n",
       "3 1990-04-01  5107712.0 NaN  4689424.0  635822.0  3172302.0  2645000.0\n",
       "4 1990-05-01  4738376.0 NaN  6045278.0  609952.0  3072480.0  3096000.0"
      ]
     },
     "execution_count": 70,
     "metadata": {},
     "output_type": "execute_result"
    }
   ],
   "source": [
    "import pandas as pd\n",
    "\n",
    "df = pd.read_csv('source/tourist_arrivals_countries.csv', parse_dates=['Date'])\n",
    "df.head()"
   ]
  },
  {
   "cell_type": "markdown",
   "id": "4fb0473f",
   "metadata": {},
   "source": [
    "## Exploratory data analysis"
   ]
  },
  {
   "cell_type": "code",
   "execution_count": 26,
   "id": "cc2b7da1",
   "metadata": {},
   "outputs": [
    {
     "data": {
      "application/vnd.jupyter.widget-view+json": {
       "model_id": "1885ff0e0bf04f93a3ba5aaa248eb4b8",
       "version_major": 2,
       "version_minor": 0
      },
      "text/plain": [
       "Summarize dataset:   0%|          | 0/5 [00:00<?, ?it/s]"
      ]
     },
     "metadata": {},
     "output_type": "display_data"
    },
    {
     "data": {
      "application/vnd.jupyter.widget-view+json": {
       "model_id": "daef32e15ab24366b92d6433ba51a65b",
       "version_major": 2,
       "version_minor": 0
      },
      "text/plain": [
       "Generate report structure:   0%|          | 0/1 [00:00<?, ?it/s]"
      ]
     },
     "metadata": {},
     "output_type": "display_data"
    },
    {
     "data": {
      "application/vnd.jupyter.widget-view+json": {
       "model_id": "debb4c5c686b42d78d093627edabc3ac",
       "version_major": 2,
       "version_minor": 0
      },
      "text/plain": [
       "Render HTML:   0%|          | 0/1 [00:00<?, ?it/s]"
      ]
     },
     "metadata": {},
     "output_type": "display_data"
    },
    {
     "data": {
      "application/vnd.jupyter.widget-view+json": {
       "model_id": "4e6459797f4442f1843975751edda65d",
       "version_major": 2,
       "version_minor": 0
      },
      "text/plain": [
       "Export report to file:   0%|          | 0/1 [00:00<?, ?it/s]"
      ]
     },
     "metadata": {},
     "output_type": "display_data"
    }
   ],
   "source": [
    "from pandas_profiling import ProfileReport\n",
    "\n",
    "eda = ProfileReport(df)\n",
    "eda.to_file(output_file='eda.html')"
   ]
  },
  {
   "cell_type": "markdown",
   "id": "96c619f3",
   "metadata": {},
   "source": [
    "## From data to information\n",
    "\n",
    "Select only data for which all the countries do not have null values"
   ]
  },
  {
   "cell_type": "code",
   "execution_count": 71,
   "id": "ed7d6988",
   "metadata": {},
   "outputs": [],
   "source": [
    "mask_fr = df['FR'].isnull() == False\n",
    "mask_uk = df['UK'].isnull() == False\n",
    "df = df[(mask_fr) & (mask_uk)]"
   ]
  },
  {
   "cell_type": "code",
   "execution_count": 72,
   "id": "b67a3e3e",
   "metadata": {},
   "outputs": [],
   "source": [
    "df2 = pd.melt(df, id_vars='Date')"
   ]
  },
  {
   "cell_type": "code",
   "execution_count": 73,
   "id": "28ecb41d",
   "metadata": {},
   "outputs": [
    {
     "data": {
      "text/html": [
       "\n",
       "<div id=\"altair-viz-b5d17c1b6bdc4ef388a5fe01d5a8185e\"></div>\n",
       "<script type=\"text/javascript\">\n",
       "  var VEGA_DEBUG = (typeof VEGA_DEBUG == \"undefined\") ? {} : VEGA_DEBUG;\n",
       "  (function(spec, embedOpt){\n",
       "    let outputDiv = document.currentScript.previousElementSibling;\n",
       "    if (outputDiv.id !== \"altair-viz-b5d17c1b6bdc4ef388a5fe01d5a8185e\") {\n",
       "      outputDiv = document.getElementById(\"altair-viz-b5d17c1b6bdc4ef388a5fe01d5a8185e\");\n",
       "    }\n",
       "    const paths = {\n",
       "      \"vega\": \"https://cdn.jsdelivr.net/npm//vega@5?noext\",\n",
       "      \"vega-lib\": \"https://cdn.jsdelivr.net/npm//vega-lib?noext\",\n",
       "      \"vega-lite\": \"https://cdn.jsdelivr.net/npm//vega-lite@4.17.0?noext\",\n",
       "      \"vega-embed\": \"https://cdn.jsdelivr.net/npm//vega-embed@6?noext\",\n",
       "    };\n",
       "\n",
       "    function maybeLoadScript(lib, version) {\n",
       "      var key = `${lib.replace(\"-\", \"\")}_version`;\n",
       "      return (VEGA_DEBUG[key] == version) ?\n",
       "        Promise.resolve(paths[lib]) :\n",
       "        new Promise(function(resolve, reject) {\n",
       "          var s = document.createElement('script');\n",
       "          document.getElementsByTagName(\"head\")[0].appendChild(s);\n",
       "          s.async = true;\n",
       "          s.onload = () => {\n",
       "            VEGA_DEBUG[key] = version;\n",
       "            return resolve(paths[lib]);\n",
       "          };\n",
       "          s.onerror = () => reject(`Error loading script: ${paths[lib]}`);\n",
       "          s.src = paths[lib];\n",
       "        });\n",
       "    }\n",
       "\n",
       "    function showError(err) {\n",
       "      outputDiv.innerHTML = `<div class=\"error\" style=\"color:red;\">${err}</div>`;\n",
       "      throw err;\n",
       "    }\n",
       "\n",
       "    function displayChart(vegaEmbed) {\n",
       "      vegaEmbed(outputDiv, spec, embedOpt)\n",
       "        .catch(err => showError(`Javascript Error: ${err.message}<br>This usually means there's a typo in your chart specification. See the javascript console for the full traceback.`));\n",
       "    }\n",
       "\n",
       "    if(typeof define === \"function\" && define.amd) {\n",
       "      requirejs.config({paths});\n",
       "      require([\"vega-embed\"], displayChart, err => showError(`Error loading script: ${err.message}`));\n",
       "    } else {\n",
       "      maybeLoadScript(\"vega\", \"5\")\n",
       "        .then(() => maybeLoadScript(\"vega-lite\", \"4.17.0\"))\n",
       "        .then(() => maybeLoadScript(\"vega-embed\", \"6\"))\n",
       "        .catch(showError)\n",
       "        .then(() => displayChart(vegaEmbed));\n",
       "    }\n",
       "  })({\"config\": {\"view\": {\"continuousWidth\": 400, \"continuousHeight\": 300}}, \"data\": {\"name\": \"data-c7272b94194fad293a796155cf49b81f\"}, \"mark\": \"line\", \"encoding\": {\"color\": {\"field\": \"variable\", \"type\": \"nominal\"}, \"x\": {\"field\": \"Date\", \"type\": \"temporal\"}, \"y\": {\"field\": \"value\", \"type\": \"quantitative\"}}, \"$schema\": \"https://vega.github.io/schema/vega-lite/v4.17.0.json\", \"datasets\": {\"data-c7272b94194fad293a796155cf49b81f\": [{\"Date\": \"1994-01-01T00:00:00\", \"variable\": \"IT\", \"value\": 2900063.0}, {\"Date\": \"1994-02-01T00:00:00\", \"variable\": \"IT\", \"value\": 3053186.0}, {\"Date\": \"1994-03-01T00:00:00\", \"variable\": \"IT\", \"value\": 4044593.0}, {\"Date\": \"1994-04-01T00:00:00\", \"variable\": \"IT\", \"value\": 5189404.0}, {\"Date\": \"1994-05-01T00:00:00\", \"variable\": \"IT\", \"value\": 5335357.0}, {\"Date\": \"1994-06-01T00:00:00\", \"variable\": \"IT\", \"value\": 5554479.0}, {\"Date\": \"1994-07-01T00:00:00\", \"variable\": \"IT\", \"value\": 6315208.0}, {\"Date\": \"1994-08-01T00:00:00\", \"variable\": \"IT\", \"value\": 6720369.0}, {\"Date\": \"1994-09-01T00:00:00\", \"variable\": \"IT\", \"value\": 6191375.0}, {\"Date\": \"1994-10-01T00:00:00\", \"variable\": \"IT\", \"value\": 4693848.0}, {\"Date\": \"1994-11-01T00:00:00\", \"variable\": \"IT\", \"value\": 2818796.0}, {\"Date\": \"1994-12-01T00:00:00\", \"variable\": \"IT\", \"value\": 2873412.0}, {\"Date\": \"1995-01-01T00:00:00\", \"variable\": \"IT\", \"value\": 3046395.0}, {\"Date\": \"1995-02-01T00:00:00\", \"variable\": \"IT\", \"value\": 3137540.0}, {\"Date\": \"1995-03-01T00:00:00\", \"variable\": \"IT\", \"value\": 3925725.0}, {\"Date\": \"1995-04-01T00:00:00\", \"variable\": \"IT\", \"value\": 5630638.0}, {\"Date\": \"1995-05-01T00:00:00\", \"variable\": \"IT\", \"value\": 5355690.0}, {\"Date\": \"1995-06-01T00:00:00\", \"variable\": \"IT\", \"value\": 5978998.0}, {\"Date\": \"1995-07-01T00:00:00\", \"variable\": \"IT\", \"value\": 6545805.0}, {\"Date\": \"1995-08-01T00:00:00\", \"variable\": \"IT\", \"value\": 6784083.0}, {\"Date\": \"1995-09-01T00:00:00\", \"variable\": \"IT\", \"value\": 6409376.0}, {\"Date\": \"1995-10-01T00:00:00\", \"variable\": \"IT\", \"value\": 4850612.0}, {\"Date\": \"1995-11-01T00:00:00\", \"variable\": \"IT\", \"value\": 2976124.0}, {\"Date\": \"1995-12-01T00:00:00\", \"variable\": \"IT\", \"value\": 3083633.0}, {\"Date\": \"1996-01-01T00:00:00\", \"variable\": \"IT\", \"value\": 3101733.0}, {\"Date\": \"1996-02-01T00:00:00\", \"variable\": \"IT\", \"value\": 3395635.0}, {\"Date\": \"1996-03-01T00:00:00\", \"variable\": \"IT\", \"value\": 4505274.0}, {\"Date\": \"1996-04-01T00:00:00\", \"variable\": \"IT\", \"value\": 5504444.0}, {\"Date\": \"1996-05-01T00:00:00\", \"variable\": \"IT\", \"value\": 5870868.0}, {\"Date\": \"1996-06-01T00:00:00\", \"variable\": \"IT\", \"value\": 6229603.0}, {\"Date\": \"1996-07-01T00:00:00\", \"variable\": \"IT\", \"value\": 6433358.0}, {\"Date\": \"1996-08-01T00:00:00\", \"variable\": \"IT\", \"value\": 7117494.0}, {\"Date\": \"1996-09-01T00:00:00\", \"variable\": \"IT\", \"value\": 6285644.0}, {\"Date\": \"1996-10-01T00:00:00\", \"variable\": \"IT\", \"value\": 4980454.0}, {\"Date\": \"1996-11-01T00:00:00\", \"variable\": \"IT\", \"value\": 3203939.0}, {\"Date\": \"1996-12-01T00:00:00\", \"variable\": \"IT\", \"value\": 2961452.0}, {\"Date\": \"1997-01-01T00:00:00\", \"variable\": \"IT\", \"value\": 3013109.0}, {\"Date\": \"1997-02-01T00:00:00\", \"variable\": \"IT\", \"value\": 3440002.0}, {\"Date\": \"1997-03-01T00:00:00\", \"variable\": \"IT\", \"value\": 4874045.0}, {\"Date\": \"1997-04-01T00:00:00\", \"variable\": \"IT\", \"value\": 5210341.0}, {\"Date\": \"1997-05-01T00:00:00\", \"variable\": \"IT\", \"value\": 6112825.0}, {\"Date\": \"1997-06-01T00:00:00\", \"variable\": \"IT\", \"value\": 5986328.0}, {\"Date\": \"1997-07-01T00:00:00\", \"variable\": \"IT\", \"value\": 6467817.0}, {\"Date\": \"1997-08-01T00:00:00\", \"variable\": \"IT\", \"value\": 7443018.0}, {\"Date\": \"1997-09-01T00:00:00\", \"variable\": \"IT\", \"value\": 6306150.0}, {\"Date\": \"1997-10-01T00:00:00\", \"variable\": \"IT\", \"value\": 4974227.0}, {\"Date\": \"1997-11-01T00:00:00\", \"variable\": \"IT\", \"value\": 3034493.0}, {\"Date\": \"1997-12-01T00:00:00\", \"variable\": \"IT\", \"value\": 3202396.0}, {\"Date\": \"1998-01-01T00:00:00\", \"variable\": \"IT\", \"value\": 3218025.0}, {\"Date\": \"1998-02-01T00:00:00\", \"variable\": \"IT\", \"value\": 3507153.0}, {\"Date\": \"1998-03-01T00:00:00\", \"variable\": \"IT\", \"value\": 4282043.0}, {\"Date\": \"1998-04-01T00:00:00\", \"variable\": \"IT\", \"value\": 5638500.0}, {\"Date\": \"1998-05-01T00:00:00\", \"variable\": \"IT\", \"value\": 6291649.0}, {\"Date\": \"1998-06-01T00:00:00\", \"variable\": \"IT\", \"value\": 6311005.0}, {\"Date\": \"1998-07-01T00:00:00\", \"variable\": \"IT\", \"value\": 6683398.0}, {\"Date\": \"1998-08-01T00:00:00\", \"variable\": \"IT\", \"value\": 7590789.0}, {\"Date\": \"1998-09-01T00:00:00\", \"variable\": \"IT\", \"value\": 6439720.0}, {\"Date\": \"1998-10-01T00:00:00\", \"variable\": \"IT\", \"value\": 5053424.0}, {\"Date\": \"1998-11-01T00:00:00\", \"variable\": \"IT\", \"value\": 3226365.0}, {\"Date\": \"1998-12-01T00:00:00\", \"variable\": \"IT\", \"value\": 3237242.0}, {\"Date\": \"1999-01-01T00:00:00\", \"variable\": \"IT\", \"value\": 3253860.0}, {\"Date\": \"1999-02-01T00:00:00\", \"variable\": \"IT\", \"value\": 3509807.0}, {\"Date\": \"1999-03-01T00:00:00\", \"variable\": \"IT\", \"value\": 4510803.0}, {\"Date\": \"1999-04-01T00:00:00\", \"variable\": \"IT\", \"value\": 5567032.0}, {\"Date\": \"1999-05-01T00:00:00\", \"variable\": \"IT\", \"value\": 6536672.0}, {\"Date\": \"1999-06-01T00:00:00\", \"variable\": \"IT\", \"value\": 6398819.0}, {\"Date\": \"1999-07-01T00:00:00\", \"variable\": \"IT\", \"value\": 7129194.0}, {\"Date\": \"1999-08-01T00:00:00\", \"variable\": \"IT\", \"value\": 7497310.0}, {\"Date\": \"1999-09-01T00:00:00\", \"variable\": \"IT\", \"value\": 6695703.0}, {\"Date\": \"1999-10-01T00:00:00\", \"variable\": \"IT\", \"value\": 5313825.0}, {\"Date\": \"1999-11-01T00:00:00\", \"variable\": \"IT\", \"value\": 3393259.0}, {\"Date\": \"1999-12-01T00:00:00\", \"variable\": \"IT\", \"value\": 3112536.0}, {\"Date\": \"2000-01-01T00:00:00\", \"variable\": \"IT\", \"value\": 3344348.0}, {\"Date\": \"2000-02-01T00:00:00\", \"variable\": \"IT\", \"value\": 3675189.0}, {\"Date\": \"2000-03-01T00:00:00\", \"variable\": \"IT\", \"value\": 4755538.0}, {\"Date\": \"2000-04-01T00:00:00\", \"variable\": \"IT\", \"value\": 6172320.0}, {\"Date\": \"2000-05-01T00:00:00\", \"variable\": \"IT\", \"value\": 6378840.0}, {\"Date\": \"2000-06-01T00:00:00\", \"variable\": \"IT\", \"value\": 7105565.0}, {\"Date\": \"2000-07-01T00:00:00\", \"variable\": \"IT\", \"value\": 7496902.0}, {\"Date\": \"2000-08-01T00:00:00\", \"variable\": \"IT\", \"value\": 7698029.0}, {\"Date\": \"2000-09-01T00:00:00\", \"variable\": \"IT\", \"value\": 7289448.0}, {\"Date\": \"2000-10-01T00:00:00\", \"variable\": \"IT\", \"value\": 5526583.0}, {\"Date\": \"2000-11-01T00:00:00\", \"variable\": \"IT\", \"value\": 3534091.0}, {\"Date\": \"2000-12-01T00:00:00\", \"variable\": \"IT\", \"value\": 3783309.0}, {\"Date\": \"2001-01-01T00:00:00\", \"variable\": \"IT\", \"value\": 3440000.0}, {\"Date\": \"2001-02-01T00:00:00\", \"variable\": \"IT\", \"value\": 3925000.0}, {\"Date\": \"2001-03-01T00:00:00\", \"variable\": \"IT\", \"value\": 4779000.0}, {\"Date\": \"2001-04-01T00:00:00\", \"variable\": \"IT\", \"value\": 6300000.0}, {\"Date\": \"2001-05-01T00:00:00\", \"variable\": \"IT\", \"value\": 6554000.0}, {\"Date\": \"2001-06-01T00:00:00\", \"variable\": \"IT\", \"value\": 7572000.0}, {\"Date\": \"2001-07-01T00:00:00\", \"variable\": \"IT\", \"value\": 7540000.0}, {\"Date\": \"2001-08-01T00:00:00\", \"variable\": \"IT\", \"value\": 7906000.0}, {\"Date\": \"2001-09-01T00:00:00\", \"variable\": \"IT\", \"value\": 7168000.0}, {\"Date\": \"2001-10-01T00:00:00\", \"variable\": \"IT\", \"value\": 5407000.0}, {\"Date\": \"2001-11-01T00:00:00\", \"variable\": \"IT\", \"value\": 3636000.0}, {\"Date\": \"2001-12-01T00:00:00\", \"variable\": \"IT\", \"value\": 3563000.0}, {\"Date\": \"2002-01-01T00:00:00\", \"variable\": \"IT\", \"value\": 3243131.0}, {\"Date\": \"2002-02-01T00:00:00\", \"variable\": \"IT\", \"value\": 3838457.0}, {\"Date\": \"2002-03-01T00:00:00\", \"variable\": \"IT\", \"value\": 5293942.0}, {\"Date\": \"2002-04-01T00:00:00\", \"variable\": \"IT\", \"value\": 5746862.0}, {\"Date\": \"2002-05-01T00:00:00\", \"variable\": \"IT\", \"value\": 6828875.0}, {\"Date\": \"2002-06-01T00:00:00\", \"variable\": \"IT\", \"value\": 7154731.0}, {\"Date\": \"2002-07-01T00:00:00\", \"variable\": \"IT\", \"value\": 7295692.0}, {\"Date\": \"2002-08-01T00:00:00\", \"variable\": \"IT\", \"value\": 7938438.0}, {\"Date\": \"2002-09-01T00:00:00\", \"variable\": \"IT\", \"value\": 7076626.0}, {\"Date\": \"2002-10-01T00:00:00\", \"variable\": \"IT\", \"value\": 5707565.0}, {\"Date\": \"2002-11-01T00:00:00\", \"variable\": \"IT\", \"value\": 3702082.0}, {\"Date\": \"2002-12-01T00:00:00\", \"variable\": \"IT\", \"value\": 3523972.0}, {\"Date\": \"2003-01-01T00:00:00\", \"variable\": \"IT\", \"value\": 3461000.0}, {\"Date\": \"2003-02-01T00:00:00\", \"variable\": \"IT\", \"value\": 3868384.0}, {\"Date\": \"2003-03-01T00:00:00\", \"variable\": \"IT\", \"value\": 4835974.0}, {\"Date\": \"2003-04-01T00:00:00\", \"variable\": \"IT\", \"value\": 5970186.0}, {\"Date\": \"2003-05-01T00:00:00\", \"variable\": \"IT\", \"value\": 6710944.0}, {\"Date\": \"2003-06-01T00:00:00\", \"variable\": \"IT\", \"value\": 7145968.0}, {\"Date\": \"2003-07-01T00:00:00\", \"variable\": \"IT\", \"value\": 7209603.0}, {\"Date\": \"2003-08-01T00:00:00\", \"variable\": \"IT\", \"value\": 7898301.0}, {\"Date\": \"2003-09-01T00:00:00\", \"variable\": \"IT\", \"value\": 6778180.0}, {\"Date\": \"2003-10-01T00:00:00\", \"variable\": \"IT\", \"value\": 5671014.0}, {\"Date\": \"2003-11-01T00:00:00\", \"variable\": \"IT\", \"value\": 3591698.0}, {\"Date\": \"2003-12-01T00:00:00\", \"variable\": \"IT\", \"value\": 3841219.0}, {\"Date\": \"2004-01-01T00:00:00\", \"variable\": \"IT\", \"value\": 3754397.0}, {\"Date\": \"2004-02-01T00:00:00\", \"variable\": \"IT\", \"value\": 4299956.0}, {\"Date\": \"2004-03-01T00:00:00\", \"variable\": \"IT\", \"value\": 5082164.0}, {\"Date\": \"2004-04-01T00:00:00\", \"variable\": \"IT\", \"value\": 6225611.0}, {\"Date\": \"2004-05-01T00:00:00\", \"variable\": \"IT\", \"value\": 7162242.0}, {\"Date\": \"2004-06-01T00:00:00\", \"variable\": \"IT\", \"value\": 7178326.0}, {\"Date\": \"2004-07-01T00:00:00\", \"variable\": \"IT\", \"value\": 7937118.0}, {\"Date\": \"2004-08-01T00:00:00\", \"variable\": \"IT\", \"value\": 8078833.0}, {\"Date\": \"2004-09-01T00:00:00\", \"variable\": \"IT\", \"value\": 7324414.0}, {\"Date\": \"2004-10-01T00:00:00\", \"variable\": \"IT\", \"value\": 6029499.0}, {\"Date\": \"2004-11-01T00:00:00\", \"variable\": \"IT\", \"value\": 3812827.0}, {\"Date\": \"2004-12-01T00:00:00\", \"variable\": \"IT\", \"value\": 3798176.0}, {\"Date\": \"2005-01-01T00:00:00\", \"variable\": \"IT\", \"value\": 3793077.0}, {\"Date\": \"2005-02-01T00:00:00\", \"variable\": \"IT\", \"value\": 3952345.0}, {\"Date\": \"2005-03-01T00:00:00\", \"variable\": \"IT\", \"value\": 5428208.0}, {\"Date\": \"2005-04-01T00:00:00\", \"variable\": \"IT\", \"value\": 5949228.0}, {\"Date\": \"2005-05-01T00:00:00\", \"variable\": \"IT\", \"value\": 6977895.0}, {\"Date\": \"2005-06-01T00:00:00\", \"variable\": \"IT\", \"value\": 7496677.0}, {\"Date\": \"2005-07-01T00:00:00\", \"variable\": \"IT\", \"value\": 8215352.0}, {\"Date\": \"2005-08-01T00:00:00\", \"variable\": \"IT\", \"value\": 8154219.0}, {\"Date\": \"2005-09-01T00:00:00\", \"variable\": \"IT\", \"value\": 7413875.0}, {\"Date\": \"2005-10-01T00:00:00\", \"variable\": \"IT\", \"value\": 6156298.0}, {\"Date\": \"2005-11-01T00:00:00\", \"variable\": \"IT\", \"value\": 3863757.0}, {\"Date\": \"2005-12-01T00:00:00\", \"variable\": \"IT\", \"value\": 4034050.0}, {\"Date\": \"2006-01-01T00:00:00\", \"variable\": \"IT\", \"value\": 4006989.0}, {\"Date\": \"2006-02-01T00:00:00\", \"variable\": \"IT\", \"value\": 4369506.0}, {\"Date\": \"2006-03-01T00:00:00\", \"variable\": \"IT\", \"value\": 5379038.0}, {\"Date\": \"2006-04-01T00:00:00\", \"variable\": \"IT\", \"value\": 7015437.0}, {\"Date\": \"2006-05-01T00:00:00\", \"variable\": \"IT\", \"value\": 7230929.0}, {\"Date\": \"2006-06-01T00:00:00\", \"variable\": \"IT\", \"value\": 8112300.0}, {\"Date\": \"2006-07-01T00:00:00\", \"variable\": \"IT\", \"value\": 8714694.0}, {\"Date\": \"2006-08-01T00:00:00\", \"variable\": \"IT\", \"value\": 8657018.0}, {\"Date\": \"2006-09-01T00:00:00\", \"variable\": \"IT\", \"value\": 8042038.0}, {\"Date\": \"2006-10-01T00:00:00\", \"variable\": \"IT\", \"value\": 6169723.0}, {\"Date\": \"2006-11-01T00:00:00\", \"variable\": \"IT\", \"value\": 4060927.0}, {\"Date\": \"2006-12-01T00:00:00\", \"variable\": \"IT\", \"value\": 4274796.0}, {\"Date\": \"2007-01-01T00:00:00\", \"variable\": \"IT\", \"value\": 3988962.0}, {\"Date\": \"2007-02-01T00:00:00\", \"variable\": \"IT\", \"value\": 4429351.0}, {\"Date\": \"2007-03-01T00:00:00\", \"variable\": \"IT\", \"value\": 5644161.0}, {\"Date\": \"2007-04-01T00:00:00\", \"variable\": \"IT\", \"value\": 7053418.0}, {\"Date\": \"2007-05-01T00:00:00\", \"variable\": \"IT\", \"value\": 7341561.0}, {\"Date\": \"2007-06-01T00:00:00\", \"variable\": \"IT\", \"value\": 8579095.0}, {\"Date\": \"2007-07-01T00:00:00\", \"variable\": \"IT\", \"value\": 8916361.0}, {\"Date\": \"2007-08-01T00:00:00\", \"variable\": \"IT\", \"value\": 9041391.0}, {\"Date\": \"2007-09-01T00:00:00\", \"variable\": \"IT\", \"value\": 8148956.0}, {\"Date\": \"2007-10-01T00:00:00\", \"variable\": \"IT\", \"value\": 6294180.0}, {\"Date\": \"2007-11-01T00:00:00\", \"variable\": \"IT\", \"value\": 4308851.0}, {\"Date\": \"2007-12-01T00:00:00\", \"variable\": \"IT\", \"value\": 4305135.0}, {\"Date\": \"2008-01-01T00:00:00\", \"variable\": \"IT\", \"value\": 4083973.0}, {\"Date\": \"2008-02-01T00:00:00\", \"variable\": \"IT\", \"value\": 4713359.0}, {\"Date\": \"2008-03-01T00:00:00\", \"variable\": \"IT\", \"value\": 5873658.0}, {\"Date\": \"2008-04-01T00:00:00\", \"variable\": \"IT\", \"value\": 6353941.0}, {\"Date\": \"2008-05-01T00:00:00\", \"variable\": \"IT\", \"value\": 7818026.0}, {\"Date\": \"2008-06-01T00:00:00\", \"variable\": \"IT\", \"value\": 7944452.0}, {\"Date\": \"2008-07-01T00:00:00\", \"variable\": \"IT\", \"value\": 8647860.0}, {\"Date\": \"2008-08-01T00:00:00\", \"variable\": \"IT\", \"value\": 9158322.0}, {\"Date\": \"2008-09-01T00:00:00\", \"variable\": \"IT\", \"value\": 7573217.0}, {\"Date\": \"2008-10-01T00:00:00\", \"variable\": \"IT\", \"value\": 6035514.0}, {\"Date\": \"2008-11-01T00:00:00\", \"variable\": \"IT\", \"value\": 3925463.0}, {\"Date\": \"2008-12-01T00:00:00\", \"variable\": \"IT\", \"value\": 4166221.0}, {\"Date\": \"2009-01-01T00:00:00\", \"variable\": \"IT\", \"value\": 4052444.0}, {\"Date\": \"2009-02-01T00:00:00\", \"variable\": \"IT\", \"value\": 4458636.0}, {\"Date\": \"2009-03-01T00:00:00\", \"variable\": \"IT\", \"value\": 5154138.0}, {\"Date\": \"2009-04-01T00:00:00\", \"variable\": \"IT\", \"value\": 6410020.0}, {\"Date\": \"2009-05-01T00:00:00\", \"variable\": \"IT\", \"value\": 7668348.0}, {\"Date\": \"2009-06-01T00:00:00\", \"variable\": \"IT\", \"value\": 7667539.0}, {\"Date\": \"2009-07-01T00:00:00\", \"variable\": \"IT\", \"value\": 8934650.0}, {\"Date\": \"2009-08-01T00:00:00\", \"variable\": \"IT\", \"value\": 9731462.0}, {\"Date\": \"2009-09-01T00:00:00\", \"variable\": \"IT\", \"value\": 7738095.0}, {\"Date\": \"2009-10-01T00:00:00\", \"variable\": \"IT\", \"value\": 6168584.0}, {\"Date\": \"2009-11-01T00:00:00\", \"variable\": \"IT\", \"value\": 3950570.0}, {\"Date\": \"2009-12-01T00:00:00\", \"variable\": \"IT\", \"value\": 4396292.0}, {\"Date\": \"2010-01-01T00:00:00\", \"variable\": \"IT\", \"value\": 4094827.0}, {\"Date\": \"2010-02-01T00:00:00\", \"variable\": \"IT\", \"value\": 4565510.0}, {\"Date\": \"2010-03-01T00:00:00\", \"variable\": \"IT\", \"value\": 5431338.0}, {\"Date\": \"2010-04-01T00:00:00\", \"variable\": \"IT\", \"value\": 6634696.0}, {\"Date\": \"2010-05-01T00:00:00\", \"variable\": \"IT\", \"value\": 7672519.0}, {\"Date\": \"2010-06-01T00:00:00\", \"variable\": \"IT\", \"value\": 8055482.0}, {\"Date\": \"2010-07-01T00:00:00\", \"variable\": \"IT\", \"value\": 9717796.0}, {\"Date\": \"2010-08-01T00:00:00\", \"variable\": \"IT\", \"value\": 9784177.0}, {\"Date\": \"2010-09-01T00:00:00\", \"variable\": \"IT\", \"value\": 8109870.0}, {\"Date\": \"2010-10-01T00:00:00\", \"variable\": \"IT\", \"value\": 6588865.0}, {\"Date\": \"2010-11-01T00:00:00\", \"variable\": \"IT\", \"value\": 4130569.0}, {\"Date\": \"2010-12-01T00:00:00\", \"variable\": \"IT\", \"value\": 4349930.0}, {\"Date\": \"2011-01-01T00:00:00\", \"variable\": \"IT\", \"value\": 4392388.0}, {\"Date\": \"2011-02-01T00:00:00\", \"variable\": \"IT\", \"value\": 4579880.0}, {\"Date\": \"2011-03-01T00:00:00\", \"variable\": \"IT\", \"value\": 5641686.0}, {\"Date\": \"2011-04-01T00:00:00\", \"variable\": \"IT\", \"value\": 7108973.0}, {\"Date\": \"2011-05-01T00:00:00\", \"variable\": \"IT\", \"value\": 7602077.0}, {\"Date\": \"2011-06-01T00:00:00\", \"variable\": \"IT\", \"value\": 9092021.0}, {\"Date\": \"2011-07-01T00:00:00\", \"variable\": \"IT\", \"value\": 10402688.0}, {\"Date\": \"2011-08-01T00:00:00\", \"variable\": \"IT\", \"value\": 10071885.0}, {\"Date\": \"2011-09-01T00:00:00\", \"variable\": \"IT\", \"value\": 8725551.0}, {\"Date\": \"2011-10-01T00:00:00\", \"variable\": \"IT\", \"value\": 6847055.0}, {\"Date\": \"2011-11-01T00:00:00\", \"variable\": \"IT\", \"value\": 4145137.0}, {\"Date\": \"2011-12-01T00:00:00\", \"variable\": \"IT\", \"value\": 4446428.0}, {\"Date\": \"2012-01-01T00:00:00\", \"variable\": \"IT\", \"value\": 4416477.0}, {\"Date\": \"2012-02-01T00:00:00\", \"variable\": \"IT\", \"value\": 4494447.0}, {\"Date\": \"2012-03-01T00:00:00\", \"variable\": \"IT\", \"value\": 5866474.0}, {\"Date\": \"2012-04-01T00:00:00\", \"variable\": \"IT\", \"value\": 7018681.0}, {\"Date\": \"2012-05-01T00:00:00\", \"variable\": \"IT\", \"value\": 7615319.0}, {\"Date\": \"2012-06-01T00:00:00\", \"variable\": \"IT\", \"value\": 9009259.0}, {\"Date\": \"2012-07-01T00:00:00\", \"variable\": \"IT\", \"value\": 10123156.0}, {\"Date\": \"2012-08-01T00:00:00\", \"variable\": \"IT\", \"value\": 10221592.0}, {\"Date\": \"2012-09-01T00:00:00\", \"variable\": \"IT\", \"value\": 8646692.0}, {\"Date\": \"2012-10-01T00:00:00\", \"variable\": \"IT\", \"value\": 6451895.0}, {\"Date\": \"2012-11-01T00:00:00\", \"variable\": \"IT\", \"value\": 4329189.0}, {\"Date\": \"2012-12-01T00:00:00\", \"variable\": \"IT\", \"value\": 4451600.0}, {\"Date\": \"2013-01-01T00:00:00\", \"variable\": \"IT\", \"value\": 4099209.0}, {\"Date\": \"2013-02-01T00:00:00\", \"variable\": \"IT\", \"value\": 4505122.0}, {\"Date\": \"2013-03-01T00:00:00\", \"variable\": \"IT\", \"value\": 5978957.0}, {\"Date\": \"2013-04-01T00:00:00\", \"variable\": \"IT\", \"value\": 6340095.0}, {\"Date\": \"2013-05-01T00:00:00\", \"variable\": \"IT\", \"value\": 7883596.0}, {\"Date\": \"2013-06-01T00:00:00\", \"variable\": \"IT\", \"value\": 9002772.0}, {\"Date\": \"2013-07-01T00:00:00\", \"variable\": \"IT\", \"value\": 10230694.0}, {\"Date\": \"2013-08-01T00:00:00\", \"variable\": \"IT\", \"value\": 10731765.0}, {\"Date\": \"2013-09-01T00:00:00\", \"variable\": \"IT\", \"value\": 8676325.0}, {\"Date\": \"2013-10-01T00:00:00\", \"variable\": \"IT\", \"value\": 6455672.0}, {\"Date\": \"2013-11-01T00:00:00\", \"variable\": \"IT\", \"value\": 4296640.0}, {\"Date\": \"2013-12-01T00:00:00\", \"variable\": \"IT\", \"value\": 4438389.0}, {\"Date\": \"2014-01-01T00:00:00\", \"variable\": \"IT\", \"value\": 4187654.0}, {\"Date\": \"2014-02-01T00:00:00\", \"variable\": \"IT\", \"value\": 4441914.0}, {\"Date\": \"2014-03-01T00:00:00\", \"variable\": \"IT\", \"value\": 5678972.0}, {\"Date\": \"2014-04-01T00:00:00\", \"variable\": \"IT\", \"value\": 7064115.0}, {\"Date\": \"2014-05-01T00:00:00\", \"variable\": \"IT\", \"value\": 8136241.0}, {\"Date\": \"2014-06-01T00:00:00\", \"variable\": \"IT\", \"value\": 9044032.0}, {\"Date\": \"2014-07-01T00:00:00\", \"variable\": \"IT\", \"value\": 10189469.0}, {\"Date\": \"2014-08-01T00:00:00\", \"variable\": \"IT\", \"value\": 11096204.0}, {\"Date\": \"2014-09-01T00:00:00\", \"variable\": \"IT\", \"value\": 8698963.0}, {\"Date\": \"2014-10-01T00:00:00\", \"variable\": \"IT\", \"value\": 6697490.0}, {\"Date\": \"2014-11-01T00:00:00\", \"variable\": \"IT\", \"value\": 4280739.0}, {\"Date\": \"2014-12-01T00:00:00\", \"variable\": \"IT\", \"value\": 4724586.0}, {\"Date\": \"2015-01-01T00:00:00\", \"variable\": \"IT\", \"value\": 4372586.0}, {\"Date\": \"2015-02-01T00:00:00\", \"variable\": \"IT\", \"value\": 4800981.0}, {\"Date\": \"2015-03-01T00:00:00\", \"variable\": \"IT\", \"value\": 5681008.0}, {\"Date\": \"2015-04-01T00:00:00\", \"variable\": \"IT\", \"value\": 7134120.0}, {\"Date\": \"2015-05-01T00:00:00\", \"variable\": \"IT\", \"value\": 8970471.0}, {\"Date\": \"2015-06-01T00:00:00\", \"variable\": \"IT\", \"value\": 9344541.0}, {\"Date\": \"2015-07-01T00:00:00\", \"variable\": \"IT\", \"value\": 11125505.0}, {\"Date\": \"2015-08-01T00:00:00\", \"variable\": \"IT\", \"value\": 11895572.0}, {\"Date\": \"2015-09-01T00:00:00\", \"variable\": \"IT\", \"value\": 9248127.0}, {\"Date\": \"2015-10-01T00:00:00\", \"variable\": \"IT\", \"value\": 7203700.0}, {\"Date\": \"2015-11-01T00:00:00\", \"variable\": \"IT\", \"value\": 4391275.0}, {\"Date\": \"2015-12-01T00:00:00\", \"variable\": \"IT\", \"value\": 4851710.0}, {\"Date\": \"2016-01-01T00:00:00\", \"variable\": \"IT\", \"value\": 4530563.0}, {\"Date\": \"2016-02-01T00:00:00\", \"variable\": \"IT\", \"value\": 5099078.0}, {\"Date\": \"2016-03-01T00:00:00\", \"variable\": \"IT\", \"value\": 6337016.0}, {\"Date\": \"2016-04-01T00:00:00\", \"variable\": \"IT\", \"value\": 6946463.0}, {\"Date\": \"2016-05-01T00:00:00\", \"variable\": \"IT\", \"value\": 8338111.0}, {\"Date\": \"2016-06-01T00:00:00\", \"variable\": \"IT\", \"value\": 9485499.0}, {\"Date\": \"2016-07-01T00:00:00\", \"variable\": \"IT\", \"value\": 11755553.0}, {\"Date\": \"2016-08-01T00:00:00\", \"variable\": \"IT\", \"value\": 11422615.0}, {\"Date\": \"2016-09-01T00:00:00\", \"variable\": \"IT\", \"value\": 9433150.0}, {\"Date\": \"2016-10-01T00:00:00\", \"variable\": \"IT\", \"value\": 7320777.0}, {\"Date\": \"2016-11-01T00:00:00\", \"variable\": \"IT\", \"value\": 4523557.0}, {\"Date\": \"2016-12-01T00:00:00\", \"variable\": \"IT\", \"value\": 5063842.0}, {\"Date\": \"2017-01-01T00:00:00\", \"variable\": \"IT\", \"value\": 4772747.0}, {\"Date\": \"2017-02-01T00:00:00\", \"variable\": \"IT\", \"value\": 5108877.0}, {\"Date\": \"2017-03-01T00:00:00\", \"variable\": \"IT\", \"value\": 6056440.0}, {\"Date\": \"2017-04-01T00:00:00\", \"variable\": \"IT\", \"value\": 8220021.0}, {\"Date\": \"2017-05-01T00:00:00\", \"variable\": \"IT\", \"value\": 8322918.0}, {\"Date\": \"2017-06-01T00:00:00\", \"variable\": \"IT\", \"value\": 10519951.0}, {\"Date\": \"2017-07-01T00:00:00\", \"variable\": \"IT\", \"value\": 11933697.0}, {\"Date\": \"2017-08-01T00:00:00\", \"variable\": \"IT\", \"value\": 11567765.0}, {\"Date\": \"2017-09-01T00:00:00\", \"variable\": \"IT\", \"value\": 9625706.0}, {\"Date\": \"2017-10-01T00:00:00\", \"variable\": \"IT\", \"value\": 7401129.0}, {\"Date\": \"2017-11-01T00:00:00\", \"variable\": \"IT\", \"value\": 4817633.0}, {\"Date\": \"2017-12-01T00:00:00\", \"variable\": \"IT\", \"value\": 5443284.0}, {\"Date\": \"2018-01-01T00:00:00\", \"variable\": \"IT\", \"value\": 4729026.0}, {\"Date\": \"2018-02-01T00:00:00\", \"variable\": \"IT\", \"value\": 5383709.0}, {\"Date\": \"2018-03-01T00:00:00\", \"variable\": \"IT\", \"value\": 6779476.0}, {\"Date\": \"2018-04-01T00:00:00\", \"variable\": \"IT\", \"value\": 8025649.0}, {\"Date\": \"2018-05-01T00:00:00\", \"variable\": \"IT\", \"value\": 9066367.0}, {\"Date\": \"2018-06-01T00:00:00\", \"variable\": \"IT\", \"value\": 10728751.0}, {\"Date\": \"2018-07-01T00:00:00\", \"variable\": \"IT\", \"value\": 11482751.0}, {\"Date\": \"2018-08-01T00:00:00\", \"variable\": \"IT\", \"value\": 11817246.0}, {\"Date\": \"2018-09-01T00:00:00\", \"variable\": \"IT\", \"value\": 10049088.0}, {\"Date\": \"2018-10-01T00:00:00\", \"variable\": \"IT\", \"value\": 7462294.0}, {\"Date\": \"2018-11-01T00:00:00\", \"variable\": \"IT\", \"value\": 5126598.0}, {\"Date\": \"2018-12-01T00:00:00\", \"variable\": \"IT\", \"value\": 5550186.0}, {\"Date\": \"2019-01-01T00:00:00\", \"variable\": \"IT\", \"value\": 4779780.0}, {\"Date\": \"2019-02-01T00:00:00\", \"variable\": \"IT\", \"value\": 5401907.0}, {\"Date\": \"2019-03-01T00:00:00\", \"variable\": \"IT\", \"value\": 6442451.0}, {\"Date\": \"2019-04-01T00:00:00\", \"variable\": \"IT\", \"value\": 7996564.0}, {\"Date\": \"2019-05-01T00:00:00\", \"variable\": \"IT\", \"value\": 8484623.0}, {\"Date\": \"2019-06-01T00:00:00\", \"variable\": \"IT\", \"value\": 10555177.0}, {\"Date\": \"2019-07-01T00:00:00\", \"variable\": \"IT\", \"value\": 11506828.0}, {\"Date\": \"2019-08-01T00:00:00\", \"variable\": \"IT\", \"value\": 11649500.0}, {\"Date\": \"2019-09-01T00:00:00\", \"variable\": \"IT\", \"value\": 9888817.0}, {\"Date\": \"2019-10-01T00:00:00\", \"variable\": \"IT\", \"value\": 7692388.0}, {\"Date\": \"1994-01-01T00:00:00\", \"variable\": \"FR\", \"value\": 4117549.0}, {\"Date\": \"1994-02-01T00:00:00\", \"variable\": \"FR\", \"value\": 4368478.0}, {\"Date\": \"1994-03-01T00:00:00\", \"variable\": \"FR\", \"value\": 5552921.0}, {\"Date\": \"1994-04-01T00:00:00\", \"variable\": \"FR\", \"value\": 6313526.0}, {\"Date\": \"1994-05-01T00:00:00\", \"variable\": \"FR\", \"value\": 7211616.0}, {\"Date\": \"1994-06-01T00:00:00\", \"variable\": \"FR\", \"value\": 7776864.0}, {\"Date\": \"1994-07-01T00:00:00\", \"variable\": \"FR\", \"value\": 8756841.0}, {\"Date\": \"1994-08-01T00:00:00\", \"variable\": \"FR\", \"value\": 9562958.0}, {\"Date\": \"1994-09-01T00:00:00\", \"variable\": \"FR\", \"value\": 8263179.0}, {\"Date\": \"1994-10-01T00:00:00\", \"variable\": \"FR\", \"value\": 6665517.0}, {\"Date\": \"1994-11-01T00:00:00\", \"variable\": \"FR\", \"value\": 4653332.0}, {\"Date\": \"1994-12-01T00:00:00\", \"variable\": \"FR\", \"value\": 4427505.0}, {\"Date\": \"1995-01-01T00:00:00\", \"variable\": \"FR\", \"value\": 4269970.0}, {\"Date\": \"1995-02-01T00:00:00\", \"variable\": \"FR\", \"value\": 4514412.0}, {\"Date\": \"1995-03-01T00:00:00\", \"variable\": \"FR\", \"value\": 5592108.0}, {\"Date\": \"1995-04-01T00:00:00\", \"variable\": \"FR\", \"value\": 6843051.0}, {\"Date\": \"1995-05-01T00:00:00\", \"variable\": \"FR\", \"value\": 7344987.0}, {\"Date\": \"1995-06-01T00:00:00\", \"variable\": \"FR\", \"value\": 8303378.0}, {\"Date\": \"1995-07-01T00:00:00\", \"variable\": \"FR\", \"value\": 8891009.0}, {\"Date\": \"1995-08-01T00:00:00\", \"variable\": \"FR\", \"value\": 9276207.0}, {\"Date\": \"1995-09-01T00:00:00\", \"variable\": \"FR\", \"value\": 8229231.0}, {\"Date\": \"1995-10-01T00:00:00\", \"variable\": \"FR\", \"value\": 6657147.0}, {\"Date\": \"1995-11-01T00:00:00\", \"variable\": \"FR\", \"value\": 4837294.0}, {\"Date\": \"1995-12-01T00:00:00\", \"variable\": \"FR\", \"value\": 4132139.0}, {\"Date\": \"1996-01-01T00:00:00\", \"variable\": \"FR\", \"value\": 4260861.0}, {\"Date\": \"1996-02-01T00:00:00\", \"variable\": \"FR\", \"value\": 4706053.0}, {\"Date\": \"1996-03-01T00:00:00\", \"variable\": \"FR\", \"value\": 5815773.0}, {\"Date\": \"1996-04-01T00:00:00\", \"variable\": \"FR\", \"value\": 6739475.0}, {\"Date\": \"1996-05-01T00:00:00\", \"variable\": \"FR\", \"value\": 7278849.0}, {\"Date\": \"1996-06-01T00:00:00\", \"variable\": \"FR\", \"value\": 8089061.0}, {\"Date\": \"1996-07-01T00:00:00\", \"variable\": \"FR\", \"value\": 8712295.0}, {\"Date\": \"1996-08-01T00:00:00\", \"variable\": \"FR\", \"value\": 9506594.0}, {\"Date\": \"1996-09-01T00:00:00\", \"variable\": \"FR\", \"value\": 8055512.0}, {\"Date\": \"1996-10-01T00:00:00\", \"variable\": \"FR\", \"value\": 6838498.0}, {\"Date\": \"1996-11-01T00:00:00\", \"variable\": \"FR\", \"value\": 4940530.0}, {\"Date\": \"1996-12-01T00:00:00\", \"variable\": \"FR\", \"value\": 4496435.0}, {\"Date\": \"1997-01-01T00:00:00\", \"variable\": \"FR\", \"value\": 4241163.0}, {\"Date\": \"1997-02-01T00:00:00\", \"variable\": \"FR\", \"value\": 4743975.0}, {\"Date\": \"1997-03-01T00:00:00\", \"variable\": \"FR\", \"value\": 6231087.0}, {\"Date\": \"1997-04-01T00:00:00\", \"variable\": \"FR\", \"value\": 6579014.0}, {\"Date\": \"1997-05-01T00:00:00\", \"variable\": \"FR\", \"value\": 7939897.0}, {\"Date\": \"1997-06-01T00:00:00\", \"variable\": \"FR\", \"value\": 8271985.0}, {\"Date\": \"1997-07-01T00:00:00\", \"variable\": \"FR\", \"value\": 9361175.0}, {\"Date\": \"1997-08-01T00:00:00\", \"variable\": \"FR\", \"value\": 10491109.0}, {\"Date\": \"1997-09-01T00:00:00\", \"variable\": \"FR\", \"value\": 8687288.0}, {\"Date\": \"1997-10-01T00:00:00\", \"variable\": \"FR\", \"value\": 7244290.0}, {\"Date\": \"1997-11-01T00:00:00\", \"variable\": \"FR\", \"value\": 4959264.0}, {\"Date\": \"1997-12-01T00:00:00\", \"variable\": \"FR\", \"value\": 4896571.0}, {\"Date\": \"1998-01-01T00:00:00\", \"variable\": \"FR\", \"value\": 4693513.0}, {\"Date\": \"1998-02-01T00:00:00\", \"variable\": \"FR\", \"value\": 5021861.0}, {\"Date\": \"1998-03-01T00:00:00\", \"variable\": \"FR\", \"value\": 6184213.0}, {\"Date\": \"1998-04-01T00:00:00\", \"variable\": \"FR\", \"value\": 7493170.0}, {\"Date\": \"1998-05-01T00:00:00\", \"variable\": \"FR\", \"value\": 8635034.0}, {\"Date\": \"1998-06-01T00:00:00\", \"variable\": \"FR\", \"value\": 8594904.0}, {\"Date\": \"1998-07-01T00:00:00\", \"variable\": \"FR\", \"value\": 9585305.0}, {\"Date\": \"1998-08-01T00:00:00\", \"variable\": \"FR\", \"value\": 10699358.0}, {\"Date\": \"1998-09-01T00:00:00\", \"variable\": \"FR\", \"value\": 8974332.0}, {\"Date\": \"1998-10-01T00:00:00\", \"variable\": \"FR\", \"value\": 7556579.0}, {\"Date\": \"1998-11-01T00:00:00\", \"variable\": \"FR\", \"value\": 5137451.0}, {\"Date\": \"1998-12-01T00:00:00\", \"variable\": \"FR\", \"value\": 5109068.0}, {\"Date\": \"1999-01-01T00:00:00\", \"variable\": \"FR\", \"value\": 4957078.0}, {\"Date\": \"1999-02-01T00:00:00\", \"variable\": \"FR\", \"value\": 5477471.0}, {\"Date\": \"1999-03-01T00:00:00\", \"variable\": \"FR\", \"value\": 6822798.0}, {\"Date\": \"1999-04-01T00:00:00\", \"variable\": \"FR\", \"value\": 7765252.0}, {\"Date\": \"1999-05-01T00:00:00\", \"variable\": \"FR\", \"value\": 9214265.0}, {\"Date\": \"1999-06-01T00:00:00\", \"variable\": \"FR\", \"value\": 9605244.0}, {\"Date\": \"1999-07-01T00:00:00\", \"variable\": \"FR\", \"value\": 11032651.0}, {\"Date\": \"1999-08-01T00:00:00\", \"variable\": \"FR\", \"value\": 11769763.0}, {\"Date\": \"1999-09-01T00:00:00\", \"variable\": \"FR\", \"value\": 9822868.0}, {\"Date\": \"1999-10-01T00:00:00\", \"variable\": \"FR\", \"value\": 8169987.0}, {\"Date\": \"1999-11-01T00:00:00\", \"variable\": \"FR\", \"value\": 6000341.0}, {\"Date\": \"1999-12-01T00:00:00\", \"variable\": \"FR\", \"value\": 5757824.0}, {\"Date\": \"2000-01-01T00:00:00\", \"variable\": \"FR\", \"value\": 5527118.0}, {\"Date\": \"2000-02-01T00:00:00\", \"variable\": \"FR\", \"value\": 6151213.0}, {\"Date\": \"2000-03-01T00:00:00\", \"variable\": \"FR\", \"value\": 7452989.0}, {\"Date\": \"2000-04-01T00:00:00\", \"variable\": \"FR\", \"value\": 8925091.0}, {\"Date\": \"2000-05-01T00:00:00\", \"variable\": \"FR\", \"value\": 9075355.0}, {\"Date\": \"2000-06-01T00:00:00\", \"variable\": \"FR\", \"value\": 10443068.0}, {\"Date\": \"2000-07-01T00:00:00\", \"variable\": \"FR\", \"value\": 11281263.0}, {\"Date\": \"2000-08-01T00:00:00\", \"variable\": \"FR\", \"value\": 11657467.0}, {\"Date\": \"2000-09-01T00:00:00\", \"variable\": \"FR\", \"value\": 9861667.0}, {\"Date\": \"2000-10-01T00:00:00\", \"variable\": \"FR\", \"value\": 8289371.0}, {\"Date\": \"2000-11-01T00:00:00\", \"variable\": \"FR\", \"value\": 6439713.0}, {\"Date\": \"2000-12-01T00:00:00\", \"variable\": \"FR\", \"value\": 6282433.0}, {\"Date\": \"2001-01-01T00:00:00\", \"variable\": \"FR\", \"value\": 5708823.0}, {\"Date\": \"2001-02-01T00:00:00\", \"variable\": \"FR\", \"value\": 6210514.0}, {\"Date\": \"2001-03-01T00:00:00\", \"variable\": \"FR\", \"value\": 7308714.0}, {\"Date\": \"2001-04-01T00:00:00\", \"variable\": \"FR\", \"value\": 8626105.0}, {\"Date\": \"2001-05-01T00:00:00\", \"variable\": \"FR\", \"value\": 9190466.0}, {\"Date\": \"2001-06-01T00:00:00\", \"variable\": \"FR\", \"value\": 10422463.0}, {\"Date\": \"2001-07-01T00:00:00\", \"variable\": \"FR\", \"value\": 11139723.0}, {\"Date\": \"2001-08-01T00:00:00\", \"variable\": \"FR\", \"value\": 11947020.0}, {\"Date\": \"2001-09-01T00:00:00\", \"variable\": \"FR\", \"value\": 9920170.0}, {\"Date\": \"2001-10-01T00:00:00\", \"variable\": \"FR\", \"value\": 8168768.0}, {\"Date\": \"2001-11-01T00:00:00\", \"variable\": \"FR\", \"value\": 6413346.0}, {\"Date\": \"2001-12-01T00:00:00\", \"variable\": \"FR\", \"value\": 6152915.0}, {\"Date\": \"2002-01-01T00:00:00\", \"variable\": \"FR\", \"value\": 5629270.0}, {\"Date\": \"2002-02-01T00:00:00\", \"variable\": \"FR\", \"value\": 6218178.0}, {\"Date\": \"2002-03-01T00:00:00\", \"variable\": \"FR\", \"value\": 7891792.0}, {\"Date\": \"2002-04-01T00:00:00\", \"variable\": \"FR\", \"value\": 8119023.0}, {\"Date\": \"2002-05-01T00:00:00\", \"variable\": \"FR\", \"value\": 9384491.0}, {\"Date\": \"2002-06-01T00:00:00\", \"variable\": \"FR\", \"value\": 9975582.0}, {\"Date\": \"2002-07-01T00:00:00\", \"variable\": \"FR\", \"value\": 10940735.0}, {\"Date\": \"2002-08-01T00:00:00\", \"variable\": \"FR\", \"value\": 11906211.0}, {\"Date\": \"2002-09-01T00:00:00\", \"variable\": \"FR\", \"value\": 10001821.0}, {\"Date\": \"2002-10-01T00:00:00\", \"variable\": \"FR\", \"value\": 8527690.0}, {\"Date\": \"2002-11-01T00:00:00\", \"variable\": \"FR\", \"value\": 6574727.0}, {\"Date\": \"2002-12-01T00:00:00\", \"variable\": \"FR\", \"value\": 6176265.0}, {\"Date\": \"2003-01-01T00:00:00\", \"variable\": \"FR\", \"value\": 5669432.0}, {\"Date\": \"2003-02-01T00:00:00\", \"variable\": \"FR\", \"value\": 6178433.0}, {\"Date\": \"2003-03-01T00:00:00\", \"variable\": \"FR\", \"value\": 7288274.0}, {\"Date\": \"2003-04-01T00:00:00\", \"variable\": \"FR\", \"value\": 8197580.0}, {\"Date\": \"2003-05-01T00:00:00\", \"variable\": \"FR\", \"value\": 8895577.0}, {\"Date\": \"2003-06-01T00:00:00\", \"variable\": \"FR\", \"value\": 9922901.0}, {\"Date\": \"2003-07-01T00:00:00\", \"variable\": \"FR\", \"value\": 10450841.0}, {\"Date\": \"2003-08-01T00:00:00\", \"variable\": \"FR\", \"value\": 11280724.0}, {\"Date\": \"2003-09-01T00:00:00\", \"variable\": \"FR\", \"value\": 9787013.0}, {\"Date\": \"2003-10-01T00:00:00\", \"variable\": \"FR\", \"value\": 8422103.0}, {\"Date\": \"2003-11-01T00:00:00\", \"variable\": \"FR\", \"value\": 6371442.0}, {\"Date\": \"2003-12-01T00:00:00\", \"variable\": \"FR\", \"value\": 6445200.0}, {\"Date\": \"2004-01-01T00:00:00\", \"variable\": \"FR\", \"value\": 5999876.0}, {\"Date\": \"2004-02-01T00:00:00\", \"variable\": \"FR\", \"value\": 6581803.0}, {\"Date\": \"2004-03-01T00:00:00\", \"variable\": \"FR\", \"value\": 7569419.0}, {\"Date\": \"2004-04-01T00:00:00\", \"variable\": \"FR\", \"value\": 8560068.0}, {\"Date\": \"2004-05-01T00:00:00\", \"variable\": \"FR\", \"value\": 9667217.0}, {\"Date\": \"2004-06-01T00:00:00\", \"variable\": \"FR\", \"value\": 10052826.0}, {\"Date\": \"2004-07-01T00:00:00\", \"variable\": \"FR\", \"value\": 10969563.0}, {\"Date\": \"2004-08-01T00:00:00\", \"variable\": \"FR\", \"value\": 11287351.0}, {\"Date\": \"2004-09-01T00:00:00\", \"variable\": \"FR\", \"value\": 10257803.0}, {\"Date\": \"2004-10-01T00:00:00\", \"variable\": \"FR\", \"value\": 9013416.0}, {\"Date\": \"2004-11-01T00:00:00\", \"variable\": \"FR\", \"value\": 6664292.0}, {\"Date\": \"2004-12-01T00:00:00\", \"variable\": \"FR\", \"value\": 7069733.0}, {\"Date\": \"2005-01-01T00:00:00\", \"variable\": \"FR\", \"value\": 6565534.0}, {\"Date\": \"2005-02-01T00:00:00\", \"variable\": \"FR\", \"value\": 6727781.0}, {\"Date\": \"2005-03-01T00:00:00\", \"variable\": \"FR\", \"value\": 8396497.0}, {\"Date\": \"2005-04-01T00:00:00\", \"variable\": \"FR\", \"value\": 8497597.0}, {\"Date\": \"2005-05-01T00:00:00\", \"variable\": \"FR\", \"value\": 10069071.0}, {\"Date\": \"2005-06-01T00:00:00\", \"variable\": \"FR\", \"value\": 10591329.0}, {\"Date\": \"2005-07-01T00:00:00\", \"variable\": \"FR\", \"value\": 11513255.0}, {\"Date\": \"2005-08-01T00:00:00\", \"variable\": \"FR\", \"value\": 11875121.0}, {\"Date\": \"2005-09-01T00:00:00\", \"variable\": \"FR\", \"value\": 10495421.0}, {\"Date\": \"2005-10-01T00:00:00\", \"variable\": \"FR\", \"value\": 9253718.0}, {\"Date\": \"2005-11-01T00:00:00\", \"variable\": \"FR\", \"value\": 7118207.0}, {\"Date\": \"2005-12-01T00:00:00\", \"variable\": \"FR\", \"value\": 6994777.0}, {\"Date\": \"2006-01-01T00:00:00\", \"variable\": \"FR\", \"value\": 6422103.0}, {\"Date\": \"2006-02-01T00:00:00\", \"variable\": \"FR\", \"value\": 6617688.0}, {\"Date\": \"2006-03-01T00:00:00\", \"variable\": \"FR\", \"value\": 7883715.0}, {\"Date\": \"2006-04-01T00:00:00\", \"variable\": \"FR\", \"value\": 9156434.0}, {\"Date\": \"2006-05-01T00:00:00\", \"variable\": \"FR\", \"value\": 9813675.0}, {\"Date\": \"2006-06-01T00:00:00\", \"variable\": \"FR\", \"value\": 10644379.0}, {\"Date\": \"2006-07-01T00:00:00\", \"variable\": \"FR\", \"value\": 11171424.0}, {\"Date\": \"2006-08-01T00:00:00\", \"variable\": \"FR\", \"value\": 11345971.0}, {\"Date\": \"2006-09-01T00:00:00\", \"variable\": \"FR\", \"value\": 10471058.0}, {\"Date\": \"2006-10-01T00:00:00\", \"variable\": \"FR\", \"value\": 8859372.0}, {\"Date\": \"2006-11-01T00:00:00\", \"variable\": \"FR\", \"value\": 7149839.0}, {\"Date\": \"2006-12-01T00:00:00\", \"variable\": \"FR\", \"value\": 7170819.0}, {\"Date\": \"2007-01-01T00:00:00\", \"variable\": \"FR\", \"value\": 6364505.0}, {\"Date\": \"2007-02-01T00:00:00\", \"variable\": \"FR\", \"value\": 6667389.0}, {\"Date\": \"2007-03-01T00:00:00\", \"variable\": \"FR\", \"value\": 8242805.0}, {\"Date\": \"2007-04-01T00:00:00\", \"variable\": \"FR\", \"value\": 9301779.0}, {\"Date\": \"2007-05-01T00:00:00\", \"variable\": \"FR\", \"value\": 9736043.0}, {\"Date\": \"2007-06-01T00:00:00\", \"variable\": \"FR\", \"value\": 10809451.0}, {\"Date\": \"2007-07-01T00:00:00\", \"variable\": \"FR\", \"value\": 11597921.0}, {\"Date\": \"2007-08-01T00:00:00\", \"variable\": \"FR\", \"value\": 12048875.0}, {\"Date\": \"2007-09-01T00:00:00\", \"variable\": \"FR\", \"value\": 10760127.0}, {\"Date\": \"2007-10-01T00:00:00\", \"variable\": \"FR\", \"value\": 9304308.0}, {\"Date\": \"2007-11-01T00:00:00\", \"variable\": \"FR\", \"value\": 7471925.0}, {\"Date\": \"2007-12-01T00:00:00\", \"variable\": \"FR\", \"value\": 7359771.0}, {\"Date\": \"2008-01-01T00:00:00\", \"variable\": \"FR\", \"value\": 6440471.0}, {\"Date\": \"2008-02-01T00:00:00\", \"variable\": \"FR\", \"value\": 7214820.0}, {\"Date\": \"2008-03-01T00:00:00\", \"variable\": \"FR\", \"value\": 8393558.0}, {\"Date\": \"2008-04-01T00:00:00\", \"variable\": \"FR\", \"value\": 8751818.0}, {\"Date\": \"2008-05-01T00:00:00\", \"variable\": \"FR\", \"value\": 10411451.0}, {\"Date\": \"2008-06-01T00:00:00\", \"variable\": \"FR\", \"value\": 10622799.0}, {\"Date\": \"2008-07-01T00:00:00\", \"variable\": \"FR\", \"value\": 11385588.0}, {\"Date\": \"2008-08-01T00:00:00\", \"variable\": \"FR\", \"value\": 11851097.0}, {\"Date\": \"2008-09-01T00:00:00\", \"variable\": \"FR\", \"value\": 10274608.0}, {\"Date\": \"2008-10-01T00:00:00\", \"variable\": \"FR\", \"value\": 9106073.0}, {\"Date\": \"2008-11-01T00:00:00\", \"variable\": \"FR\", \"value\": 6994141.0}, {\"Date\": \"2008-12-01T00:00:00\", \"variable\": \"FR\", \"value\": 7231814.0}, {\"Date\": \"2009-01-01T00:00:00\", \"variable\": \"FR\", \"value\": 6165100.0}, {\"Date\": \"2009-02-01T00:00:00\", \"variable\": \"FR\", \"value\": 6539800.0}, {\"Date\": \"2009-03-01T00:00:00\", \"variable\": \"FR\", \"value\": 7474200.0}, {\"Date\": \"2009-04-01T00:00:00\", \"variable\": \"FR\", \"value\": 8740100.0}, {\"Date\": \"2009-05-01T00:00:00\", \"variable\": \"FR\", \"value\": 9916354.0}, {\"Date\": \"2009-06-01T00:00:00\", \"variable\": \"FR\", \"value\": 10090791.0}, {\"Date\": \"2009-07-01T00:00:00\", \"variable\": \"FR\", \"value\": 11411818.0}, {\"Date\": \"2009-08-01T00:00:00\", \"variable\": \"FR\", \"value\": 11717701.0}, {\"Date\": \"2009-09-01T00:00:00\", \"variable\": \"FR\", \"value\": 10025358.0}, {\"Date\": \"2009-10-01T00:00:00\", \"variable\": \"FR\", \"value\": 8912370.0}, {\"Date\": \"2009-11-01T00:00:00\", \"variable\": \"FR\", \"value\": 6703301.0}, {\"Date\": \"2009-12-01T00:00:00\", \"variable\": \"FR\", \"value\": 7123901.0}, {\"Date\": \"2010-01-01T00:00:00\", \"variable\": \"FR\", \"value\": 6018294.0}, {\"Date\": \"2010-02-01T00:00:00\", \"variable\": \"FR\", \"value\": 6558665.0}, {\"Date\": \"2010-03-01T00:00:00\", \"variable\": \"FR\", \"value\": 7825469.0}, {\"Date\": \"2010-04-01T00:00:00\", \"variable\": \"FR\", \"value\": 8918480.0}, {\"Date\": \"2010-05-01T00:00:00\", \"variable\": \"FR\", \"value\": 10155452.0}, {\"Date\": \"2010-06-01T00:00:00\", \"variable\": \"FR\", \"value\": 10533720.0}, {\"Date\": \"2010-07-01T00:00:00\", \"variable\": \"FR\", \"value\": 11704636.0}, {\"Date\": \"2010-08-01T00:00:00\", \"variable\": \"FR\", \"value\": 11705427.0}, {\"Date\": \"2010-09-01T00:00:00\", \"variable\": \"FR\", \"value\": 10433344.0}, {\"Date\": \"2010-10-01T00:00:00\", \"variable\": \"FR\", \"value\": 8894445.0}, {\"Date\": \"2010-11-01T00:00:00\", \"variable\": \"FR\", \"value\": 6964427.0}, {\"Date\": \"2010-12-01T00:00:00\", \"variable\": \"FR\", \"value\": 7069474.0}, {\"Date\": \"2011-01-01T00:00:00\", \"variable\": \"FR\", \"value\": 6351714.0}, {\"Date\": \"2011-02-01T00:00:00\", \"variable\": \"FR\", \"value\": 6640575.0}, {\"Date\": \"2011-03-01T00:00:00\", \"variable\": \"FR\", \"value\": 8017670.0}, {\"Date\": \"2011-04-01T00:00:00\", \"variable\": \"FR\", \"value\": 9234944.0}, {\"Date\": \"2011-05-01T00:00:00\", \"variable\": \"FR\", \"value\": 9850099.0}, {\"Date\": \"2011-06-01T00:00:00\", \"variable\": \"FR\", \"value\": 11254842.0}, {\"Date\": \"2011-07-01T00:00:00\", \"variable\": \"FR\", \"value\": 12260186.0}, {\"Date\": \"2011-08-01T00:00:00\", \"variable\": \"FR\", \"value\": 11986705.0}, {\"Date\": \"2011-09-01T00:00:00\", \"variable\": \"FR\", \"value\": 10679060.0}, {\"Date\": \"2011-10-01T00:00:00\", \"variable\": \"FR\", \"value\": 9441032.0}, {\"Date\": \"2011-11-01T00:00:00\", \"variable\": \"FR\", \"value\": 7239935.0}, {\"Date\": \"2011-12-01T00:00:00\", \"variable\": \"FR\", \"value\": 7267115.0}, {\"Date\": \"2012-01-01T00:00:00\", \"variable\": \"FR\", \"value\": 6478931.0}, {\"Date\": \"2012-02-01T00:00:00\", \"variable\": \"FR\", \"value\": 6837135.0}, {\"Date\": \"2012-03-01T00:00:00\", \"variable\": \"FR\", \"value\": 8312542.0}, {\"Date\": \"2012-04-01T00:00:00\", \"variable\": \"FR\", \"value\": 9031209.0}, {\"Date\": \"2012-05-01T00:00:00\", \"variable\": \"FR\", \"value\": 9929483.0}, {\"Date\": \"2012-06-01T00:00:00\", \"variable\": \"FR\", \"value\": 10901716.0}, {\"Date\": \"2012-07-01T00:00:00\", \"variable\": \"FR\", \"value\": 11926501.0}, {\"Date\": \"2012-08-01T00:00:00\", \"variable\": \"FR\", \"value\": 11988272.0}, {\"Date\": \"2012-09-01T00:00:00\", \"variable\": \"FR\", \"value\": 10664165.0}, {\"Date\": \"2012-10-01T00:00:00\", \"variable\": \"FR\", \"value\": 9156124.0}, {\"Date\": \"2012-11-01T00:00:00\", \"variable\": \"FR\", \"value\": 7459403.0}, {\"Date\": \"2012-12-01T00:00:00\", \"variable\": \"FR\", \"value\": 7300744.0}, {\"Date\": \"2013-01-01T00:00:00\", \"variable\": \"FR\", \"value\": 6369735.0}, {\"Date\": \"2013-02-01T00:00:00\", \"variable\": \"FR\", \"value\": 6831688.0}, {\"Date\": \"2013-03-01T00:00:00\", \"variable\": \"FR\", \"value\": 8583015.0}, {\"Date\": \"2013-04-01T00:00:00\", \"variable\": \"FR\", \"value\": 8915387.0}, {\"Date\": \"2013-05-01T00:00:00\", \"variable\": \"FR\", \"value\": 10575924.0}, {\"Date\": \"2013-06-01T00:00:00\", \"variable\": \"FR\", \"value\": 11278350.0}, {\"Date\": \"2013-07-01T00:00:00\", \"variable\": \"FR\", \"value\": 12148308.0}, {\"Date\": \"2013-08-01T00:00:00\", \"variable\": \"FR\", \"value\": 12913800.0}, {\"Date\": \"2013-09-01T00:00:00\", \"variable\": \"FR\", \"value\": 10733545.0}, {\"Date\": \"2013-10-01T00:00:00\", \"variable\": \"FR\", \"value\": 9419127.0}, {\"Date\": \"2013-11-01T00:00:00\", \"variable\": \"FR\", \"value\": 7489746.0}, {\"Date\": \"2013-12-01T00:00:00\", \"variable\": \"FR\", \"value\": 7469355.0}, {\"Date\": \"2014-01-01T00:00:00\", \"variable\": \"FR\", \"value\": 6430291.0}, {\"Date\": \"2014-02-01T00:00:00\", \"variable\": \"FR\", \"value\": 6866710.0}, {\"Date\": \"2014-03-01T00:00:00\", \"variable\": \"FR\", \"value\": 8161487.0}, {\"Date\": \"2014-04-01T00:00:00\", \"variable\": \"FR\", \"value\": 9221217.0}, {\"Date\": \"2014-05-01T00:00:00\", \"variable\": \"FR\", \"value\": 10169525.0}, {\"Date\": \"2014-06-01T00:00:00\", \"variable\": \"FR\", \"value\": 11081971.0}, {\"Date\": \"2014-07-01T00:00:00\", \"variable\": \"FR\", \"value\": 11758752.0}, {\"Date\": \"2014-08-01T00:00:00\", \"variable\": \"FR\", \"value\": 12855608.0}, {\"Date\": \"2014-09-01T00:00:00\", \"variable\": \"FR\", \"value\": 10578807.0}, {\"Date\": \"2014-10-01T00:00:00\", \"variable\": \"FR\", \"value\": 9457198.0}, {\"Date\": \"2014-11-01T00:00:00\", \"variable\": \"FR\", \"value\": 7154724.0}, {\"Date\": \"2014-12-01T00:00:00\", \"variable\": \"FR\", \"value\": 7622998.0}, {\"Date\": \"2015-01-01T00:00:00\", \"variable\": \"FR\", \"value\": 6549436.0}, {\"Date\": \"2015-02-01T00:00:00\", \"variable\": \"FR\", \"value\": 7137624.0}, {\"Date\": \"2015-03-01T00:00:00\", \"variable\": \"FR\", \"value\": 8201674.0}, {\"Date\": \"2015-04-01T00:00:00\", \"variable\": \"FR\", \"value\": 9322927.0}, {\"Date\": \"2015-05-01T00:00:00\", \"variable\": \"FR\", \"value\": 10746372.0}, {\"Date\": \"2015-06-01T00:00:00\", \"variable\": \"FR\", \"value\": 11257638.0}, {\"Date\": \"2015-07-01T00:00:00\", \"variable\": \"FR\", \"value\": 12618720.0}, {\"Date\": \"2015-08-01T00:00:00\", \"variable\": \"FR\", \"value\": 13060638.0}, {\"Date\": \"2015-09-01T00:00:00\", \"variable\": \"FR\", \"value\": 10977572.0}, {\"Date\": \"2015-10-01T00:00:00\", \"variable\": \"FR\", \"value\": 9672095.0}, {\"Date\": \"2015-11-01T00:00:00\", \"variable\": \"FR\", \"value\": 7090507.0}, {\"Date\": \"2015-12-01T00:00:00\", \"variable\": \"FR\", \"value\": 7283749.0}, {\"Date\": \"2016-01-01T00:00:00\", \"variable\": \"FR\", \"value\": 6456115.0}, {\"Date\": \"2016-02-01T00:00:00\", \"variable\": \"FR\", \"value\": 7277169.0}, {\"Date\": \"2016-03-01T00:00:00\", \"variable\": \"FR\", \"value\": 8616284.0}, {\"Date\": \"2016-04-01T00:00:00\", \"variable\": \"FR\", \"value\": 9039902.0}, {\"Date\": \"2016-05-01T00:00:00\", \"variable\": \"FR\", \"value\": 10493820.0}, {\"Date\": \"2016-06-01T00:00:00\", \"variable\": \"FR\", \"value\": 10944590.0}, {\"Date\": \"2016-07-01T00:00:00\", \"variable\": \"FR\", \"value\": 12670939.0}, {\"Date\": \"2016-08-01T00:00:00\", \"variable\": \"FR\", \"value\": 12332244.0}, {\"Date\": \"2016-09-01T00:00:00\", \"variable\": \"FR\", \"value\": 10689469.0}, {\"Date\": \"2016-10-01T00:00:00\", \"variable\": \"FR\", \"value\": 9867348.0}, {\"Date\": \"2016-11-01T00:00:00\", \"variable\": \"FR\", \"value\": 7621301.0}, {\"Date\": \"2016-12-01T00:00:00\", \"variable\": \"FR\", \"value\": 7885616.0}, {\"Date\": \"2017-01-01T00:00:00\", \"variable\": \"FR\", \"value\": 6990261.0}, {\"Date\": \"2017-02-01T00:00:00\", \"variable\": \"FR\", \"value\": 7388302.0}, {\"Date\": \"2017-03-01T00:00:00\", \"variable\": \"FR\", \"value\": 8689731.0}, {\"Date\": \"2017-04-01T00:00:00\", \"variable\": \"FR\", \"value\": 10224291.0}, {\"Date\": \"2017-05-01T00:00:00\", \"variable\": \"FR\", \"value\": 10544568.0}, {\"Date\": \"2017-06-01T00:00:00\", \"variable\": \"FR\", \"value\": 11631420.0}, {\"Date\": \"2017-07-01T00:00:00\", \"variable\": \"FR\", \"value\": 13071877.0}, {\"Date\": \"2017-08-01T00:00:00\", \"variable\": \"FR\", \"value\": 12940902.0}, {\"Date\": \"2017-09-01T00:00:00\", \"variable\": \"FR\", \"value\": 11414804.0}, {\"Date\": \"2017-10-01T00:00:00\", \"variable\": \"FR\", \"value\": 10131444.0}, {\"Date\": \"2017-11-01T00:00:00\", \"variable\": \"FR\", \"value\": 8063817.0}, {\"Date\": \"2017-12-01T00:00:00\", \"variable\": \"FR\", \"value\": 8266987.0}, {\"Date\": \"2018-01-01T00:00:00\", \"variable\": \"FR\", \"value\": 7138324.0}, {\"Date\": \"2018-02-01T00:00:00\", \"variable\": \"FR\", \"value\": 7516780.0}, {\"Date\": \"2018-03-01T00:00:00\", \"variable\": \"FR\", \"value\": 9335085.0}, {\"Date\": \"2018-04-01T00:00:00\", \"variable\": \"FR\", \"value\": 9758090.0}, {\"Date\": \"2018-05-01T00:00:00\", \"variable\": \"FR\", \"value\": 10829639.0}, {\"Date\": \"2018-06-01T00:00:00\", \"variable\": \"FR\", \"value\": 11888719.0}, {\"Date\": \"2018-07-01T00:00:00\", \"variable\": \"FR\", \"value\": 13065128.0}, {\"Date\": \"2018-08-01T00:00:00\", \"variable\": \"FR\", \"value\": 13411499.0}, {\"Date\": \"2018-09-01T00:00:00\", \"variable\": \"FR\", \"value\": 11574174.0}, {\"Date\": \"2018-10-01T00:00:00\", \"variable\": \"FR\", \"value\": 10436609.0}, {\"Date\": \"2018-11-01T00:00:00\", \"variable\": \"FR\", \"value\": 8266613.0}, {\"Date\": \"2018-12-01T00:00:00\", \"variable\": \"FR\", \"value\": 8127067.0}, {\"Date\": \"2019-01-01T00:00:00\", \"variable\": \"FR\", \"value\": 7135767.0}, {\"Date\": \"2019-02-01T00:00:00\", \"variable\": \"FR\", \"value\": 7679625.0}, {\"Date\": \"2019-03-01T00:00:00\", \"variable\": \"FR\", \"value\": 9118018.0}, {\"Date\": \"2019-04-01T00:00:00\", \"variable\": \"FR\", \"value\": 3804493.0}, {\"Date\": \"2019-05-01T00:00:00\", \"variable\": \"FR\", \"value\": 10677739.0}, {\"Date\": \"2019-06-01T00:00:00\", \"variable\": \"FR\", \"value\": 12472500.0}, {\"Date\": \"2019-07-01T00:00:00\", \"variable\": \"FR\", \"value\": 13174390.0}, {\"Date\": \"2019-08-01T00:00:00\", \"variable\": \"FR\", \"value\": 13692822.0}, {\"Date\": \"2019-09-01T00:00:00\", \"variable\": \"FR\", \"value\": 11684845.0}, {\"Date\": \"2019-10-01T00:00:00\", \"variable\": \"FR\", \"value\": 10401793.0}, {\"Date\": \"1994-01-01T00:00:00\", \"variable\": \"DE\", \"value\": 3743291.0}, {\"Date\": \"1994-02-01T00:00:00\", \"variable\": \"DE\", \"value\": 4151872.0}, {\"Date\": \"1994-03-01T00:00:00\", \"variable\": \"DE\", \"value\": 4848711.0}, {\"Date\": \"1994-04-01T00:00:00\", \"variable\": \"DE\", \"value\": 5346095.0}, {\"Date\": \"1994-05-01T00:00:00\", \"variable\": \"DE\", \"value\": 6520534.0}, {\"Date\": \"1994-06-01T00:00:00\", \"variable\": \"DE\", \"value\": 6487590.0}, {\"Date\": \"1994-07-01T00:00:00\", \"variable\": \"DE\", \"value\": 6212720.0}, {\"Date\": \"1994-08-01T00:00:00\", \"variable\": \"DE\", \"value\": 6421380.0}, {\"Date\": \"1994-09-01T00:00:00\", \"variable\": \"DE\", \"value\": 7506692.0}, {\"Date\": \"1994-10-01T00:00:00\", \"variable\": \"DE\", \"value\": 6909084.0}, {\"Date\": \"1994-11-01T00:00:00\", \"variable\": \"DE\", \"value\": 4981139.0}, {\"Date\": \"1994-12-01T00:00:00\", \"variable\": \"DE\", \"value\": 4280732.0}, {\"Date\": \"1995-01-01T00:00:00\", \"variable\": \"DE\", \"value\": 4020729.0}, {\"Date\": \"1995-02-01T00:00:00\", \"variable\": \"DE\", \"value\": 4342893.0}, {\"Date\": \"1995-03-01T00:00:00\", \"variable\": \"DE\", \"value\": 5165778.0}, {\"Date\": \"1995-04-01T00:00:00\", \"variable\": \"DE\", \"value\": 5550833.0}, {\"Date\": \"1995-05-01T00:00:00\", \"variable\": \"DE\", \"value\": 7000145.0}, {\"Date\": \"1995-06-01T00:00:00\", \"variable\": \"DE\", \"value\": 6785848.0}, {\"Date\": \"1995-07-01T00:00:00\", \"variable\": \"DE\", \"value\": 6502518.0}, {\"Date\": \"1995-08-01T00:00:00\", \"variable\": \"DE\", \"value\": 6636579.0}, {\"Date\": \"1995-09-01T00:00:00\", \"variable\": \"DE\", \"value\": 7851806.0}, {\"Date\": \"1995-10-01T00:00:00\", \"variable\": \"DE\", \"value\": 7021097.0}, {\"Date\": \"1995-11-01T00:00:00\", \"variable\": \"DE\", \"value\": 5261602.0}, {\"Date\": \"1995-12-01T00:00:00\", \"variable\": \"DE\", \"value\": 4492760.0}, {\"Date\": \"1996-01-01T00:00:00\", \"variable\": \"DE\", \"value\": 4009021.0}, {\"Date\": \"1996-02-01T00:00:00\", \"variable\": \"DE\", \"value\": 4472043.0}, {\"Date\": \"1996-03-01T00:00:00\", \"variable\": \"DE\", \"value\": 5200408.0}, {\"Date\": \"1996-04-01T00:00:00\", \"variable\": \"DE\", \"value\": 5542351.0}, {\"Date\": \"1996-05-01T00:00:00\", \"variable\": \"DE\", \"value\": 7128811.0}, {\"Date\": \"1996-06-01T00:00:00\", \"variable\": \"DE\", \"value\": 6952707.0}, {\"Date\": \"1996-07-01T00:00:00\", \"variable\": \"DE\", \"value\": 6717378.0}, {\"Date\": \"1996-08-01T00:00:00\", \"variable\": \"DE\", \"value\": 7020300.0}, {\"Date\": \"1996-09-01T00:00:00\", \"variable\": \"DE\", \"value\": 7928122.0}, {\"Date\": \"1996-10-01T00:00:00\", \"variable\": \"DE\", \"value\": 7409777.0}, {\"Date\": \"1996-11-01T00:00:00\", \"variable\": \"DE\", \"value\": 5546832.0}, {\"Date\": \"1996-12-01T00:00:00\", \"variable\": \"DE\", \"value\": 4553059.0}, {\"Date\": \"1997-01-01T00:00:00\", \"variable\": \"DE\", \"value\": 4165023.0}, {\"Date\": \"1997-02-01T00:00:00\", \"variable\": \"DE\", \"value\": 4493634.0}, {\"Date\": \"1997-03-01T00:00:00\", \"variable\": \"DE\", \"value\": 5275130.0}, {\"Date\": \"1997-04-01T00:00:00\", \"variable\": \"DE\", \"value\": 5854734.0}, {\"Date\": \"1997-05-01T00:00:00\", \"variable\": \"DE\", \"value\": 7195913.0}, {\"Date\": \"1997-06-01T00:00:00\", \"variable\": \"DE\", \"value\": 7241481.0}, {\"Date\": \"1997-07-01T00:00:00\", \"variable\": \"DE\", \"value\": 6997776.0}, {\"Date\": \"1997-08-01T00:00:00\", \"variable\": \"DE\", \"value\": 7252821.0}, {\"Date\": \"1997-09-01T00:00:00\", \"variable\": \"DE\", \"value\": 8114116.0}, {\"Date\": \"1997-10-01T00:00:00\", \"variable\": \"DE\", \"value\": 7635811.0}, {\"Date\": \"1997-11-01T00:00:00\", \"variable\": \"DE\", \"value\": 5542254.0}, {\"Date\": \"1997-12-01T00:00:00\", \"variable\": \"DE\", \"value\": 4734581.0}, {\"Date\": \"1998-01-01T00:00:00\", \"variable\": \"DE\", \"value\": 4232683.0}, {\"Date\": \"1998-02-01T00:00:00\", \"variable\": \"DE\", \"value\": 4681727.0}, {\"Date\": \"1998-03-01T00:00:00\", \"variable\": \"DE\", \"value\": 5632690.0}, {\"Date\": \"1998-04-01T00:00:00\", \"variable\": \"DE\", \"value\": 5860972.0}, {\"Date\": \"1998-05-01T00:00:00\", \"variable\": \"DE\", \"value\": 7734762.0}, {\"Date\": \"1998-06-01T00:00:00\", \"variable\": \"DE\", \"value\": 7337596.0}, {\"Date\": \"1998-07-01T00:00:00\", \"variable\": \"DE\", \"value\": 7296068.0}, {\"Date\": \"1998-08-01T00:00:00\", \"variable\": \"DE\", \"value\": 7634457.0}, {\"Date\": \"1998-09-01T00:00:00\", \"variable\": \"DE\", \"value\": 8330603.0}, {\"Date\": \"1998-10-01T00:00:00\", \"variable\": \"DE\", \"value\": 7802828.0}, {\"Date\": \"1998-11-01T00:00:00\", \"variable\": \"DE\", \"value\": 5861313.0}, {\"Date\": \"1998-12-01T00:00:00\", \"variable\": \"DE\", \"value\": 5027993.0}, {\"Date\": \"1999-01-01T00:00:00\", \"variable\": \"DE\", \"value\": 4494960.0}, {\"Date\": \"1999-02-01T00:00:00\", \"variable\": \"DE\", \"value\": 4966750.0}, {\"Date\": \"1999-03-01T00:00:00\", \"variable\": \"DE\", \"value\": 5894865.0}, {\"Date\": \"1999-04-01T00:00:00\", \"variable\": \"DE\", \"value\": 6338652.0}, {\"Date\": \"1999-05-01T00:00:00\", \"variable\": \"DE\", \"value\": 7839183.0}, {\"Date\": \"1999-06-01T00:00:00\", \"variable\": \"DE\", \"value\": 7772924.0}, {\"Date\": \"1999-07-01T00:00:00\", \"variable\": \"DE\", \"value\": 7736826.0}, {\"Date\": \"1999-08-01T00:00:00\", \"variable\": \"DE\", \"value\": 8042134.0}, {\"Date\": \"1999-09-01T00:00:00\", \"variable\": \"DE\", \"value\": 8788864.0}, {\"Date\": \"1999-10-01T00:00:00\", \"variable\": \"DE\", \"value\": 8252774.0}, {\"Date\": \"1999-11-01T00:00:00\", \"variable\": \"DE\", \"value\": 6327376.0}, {\"Date\": \"1999-12-01T00:00:00\", \"variable\": \"DE\", \"value\": 5441596.0}, {\"Date\": \"2000-01-01T00:00:00\", \"variable\": \"DE\", \"value\": 4772252.0}, {\"Date\": \"2000-02-01T00:00:00\", \"variable\": \"DE\", \"value\": 5502985.0}, {\"Date\": \"2000-03-01T00:00:00\", \"variable\": \"DE\", \"value\": 6212827.0}, {\"Date\": \"2000-04-01T00:00:00\", \"variable\": \"DE\", \"value\": 6642826.0}, {\"Date\": \"2000-05-01T00:00:00\", \"variable\": \"DE\", \"value\": 8347719.0}, {\"Date\": \"2000-06-01T00:00:00\", \"variable\": \"DE\", \"value\": 8411680.0}, {\"Date\": \"2000-07-01T00:00:00\", \"variable\": \"DE\", \"value\": 8461299.0}, {\"Date\": \"2000-08-01T00:00:00\", \"variable\": \"DE\", \"value\": 8534252.0}, {\"Date\": \"2000-09-01T00:00:00\", \"variable\": \"DE\", \"value\": 9755121.0}, {\"Date\": \"2000-10-01T00:00:00\", \"variable\": \"DE\", \"value\": 8466682.0}, {\"Date\": \"2000-11-01T00:00:00\", \"variable\": \"DE\", \"value\": 6572899.0}, {\"Date\": \"2000-12-01T00:00:00\", \"variable\": \"DE\", \"value\": 5730998.0}, {\"Date\": \"2001-01-01T00:00:00\", \"variable\": \"DE\", \"value\": 5047657.0}, {\"Date\": \"2001-02-01T00:00:00\", \"variable\": \"DE\", \"value\": 5347870.0}, {\"Date\": \"2001-03-01T00:00:00\", \"variable\": \"DE\", \"value\": 6489639.0}, {\"Date\": \"2001-04-01T00:00:00\", \"variable\": \"DE\", \"value\": 6683241.0}, {\"Date\": \"2001-05-01T00:00:00\", \"variable\": \"DE\", \"value\": 8450588.0}, {\"Date\": \"2001-06-01T00:00:00\", \"variable\": \"DE\", \"value\": 8345102.0}, {\"Date\": \"2001-07-01T00:00:00\", \"variable\": \"DE\", \"value\": 8333906.0}, {\"Date\": \"2001-08-01T00:00:00\", \"variable\": \"DE\", \"value\": 8394761.0}, {\"Date\": \"2001-09-01T00:00:00\", \"variable\": \"DE\", \"value\": 8979344.0}, {\"Date\": \"2001-10-01T00:00:00\", \"variable\": \"DE\", \"value\": 8222980.0}, {\"Date\": \"2001-11-01T00:00:00\", \"variable\": \"DE\", \"value\": 6636492.0}, {\"Date\": \"2001-12-01T00:00:00\", \"variable\": \"DE\", \"value\": 5579517.0}, {\"Date\": \"2002-01-01T00:00:00\", \"variable\": \"DE\", \"value\": 4920562.0}, {\"Date\": \"2002-02-01T00:00:00\", \"variable\": \"DE\", \"value\": 5307295.0}, {\"Date\": \"2002-03-01T00:00:00\", \"variable\": \"DE\", \"value\": 6166080.0}, {\"Date\": \"2002-04-01T00:00:00\", \"variable\": \"DE\", \"value\": 6731677.0}, {\"Date\": \"2002-05-01T00:00:00\", \"variable\": \"DE\", \"value\": 8047892.0}, {\"Date\": \"2002-06-01T00:00:00\", \"variable\": \"DE\", \"value\": 8037341.0}, {\"Date\": \"2002-07-01T00:00:00\", \"variable\": \"DE\", \"value\": 8052822.0}, {\"Date\": \"2002-08-01T00:00:00\", \"variable\": \"DE\", \"value\": 8159404.0}, {\"Date\": \"2002-09-01T00:00:00\", \"variable\": \"DE\", \"value\": 8768877.0}, {\"Date\": \"2002-10-01T00:00:00\", \"variable\": \"DE\", \"value\": 8054134.0}, {\"Date\": \"2002-11-01T00:00:00\", \"variable\": \"DE\", \"value\": 6407663.0}, {\"Date\": \"2002-12-01T00:00:00\", \"variable\": \"DE\", \"value\": 5533822.0}, {\"Date\": \"2003-01-01T00:00:00\", \"variable\": \"DE\", \"value\": 3867184.0}, {\"Date\": \"2003-02-01T00:00:00\", \"variable\": \"DE\", \"value\": 5234211.0}, {\"Date\": \"2003-03-01T00:00:00\", \"variable\": \"DE\", \"value\": 6130168.0}, {\"Date\": \"2003-04-01T00:00:00\", \"variable\": \"DE\", \"value\": 6412020.0}, {\"Date\": \"2003-05-01T00:00:00\", \"variable\": \"DE\", \"value\": 8369895.0}, {\"Date\": \"2003-06-01T00:00:00\", \"variable\": \"DE\", \"value\": 7884038.0}, {\"Date\": \"2003-07-01T00:00:00\", \"variable\": \"DE\", \"value\": 8157886.0}, {\"Date\": \"2003-08-01T00:00:00\", \"variable\": \"DE\", \"value\": 8205820.0}, {\"Date\": \"2003-09-01T00:00:00\", \"variable\": \"DE\", \"value\": 8943872.0}, {\"Date\": \"2003-10-01T00:00:00\", \"variable\": \"DE\", \"value\": 8433735.0}, {\"Date\": \"2003-11-01T00:00:00\", \"variable\": \"DE\", \"value\": 6479205.0}, {\"Date\": \"2003-12-01T00:00:00\", \"variable\": \"DE\", \"value\": 5791893.0}, {\"Date\": \"2004-01-01T00:00:00\", \"variable\": \"DE\", \"value\": 4980928.0}, {\"Date\": \"2004-02-01T00:00:00\", \"variable\": \"DE\", \"value\": 5505309.0}, {\"Date\": \"2004-03-01T00:00:00\", \"variable\": \"DE\", \"value\": 6640682.0}, {\"Date\": \"2004-04-01T00:00:00\", \"variable\": \"DE\", \"value\": 6871985.0}, {\"Date\": \"2004-05-01T00:00:00\", \"variable\": \"DE\", \"value\": 8589029.0}, {\"Date\": \"2004-06-01T00:00:00\", \"variable\": \"DE\", \"value\": 8371562.0}, {\"Date\": \"2004-07-01T00:00:00\", \"variable\": \"DE\", \"value\": 8642257.0}, {\"Date\": \"2004-08-01T00:00:00\", \"variable\": \"DE\", \"value\": 8370525.0}, {\"Date\": \"2004-09-01T00:00:00\", \"variable\": \"DE\", \"value\": 9351606.0}, {\"Date\": \"2004-10-01T00:00:00\", \"variable\": \"DE\", \"value\": 8700695.0}, {\"Date\": \"2004-11-01T00:00:00\", \"variable\": \"DE\", \"value\": 6833654.0}, {\"Date\": \"2004-12-01T00:00:00\", \"variable\": \"DE\", \"value\": 6136941.0}, {\"Date\": \"2005-01-01T00:00:00\", \"variable\": \"DE\", \"value\": 5423624.0}, {\"Date\": \"2005-02-01T00:00:00\", \"variable\": \"DE\", \"value\": 5797440.0}, {\"Date\": \"2005-03-01T00:00:00\", \"variable\": \"DE\", \"value\": 6557621.0}, {\"Date\": \"2005-04-01T00:00:00\", \"variable\": \"DE\", \"value\": 7453749.0}, {\"Date\": \"2005-05-01T00:00:00\", \"variable\": \"DE\", \"value\": 8573205.0}, {\"Date\": \"2005-06-01T00:00:00\", \"variable\": \"DE\", \"value\": 8708234.0}, {\"Date\": \"2005-07-01T00:00:00\", \"variable\": \"DE\", \"value\": 8907829.0}, {\"Date\": \"2005-08-01T00:00:00\", \"variable\": \"DE\", \"value\": 9019181.0}, {\"Date\": \"2005-09-01T00:00:00\", \"variable\": \"DE\", \"value\": 9743413.0}, {\"Date\": \"2005-10-01T00:00:00\", \"variable\": \"DE\", \"value\": 8964499.0}, {\"Date\": \"2005-11-01T00:00:00\", \"variable\": \"DE\", \"value\": 7128070.0}, {\"Date\": \"2005-12-01T00:00:00\", \"variable\": \"DE\", \"value\": 6467533.0}, {\"Date\": \"2006-01-01T00:00:00\", \"variable\": \"DE\", \"value\": 5682742.0}, {\"Date\": \"2006-02-01T00:00:00\", \"variable\": \"DE\", \"value\": 5987329.0}, {\"Date\": \"2006-03-01T00:00:00\", \"variable\": \"DE\", \"value\": 7116553.0}, {\"Date\": \"2006-04-01T00:00:00\", \"variable\": \"DE\", \"value\": 7452377.0}, {\"Date\": \"2006-05-01T00:00:00\", \"variable\": \"DE\", \"value\": 9261910.0}, {\"Date\": \"2006-06-01T00:00:00\", \"variable\": \"DE\", \"value\": 9015147.0}, {\"Date\": \"2006-07-01T00:00:00\", \"variable\": \"DE\", \"value\": 9245264.0}, {\"Date\": \"2006-08-01T00:00:00\", \"variable\": \"DE\", \"value\": 9181702.0}, {\"Date\": \"2006-09-01T00:00:00\", \"variable\": \"DE\", \"value\": 10518546.0}, {\"Date\": \"2006-10-01T00:00:00\", \"variable\": \"DE\", \"value\": 9255362.0}, {\"Date\": \"2006-11-01T00:00:00\", \"variable\": \"DE\", \"value\": 7470916.0}, {\"Date\": \"2006-12-01T00:00:00\", \"variable\": \"DE\", \"value\": 6963087.0}, {\"Date\": \"2007-01-01T00:00:00\", \"variable\": \"DE\", \"value\": 5848762.0}, {\"Date\": \"2007-02-01T00:00:00\", \"variable\": \"DE\", \"value\": 6234330.0}, {\"Date\": \"2007-03-01T00:00:00\", \"variable\": \"DE\", \"value\": 7632920.0}, {\"Date\": \"2007-04-01T00:00:00\", \"variable\": \"DE\", \"value\": 7869005.0}, {\"Date\": \"2007-05-01T00:00:00\", \"variable\": \"DE\", \"value\": 9201855.0}, {\"Date\": \"2007-06-01T00:00:00\", \"variable\": \"DE\", \"value\": 9526109.0}, {\"Date\": \"2007-07-01T00:00:00\", \"variable\": \"DE\", \"value\": 9690515.0}, {\"Date\": \"2007-08-01T00:00:00\", \"variable\": \"DE\", \"value\": 9756842.0}, {\"Date\": \"2007-09-01T00:00:00\", \"variable\": \"DE\", \"value\": 10480979.0}, {\"Date\": \"2007-10-01T00:00:00\", \"variable\": \"DE\", \"value\": 9651148.0}, {\"Date\": \"2007-11-01T00:00:00\", \"variable\": \"DE\", \"value\": 7912914.0}, {\"Date\": \"2007-12-01T00:00:00\", \"variable\": \"DE\", \"value\": 7058135.0}, {\"Date\": \"2008-01-01T00:00:00\", \"variable\": \"DE\", \"value\": 6079289.0}, {\"Date\": \"2008-02-01T00:00:00\", \"variable\": \"DE\", \"value\": 6896194.0}, {\"Date\": \"2008-03-01T00:00:00\", \"variable\": \"DE\", \"value\": 7354476.0}, {\"Date\": \"2008-04-01T00:00:00\", \"variable\": \"DE\", \"value\": 8369482.0}, {\"Date\": \"2008-05-01T00:00:00\", \"variable\": \"DE\", \"value\": 9867356.0}, {\"Date\": \"2008-06-01T00:00:00\", \"variable\": \"DE\", \"value\": 9449167.0}, {\"Date\": \"2008-07-01T00:00:00\", \"variable\": \"DE\", \"value\": 9802959.0}, {\"Date\": \"2008-08-01T00:00:00\", \"variable\": \"DE\", \"value\": 9890438.0}, {\"Date\": \"2008-09-01T00:00:00\", \"variable\": \"DE\", \"value\": 10512132.0}, {\"Date\": \"2008-10-01T00:00:00\", \"variable\": \"DE\", \"value\": 9889010.0}, {\"Date\": \"2008-11-01T00:00:00\", \"variable\": \"DE\", \"value\": 7705485.0}, {\"Date\": \"2008-12-01T00:00:00\", \"variable\": \"DE\", \"value\": 7062157.0}, {\"Date\": \"2009-01-01T00:00:00\", \"variable\": \"DE\", \"value\": 5847947.0}, {\"Date\": \"2009-02-01T00:00:00\", \"variable\": \"DE\", \"value\": 6351018.0}, {\"Date\": \"2009-03-01T00:00:00\", \"variable\": \"DE\", \"value\": 7505714.0}, {\"Date\": \"2009-04-01T00:00:00\", \"variable\": \"DE\", \"value\": 7778554.0}, {\"Date\": \"2009-05-01T00:00:00\", \"variable\": \"DE\", \"value\": 9761406.0}, {\"Date\": \"2009-06-01T00:00:00\", \"variable\": \"DE\", \"value\": 9372958.0}, {\"Date\": \"2009-07-01T00:00:00\", \"variable\": \"DE\", \"value\": 9972112.0}, {\"Date\": \"2009-08-01T00:00:00\", \"variable\": \"DE\", \"value\": 10083380.0}, {\"Date\": \"2009-09-01T00:00:00\", \"variable\": \"DE\", \"value\": 10419061.0}, {\"Date\": \"2009-10-01T00:00:00\", \"variable\": \"DE\", \"value\": 9835083.0}, {\"Date\": \"2009-11-01T00:00:00\", \"variable\": \"DE\", \"value\": 7823378.0}, {\"Date\": \"2009-12-01T00:00:00\", \"variable\": \"DE\", \"value\": 7301857.0}, {\"Date\": \"2010-01-01T00:00:00\", \"variable\": \"DE\", \"value\": 5914641.0}, {\"Date\": \"2010-02-01T00:00:00\", \"variable\": \"DE\", \"value\": 6660159.0}, {\"Date\": \"2010-03-01T00:00:00\", \"variable\": \"DE\", \"value\": 7861055.0}, {\"Date\": \"2010-04-01T00:00:00\", \"variable\": \"DE\", \"value\": 8500385.0}, {\"Date\": \"2010-05-01T00:00:00\", \"variable\": \"DE\", \"value\": 10149713.0}, {\"Date\": \"2010-06-01T00:00:00\", \"variable\": \"DE\", \"value\": 10213857.0}, {\"Date\": \"2010-07-01T00:00:00\", \"variable\": \"DE\", \"value\": 10682470.0}, {\"Date\": \"2010-08-01T00:00:00\", \"variable\": \"DE\", \"value\": 10753918.0}, {\"Date\": \"2010-09-01T00:00:00\", \"variable\": \"DE\", \"value\": 11370541.0}, {\"Date\": \"2010-10-01T00:00:00\", \"variable\": \"DE\", \"value\": 10715918.0}, {\"Date\": \"2010-11-01T00:00:00\", \"variable\": \"DE\", \"value\": 8557366.0}, {\"Date\": \"2010-12-01T00:00:00\", \"variable\": \"DE\", \"value\": 7656895.0}, {\"Date\": \"2011-01-01T00:00:00\", \"variable\": \"DE\", \"value\": 6516075.0}, {\"Date\": \"2011-02-01T00:00:00\", \"variable\": \"DE\", \"value\": 7092280.0}, {\"Date\": \"2011-03-01T00:00:00\", \"variable\": \"DE\", \"value\": 8275119.0}, {\"Date\": \"2011-04-01T00:00:00\", \"variable\": \"DE\", \"value\": 8996745.0}, {\"Date\": \"2011-05-01T00:00:00\", \"variable\": \"DE\", \"value\": 10906252.0}, {\"Date\": \"2011-06-01T00:00:00\", \"variable\": \"DE\", \"value\": 10894379.0}, {\"Date\": \"2011-07-01T00:00:00\", \"variable\": \"DE\", \"value\": 11570412.0}, {\"Date\": \"2011-08-01T00:00:00\", \"variable\": \"DE\", \"value\": 11155092.0}, {\"Date\": \"2011-09-01T00:00:00\", \"variable\": \"DE\", \"value\": 11935301.0}, {\"Date\": \"2011-10-01T00:00:00\", \"variable\": \"DE\", \"value\": 11143662.0}, {\"Date\": \"2011-11-01T00:00:00\", \"variable\": \"DE\", \"value\": 9001098.0}, {\"Date\": \"2011-12-01T00:00:00\", \"variable\": \"DE\", \"value\": 8096683.0}, {\"Date\": \"2012-01-01T00:00:00\", \"variable\": \"DE\", \"value\": 6975295.0}, {\"Date\": \"2012-02-01T00:00:00\", \"variable\": \"DE\", \"value\": 7575869.0}, {\"Date\": \"2012-03-01T00:00:00\", \"variable\": \"DE\", \"value\": 9100987.0}, {\"Date\": \"2012-04-01T00:00:00\", \"variable\": \"DE\", \"value\": 9457653.0}, {\"Date\": \"2012-05-01T00:00:00\", \"variable\": \"DE\", \"value\": 11205397.0}, {\"Date\": \"2012-06-01T00:00:00\", \"variable\": \"DE\", \"value\": 11211790.0}, {\"Date\": \"2012-07-01T00:00:00\", \"variable\": \"DE\", \"value\": 11718346.0}, {\"Date\": \"2012-08-01T00:00:00\", \"variable\": \"DE\", \"value\": 11706160.0}, {\"Date\": \"2012-09-01T00:00:00\", \"variable\": \"DE\", \"value\": 12360605.0}, {\"Date\": \"2012-10-01T00:00:00\", \"variable\": \"DE\", \"value\": 11196186.0}, {\"Date\": \"2012-11-01T00:00:00\", \"variable\": \"DE\", \"value\": 9278650.0}, {\"Date\": \"2012-12-01T00:00:00\", \"variable\": \"DE\", \"value\": 8434506.0}, {\"Date\": \"2013-01-01T00:00:00\", \"variable\": \"DE\", \"value\": 7076969.0}, {\"Date\": \"2013-02-01T00:00:00\", \"variable\": \"DE\", \"value\": 7583169.0}, {\"Date\": \"2013-03-01T00:00:00\", \"variable\": \"DE\", \"value\": 9033507.0}, {\"Date\": \"2013-04-01T00:00:00\", \"variable\": \"DE\", \"value\": 9689413.0}, {\"Date\": \"2013-05-01T00:00:00\", \"variable\": \"DE\", \"value\": 11311766.0}, {\"Date\": \"2013-06-01T00:00:00\", \"variable\": \"DE\", \"value\": 11435421.0}, {\"Date\": \"2013-07-01T00:00:00\", \"variable\": \"DE\", \"value\": 12097905.0}, {\"Date\": \"2013-08-01T00:00:00\", \"variable\": \"DE\", \"value\": 12151510.0}, {\"Date\": \"2013-09-01T00:00:00\", \"variable\": \"DE\", \"value\": 12322730.0}, {\"Date\": \"2013-10-01T00:00:00\", \"variable\": \"DE\", \"value\": 11599286.0}, {\"Date\": \"2013-11-01T00:00:00\", \"variable\": \"DE\", \"value\": 9501007.0}, {\"Date\": \"2013-12-01T00:00:00\", \"variable\": \"DE\", \"value\": 8653717.0}, {\"Date\": \"2014-01-01T00:00:00\", \"variable\": \"DE\", \"value\": 7248835.0}, {\"Date\": \"2014-02-01T00:00:00\", \"variable\": \"DE\", \"value\": 7904348.0}, {\"Date\": \"2014-03-01T00:00:00\", \"variable\": \"DE\", \"value\": 9290494.0}, {\"Date\": \"2014-04-01T00:00:00\", \"variable\": \"DE\", \"value\": 9739594.0}, {\"Date\": \"2014-05-01T00:00:00\", \"variable\": \"DE\", \"value\": 12092508.0}, {\"Date\": \"2014-06-01T00:00:00\", \"variable\": \"DE\", \"value\": 11705824.0}, {\"Date\": \"2014-07-01T00:00:00\", \"variable\": \"DE\", \"value\": 12318127.0}, {\"Date\": \"2014-08-01T00:00:00\", \"variable\": \"DE\", \"value\": 12650693.0}, {\"Date\": \"2014-09-01T00:00:00\", \"variable\": \"DE\", \"value\": 12650696.0}, {\"Date\": \"2014-10-01T00:00:00\", \"variable\": \"DE\", \"value\": 12226766.0}, {\"Date\": \"2014-11-01T00:00:00\", \"variable\": \"DE\", \"value\": 9806429.0}, {\"Date\": \"2014-12-01T00:00:00\", \"variable\": \"DE\", \"value\": 9240752.0}, {\"Date\": \"2015-01-01T00:00:00\", \"variable\": \"DE\", \"value\": 7459748.0}, {\"Date\": \"2015-02-01T00:00:00\", \"variable\": \"DE\", \"value\": 8271184.0}, {\"Date\": \"2015-03-01T00:00:00\", \"variable\": \"DE\", \"value\": 9781260.0}, {\"Date\": \"2015-04-01T00:00:00\", \"variable\": \"DE\", \"value\": 10263954.0}, {\"Date\": \"2015-05-01T00:00:00\", \"variable\": \"DE\", \"value\": 12370255.0}, {\"Date\": \"2015-06-01T00:00:00\", \"variable\": \"DE\", \"value\": 12464548.0}, {\"Date\": \"2015-07-01T00:00:00\", \"variable\": \"DE\", \"value\": 13118786.0}, {\"Date\": \"2015-08-01T00:00:00\", \"variable\": \"DE\", \"value\": 13057638.0}, {\"Date\": \"2015-09-01T00:00:00\", \"variable\": \"DE\", \"value\": 12909237.0}, {\"Date\": \"2015-10-01T00:00:00\", \"variable\": \"DE\", \"value\": 12468804.0}, {\"Date\": \"2015-11-01T00:00:00\", \"variable\": \"DE\", \"value\": 10274097.0}, {\"Date\": \"2015-12-01T00:00:00\", \"variable\": \"DE\", \"value\": 9427385.0}, {\"Date\": \"2016-01-01T00:00:00\", \"variable\": \"DE\", \"value\": 7676323.0}, {\"Date\": \"2016-02-01T00:00:00\", \"variable\": \"DE\", \"value\": 8769044.0}, {\"Date\": \"2016-03-01T00:00:00\", \"variable\": \"DE\", \"value\": 9969657.0}, {\"Date\": \"2016-04-01T00:00:00\", \"variable\": \"DE\", \"value\": 10993118.0}, {\"Date\": \"2016-05-01T00:00:00\", \"variable\": \"DE\", \"value\": 12402622.0}, {\"Date\": \"2016-06-01T00:00:00\", \"variable\": \"DE\", \"value\": 12475418.0}, {\"Date\": \"2016-07-01T00:00:00\", \"variable\": \"DE\", \"value\": 13505413.0}, {\"Date\": \"2016-08-01T00:00:00\", \"variable\": \"DE\", \"value\": 12924722.0}, {\"Date\": \"2016-09-01T00:00:00\", \"variable\": \"DE\", \"value\": 13586617.0}, {\"Date\": \"2016-10-01T00:00:00\", \"variable\": \"DE\", \"value\": 12762183.0}, {\"Date\": \"2016-11-01T00:00:00\", \"variable\": \"DE\", \"value\": 10567308.0}, {\"Date\": \"2016-12-01T00:00:00\", \"variable\": \"DE\", \"value\": 9846892.0}, {\"Date\": \"2017-01-01T00:00:00\", \"variable\": \"DE\", \"value\": 8279716.0}, {\"Date\": \"2017-02-01T00:00:00\", \"variable\": \"DE\", \"value\": 8782925.0}, {\"Date\": \"2017-03-01T00:00:00\", \"variable\": \"DE\", \"value\": 10644716.0}, {\"Date\": \"2017-04-01T00:00:00\", \"variable\": \"DE\", \"value\": 11318757.0}, {\"Date\": \"2017-05-01T00:00:00\", \"variable\": \"DE\", \"value\": 13023747.0}, {\"Date\": \"2017-06-01T00:00:00\", \"variable\": \"DE\", \"value\": 13219920.0}, {\"Date\": \"2017-07-01T00:00:00\", \"variable\": \"DE\", \"value\": 14009901.0}, {\"Date\": \"2017-08-01T00:00:00\", \"variable\": \"DE\", \"value\": 13491586.0}, {\"Date\": \"2017-09-01T00:00:00\", \"variable\": \"DE\", \"value\": 14182815.0}, {\"Date\": \"2017-10-01T00:00:00\", \"variable\": \"DE\", \"value\": 12940626.0}, {\"Date\": \"2017-11-01T00:00:00\", \"variable\": \"DE\", \"value\": 10785817.0}, {\"Date\": \"2017-12-01T00:00:00\", \"variable\": \"DE\", \"value\": 10452985.0}, {\"Date\": \"2018-01-01T00:00:00\", \"variable\": \"DE\", \"value\": 8713317.0}, {\"Date\": \"2018-02-01T00:00:00\", \"variable\": \"DE\", \"value\": 9300791.0}, {\"Date\": \"2018-03-01T00:00:00\", \"variable\": \"DE\", \"value\": 11004822.0}, {\"Date\": \"2018-04-01T00:00:00\", \"variable\": \"DE\", \"value\": 11666825.0}, {\"Date\": \"2018-05-01T00:00:00\", \"variable\": \"DE\", \"value\": 13113329.0}, {\"Date\": \"2018-06-01T00:00:00\", \"variable\": \"DE\", \"value\": 13773254.0}, {\"Date\": \"2018-07-01T00:00:00\", \"variable\": \"DE\", \"value\": 14278769.0}, {\"Date\": \"2018-08-01T00:00:00\", \"variable\": \"DE\", \"value\": 14044382.0}, {\"Date\": \"2018-09-01T00:00:00\", \"variable\": \"DE\", \"value\": 14302813.0}, {\"Date\": \"2018-10-01T00:00:00\", \"variable\": \"DE\", \"value\": 13320325.0}, {\"Date\": \"2018-11-01T00:00:00\", \"variable\": \"DE\", \"value\": 11425685.0}, {\"Date\": \"2018-12-01T00:00:00\", \"variable\": \"DE\", \"value\": 10645568.0}, {\"Date\": \"2019-01-01T00:00:00\", \"variable\": \"DE\", \"value\": 8874939.0}, {\"Date\": \"2019-02-01T00:00:00\", \"variable\": \"DE\", \"value\": 9600404.0}, {\"Date\": \"2019-03-01T00:00:00\", \"variable\": \"DE\", \"value\": 11279076.0}, {\"Date\": \"2019-04-01T00:00:00\", \"variable\": \"DE\", \"value\": 11974146.0}, {\"Date\": \"2019-05-01T00:00:00\", \"variable\": \"DE\", \"value\": 13931767.0}, {\"Date\": \"2019-06-01T00:00:00\", \"variable\": \"DE\", \"value\": 13910286.0}, {\"Date\": \"2019-07-01T00:00:00\", \"variable\": \"DE\", \"value\": 14744389.0}, {\"Date\": \"2019-08-01T00:00:00\", \"variable\": \"DE\", \"value\": 14570339.0}, {\"Date\": \"2019-09-01T00:00:00\", \"variable\": \"DE\", \"value\": 14373815.0}, {\"Date\": \"2019-10-01T00:00:00\", \"variable\": \"DE\", \"value\": 13780441.0}, {\"Date\": \"1994-01-01T00:00:00\", \"variable\": \"PT\", \"value\": 315653.0}, {\"Date\": \"1994-02-01T00:00:00\", \"variable\": \"PT\", \"value\": 364478.0}, {\"Date\": \"1994-03-01T00:00:00\", \"variable\": \"PT\", \"value\": 546842.0}, {\"Date\": \"1994-04-01T00:00:00\", \"variable\": \"PT\", \"value\": 676028.0}, {\"Date\": \"1994-05-01T00:00:00\", \"variable\": \"PT\", \"value\": 639490.0}, {\"Date\": \"1994-06-01T00:00:00\", \"variable\": \"PT\", \"value\": 618870.0}, {\"Date\": \"1994-07-01T00:00:00\", \"variable\": \"PT\", \"value\": 688344.0}, {\"Date\": \"1994-08-01T00:00:00\", \"variable\": \"PT\", \"value\": 818554.0}, {\"Date\": \"1994-09-01T00:00:00\", \"variable\": \"PT\", \"value\": 700620.0}, {\"Date\": \"1994-10-01T00:00:00\", \"variable\": \"PT\", \"value\": 566364.0}, {\"Date\": \"1994-11-01T00:00:00\", \"variable\": \"PT\", \"value\": 419101.0}, {\"Date\": \"1994-12-01T00:00:00\", \"variable\": \"PT\", \"value\": 405914.0}, {\"Date\": \"1995-01-01T00:00:00\", \"variable\": \"PT\", \"value\": 342045.0}, {\"Date\": \"1995-02-01T00:00:00\", \"variable\": \"PT\", \"value\": 395425.0}, {\"Date\": \"1995-03-01T00:00:00\", \"variable\": \"PT\", \"value\": 516981.0}, {\"Date\": \"1995-04-01T00:00:00\", \"variable\": \"PT\", \"value\": 733613.0}, {\"Date\": \"1995-05-01T00:00:00\", \"variable\": \"PT\", \"value\": 718773.0}, {\"Date\": \"1995-06-01T00:00:00\", \"variable\": \"PT\", \"value\": 677044.0}, {\"Date\": \"1995-07-01T00:00:00\", \"variable\": \"PT\", \"value\": 745918.0}, {\"Date\": \"1995-08-01T00:00:00\", \"variable\": \"PT\", \"value\": 886835.0}, {\"Date\": \"1995-09-01T00:00:00\", \"variable\": \"PT\", \"value\": 779225.0}, {\"Date\": \"1995-10-01T00:00:00\", \"variable\": \"PT\", \"value\": 643352.0}, {\"Date\": \"1995-11-01T00:00:00\", \"variable\": \"PT\", \"value\": 456728.0}, {\"Date\": \"1995-12-01T00:00:00\", \"variable\": \"PT\", \"value\": 430156.0}, {\"Date\": \"1996-01-01T00:00:00\", \"variable\": \"PT\", \"value\": 346012.0}, {\"Date\": \"1996-02-01T00:00:00\", \"variable\": \"PT\", \"value\": 428034.0}, {\"Date\": \"1996-03-01T00:00:00\", \"variable\": \"PT\", \"value\": 576391.0}, {\"Date\": \"1996-04-01T00:00:00\", \"variable\": \"PT\", \"value\": 714235.0}, {\"Date\": \"1996-05-01T00:00:00\", \"variable\": \"PT\", \"value\": 742041.0}, {\"Date\": \"1996-06-01T00:00:00\", \"variable\": \"PT\", \"value\": 709365.0}, {\"Date\": \"1996-07-01T00:00:00\", \"variable\": \"PT\", \"value\": 741873.0}, {\"Date\": \"1996-08-01T00:00:00\", \"variable\": \"PT\", \"value\": 944974.0}, {\"Date\": \"1996-09-01T00:00:00\", \"variable\": \"PT\", \"value\": 812454.0}, {\"Date\": \"1996-10-01T00:00:00\", \"variable\": \"PT\", \"value\": 670733.0}, {\"Date\": \"1996-11-01T00:00:00\", \"variable\": \"PT\", \"value\": 475543.0}, {\"Date\": \"1996-12-01T00:00:00\", \"variable\": \"PT\", \"value\": 428415.0}, {\"Date\": \"1997-01-01T00:00:00\", \"variable\": \"PT\", \"value\": 361735.0}, {\"Date\": \"1997-02-01T00:00:00\", \"variable\": \"PT\", \"value\": 431465.0}, {\"Date\": \"1997-03-01T00:00:00\", \"variable\": \"PT\", \"value\": 681821.0}, {\"Date\": \"1997-04-01T00:00:00\", \"variable\": \"PT\", \"value\": 709958.0}, {\"Date\": \"1997-05-01T00:00:00\", \"variable\": \"PT\", \"value\": 815940.0}, {\"Date\": \"1997-06-01T00:00:00\", \"variable\": \"PT\", \"value\": 720699.0}, {\"Date\": \"1997-07-01T00:00:00\", \"variable\": \"PT\", \"value\": 804018.0}, {\"Date\": \"1997-08-01T00:00:00\", \"variable\": \"PT\", \"value\": 1003883.0}, {\"Date\": \"1997-09-01T00:00:00\", \"variable\": \"PT\", \"value\": 855960.0}, {\"Date\": \"1997-10-01T00:00:00\", \"variable\": \"PT\", \"value\": 726385.0}, {\"Date\": \"1997-11-01T00:00:00\", \"variable\": \"PT\", \"value\": 485184.0}, {\"Date\": \"1997-12-01T00:00:00\", \"variable\": \"PT\", \"value\": 452849.0}, {\"Date\": \"1998-01-01T00:00:00\", \"variable\": \"PT\", \"value\": 419475.0}, {\"Date\": \"1998-02-01T00:00:00\", \"variable\": \"PT\", \"value\": 488538.0}, {\"Date\": \"1998-03-01T00:00:00\", \"variable\": \"PT\", \"value\": 633139.0}, {\"Date\": \"1998-04-01T00:00:00\", \"variable\": \"PT\", \"value\": 794680.0}, {\"Date\": \"1998-05-01T00:00:00\", \"variable\": \"PT\", \"value\": 865283.0}, {\"Date\": \"1998-06-01T00:00:00\", \"variable\": \"PT\", \"value\": 894765.0}, {\"Date\": \"1998-07-01T00:00:00\", \"variable\": \"PT\", \"value\": 949136.0}, {\"Date\": \"1998-08-01T00:00:00\", \"variable\": \"PT\", \"value\": 1145857.0}, {\"Date\": \"1998-09-01T00:00:00\", \"variable\": \"PT\", \"value\": 998911.0}, {\"Date\": \"1998-10-01T00:00:00\", \"variable\": \"PT\", \"value\": 777252.0}, {\"Date\": \"1998-11-01T00:00:00\", \"variable\": \"PT\", \"value\": 525027.0}, {\"Date\": \"1998-12-01T00:00:00\", \"variable\": \"PT\", \"value\": 502651.0}, {\"Date\": \"1999-01-01T00:00:00\", \"variable\": \"PT\", \"value\": 430529.0}, {\"Date\": \"1999-02-01T00:00:00\", \"variable\": \"PT\", \"value\": 525637.0}, {\"Date\": \"1999-03-01T00:00:00\", \"variable\": \"PT\", \"value\": 696968.0}, {\"Date\": \"1999-04-01T00:00:00\", \"variable\": \"PT\", \"value\": 808873.0}, {\"Date\": \"1999-05-01T00:00:00\", \"variable\": \"PT\", \"value\": 880291.0}, {\"Date\": \"1999-06-01T00:00:00\", \"variable\": \"PT\", \"value\": 832874.0}, {\"Date\": \"1999-07-01T00:00:00\", \"variable\": \"PT\", \"value\": 897939.0}, {\"Date\": \"1999-08-01T00:00:00\", \"variable\": \"PT\", \"value\": 1084926.0}, {\"Date\": \"1999-09-01T00:00:00\", \"variable\": \"PT\", \"value\": 959357.0}, {\"Date\": \"1999-10-01T00:00:00\", \"variable\": \"PT\", \"value\": 853172.0}, {\"Date\": \"1999-11-01T00:00:00\", \"variable\": \"PT\", \"value\": 578744.0}, {\"Date\": \"1999-12-01T00:00:00\", \"variable\": \"PT\", \"value\": 496283.0}, {\"Date\": \"2000-01-01T00:00:00\", \"variable\": \"PT\", \"value\": 427041.0}, {\"Date\": \"2000-02-01T00:00:00\", \"variable\": \"PT\", \"value\": 526350.0}, {\"Date\": \"2000-03-01T00:00:00\", \"variable\": \"PT\", \"value\": 729482.0}, {\"Date\": \"2000-04-01T00:00:00\", \"variable\": \"PT\", \"value\": 894769.0}, {\"Date\": \"2000-05-01T00:00:00\", \"variable\": \"PT\", \"value\": 891307.0}, {\"Date\": \"2000-06-01T00:00:00\", \"variable\": \"PT\", \"value\": 847774.0}, {\"Date\": \"2000-07-01T00:00:00\", \"variable\": \"PT\", \"value\": 940053.0}, {\"Date\": \"2000-08-01T00:00:00\", \"variable\": \"PT\", \"value\": 1108076.0}, {\"Date\": \"2000-09-01T00:00:00\", \"variable\": \"PT\", \"value\": 995570.0}, {\"Date\": \"2000-10-01T00:00:00\", \"variable\": \"PT\", \"value\": 841055.0}, {\"Date\": \"2000-11-01T00:00:00\", \"variable\": \"PT\", \"value\": 619118.0}, {\"Date\": \"2000-12-01T00:00:00\", \"variable\": \"PT\", \"value\": 522220.0}, {\"Date\": \"2001-01-01T00:00:00\", \"variable\": \"PT\", \"value\": 478745.0}, {\"Date\": \"2001-02-01T00:00:00\", \"variable\": \"PT\", \"value\": 569991.0}, {\"Date\": \"2001-03-01T00:00:00\", \"variable\": \"PT\", \"value\": 724735.0}, {\"Date\": \"2001-04-01T00:00:00\", \"variable\": \"PT\", \"value\": 918416.0}, {\"Date\": \"2001-05-01T00:00:00\", \"variable\": \"PT\", \"value\": 917764.0}, {\"Date\": \"2001-06-01T00:00:00\", \"variable\": \"PT\", \"value\": 894448.0}, {\"Date\": \"2001-07-01T00:00:00\", \"variable\": \"PT\", \"value\": 950431.0}, {\"Date\": \"2001-08-01T00:00:00\", \"variable\": \"PT\", \"value\": 1096784.0}, {\"Date\": \"2001-09-01T00:00:00\", \"variable\": \"PT\", \"value\": 952255.0}, {\"Date\": \"2001-10-01T00:00:00\", \"variable\": \"PT\", \"value\": 815475.0}, {\"Date\": \"2001-11-01T00:00:00\", \"variable\": \"PT\", \"value\": 584753.0}, {\"Date\": \"2001-12-01T00:00:00\", \"variable\": \"PT\", \"value\": 488649.0}, {\"Date\": \"2002-01-01T00:00:00\", \"variable\": \"PT\", \"value\": 463526.0}, {\"Date\": \"2002-02-01T00:00:00\", \"variable\": \"PT\", \"value\": 582512.0}, {\"Date\": \"2002-03-01T00:00:00\", \"variable\": \"PT\", \"value\": 827094.0}, {\"Date\": \"2002-04-01T00:00:00\", \"variable\": \"PT\", \"value\": 834359.0}, {\"Date\": \"2002-05-01T00:00:00\", \"variable\": \"PT\", \"value\": 940354.0}, {\"Date\": \"2002-06-01T00:00:00\", \"variable\": \"PT\", \"value\": 912061.0}, {\"Date\": \"2002-07-01T00:00:00\", \"variable\": \"PT\", \"value\": 961808.0}, {\"Date\": \"2002-08-01T00:00:00\", \"variable\": \"PT\", \"value\": 1245493.0}, {\"Date\": \"2002-09-01T00:00:00\", \"variable\": \"PT\", \"value\": 1022900.0}, {\"Date\": \"2002-10-01T00:00:00\", \"variable\": \"PT\", \"value\": 823833.0}, {\"Date\": \"2002-11-01T00:00:00\", \"variable\": \"PT\", \"value\": 601660.0}, {\"Date\": \"2002-12-01T00:00:00\", \"variable\": \"PT\", \"value\": 519144.0}, {\"Date\": \"2003-01-01T00:00:00\", \"variable\": \"PT\", \"value\": 464480.0}, {\"Date\": \"2003-02-01T00:00:00\", \"variable\": \"PT\", \"value\": 549259.0}, {\"Date\": \"2003-03-01T00:00:00\", \"variable\": \"PT\", \"value\": 703002.0}, {\"Date\": \"2003-04-01T00:00:00\", \"variable\": \"PT\", \"value\": 890693.0}, {\"Date\": \"2003-05-01T00:00:00\", \"variable\": \"PT\", \"value\": 953336.0}, {\"Date\": \"2003-06-01T00:00:00\", \"variable\": \"PT\", \"value\": 896668.0}, {\"Date\": \"2003-07-01T00:00:00\", \"variable\": \"PT\", \"value\": 954499.0}, {\"Date\": \"2003-08-01T00:00:00\", \"variable\": \"PT\", \"value\": 1196879.0}, {\"Date\": \"2003-09-01T00:00:00\", \"variable\": \"PT\", \"value\": 998050.0}, {\"Date\": \"2003-10-01T00:00:00\", \"variable\": \"PT\", \"value\": 835529.0}, {\"Date\": \"2003-11-01T00:00:00\", \"variable\": \"PT\", \"value\": 613220.0}, {\"Date\": \"2003-12-01T00:00:00\", \"variable\": \"PT\", \"value\": 563652.0}, {\"Date\": \"2004-01-01T00:00:00\", \"variable\": \"PT\", \"value\": 475304.0}, {\"Date\": \"2004-02-01T00:00:00\", \"variable\": \"PT\", \"value\": 598922.0}, {\"Date\": \"2004-03-01T00:00:00\", \"variable\": \"PT\", \"value\": 720474.0}, {\"Date\": \"2004-04-01T00:00:00\", \"variable\": \"PT\", \"value\": 927614.0}, {\"Date\": \"2004-05-01T00:00:00\", \"variable\": \"PT\", \"value\": 994840.0}, {\"Date\": \"2004-06-01T00:00:00\", \"variable\": \"PT\", \"value\": 938991.0}, {\"Date\": \"2004-07-01T00:00:00\", \"variable\": \"PT\", \"value\": 1011718.0}, {\"Date\": \"2004-08-01T00:00:00\", \"variable\": \"PT\", \"value\": 1255639.0}, {\"Date\": \"2004-09-01T00:00:00\", \"variable\": \"PT\", \"value\": 1052437.0}, {\"Date\": \"2004-10-01T00:00:00\", \"variable\": \"PT\", \"value\": 934268.0}, {\"Date\": \"2004-11-01T00:00:00\", \"variable\": \"PT\", \"value\": 618424.0}, {\"Date\": \"2004-12-01T00:00:00\", \"variable\": \"PT\", \"value\": 606263.0}, {\"Date\": \"2005-01-01T00:00:00\", \"variable\": \"PT\", \"value\": 505291.0}, {\"Date\": \"2005-02-01T00:00:00\", \"variable\": \"PT\", \"value\": 582901.0}, {\"Date\": \"2005-03-01T00:00:00\", \"variable\": \"PT\", \"value\": 830238.0}, {\"Date\": \"2005-04-01T00:00:00\", \"variable\": \"PT\", \"value\": 899584.0}, {\"Date\": \"2005-05-01T00:00:00\", \"variable\": \"PT\", \"value\": 1024243.0}, {\"Date\": \"2005-06-01T00:00:00\", \"variable\": \"PT\", \"value\": 982722.0}, {\"Date\": \"2005-07-01T00:00:00\", \"variable\": \"PT\", \"value\": 1080611.0}, {\"Date\": \"2005-08-01T00:00:00\", \"variable\": \"PT\", \"value\": 1332651.0}, {\"Date\": \"2005-09-01T00:00:00\", \"variable\": \"PT\", \"value\": 1096997.0}, {\"Date\": \"2005-10-01T00:00:00\", \"variable\": \"PT\", \"value\": 940787.0}, {\"Date\": \"2005-11-01T00:00:00\", \"variable\": \"PT\", \"value\": 662732.0}, {\"Date\": \"2005-12-01T00:00:00\", \"variable\": \"PT\", \"value\": 650933.0}, {\"Date\": \"2006-01-01T00:00:00\", \"variable\": \"PT\", \"value\": 544074.0}, {\"Date\": \"2006-02-01T00:00:00\", \"variable\": \"PT\", \"value\": 632557.0}, {\"Date\": \"2006-03-01T00:00:00\", \"variable\": \"PT\", \"value\": 790270.0}, {\"Date\": \"2006-04-01T00:00:00\", \"variable\": \"PT\", \"value\": 1098197.0}, {\"Date\": \"2006-05-01T00:00:00\", \"variable\": \"PT\", \"value\": 1082291.0}, {\"Date\": \"2006-06-01T00:00:00\", \"variable\": \"PT\", \"value\": 1015167.0}, {\"Date\": \"2006-07-01T00:00:00\", \"variable\": \"PT\", \"value\": 1150895.0}, {\"Date\": \"2006-08-01T00:00:00\", \"variable\": \"PT\", \"value\": 1427130.0}, {\"Date\": \"2006-09-01T00:00:00\", \"variable\": \"PT\", \"value\": 1194884.0}, {\"Date\": \"2006-10-01T00:00:00\", \"variable\": \"PT\", \"value\": 1023405.0}, {\"Date\": \"2006-11-01T00:00:00\", \"variable\": \"PT\", \"value\": 728881.0}, {\"Date\": \"2006-12-01T00:00:00\", \"variable\": \"PT\", \"value\": 744185.0}, {\"Date\": \"2007-01-01T00:00:00\", \"variable\": \"PT\", \"value\": 576307.0}, {\"Date\": \"2007-02-01T00:00:00\", \"variable\": \"PT\", \"value\": 658472.0}, {\"Date\": \"2007-03-01T00:00:00\", \"variable\": \"PT\", \"value\": 915489.0}, {\"Date\": \"2007-04-01T00:00:00\", \"variable\": \"PT\", \"value\": 1098465.0}, {\"Date\": \"2007-05-01T00:00:00\", \"variable\": \"PT\", \"value\": 1148166.0}, {\"Date\": \"2007-06-01T00:00:00\", \"variable\": \"PT\", \"value\": 1118169.0}, {\"Date\": \"2007-07-01T00:00:00\", \"variable\": \"PT\", \"value\": 1248138.0}, {\"Date\": \"2007-08-01T00:00:00\", \"variable\": \"PT\", \"value\": 1526522.0}, {\"Date\": \"2007-09-01T00:00:00\", \"variable\": \"PT\", \"value\": 1298201.0}, {\"Date\": \"2007-10-01T00:00:00\", \"variable\": \"PT\", \"value\": 1124452.0}, {\"Date\": \"2007-11-01T00:00:00\", \"variable\": \"PT\", \"value\": 831812.0}, {\"Date\": \"2007-12-01T00:00:00\", \"variable\": \"PT\", \"value\": 734021.0}, {\"Date\": \"2008-01-01T00:00:00\", \"variable\": \"PT\", \"value\": 615271.0}, {\"Date\": \"2008-02-01T00:00:00\", \"variable\": \"PT\", \"value\": 755601.0}, {\"Date\": \"2008-03-01T00:00:00\", \"variable\": \"PT\", \"value\": 1021606.0}, {\"Date\": \"2008-04-01T00:00:00\", \"variable\": \"PT\", \"value\": 1056241.0}, {\"Date\": \"2008-05-01T00:00:00\", \"variable\": \"PT\", \"value\": 1266949.0}, {\"Date\": \"2008-06-01T00:00:00\", \"variable\": \"PT\", \"value\": 1136882.0}, {\"Date\": \"2008-07-01T00:00:00\", \"variable\": \"PT\", \"value\": 1271992.0}, {\"Date\": \"2008-08-01T00:00:00\", \"variable\": \"PT\", \"value\": 1591623.0}, {\"Date\": \"2008-09-01T00:00:00\", \"variable\": \"PT\", \"value\": 1307947.0}, {\"Date\": \"2008-10-01T00:00:00\", \"variable\": \"PT\", \"value\": 1080402.0}, {\"Date\": \"2008-11-01T00:00:00\", \"variable\": \"PT\", \"value\": 763769.0}, {\"Date\": \"2008-12-01T00:00:00\", \"variable\": \"PT\", \"value\": 708589.0}, {\"Date\": \"2009-01-01T00:00:00\", \"variable\": \"PT\", \"value\": 577019.0}, {\"Date\": \"2009-02-01T00:00:00\", \"variable\": \"PT\", \"value\": 684991.0}, {\"Date\": \"2009-03-01T00:00:00\", \"variable\": \"PT\", \"value\": 813284.0}, {\"Date\": \"2009-04-01T00:00:00\", \"variable\": \"PT\", \"value\": 1082696.0}, {\"Date\": \"2009-05-01T00:00:00\", \"variable\": \"PT\", \"value\": 1117176.0}, {\"Date\": \"2009-06-01T00:00:00\", \"variable\": \"PT\", \"value\": 1133948.0}, {\"Date\": \"2009-07-01T00:00:00\", \"variable\": \"PT\", \"value\": 1261969.0}, {\"Date\": \"2009-08-01T00:00:00\", \"variable\": \"PT\", \"value\": 1590361.0}, {\"Date\": \"2009-09-01T00:00:00\", \"variable\": \"PT\", \"value\": 1256136.0}, {\"Date\": \"2009-10-01T00:00:00\", \"variable\": \"PT\", \"value\": 1114547.0}, {\"Date\": \"2009-11-01T00:00:00\", \"variable\": \"PT\", \"value\": 756640.0}, {\"Date\": \"2009-12-01T00:00:00\", \"variable\": \"PT\", \"value\": 718466.0}, {\"Date\": \"2010-01-01T00:00:00\", \"variable\": \"PT\", \"value\": 630397.0}, {\"Date\": \"2010-02-01T00:00:00\", \"variable\": \"PT\", \"value\": 738501.0}, {\"Date\": \"2010-03-01T00:00:00\", \"variable\": \"PT\", \"value\": 915722.0}, {\"Date\": \"2010-04-01T00:00:00\", \"variable\": \"PT\", \"value\": 1069915.0}, {\"Date\": \"2010-05-01T00:00:00\", \"variable\": \"PT\", \"value\": 1221264.0}, {\"Date\": \"2010-06-01T00:00:00\", \"variable\": \"PT\", \"value\": 1162915.0}, {\"Date\": \"2010-07-01T00:00:00\", \"variable\": \"PT\", \"value\": 1370520.0}, {\"Date\": \"2010-08-01T00:00:00\", \"variable\": \"PT\", \"value\": 1650055.0}, {\"Date\": \"2010-09-01T00:00:00\", \"variable\": \"PT\", \"value\": 1360006.0}, {\"Date\": \"2010-10-01T00:00:00\", \"variable\": \"PT\", \"value\": 1195378.0}, {\"Date\": \"2010-11-01T00:00:00\", \"variable\": \"PT\", \"value\": 754408.0}, {\"Date\": \"2010-12-01T00:00:00\", \"variable\": \"PT\", \"value\": 737044.0}, {\"Date\": \"2011-01-01T00:00:00\", \"variable\": \"PT\", \"value\": 619120.0}, {\"Date\": \"2011-02-01T00:00:00\", \"variable\": \"PT\", \"value\": 710494.0}, {\"Date\": \"2011-03-01T00:00:00\", \"variable\": \"PT\", \"value\": 903986.0}, {\"Date\": \"2011-04-01T00:00:00\", \"variable\": \"PT\", \"value\": 1205385.0}, {\"Date\": \"2011-05-01T00:00:00\", \"variable\": \"PT\", \"value\": 1264144.0}, {\"Date\": \"2011-06-01T00:00:00\", \"variable\": \"PT\", \"value\": 1297090.0}, {\"Date\": \"2011-07-01T00:00:00\", \"variable\": \"PT\", \"value\": 1485248.0}, {\"Date\": \"2011-08-01T00:00:00\", \"variable\": \"PT\", \"value\": 1741037.0}, {\"Date\": \"2011-09-01T00:00:00\", \"variable\": \"PT\", \"value\": 1427943.0}, {\"Date\": \"2011-10-01T00:00:00\", \"variable\": \"PT\", \"value\": 1191877.0}, {\"Date\": \"2011-11-01T00:00:00\", \"variable\": \"PT\", \"value\": 704995.0}, {\"Date\": \"2011-12-01T00:00:00\", \"variable\": \"PT\", \"value\": 699457.0}, {\"Date\": \"2012-01-01T00:00:00\", \"variable\": \"PT\", \"value\": 589319.0}, {\"Date\": \"2012-02-01T00:00:00\", \"variable\": \"PT\", \"value\": 680887.0}, {\"Date\": \"2012-03-01T00:00:00\", \"variable\": \"PT\", \"value\": 887387.0}, {\"Date\": \"2012-04-01T00:00:00\", \"variable\": \"PT\", \"value\": 1113177.0}, {\"Date\": \"2012-05-01T00:00:00\", \"variable\": \"PT\", \"value\": 1237858.0}, {\"Date\": \"2012-06-01T00:00:00\", \"variable\": \"PT\", \"value\": 1305418.0}, {\"Date\": \"2012-07-01T00:00:00\", \"variable\": \"PT\", \"value\": 1448505.0}, {\"Date\": \"2012-08-01T00:00:00\", \"variable\": \"PT\", \"value\": 1696925.0}, {\"Date\": \"2012-09-01T00:00:00\", \"variable\": \"PT\", \"value\": 1444346.0}, {\"Date\": \"2012-10-01T00:00:00\", \"variable\": \"PT\", \"value\": 1160167.0}, {\"Date\": \"2012-11-01T00:00:00\", \"variable\": \"PT\", \"value\": 734534.0}, {\"Date\": \"2012-12-01T00:00:00\", \"variable\": \"PT\", \"value\": 682171.0}, {\"Date\": \"2013-01-01T00:00:00\", \"variable\": \"PT\", \"value\": 579155.0}, {\"Date\": \"2013-02-01T00:00:00\", \"variable\": \"PT\", \"value\": 694407.0}, {\"Date\": \"2013-03-01T00:00:00\", \"variable\": \"PT\", \"value\": 977524.0}, {\"Date\": \"2013-04-01T00:00:00\", \"variable\": \"PT\", \"value\": 1092958.0}, {\"Date\": \"2013-05-01T00:00:00\", \"variable\": \"PT\", \"value\": 1366198.0}, {\"Date\": \"2013-06-01T00:00:00\", \"variable\": \"PT\", \"value\": 1436462.0}, {\"Date\": \"2013-07-01T00:00:00\", \"variable\": \"PT\", \"value\": 1532246.0}, {\"Date\": \"2013-08-01T00:00:00\", \"variable\": \"PT\", \"value\": 1859446.0}, {\"Date\": \"2013-09-01T00:00:00\", \"variable\": \"PT\", \"value\": 1528179.0}, {\"Date\": \"2013-10-01T00:00:00\", \"variable\": \"PT\", \"value\": 1258137.0}, {\"Date\": \"2013-11-01T00:00:00\", \"variable\": \"PT\", \"value\": 824646.0}, {\"Date\": \"2013-12-01T00:00:00\", \"variable\": \"PT\", \"value\": 776172.0}, {\"Date\": \"2014-01-01T00:00:00\", \"variable\": \"PT\", \"value\": 655036.0}, {\"Date\": \"2014-02-01T00:00:00\", \"variable\": \"PT\", \"value\": 758252.0}, {\"Date\": \"2014-03-01T00:00:00\", \"variable\": \"PT\", \"value\": 1026996.0}, {\"Date\": \"2014-04-01T00:00:00\", \"variable\": \"PT\", \"value\": 1399754.0}, {\"Date\": \"2014-05-01T00:00:00\", \"variable\": \"PT\", \"value\": 1591122.0}, {\"Date\": \"2014-06-01T00:00:00\", \"variable\": \"PT\", \"value\": 1567208.0}, {\"Date\": \"2014-07-01T00:00:00\", \"variable\": \"PT\", \"value\": 1728319.0}, {\"Date\": \"2014-08-01T00:00:00\", \"variable\": \"PT\", \"value\": 2136001.0}, {\"Date\": \"2014-09-01T00:00:00\", \"variable\": \"PT\", \"value\": 1723994.0}, {\"Date\": \"2014-10-01T00:00:00\", \"variable\": \"PT\", \"value\": 1476558.0}, {\"Date\": \"2014-11-01T00:00:00\", \"variable\": \"PT\", \"value\": 927964.0}, {\"Date\": \"2014-12-01T00:00:00\", \"variable\": \"PT\", \"value\": 912688.0}, {\"Date\": \"2015-01-01T00:00:00\", \"variable\": \"PT\", \"value\": 708167.0}, {\"Date\": \"2015-02-01T00:00:00\", \"variable\": \"PT\", \"value\": 824846.0}, {\"Date\": \"2015-03-01T00:00:00\", \"variable\": \"PT\", \"value\": 1079881.0}, {\"Date\": \"2015-04-01T00:00:00\", \"variable\": \"PT\", \"value\": 1368341.0}, {\"Date\": \"2015-05-01T00:00:00\", \"variable\": \"PT\", \"value\": 1655763.0}, {\"Date\": \"2015-06-01T00:00:00\", \"variable\": \"PT\", \"value\": 1629986.0}, {\"Date\": \"2015-07-01T00:00:00\", \"variable\": \"PT\", \"value\": 1786400.0}, {\"Date\": \"2015-08-01T00:00:00\", \"variable\": \"PT\", \"value\": 2138545.0}, {\"Date\": \"2015-09-01T00:00:00\", \"variable\": \"PT\", \"value\": 1812387.0}, {\"Date\": \"2015-10-01T00:00:00\", \"variable\": \"PT\", \"value\": 1525831.0}, {\"Date\": \"2015-11-01T00:00:00\", \"variable\": \"PT\", \"value\": 939428.0}, {\"Date\": \"2015-12-01T00:00:00\", \"variable\": \"PT\", \"value\": 942327.0}, {\"Date\": \"2016-01-01T00:00:00\", \"variable\": \"PT\", \"value\": 804215.0}, {\"Date\": \"2016-02-01T00:00:00\", \"variable\": \"PT\", \"value\": 991925.0}, {\"Date\": \"2016-03-01T00:00:00\", \"variable\": \"PT\", \"value\": 1341428.0}, {\"Date\": \"2016-04-01T00:00:00\", \"variable\": \"PT\", \"value\": 1525734.0}, {\"Date\": \"2016-05-01T00:00:00\", \"variable\": \"PT\", \"value\": 1802186.0}, {\"Date\": \"2016-06-01T00:00:00\", \"variable\": \"PT\", \"value\": 1861158.0}, {\"Date\": \"2016-07-01T00:00:00\", \"variable\": \"PT\", \"value\": 2052728.0}, {\"Date\": \"2016-08-01T00:00:00\", \"variable\": \"PT\", \"value\": 2305078.0}, {\"Date\": \"2016-09-01T00:00:00\", \"variable\": \"PT\", \"value\": 2027721.0}, {\"Date\": \"2016-10-01T00:00:00\", \"variable\": \"PT\", \"value\": 1770236.0}, {\"Date\": \"2016-11-01T00:00:00\", \"variable\": \"PT\", \"value\": 1104733.0}, {\"Date\": \"2016-12-01T00:00:00\", \"variable\": \"PT\", \"value\": 1054949.0}, {\"Date\": \"2017-01-01T00:00:00\", \"variable\": \"PT\", \"value\": 941268.0}, {\"Date\": \"2017-02-01T00:00:00\", \"variable\": \"PT\", \"value\": 1076681.0}, {\"Date\": \"2017-03-01T00:00:00\", \"variable\": \"PT\", \"value\": 1355755.0}, {\"Date\": \"2017-04-01T00:00:00\", \"variable\": \"PT\", \"value\": 1887821.0}, {\"Date\": \"2017-05-01T00:00:00\", \"variable\": \"PT\", \"value\": 1954164.0}, {\"Date\": \"2017-06-01T00:00:00\", \"variable\": \"PT\", \"value\": 2045274.0}, {\"Date\": \"2017-07-01T00:00:00\", \"variable\": \"PT\", \"value\": 2185167.0}, {\"Date\": \"2017-08-01T00:00:00\", \"variable\": \"PT\", \"value\": 2424592.0}, {\"Date\": \"2017-09-01T00:00:00\", \"variable\": \"PT\", \"value\": 2208608.0}, {\"Date\": \"2017-10-01T00:00:00\", \"variable\": \"PT\", \"value\": 1954913.0}, {\"Date\": \"2017-11-01T00:00:00\", \"variable\": \"PT\", \"value\": 1225302.0}, {\"Date\": \"2017-12-01T00:00:00\", \"variable\": \"PT\", \"value\": 1179559.0}, {\"Date\": \"2018-01-01T00:00:00\", \"variable\": \"PT\", \"value\": 955656.0}, {\"Date\": \"2018-02-01T00:00:00\", \"variable\": \"PT\", \"value\": 1113035.0}, {\"Date\": \"2018-03-01T00:00:00\", \"variable\": \"PT\", \"value\": 1480669.0}, {\"Date\": \"2018-04-01T00:00:00\", \"variable\": \"PT\", \"value\": 1732371.0}, {\"Date\": \"2018-05-01T00:00:00\", \"variable\": \"PT\", \"value\": 1987980.0}, {\"Date\": \"2018-06-01T00:00:00\", \"variable\": \"PT\", \"value\": 1993375.0}, {\"Date\": \"2018-07-01T00:00:00\", \"variable\": \"PT\", \"value\": 2124165.0}, {\"Date\": \"2018-08-01T00:00:00\", \"variable\": \"PT\", \"value\": 2433537.0}, {\"Date\": \"2018-09-01T00:00:00\", \"variable\": \"PT\", \"value\": 2190642.0}, {\"Date\": \"2018-10-01T00:00:00\", \"variable\": \"PT\", \"value\": 1943740.0}, {\"Date\": \"2018-11-01T00:00:00\", \"variable\": \"PT\", \"value\": 1291337.0}, {\"Date\": \"2018-12-01T00:00:00\", \"variable\": \"PT\", \"value\": 1193561.0}, {\"Date\": \"2019-01-01T00:00:00\", \"variable\": \"PT\", \"value\": 1012572.0}, {\"Date\": \"2019-02-01T00:00:00\", \"variable\": \"PT\", \"value\": 1148242.0}, {\"Date\": \"2019-03-01T00:00:00\", \"variable\": \"PT\", \"value\": 1524251.0}, {\"Date\": \"2019-04-01T00:00:00\", \"variable\": \"PT\", \"value\": 1888400.0}, {\"Date\": \"2019-05-01T00:00:00\", \"variable\": \"PT\", \"value\": 2098320.0}, {\"Date\": \"2019-06-01T00:00:00\", \"variable\": \"PT\", \"value\": 2143639.0}, {\"Date\": \"2019-07-01T00:00:00\", \"variable\": \"PT\", \"value\": 2205705.0}, {\"Date\": \"2019-08-01T00:00:00\", \"variable\": \"PT\", \"value\": 2531809.0}, {\"Date\": \"2019-09-01T00:00:00\", \"variable\": \"PT\", \"value\": 2263748.0}, {\"Date\": \"2019-10-01T00:00:00\", \"variable\": \"PT\", \"value\": 1995942.0}, {\"Date\": \"1994-01-01T00:00:00\", \"variable\": \"ES\", \"value\": 1604591.0}, {\"Date\": \"1994-02-01T00:00:00\", \"variable\": \"ES\", \"value\": 1955541.0}, {\"Date\": \"1994-03-01T00:00:00\", \"variable\": \"ES\", \"value\": 2645179.0}, {\"Date\": \"1994-04-01T00:00:00\", \"variable\": \"ES\", \"value\": 2891058.0}, {\"Date\": \"1994-05-01T00:00:00\", \"variable\": \"ES\", \"value\": 3504376.0}, {\"Date\": \"1994-06-01T00:00:00\", \"variable\": \"ES\", \"value\": 3535611.0}, {\"Date\": \"1994-07-01T00:00:00\", \"variable\": \"ES\", \"value\": 3880009.0}, {\"Date\": \"1994-08-01T00:00:00\", \"variable\": \"ES\", \"value\": 4233218.0}, {\"Date\": \"1994-09-01T00:00:00\", \"variable\": \"ES\", \"value\": 3998465.0}, {\"Date\": \"1994-10-01T00:00:00\", \"variable\": \"ES\", \"value\": 3187417.0}, {\"Date\": \"1994-11-01T00:00:00\", \"variable\": \"ES\", \"value\": 2133746.0}, {\"Date\": \"1994-12-01T00:00:00\", \"variable\": \"ES\", \"value\": 1960621.0}, {\"Date\": \"1995-01-01T00:00:00\", \"variable\": \"ES\", \"value\": 1786666.0}, {\"Date\": \"1995-02-01T00:00:00\", \"variable\": \"ES\", \"value\": 1995810.0}, {\"Date\": \"1995-03-01T00:00:00\", \"variable\": \"ES\", \"value\": 2585537.0}, {\"Date\": \"1995-04-01T00:00:00\", \"variable\": \"ES\", \"value\": 3527122.0}, {\"Date\": \"1995-05-01T00:00:00\", \"variable\": \"ES\", \"value\": 3638920.0}, {\"Date\": \"1995-06-01T00:00:00\", \"variable\": \"ES\", \"value\": 3679693.0}, {\"Date\": \"1995-07-01T00:00:00\", \"variable\": \"ES\", \"value\": 4009026.0}, {\"Date\": \"1995-08-01T00:00:00\", \"variable\": \"ES\", \"value\": 4370479.0}, {\"Date\": \"1995-09-01T00:00:00\", \"variable\": \"ES\", \"value\": 4075204.0}, {\"Date\": \"1995-10-01T00:00:00\", \"variable\": \"ES\", \"value\": 3418189.0}, {\"Date\": \"1995-11-01T00:00:00\", \"variable\": \"ES\", \"value\": 2282245.0}, {\"Date\": \"1995-12-01T00:00:00\", \"variable\": \"ES\", \"value\": 2060092.0}, {\"Date\": \"1996-01-01T00:00:00\", \"variable\": \"ES\", \"value\": 1806754.0}, {\"Date\": \"1996-02-01T00:00:00\", \"variable\": \"ES\", \"value\": 2051433.0}, {\"Date\": \"1996-03-01T00:00:00\", \"variable\": \"ES\", \"value\": 2756335.0}, {\"Date\": \"1996-04-01T00:00:00\", \"variable\": \"ES\", \"value\": 3442084.0}, {\"Date\": \"1996-05-01T00:00:00\", \"variable\": \"ES\", \"value\": 3840981.0}, {\"Date\": \"1996-06-01T00:00:00\", \"variable\": \"ES\", \"value\": 3887248.0}, {\"Date\": \"1996-07-01T00:00:00\", \"variable\": \"ES\", \"value\": 4139100.0}, {\"Date\": \"1996-08-01T00:00:00\", \"variable\": \"ES\", \"value\": 4573789.0}, {\"Date\": \"1996-09-01T00:00:00\", \"variable\": \"ES\", \"value\": 4204887.0}, {\"Date\": \"1996-10-01T00:00:00\", \"variable\": \"ES\", \"value\": 3543409.0}, {\"Date\": \"1996-11-01T00:00:00\", \"variable\": \"ES\", \"value\": 2361606.0}, {\"Date\": \"1996-12-01T00:00:00\", \"variable\": \"ES\", \"value\": 2123783.0}, {\"Date\": \"1997-01-01T00:00:00\", \"variable\": \"ES\", \"value\": 1853657.0}, {\"Date\": \"1997-02-01T00:00:00\", \"variable\": \"ES\", \"value\": 2196578.0}, {\"Date\": \"1997-03-01T00:00:00\", \"variable\": \"ES\", \"value\": 3021241.0}, {\"Date\": \"1997-04-01T00:00:00\", \"variable\": \"ES\", \"value\": 3369287.0}, {\"Date\": \"1997-05-01T00:00:00\", \"variable\": \"ES\", \"value\": 4096589.0}, {\"Date\": \"1997-06-01T00:00:00\", \"variable\": \"ES\", \"value\": 4049849.0}, {\"Date\": \"1997-07-01T00:00:00\", \"variable\": \"ES\", \"value\": 4535355.0}, {\"Date\": \"1997-08-01T00:00:00\", \"variable\": \"ES\", \"value\": 5124137.0}, {\"Date\": \"1997-09-01T00:00:00\", \"variable\": \"ES\", \"value\": 4623759.0}, {\"Date\": \"1997-10-01T00:00:00\", \"variable\": \"ES\", \"value\": 3805328.0}, {\"Date\": \"1997-11-01T00:00:00\", \"variable\": \"ES\", \"value\": 2533414.0}, {\"Date\": \"1997-12-01T00:00:00\", \"variable\": \"ES\", \"value\": 2362237.0}, {\"Date\": \"1998-01-01T00:00:00\", \"variable\": \"ES\", \"value\": 2120497.0}, {\"Date\": \"1998-02-01T00:00:00\", \"variable\": \"ES\", \"value\": 2479831.0}, {\"Date\": \"1998-03-01T00:00:00\", \"variable\": \"ES\", \"value\": 3163872.0}, {\"Date\": \"1998-04-01T00:00:00\", \"variable\": \"ES\", \"value\": 3998559.0}, {\"Date\": \"1998-05-01T00:00:00\", \"variable\": \"ES\", \"value\": 4491571.0}, {\"Date\": \"1998-06-01T00:00:00\", \"variable\": \"ES\", \"value\": 4455472.0}, {\"Date\": \"1998-07-01T00:00:00\", \"variable\": \"ES\", \"value\": 4940251.0}, {\"Date\": \"1998-08-01T00:00:00\", \"variable\": \"ES\", \"value\": 5473512.0}, {\"Date\": \"1998-09-01T00:00:00\", \"variable\": \"ES\", \"value\": 5038850.0}, {\"Date\": \"1998-10-01T00:00:00\", \"variable\": \"ES\", \"value\": 4259194.0}, {\"Date\": \"1998-11-01T00:00:00\", \"variable\": \"ES\", \"value\": 2813351.0}, {\"Date\": \"1998-12-01T00:00:00\", \"variable\": \"ES\", \"value\": 2546812.0}, {\"Date\": \"1999-01-01T00:00:00\", \"variable\": \"ES\", \"value\": 2775738.0}, {\"Date\": \"1999-02-01T00:00:00\", \"variable\": \"ES\", \"value\": 3205892.0}, {\"Date\": \"1999-03-01T00:00:00\", \"variable\": \"ES\", \"value\": 4143342.0}, {\"Date\": \"1999-04-01T00:00:00\", \"variable\": \"ES\", \"value\": 4931385.0}, {\"Date\": \"1999-05-01T00:00:00\", \"variable\": \"ES\", \"value\": 5724555.0}, {\"Date\": \"1999-06-01T00:00:00\", \"variable\": \"ES\", \"value\": 5834331.0}, {\"Date\": \"1999-07-01T00:00:00\", \"variable\": \"ES\", \"value\": 6415298.0}, {\"Date\": \"1999-08-01T00:00:00\", \"variable\": \"ES\", \"value\": 6986211.0}, {\"Date\": \"1999-09-01T00:00:00\", \"variable\": \"ES\", \"value\": 6349504.0}, {\"Date\": \"1999-10-01T00:00:00\", \"variable\": \"ES\", \"value\": 5447891.0}, {\"Date\": \"1999-11-01T00:00:00\", \"variable\": \"ES\", \"value\": 3570715.0}, {\"Date\": \"1999-12-01T00:00:00\", \"variable\": \"ES\", \"value\": 3204082.0}, {\"Date\": \"2000-01-01T00:00:00\", \"variable\": \"ES\", \"value\": 2808737.0}, {\"Date\": \"2000-02-01T00:00:00\", \"variable\": \"ES\", \"value\": 3390877.0}, {\"Date\": \"2000-03-01T00:00:00\", \"variable\": \"ES\", \"value\": 4244207.0}, {\"Date\": \"2000-04-01T00:00:00\", \"variable\": \"ES\", \"value\": 5335325.0}, {\"Date\": \"2000-05-01T00:00:00\", \"variable\": \"ES\", \"value\": 5592100.0}, {\"Date\": \"2000-06-01T00:00:00\", \"variable\": \"ES\", \"value\": 5806706.0}, {\"Date\": \"2000-07-01T00:00:00\", \"variable\": \"ES\", \"value\": 6374390.0}, {\"Date\": \"2000-08-01T00:00:00\", \"variable\": \"ES\", \"value\": 6994683.0}, {\"Date\": \"2000-09-01T00:00:00\", \"variable\": \"ES\", \"value\": 6327589.0}, {\"Date\": \"2000-10-01T00:00:00\", \"variable\": \"ES\", \"value\": 5368961.0}, {\"Date\": \"2000-11-01T00:00:00\", \"variable\": \"ES\", \"value\": 3691093.0}, {\"Date\": \"2000-12-01T00:00:00\", \"variable\": \"ES\", \"value\": 3347855.0}, {\"Date\": \"2001-01-01T00:00:00\", \"variable\": \"ES\", \"value\": 2991632.0}, {\"Date\": \"2001-02-01T00:00:00\", \"variable\": \"ES\", \"value\": 3509778.0}, {\"Date\": \"2001-03-01T00:00:00\", \"variable\": \"ES\", \"value\": 4335739.0}, {\"Date\": \"2001-04-01T00:00:00\", \"variable\": \"ES\", \"value\": 5388491.0}, {\"Date\": \"2001-05-01T00:00:00\", \"variable\": \"ES\", \"value\": 5683300.0}, {\"Date\": \"2001-06-01T00:00:00\", \"variable\": \"ES\", \"value\": 5900750.0}, {\"Date\": \"2001-07-01T00:00:00\", \"variable\": \"ES\", \"value\": 6409088.0}, {\"Date\": \"2001-08-01T00:00:00\", \"variable\": \"ES\", \"value\": 7184145.0}, {\"Date\": \"2001-09-01T00:00:00\", \"variable\": \"ES\", \"value\": 6294472.0}, {\"Date\": \"2001-10-01T00:00:00\", \"variable\": \"ES\", \"value\": 5303305.0}, {\"Date\": \"2001-11-01T00:00:00\", \"variable\": \"ES\", \"value\": 3666771.0}, {\"Date\": \"2001-12-01T00:00:00\", \"variable\": \"ES\", \"value\": 3213182.0}, {\"Date\": \"2002-01-01T00:00:00\", \"variable\": \"ES\", \"value\": 2881288.0}, {\"Date\": \"2002-02-01T00:00:00\", \"variable\": \"ES\", \"value\": 3493943.0}, {\"Date\": \"2002-03-01T00:00:00\", \"variable\": \"ES\", \"value\": 4718949.0}, {\"Date\": \"2002-04-01T00:00:00\", \"variable\": \"ES\", \"value\": 4874010.0}, {\"Date\": \"2002-05-01T00:00:00\", \"variable\": \"ES\", \"value\": 5717911.0}, {\"Date\": \"2002-06-01T00:00:00\", \"variable\": \"ES\", \"value\": 5718109.0}, {\"Date\": \"2002-07-01T00:00:00\", \"variable\": \"ES\", \"value\": 6442518.0}, {\"Date\": \"2002-08-01T00:00:00\", \"variable\": \"ES\", \"value\": 7433028.0}, {\"Date\": \"2002-09-01T00:00:00\", \"variable\": \"ES\", \"value\": 6234663.0}, {\"Date\": \"2002-10-01T00:00:00\", \"variable\": \"ES\", \"value\": 5383091.0}, {\"Date\": \"2002-11-01T00:00:00\", \"variable\": \"ES\", \"value\": 3720461.0}, {\"Date\": \"2002-12-01T00:00:00\", \"variable\": \"ES\", \"value\": 3358986.0}, {\"Date\": \"2003-01-01T00:00:00\", \"variable\": \"ES\", \"value\": 2987151.0}, {\"Date\": \"2003-02-01T00:00:00\", \"variable\": \"ES\", \"value\": 3460589.0}, {\"Date\": \"2003-03-01T00:00:00\", \"variable\": \"ES\", \"value\": 4402243.0}, {\"Date\": \"2003-04-01T00:00:00\", \"variable\": \"ES\", \"value\": 5382686.0}, {\"Date\": \"2003-05-01T00:00:00\", \"variable\": \"ES\", \"value\": 5983479.0}, {\"Date\": \"2003-06-01T00:00:00\", \"variable\": \"ES\", \"value\": 6266248.0}, {\"Date\": \"2003-07-01T00:00:00\", \"variable\": \"ES\", \"value\": 6813992.0}, {\"Date\": \"2003-08-01T00:00:00\", \"variable\": \"ES\", \"value\": 7717822.0}, {\"Date\": \"2003-09-01T00:00:00\", \"variable\": \"ES\", \"value\": 6505129.0}, {\"Date\": \"2003-10-01T00:00:00\", \"variable\": \"ES\", \"value\": 5535202.0}, {\"Date\": \"2003-11-01T00:00:00\", \"variable\": \"ES\", \"value\": 3846595.0}, {\"Date\": \"2003-12-01T00:00:00\", \"variable\": \"ES\", \"value\": 3589125.0}, {\"Date\": \"2004-01-01T00:00:00\", \"variable\": \"ES\", \"value\": 3141459.0}, {\"Date\": \"2004-02-01T00:00:00\", \"variable\": \"ES\", \"value\": 3945781.0}, {\"Date\": \"2004-03-01T00:00:00\", \"variable\": \"ES\", \"value\": 4707166.0}, {\"Date\": \"2004-04-01T00:00:00\", \"variable\": \"ES\", \"value\": 5584409.0}, {\"Date\": \"2004-05-01T00:00:00\", \"variable\": \"ES\", \"value\": 6220193.0}, {\"Date\": \"2004-06-01T00:00:00\", \"variable\": \"ES\", \"value\": 6490723.0}, {\"Date\": \"2004-07-01T00:00:00\", \"variable\": \"ES\", \"value\": 7245836.0}, {\"Date\": \"2004-08-01T00:00:00\", \"variable\": \"ES\", \"value\": 8182340.0}, {\"Date\": \"2004-09-01T00:00:00\", \"variable\": \"ES\", \"value\": 7168165.0}, {\"Date\": \"2004-10-01T00:00:00\", \"variable\": \"ES\", \"value\": 6241128.0}, {\"Date\": \"2004-11-01T00:00:00\", \"variable\": \"ES\", \"value\": 4134840.0}, {\"Date\": \"2004-12-01T00:00:00\", \"variable\": \"ES\", \"value\": 3890752.0}, {\"Date\": \"2005-01-01T00:00:00\", \"variable\": \"ES\", \"value\": 3370550.0}, {\"Date\": \"2005-02-01T00:00:00\", \"variable\": \"ES\", \"value\": 4048677.0}, {\"Date\": \"2005-03-01T00:00:00\", \"variable\": \"ES\", \"value\": 5234282.0}, {\"Date\": \"2005-04-01T00:00:00\", \"variable\": \"ES\", \"value\": 5516187.0}, {\"Date\": \"2005-05-01T00:00:00\", \"variable\": \"ES\", \"value\": 6716835.0}, {\"Date\": \"2005-06-01T00:00:00\", \"variable\": \"ES\", \"value\": 6944616.0}, {\"Date\": \"2005-07-01T00:00:00\", \"variable\": \"ES\", \"value\": 7777232.0}, {\"Date\": \"2005-08-01T00:00:00\", \"variable\": \"ES\", \"value\": 8593520.0}, {\"Date\": \"2005-09-01T00:00:00\", \"variable\": \"ES\", \"value\": 7453684.0}, {\"Date\": \"2005-10-01T00:00:00\", \"variable\": \"ES\", \"value\": 6444907.0}, {\"Date\": \"2005-11-01T00:00:00\", \"variable\": \"ES\", \"value\": 4505361.0}, {\"Date\": \"2005-12-01T00:00:00\", \"variable\": \"ES\", \"value\": 4023904.0}, {\"Date\": \"2006-01-01T00:00:00\", \"variable\": \"ES\", \"value\": 4063638.0}, {\"Date\": \"2006-02-01T00:00:00\", \"variable\": \"ES\", \"value\": 4708871.0}, {\"Date\": \"2006-03-01T00:00:00\", \"variable\": \"ES\", \"value\": 5826759.0}, {\"Date\": \"2006-04-01T00:00:00\", \"variable\": \"ES\", \"value\": 7316609.0}, {\"Date\": \"2006-05-01T00:00:00\", \"variable\": \"ES\", \"value\": 7640336.0}, {\"Date\": \"2006-06-01T00:00:00\", \"variable\": \"ES\", \"value\": 8116209.0}, {\"Date\": \"2006-07-01T00:00:00\", \"variable\": \"ES\", \"value\": 9025100.0}, {\"Date\": \"2006-08-01T00:00:00\", \"variable\": \"ES\", \"value\": 9713525.0}, {\"Date\": \"2006-09-01T00:00:00\", \"variable\": \"ES\", \"value\": 8443538.0}, {\"Date\": \"2006-10-01T00:00:00\", \"variable\": \"ES\", \"value\": 7384473.0}, {\"Date\": \"2006-11-01T00:00:00\", \"variable\": \"ES\", \"value\": 5134815.0}, {\"Date\": \"2006-12-01T00:00:00\", \"variable\": \"ES\", \"value\": 4657742.0}, {\"Date\": \"2007-01-01T00:00:00\", \"variable\": \"ES\", \"value\": 4208407.0}, {\"Date\": \"2007-02-01T00:00:00\", \"variable\": \"ES\", \"value\": 4889120.0}, {\"Date\": \"2007-03-01T00:00:00\", \"variable\": \"ES\", \"value\": 6198541.0}, {\"Date\": \"2007-04-01T00:00:00\", \"variable\": \"ES\", \"value\": 7422367.0}, {\"Date\": \"2007-05-01T00:00:00\", \"variable\": \"ES\", \"value\": 7643630.0}, {\"Date\": \"2007-06-01T00:00:00\", \"variable\": \"ES\", \"value\": 8594706.0}, {\"Date\": \"2007-07-01T00:00:00\", \"variable\": \"ES\", \"value\": 9214318.0}, {\"Date\": \"2007-08-01T00:00:00\", \"variable\": \"ES\", \"value\": 10061419.0}, {\"Date\": \"2007-09-01T00:00:00\", \"variable\": \"ES\", \"value\": 8647464.0}, {\"Date\": \"2007-10-01T00:00:00\", \"variable\": \"ES\", \"value\": 7540039.0}, {\"Date\": \"2007-11-01T00:00:00\", \"variable\": \"ES\", \"value\": 5537561.0}, {\"Date\": \"2007-12-01T00:00:00\", \"variable\": \"ES\", \"value\": 4776155.0}, {\"Date\": \"2008-01-01T00:00:00\", \"variable\": \"ES\", \"value\": 4328482.0}, {\"Date\": \"2008-02-01T00:00:00\", \"variable\": \"ES\", \"value\": 5235057.0}, {\"Date\": \"2008-03-01T00:00:00\", \"variable\": \"ES\", \"value\": 6610591.0}, {\"Date\": \"2008-04-01T00:00:00\", \"variable\": \"ES\", \"value\": 6646817.0}, {\"Date\": \"2008-05-01T00:00:00\", \"variable\": \"ES\", \"value\": 8079012.0}, {\"Date\": \"2008-06-01T00:00:00\", \"variable\": \"ES\", \"value\": 8294557.0}, {\"Date\": \"2008-07-01T00:00:00\", \"variable\": \"ES\", \"value\": 9219451.0}, {\"Date\": \"2008-08-01T00:00:00\", \"variable\": \"ES\", \"value\": 9949103.0}, {\"Date\": \"2008-09-01T00:00:00\", \"variable\": \"ES\", \"value\": 8345870.0}, {\"Date\": \"2008-10-01T00:00:00\", \"variable\": \"ES\", \"value\": 7037949.0}, {\"Date\": \"2008-11-01T00:00:00\", \"variable\": \"ES\", \"value\": 4875910.0}, {\"Date\": \"2008-12-01T00:00:00\", \"variable\": \"ES\", \"value\": 4316859.0}, {\"Date\": \"2009-01-01T00:00:00\", \"variable\": \"ES\", \"value\": 3728578.0}, {\"Date\": \"2009-02-01T00:00:00\", \"variable\": \"ES\", \"value\": 4457629.0}, {\"Date\": \"2009-03-01T00:00:00\", \"variable\": \"ES\", \"value\": 5319702.0}, {\"Date\": \"2009-04-01T00:00:00\", \"variable\": \"ES\", \"value\": 6572598.0}, {\"Date\": \"2009-05-01T00:00:00\", \"variable\": \"ES\", \"value\": 7403238.0}, {\"Date\": \"2009-06-01T00:00:00\", \"variable\": \"ES\", \"value\": 7662370.0}, {\"Date\": \"2009-07-01T00:00:00\", \"variable\": \"ES\", \"value\": 8720043.0}, {\"Date\": \"2009-08-01T00:00:00\", \"variable\": \"ES\", \"value\": 9445871.0}, {\"Date\": \"2009-09-01T00:00:00\", \"variable\": \"ES\", \"value\": 7833384.0}, {\"Date\": \"2009-10-01T00:00:00\", \"variable\": \"ES\", \"value\": 7027737.0}, {\"Date\": \"2009-11-01T00:00:00\", \"variable\": \"ES\", \"value\": 4725546.0}, {\"Date\": \"2009-12-01T00:00:00\", \"variable\": \"ES\", \"value\": 4430436.0}, {\"Date\": \"2010-01-01T00:00:00\", \"variable\": \"ES\", \"value\": 3783809.0}, {\"Date\": \"2010-02-01T00:00:00\", \"variable\": \"ES\", \"value\": 4640082.0}, {\"Date\": \"2010-03-01T00:00:00\", \"variable\": \"ES\", \"value\": 5714563.0}, {\"Date\": \"2010-04-01T00:00:00\", \"variable\": \"ES\", \"value\": 6790660.0}, {\"Date\": \"2010-05-01T00:00:00\", \"variable\": \"ES\", \"value\": 7819089.0}, {\"Date\": \"2010-06-01T00:00:00\", \"variable\": \"ES\", \"value\": 8159835.0}, {\"Date\": \"2010-07-01T00:00:00\", \"variable\": \"ES\", \"value\": 9476378.0}, {\"Date\": \"2010-08-01T00:00:00\", \"variable\": \"ES\", \"value\": 10085762.0}, {\"Date\": \"2010-09-01T00:00:00\", \"variable\": \"ES\", \"value\": 8383728.0}, {\"Date\": \"2010-10-01T00:00:00\", \"variable\": \"ES\", \"value\": 7665545.0}, {\"Date\": \"2010-11-01T00:00:00\", \"variable\": \"ES\", \"value\": 4956470.0}, {\"Date\": \"2010-12-01T00:00:00\", \"variable\": \"ES\", \"value\": 4685036.0}, {\"Date\": \"2011-01-01T00:00:00\", \"variable\": \"ES\", \"value\": 3922519.0}, {\"Date\": \"2011-02-01T00:00:00\", \"variable\": \"ES\", \"value\": 4814263.0}, {\"Date\": \"2011-03-01T00:00:00\", \"variable\": \"ES\", \"value\": 5828994.0}, {\"Date\": \"2011-04-01T00:00:00\", \"variable\": \"ES\", \"value\": 7429664.0}, {\"Date\": \"2011-05-01T00:00:00\", \"variable\": \"ES\", \"value\": 7793604.0}, {\"Date\": \"2011-06-01T00:00:00\", \"variable\": \"ES\", \"value\": 8819343.0}, {\"Date\": \"2011-07-01T00:00:00\", \"variable\": \"ES\", \"value\": 10088978.0}, {\"Date\": \"2011-08-01T00:00:00\", \"variable\": \"ES\", \"value\": 10590214.0}, {\"Date\": \"2011-09-01T00:00:00\", \"variable\": \"ES\", \"value\": 8919170.0}, {\"Date\": \"2011-10-01T00:00:00\", \"variable\": \"ES\", \"value\": 7676617.0}, {\"Date\": \"2011-11-01T00:00:00\", \"variable\": \"ES\", \"value\": 4909224.0}, {\"Date\": \"2011-12-01T00:00:00\", \"variable\": \"ES\", \"value\": 4601737.0}, {\"Date\": \"2012-01-01T00:00:00\", \"variable\": \"ES\", \"value\": 4034869.0}, {\"Date\": \"2012-02-01T00:00:00\", \"variable\": \"ES\", \"value\": 4762348.0}, {\"Date\": \"2012-03-01T00:00:00\", \"variable\": \"ES\", \"value\": 5771561.0}, {\"Date\": \"2012-04-01T00:00:00\", \"variable\": \"ES\", \"value\": 7103714.0}, {\"Date\": \"2012-05-01T00:00:00\", \"variable\": \"ES\", \"value\": 7725235.0}, {\"Date\": \"2012-06-01T00:00:00\", \"variable\": \"ES\", \"value\": 8587613.0}, {\"Date\": \"2012-07-01T00:00:00\", \"variable\": \"ES\", \"value\": 9616052.0}, {\"Date\": \"2012-08-01T00:00:00\", \"variable\": \"ES\", \"value\": 10239776.0}, {\"Date\": \"2012-09-01T00:00:00\", \"variable\": \"ES\", \"value\": 8756163.0}, {\"Date\": \"2012-10-01T00:00:00\", \"variable\": \"ES\", \"value\": 7258394.0}, {\"Date\": \"2012-11-01T00:00:00\", \"variable\": \"ES\", \"value\": 4772075.0}, {\"Date\": \"2012-12-01T00:00:00\", \"variable\": \"ES\", \"value\": 4334680.0}, {\"Date\": \"2013-01-01T00:00:00\", \"variable\": \"ES\", \"value\": 3694459.0}, {\"Date\": \"2013-02-01T00:00:00\", \"variable\": \"ES\", \"value\": 4347642.0}, {\"Date\": \"2013-03-01T00:00:00\", \"variable\": \"ES\", \"value\": 6171037.0}, {\"Date\": \"2013-04-01T00:00:00\", \"variable\": \"ES\", \"value\": 6283128.0}, {\"Date\": \"2013-05-01T00:00:00\", \"variable\": \"ES\", \"value\": 8113029.0}, {\"Date\": \"2013-06-01T00:00:00\", \"variable\": \"ES\", \"value\": 8725022.0}, {\"Date\": \"2013-07-01T00:00:00\", \"variable\": \"ES\", \"value\": 9644411.0}, {\"Date\": \"2013-08-01T00:00:00\", \"variable\": \"ES\", \"value\": 10715765.0}, {\"Date\": \"2013-09-01T00:00:00\", \"variable\": \"ES\", \"value\": 8886542.0}, {\"Date\": \"2013-10-01T00:00:00\", \"variable\": \"ES\", \"value\": 7468192.0}, {\"Date\": \"2013-11-01T00:00:00\", \"variable\": \"ES\", \"value\": 5112181.0}, {\"Date\": \"2013-12-01T00:00:00\", \"variable\": \"ES\", \"value\": 4659511.0}, {\"Date\": \"2014-01-01T00:00:00\", \"variable\": \"ES\", \"value\": 3939144.0}, {\"Date\": \"2014-02-01T00:00:00\", \"variable\": \"ES\", \"value\": 4657133.0}, {\"Date\": \"2014-03-01T00:00:00\", \"variable\": \"ES\", \"value\": 5770836.0}, {\"Date\": \"2014-04-01T00:00:00\", \"variable\": \"ES\", \"value\": 7301730.0}, {\"Date\": \"2014-05-01T00:00:00\", \"variable\": \"ES\", \"value\": 8518421.0}, {\"Date\": \"2014-06-01T00:00:00\", \"variable\": \"ES\", \"value\": 9038987.0}, {\"Date\": \"2014-07-01T00:00:00\", \"variable\": \"ES\", \"value\": 9885449.0}, {\"Date\": \"2014-08-01T00:00:00\", \"variable\": \"ES\", \"value\": 11228639.0}, {\"Date\": \"2014-09-01T00:00:00\", \"variable\": \"ES\", \"value\": 9320009.0}, {\"Date\": \"2014-10-01T00:00:00\", \"variable\": \"ES\", \"value\": 7988684.0}, {\"Date\": \"2014-11-01T00:00:00\", \"variable\": \"ES\", \"value\": 5144062.0}, {\"Date\": \"2014-12-01T00:00:00\", \"variable\": \"ES\", \"value\": 4998810.0}, {\"Date\": \"2015-01-01T00:00:00\", \"variable\": \"ES\", \"value\": 4251906.0}, {\"Date\": \"2015-02-01T00:00:00\", \"variable\": \"ES\", \"value\": 4937718.0}, {\"Date\": \"2015-03-01T00:00:00\", \"variable\": \"ES\", \"value\": 6146079.0}, {\"Date\": \"2015-04-01T00:00:00\", \"variable\": \"ES\", \"value\": 7637074.0}, {\"Date\": \"2015-05-01T00:00:00\", \"variable\": \"ES\", \"value\": 9086178.0}, {\"Date\": \"2015-06-01T00:00:00\", \"variable\": \"ES\", \"value\": 9434356.0}, {\"Date\": \"2015-07-01T00:00:00\", \"variable\": \"ES\", \"value\": 10595557.0}, {\"Date\": \"2015-08-01T00:00:00\", \"variable\": \"ES\", \"value\": 11772679.0}, {\"Date\": \"2015-09-01T00:00:00\", \"variable\": \"ES\", \"value\": 9722297.0}, {\"Date\": \"2015-10-01T00:00:00\", \"variable\": \"ES\", \"value\": 8700286.0}, {\"Date\": \"2015-11-01T00:00:00\", \"variable\": \"ES\", \"value\": 5530654.0}, {\"Date\": \"2015-12-01T00:00:00\", \"variable\": \"ES\", \"value\": 5307903.0}, {\"Date\": \"2016-01-01T00:00:00\", \"variable\": \"ES\", \"value\": 4689263.0}, {\"Date\": \"2016-02-01T00:00:00\", \"variable\": \"ES\", \"value\": 5561906.0}, {\"Date\": \"2016-03-01T00:00:00\", \"variable\": \"ES\", \"value\": 7221796.0}, {\"Date\": \"2016-04-01T00:00:00\", \"variable\": \"ES\", \"value\": 7735455.0}, {\"Date\": \"2016-05-01T00:00:00\", \"variable\": \"ES\", \"value\": 9569945.0}, {\"Date\": \"2016-06-01T00:00:00\", \"variable\": \"ES\", \"value\": 10180427.0}, {\"Date\": \"2016-07-01T00:00:00\", \"variable\": \"ES\", \"value\": 11605320.0}, {\"Date\": \"2016-08-01T00:00:00\", \"variable\": \"ES\", \"value\": 12187504.0}, {\"Date\": \"2016-09-01T00:00:00\", \"variable\": \"ES\", \"value\": 10486719.0}, {\"Date\": \"2016-10-01T00:00:00\", \"variable\": \"ES\", \"value\": 9274924.0}, {\"Date\": \"2016-11-01T00:00:00\", \"variable\": \"ES\", \"value\": 5786676.0}, {\"Date\": \"2016-12-01T00:00:00\", \"variable\": \"ES\", \"value\": 5540097.0}, {\"Date\": \"2017-01-01T00:00:00\", \"variable\": \"ES\", \"value\": 4984634.0}, {\"Date\": \"2017-02-01T00:00:00\", \"variable\": \"ES\", \"value\": 5689624.0}, {\"Date\": \"2017-03-01T00:00:00\", \"variable\": \"ES\", \"value\": 6901184.0}, {\"Date\": \"2017-04-01T00:00:00\", \"variable\": \"ES\", \"value\": 9209285.0}, {\"Date\": \"2017-05-01T00:00:00\", \"variable\": \"ES\", \"value\": 9844007.0}, {\"Date\": \"2017-06-01T00:00:00\", \"variable\": \"ES\", \"value\": 10640606.0}, {\"Date\": \"2017-07-01T00:00:00\", \"variable\": \"ES\", \"value\": 11908505.0}, {\"Date\": \"2017-08-01T00:00:00\", \"variable\": \"ES\", \"value\": 12335399.0}, {\"Date\": \"2017-09-01T00:00:00\", \"variable\": \"ES\", \"value\": 10928223.0}, {\"Date\": \"2017-10-01T00:00:00\", \"variable\": \"ES\", \"value\": 9455826.0}, {\"Date\": \"2017-11-01T00:00:00\", \"variable\": \"ES\", \"value\": 6066225.0}, {\"Date\": \"2017-12-01T00:00:00\", \"variable\": \"ES\", \"value\": 5803750.0}, {\"Date\": \"2018-01-01T00:00:00\", \"variable\": \"ES\", \"value\": 5133729.0}, {\"Date\": \"2018-02-01T00:00:00\", \"variable\": \"ES\", \"value\": 5826145.0}, {\"Date\": \"2018-03-01T00:00:00\", \"variable\": \"ES\", \"value\": 7532288.0}, {\"Date\": \"2018-04-01T00:00:00\", \"variable\": \"ES\", \"value\": 8508796.0}, {\"Date\": \"2018-05-01T00:00:00\", \"variable\": \"ES\", \"value\": 10040280.0}, {\"Date\": \"2018-06-01T00:00:00\", \"variable\": \"ES\", \"value\": 10846347.0}, {\"Date\": \"2018-07-01T00:00:00\", \"variable\": \"ES\", \"value\": 11707840.0}, {\"Date\": \"2018-08-01T00:00:00\", \"variable\": \"ES\", \"value\": 12500596.0}, {\"Date\": \"2018-09-01T00:00:00\", \"variable\": \"ES\", \"value\": 11000903.0}, {\"Date\": \"2018-10-01T00:00:00\", \"variable\": \"ES\", \"value\": 9666570.0}, {\"Date\": \"2018-11-01T00:00:00\", \"variable\": \"ES\", \"value\": 6485702.0}, {\"Date\": \"2018-12-01T00:00:00\", \"variable\": \"ES\", \"value\": 6071139.0}, {\"Date\": \"2019-01-01T00:00:00\", \"variable\": \"ES\", \"value\": 5228869.0}, {\"Date\": \"2019-02-01T00:00:00\", \"variable\": \"ES\", \"value\": 6003840.0}, {\"Date\": \"2019-03-01T00:00:00\", \"variable\": \"ES\", \"value\": 7542541.0}, {\"Date\": \"2019-04-01T00:00:00\", \"variable\": \"ES\", \"value\": 9141970.0}, {\"Date\": \"2019-05-01T00:00:00\", \"variable\": \"ES\", \"value\": 10562869.0}, {\"Date\": \"2019-06-01T00:00:00\", \"variable\": \"ES\", \"value\": 11344295.0}, {\"Date\": \"2019-07-01T00:00:00\", \"variable\": \"ES\", \"value\": 12097382.0}, {\"Date\": \"2019-08-01T00:00:00\", \"variable\": \"ES\", \"value\": 12893366.0}, {\"Date\": \"2019-09-01T00:00:00\", \"variable\": \"ES\", \"value\": null}, {\"Date\": \"2019-10-01T00:00:00\", \"variable\": \"ES\", \"value\": null}, {\"Date\": \"1994-01-01T00:00:00\", \"variable\": \"UK\", \"value\": 1767000.0}, {\"Date\": \"1994-02-01T00:00:00\", \"variable\": \"UK\", \"value\": 1915000.0}, {\"Date\": \"1994-03-01T00:00:00\", \"variable\": \"UK\", \"value\": 2405000.0}, {\"Date\": \"1994-04-01T00:00:00\", \"variable\": \"UK\", \"value\": 2681000.0}, {\"Date\": \"1994-05-01T00:00:00\", \"variable\": \"UK\", \"value\": 2941000.0}, {\"Date\": \"1994-06-01T00:00:00\", \"variable\": \"UK\", \"value\": 2790000.0}, {\"Date\": \"1994-07-01T00:00:00\", \"variable\": \"UK\", \"value\": 3766000.0}, {\"Date\": \"1994-08-01T00:00:00\", \"variable\": \"UK\", \"value\": 4338000.0}, {\"Date\": \"1994-09-01T00:00:00\", \"variable\": \"UK\", \"value\": 3127000.0}, {\"Date\": \"1994-10-01T00:00:00\", \"variable\": \"UK\", \"value\": 2992000.0}, {\"Date\": \"1994-11-01T00:00:00\", \"variable\": \"UK\", \"value\": 2166000.0}, {\"Date\": \"1994-12-01T00:00:00\", \"variable\": \"UK\", \"value\": 3043000.0}, {\"Date\": \"1995-01-01T00:00:00\", \"variable\": \"UK\", \"value\": 2134530.0}, {\"Date\": \"1995-02-01T00:00:00\", \"variable\": \"UK\", \"value\": 2472754.0}, {\"Date\": \"1995-03-01T00:00:00\", \"variable\": \"UK\", \"value\": 2961941.0}, {\"Date\": \"1995-04-01T00:00:00\", \"variable\": \"UK\", \"value\": 3030087.0}, {\"Date\": \"1995-05-01T00:00:00\", \"variable\": \"UK\", \"value\": 3943848.0}, {\"Date\": \"1995-06-01T00:00:00\", \"variable\": \"UK\", \"value\": 3448138.0}, {\"Date\": \"1995-07-01T00:00:00\", \"variable\": \"UK\", \"value\": 4628162.0}, {\"Date\": \"1995-08-01T00:00:00\", \"variable\": \"UK\", \"value\": 5244077.0}, {\"Date\": \"1995-09-01T00:00:00\", \"variable\": \"UK\", \"value\": 4499343.0}, {\"Date\": \"1995-10-01T00:00:00\", \"variable\": \"UK\", \"value\": 4263004.0}, {\"Date\": \"1995-11-01T00:00:00\", \"variable\": \"UK\", \"value\": 3080776.0}, {\"Date\": \"1995-12-01T00:00:00\", \"variable\": \"UK\", \"value\": 2821445.0}, {\"Date\": \"1996-01-01T00:00:00\", \"variable\": \"UK\", \"value\": 2981032.0}, {\"Date\": \"1996-02-01T00:00:00\", \"variable\": \"UK\", \"value\": 3803185.0}, {\"Date\": \"1996-03-01T00:00:00\", \"variable\": \"UK\", \"value\": 4621148.0}, {\"Date\": \"1996-04-01T00:00:00\", \"variable\": \"UK\", \"value\": 4604023.0}, {\"Date\": \"1996-05-01T00:00:00\", \"variable\": \"UK\", \"value\": 5675587.0}, {\"Date\": \"1996-06-01T00:00:00\", \"variable\": \"UK\", \"value\": 5154119.0}, {\"Date\": \"1996-07-01T00:00:00\", \"variable\": \"UK\", \"value\": 6419168.0}, {\"Date\": \"1996-08-01T00:00:00\", \"variable\": \"UK\", \"value\": 7481978.0}, {\"Date\": \"1996-09-01T00:00:00\", \"variable\": \"UK\", \"value\": 6055646.0}, {\"Date\": \"1996-10-01T00:00:00\", \"variable\": \"UK\", \"value\": 6003090.0}, {\"Date\": \"1996-11-01T00:00:00\", \"variable\": \"UK\", \"value\": 4495843.0}, {\"Date\": \"1996-12-01T00:00:00\", \"variable\": \"UK\", \"value\": 4090510.0}, {\"Date\": \"1997-01-01T00:00:00\", \"variable\": \"UK\", \"value\": 2533691.0}, {\"Date\": \"1997-02-01T00:00:00\", \"variable\": \"UK\", \"value\": 3138616.0}, {\"Date\": \"1997-03-01T00:00:00\", \"variable\": \"UK\", \"value\": 4100911.0}, {\"Date\": \"1997-04-01T00:00:00\", \"variable\": \"UK\", \"value\": 3803158.0}, {\"Date\": \"1997-05-01T00:00:00\", \"variable\": \"UK\", \"value\": 4807861.0}, {\"Date\": \"1997-06-01T00:00:00\", \"variable\": \"UK\", \"value\": 4554311.0}, {\"Date\": \"1997-07-01T00:00:00\", \"variable\": \"UK\", \"value\": 5679518.0}, {\"Date\": \"1997-08-01T00:00:00\", \"variable\": \"UK\", \"value\": 6428158.0}, {\"Date\": \"1997-09-01T00:00:00\", \"variable\": \"UK\", \"value\": 5546601.0}, {\"Date\": \"1997-10-01T00:00:00\", \"variable\": \"UK\", \"value\": 5261434.0}, {\"Date\": \"1997-11-01T00:00:00\", \"variable\": \"UK\", \"value\": 3973100.0}, {\"Date\": \"1997-12-01T00:00:00\", \"variable\": \"UK\", \"value\": 3602214.0}, {\"Date\": \"1998-01-01T00:00:00\", \"variable\": \"UK\", \"value\": 2425000.0}, {\"Date\": \"1998-02-01T00:00:00\", \"variable\": \"UK\", \"value\": 2966000.0}, {\"Date\": \"1998-03-01T00:00:00\", \"variable\": \"UK\", \"value\": 3423000.0}, {\"Date\": \"1998-04-01T00:00:00\", \"variable\": \"UK\", \"value\": 3777000.0}, {\"Date\": \"1998-05-01T00:00:00\", \"variable\": \"UK\", \"value\": 4571000.0}, {\"Date\": \"1998-06-01T00:00:00\", \"variable\": \"UK\", \"value\": 3992000.0}, {\"Date\": \"1998-07-01T00:00:00\", \"variable\": \"UK\", \"value\": 4975000.0}, {\"Date\": \"1998-08-01T00:00:00\", \"variable\": \"UK\", \"value\": 5855000.0}, {\"Date\": \"1998-09-01T00:00:00\", \"variable\": \"UK\", \"value\": 4493000.0}, {\"Date\": \"1998-10-01T00:00:00\", \"variable\": \"UK\", \"value\": 4602000.0}, {\"Date\": \"1998-11-01T00:00:00\", \"variable\": \"UK\", \"value\": 3413000.0}, {\"Date\": \"1998-12-01T00:00:00\", \"variable\": \"UK\", \"value\": 3078000.0}, {\"Date\": \"1999-01-01T00:00:00\", \"variable\": \"UK\", \"value\": 2555998.0}, {\"Date\": \"1999-02-01T00:00:00\", \"variable\": \"UK\", \"value\": 3507000.0}, {\"Date\": \"1999-03-01T00:00:00\", \"variable\": \"UK\", \"value\": 4097003.0}, {\"Date\": \"1999-04-01T00:00:00\", \"variable\": \"UK\", \"value\": 4596998.0}, {\"Date\": \"1999-05-01T00:00:00\", \"variable\": \"UK\", \"value\": 4591998.0}, {\"Date\": \"1999-06-01T00:00:00\", \"variable\": \"UK\", \"value\": 4905002.0}, {\"Date\": \"1999-07-01T00:00:00\", \"variable\": \"UK\", \"value\": 5573002.0}, {\"Date\": \"1999-08-01T00:00:00\", \"variable\": \"UK\", \"value\": 6318000.0}, {\"Date\": \"1999-09-01T00:00:00\", \"variable\": \"UK\", \"value\": 5198999.0}, {\"Date\": \"1999-10-01T00:00:00\", \"variable\": \"UK\", \"value\": 5023997.0}, {\"Date\": \"1999-11-01T00:00:00\", \"variable\": \"UK\", \"value\": 4176000.0}, {\"Date\": \"1999-12-01T00:00:00\", \"variable\": \"UK\", \"value\": 3724999.0}, {\"Date\": \"2000-01-01T00:00:00\", \"variable\": \"UK\", \"value\": 4647933.0}, {\"Date\": \"2000-02-01T00:00:00\", \"variable\": \"UK\", \"value\": 4729614.0}, {\"Date\": \"2000-03-01T00:00:00\", \"variable\": \"UK\", \"value\": 5713558.0}, {\"Date\": \"2000-04-01T00:00:00\", \"variable\": \"UK\", \"value\": 6383695.0}, {\"Date\": \"2000-05-01T00:00:00\", \"variable\": \"UK\", \"value\": 7321448.0}, {\"Date\": \"2000-06-01T00:00:00\", \"variable\": \"UK\", \"value\": 6993762.0}, {\"Date\": \"2000-07-01T00:00:00\", \"variable\": \"UK\", \"value\": 7805789.0}, {\"Date\": \"2000-08-01T00:00:00\", \"variable\": \"UK\", \"value\": 8803192.0}, {\"Date\": \"2000-09-01T00:00:00\", \"variable\": \"UK\", \"value\": 6906723.0}, {\"Date\": \"2000-10-01T00:00:00\", \"variable\": \"UK\", \"value\": 7155652.0}, {\"Date\": \"2000-11-01T00:00:00\", \"variable\": \"UK\", \"value\": 5255352.0}, {\"Date\": \"2000-12-01T00:00:00\", \"variable\": \"UK\", \"value\": 4386210.0}, {\"Date\": \"2001-01-01T00:00:00\", \"variable\": \"UK\", \"value\": 3732111.0}, {\"Date\": \"2001-02-01T00:00:00\", \"variable\": \"UK\", \"value\": 4315809.0}, {\"Date\": \"2001-03-01T00:00:00\", \"variable\": \"UK\", \"value\": 5386644.0}, {\"Date\": \"2001-04-01T00:00:00\", \"variable\": \"UK\", \"value\": 5392706.0}, {\"Date\": \"2001-05-01T00:00:00\", \"variable\": \"UK\", \"value\": 7141387.0}, {\"Date\": \"2001-06-01T00:00:00\", \"variable\": \"UK\", \"value\": 6214540.0}, {\"Date\": \"2001-07-01T00:00:00\", \"variable\": \"UK\", \"value\": 7401748.0}, {\"Date\": \"2001-08-01T00:00:00\", \"variable\": \"UK\", \"value\": 8149346.0}, {\"Date\": \"2001-09-01T00:00:00\", \"variable\": \"UK\", \"value\": 7286425.0}, {\"Date\": \"2001-10-01T00:00:00\", \"variable\": \"UK\", \"value\": 6825383.0}, {\"Date\": \"2001-11-01T00:00:00\", \"variable\": \"UK\", \"value\": 5919230.0}, {\"Date\": \"2001-12-01T00:00:00\", \"variable\": \"UK\", \"value\": 4871169.0}, {\"Date\": \"2002-01-01T00:00:00\", \"variable\": \"UK\", \"value\": 4094004.0}, {\"Date\": \"2002-02-01T00:00:00\", \"variable\": \"UK\", \"value\": 4919729.0}, {\"Date\": \"2002-03-01T00:00:00\", \"variable\": \"UK\", \"value\": 5809313.0}, {\"Date\": \"2002-04-01T00:00:00\", \"variable\": \"UK\", \"value\": 6267079.0}, {\"Date\": \"2002-05-01T00:00:00\", \"variable\": \"UK\", \"value\": 6533181.0}, {\"Date\": \"2002-06-01T00:00:00\", \"variable\": \"UK\", \"value\": 6374078.0}, {\"Date\": \"2002-07-01T00:00:00\", \"variable\": \"UK\", \"value\": 7238728.0}, {\"Date\": \"2002-08-01T00:00:00\", \"variable\": \"UK\", \"value\": 8299313.0}, {\"Date\": \"2002-09-01T00:00:00\", \"variable\": \"UK\", \"value\": 6907813.0}, {\"Date\": \"2002-10-01T00:00:00\", \"variable\": \"UK\", \"value\": 6460467.0}, {\"Date\": \"2002-11-01T00:00:00\", \"variable\": \"UK\", \"value\": 5435683.0}, {\"Date\": \"2002-12-01T00:00:00\", \"variable\": \"UK\", \"value\": 5229604.0}, {\"Date\": \"2003-01-01T00:00:00\", \"variable\": \"UK\", \"value\": 4183000.0}, {\"Date\": \"2003-02-01T00:00:00\", \"variable\": \"UK\", \"value\": 5118000.0}, {\"Date\": \"2003-03-01T00:00:00\", \"variable\": \"UK\", \"value\": 5218000.0}, {\"Date\": \"2003-04-01T00:00:00\", \"variable\": \"UK\", \"value\": 5745000.0}, {\"Date\": \"2003-05-01T00:00:00\", \"variable\": \"UK\", \"value\": 6218000.0}, {\"Date\": \"2003-06-01T00:00:00\", \"variable\": \"UK\", \"value\": 5897000.0}, {\"Date\": \"2003-07-01T00:00:00\", \"variable\": \"UK\", \"value\": 6505000.0}, {\"Date\": \"2003-08-01T00:00:00\", \"variable\": \"UK\", \"value\": 7708000.0}, {\"Date\": \"2003-09-01T00:00:00\", \"variable\": \"UK\", \"value\": 6775000.0}, {\"Date\": \"2003-10-01T00:00:00\", \"variable\": \"UK\", \"value\": 6731000.0}, {\"Date\": \"2003-11-01T00:00:00\", \"variable\": \"UK\", \"value\": 4705000.0}, {\"Date\": \"2003-12-01T00:00:00\", \"variable\": \"UK\", \"value\": 4289000.0}, {\"Date\": \"2004-01-01T00:00:00\", \"variable\": \"UK\", \"value\": 4373000.0}, {\"Date\": \"2004-02-01T00:00:00\", \"variable\": \"UK\", \"value\": 4537000.0}, {\"Date\": \"2004-03-01T00:00:00\", \"variable\": \"UK\", \"value\": 5415000.0}, {\"Date\": \"2004-04-01T00:00:00\", \"variable\": \"UK\", \"value\": 5275000.0}, {\"Date\": \"2004-05-01T00:00:00\", \"variable\": \"UK\", \"value\": 5428000.0}, {\"Date\": \"2004-06-01T00:00:00\", \"variable\": \"UK\", \"value\": 5440000.0}, {\"Date\": \"2004-07-01T00:00:00\", \"variable\": \"UK\", \"value\": 6677000.0}, {\"Date\": \"2004-08-01T00:00:00\", \"variable\": \"UK\", \"value\": 6901000.0}, {\"Date\": \"2004-09-01T00:00:00\", \"variable\": \"UK\", \"value\": 5551000.0}, {\"Date\": \"2004-10-01T00:00:00\", \"variable\": \"UK\", \"value\": 6006000.0}, {\"Date\": \"2004-11-01T00:00:00\", \"variable\": \"UK\", \"value\": 4433000.0}, {\"Date\": \"2004-12-01T00:00:00\", \"variable\": \"UK\", \"value\": 4120000.0}, {\"Date\": \"2005-01-01T00:00:00\", \"variable\": \"UK\", \"value\": 4740411.0}, {\"Date\": \"2005-02-01T00:00:00\", \"variable\": \"UK\", \"value\": 5289479.0}, {\"Date\": \"2005-03-01T00:00:00\", \"variable\": \"UK\", \"value\": 6419680.0}, {\"Date\": \"2005-04-01T00:00:00\", \"variable\": \"UK\", \"value\": 6242384.0}, {\"Date\": \"2005-05-01T00:00:00\", \"variable\": \"UK\", \"value\": 7320000.0}, {\"Date\": \"2005-06-01T00:00:00\", \"variable\": \"UK\", \"value\": 7142000.0}, {\"Date\": \"2005-07-01T00:00:00\", \"variable\": \"UK\", \"value\": 8959000.0}, {\"Date\": \"2005-08-01T00:00:00\", \"variable\": \"UK\", \"value\": 8117000.0}, {\"Date\": \"2005-09-01T00:00:00\", \"variable\": \"UK\", \"value\": 6699000.0}, {\"Date\": \"2005-10-01T00:00:00\", \"variable\": \"UK\", \"value\": 6219000.0}, {\"Date\": \"2005-11-01T00:00:00\", \"variable\": \"UK\", \"value\": 5052000.0}, {\"Date\": \"2005-12-01T00:00:00\", \"variable\": \"UK\", \"value\": 4812000.0}, {\"Date\": \"2006-01-01T00:00:00\", \"variable\": \"UK\", \"value\": 3898000.0}, {\"Date\": \"2006-02-01T00:00:00\", \"variable\": \"UK\", \"value\": 4589000.0}, {\"Date\": \"2006-03-01T00:00:00\", \"variable\": \"UK\", \"value\": 4691000.0}, {\"Date\": \"2006-04-01T00:00:00\", \"variable\": \"UK\", \"value\": 6185000.0}, {\"Date\": \"2006-05-01T00:00:00\", \"variable\": \"UK\", \"value\": 5934000.0}, {\"Date\": \"2006-06-01T00:00:00\", \"variable\": \"UK\", \"value\": 6224000.0}, {\"Date\": \"2006-07-01T00:00:00\", \"variable\": \"UK\", \"value\": 6818000.0}, {\"Date\": \"2006-08-01T00:00:00\", \"variable\": \"UK\", \"value\": 7533000.0}, {\"Date\": \"2006-09-01T00:00:00\", \"variable\": \"UK\", \"value\": 6560000.0}, {\"Date\": \"2006-10-01T00:00:00\", \"variable\": \"UK\", \"value\": 5610000.0}, {\"Date\": \"2006-11-01T00:00:00\", \"variable\": \"UK\", \"value\": 5143000.0}, {\"Date\": \"2006-12-01T00:00:00\", \"variable\": \"UK\", \"value\": 5266000.0}, {\"Date\": \"2007-01-01T00:00:00\", \"variable\": \"UK\", \"value\": 4041000.0}, {\"Date\": \"2007-02-01T00:00:00\", \"variable\": \"UK\", \"value\": 4439000.0}, {\"Date\": \"2007-03-01T00:00:00\", \"variable\": \"UK\", \"value\": 5594000.0}, {\"Date\": \"2007-04-01T00:00:00\", \"variable\": \"UK\", \"value\": 5533000.0}, {\"Date\": \"2007-05-01T00:00:00\", \"variable\": \"UK\", \"value\": 6347000.0}, {\"Date\": \"2007-06-01T00:00:00\", \"variable\": \"UK\", \"value\": 6069000.0}, {\"Date\": \"2007-07-01T00:00:00\", \"variable\": \"UK\", \"value\": 7065000.0}, {\"Date\": \"2007-08-01T00:00:00\", \"variable\": \"UK\", \"value\": 7866000.0}, {\"Date\": \"2007-09-01T00:00:00\", \"variable\": \"UK\", \"value\": 6228000.0}, {\"Date\": \"2007-10-01T00:00:00\", \"variable\": \"UK\", \"value\": 5665000.0}, {\"Date\": \"2007-11-01T00:00:00\", \"variable\": \"UK\", \"value\": 4978000.0}, {\"Date\": \"2007-12-01T00:00:00\", \"variable\": \"UK\", \"value\": 4461000.0}, {\"Date\": \"2008-01-01T00:00:00\", \"variable\": \"UK\", \"value\": 4120000.0}, {\"Date\": \"2008-02-01T00:00:00\", \"variable\": \"UK\", \"value\": 4970000.0}, {\"Date\": \"2008-03-01T00:00:00\", \"variable\": \"UK\", \"value\": 5625000.0}, {\"Date\": \"2008-04-01T00:00:00\", \"variable\": \"UK\", \"value\": 5265000.0}, {\"Date\": \"2008-05-01T00:00:00\", \"variable\": \"UK\", \"value\": 6465000.0}, {\"Date\": \"2008-06-01T00:00:00\", \"variable\": \"UK\", \"value\": 6281741.0}, {\"Date\": \"2008-07-01T00:00:00\", \"variable\": \"UK\", \"value\": 7324885.0}, {\"Date\": \"2008-08-01T00:00:00\", \"variable\": \"UK\", \"value\": 7785991.0}, {\"Date\": \"2008-09-01T00:00:00\", \"variable\": \"UK\", \"value\": 6302148.0}, {\"Date\": \"2008-10-01T00:00:00\", \"variable\": \"UK\", \"value\": 5995363.0}, {\"Date\": \"2008-11-01T00:00:00\", \"variable\": \"UK\", \"value\": 4568145.0}, {\"Date\": \"2008-12-01T00:00:00\", \"variable\": \"UK\", \"value\": 4440308.0}, {\"Date\": \"2009-01-01T00:00:00\", \"variable\": \"UK\", \"value\": 3529899.0}, {\"Date\": \"2009-02-01T00:00:00\", \"variable\": \"UK\", \"value\": 4370953.0}, {\"Date\": \"2009-03-01T00:00:00\", \"variable\": \"UK\", \"value\": 4514101.0}, {\"Date\": \"2009-04-01T00:00:00\", \"variable\": \"UK\", \"value\": 6084164.0}, {\"Date\": \"2009-05-01T00:00:00\", \"variable\": \"UK\", \"value\": 6578981.0}, {\"Date\": \"2009-06-01T00:00:00\", \"variable\": \"UK\", \"value\": 6328427.0}, {\"Date\": \"2009-07-01T00:00:00\", \"variable\": \"UK\", \"value\": 7163790.0}, {\"Date\": \"2009-08-01T00:00:00\", \"variable\": \"UK\", \"value\": 7606062.0}, {\"Date\": \"2009-09-01T00:00:00\", \"variable\": \"UK\", \"value\": 6299820.0}, {\"Date\": \"2009-10-01T00:00:00\", \"variable\": \"UK\", \"value\": 5866539.0}, {\"Date\": \"2009-11-01T00:00:00\", \"variable\": \"UK\", \"value\": 4547239.0}, {\"Date\": \"2009-12-01T00:00:00\", \"variable\": \"UK\", \"value\": 4462055.0}, {\"Date\": \"2010-01-01T00:00:00\", \"variable\": \"UK\", \"value\": 3441319.0}, {\"Date\": \"2010-02-01T00:00:00\", \"variable\": \"UK\", \"value\": 4368478.0}, {\"Date\": \"2010-03-01T00:00:00\", \"variable\": \"UK\", \"value\": 5194091.0}, {\"Date\": \"2010-04-01T00:00:00\", \"variable\": \"UK\", \"value\": 6287778.0}, {\"Date\": \"2010-05-01T00:00:00\", \"variable\": \"UK\", \"value\": 6919401.0}, {\"Date\": \"2010-06-01T00:00:00\", \"variable\": \"UK\", \"value\": 6209296.0}, {\"Date\": \"2010-07-01T00:00:00\", \"variable\": \"UK\", \"value\": 6872769.0}, {\"Date\": \"2010-08-01T00:00:00\", \"variable\": \"UK\", \"value\": 7539899.0}, {\"Date\": \"2010-09-01T00:00:00\", \"variable\": \"UK\", \"value\": 6385254.0}, {\"Date\": \"2010-10-01T00:00:00\", \"variable\": \"UK\", \"value\": 6353132.0}, {\"Date\": \"2010-11-01T00:00:00\", \"variable\": \"UK\", \"value\": 5123717.0}, {\"Date\": \"2010-12-01T00:00:00\", \"variable\": \"UK\", \"value\": 3642145.0}, {\"Date\": \"2011-01-01T00:00:00\", \"variable\": \"UK\", \"value\": 3728218.0}, {\"Date\": \"2011-02-01T00:00:00\", \"variable\": \"UK\", \"value\": 4637592.0}, {\"Date\": \"2011-03-01T00:00:00\", \"variable\": \"UK\", \"value\": 5002944.0}, {\"Date\": \"2011-04-01T00:00:00\", \"variable\": \"UK\", \"value\": 6027745.0}, {\"Date\": \"2011-05-01T00:00:00\", \"variable\": \"UK\", \"value\": 6090305.0}, {\"Date\": \"2011-06-01T00:00:00\", \"variable\": \"UK\", \"value\": 6420332.0}, {\"Date\": \"2011-07-01T00:00:00\", \"variable\": \"UK\", \"value\": 7937669.0}, {\"Date\": \"2011-08-01T00:00:00\", \"variable\": \"UK\", \"value\": 7835861.0}, {\"Date\": \"2011-09-01T00:00:00\", \"variable\": \"UK\", \"value\": 6895201.0}, {\"Date\": \"2011-10-01T00:00:00\", \"variable\": \"UK\", \"value\": 6940499.0}, {\"Date\": \"2011-11-01T00:00:00\", \"variable\": \"UK\", \"value\": 5414810.0}, {\"Date\": \"2011-12-01T00:00:00\", \"variable\": \"UK\", \"value\": 4663569.0}, {\"Date\": \"2012-01-01T00:00:00\", \"variable\": \"UK\", \"value\": 4114545.0}, {\"Date\": \"2012-02-01T00:00:00\", \"variable\": \"UK\", \"value\": 4309079.0}, {\"Date\": \"2012-03-01T00:00:00\", \"variable\": \"UK\", \"value\": 5318773.0}, {\"Date\": \"2012-04-01T00:00:00\", \"variable\": \"UK\", \"value\": 6927702.0}, {\"Date\": \"2012-05-01T00:00:00\", \"variable\": \"UK\", \"value\": 6442073.0}, {\"Date\": \"2012-06-01T00:00:00\", \"variable\": \"UK\", \"value\": 6611371.0}, {\"Date\": \"2012-07-01T00:00:00\", \"variable\": \"UK\", \"value\": 6841761.0}, {\"Date\": \"2012-08-01T00:00:00\", \"variable\": \"UK\", \"value\": 7337013.0}, {\"Date\": \"2012-09-01T00:00:00\", \"variable\": \"UK\", \"value\": 6445456.0}, {\"Date\": \"2012-10-01T00:00:00\", \"variable\": \"UK\", \"value\": 6273498.0}, {\"Date\": \"2012-11-01T00:00:00\", \"variable\": \"UK\", \"value\": 6359470.0}, {\"Date\": \"2012-12-01T00:00:00\", \"variable\": \"UK\", \"value\": 4908426.0}, {\"Date\": \"2013-01-01T00:00:00\", \"variable\": \"UK\", \"value\": 4176193.0}, {\"Date\": \"2013-02-01T00:00:00\", \"variable\": \"UK\", \"value\": 5083332.0}, {\"Date\": \"2013-03-01T00:00:00\", \"variable\": \"UK\", \"value\": 5272996.0}, {\"Date\": \"2013-04-01T00:00:00\", \"variable\": \"UK\", \"value\": 6508910.0}, {\"Date\": \"2013-05-01T00:00:00\", \"variable\": \"UK\", \"value\": 6885334.0}, {\"Date\": \"2013-06-01T00:00:00\", \"variable\": \"UK\", \"value\": 7203792.0}, {\"Date\": \"2013-07-01T00:00:00\", \"variable\": \"UK\", \"value\": 7647168.0}, {\"Date\": \"2013-08-01T00:00:00\", \"variable\": \"UK\", \"value\": 8371376.0}, {\"Date\": \"2013-09-01T00:00:00\", \"variable\": \"UK\", \"value\": 7107514.0}, {\"Date\": \"2013-10-01T00:00:00\", \"variable\": \"UK\", \"value\": 6429387.0}, {\"Date\": \"2013-11-01T00:00:00\", \"variable\": \"UK\", \"value\": 5952249.0}, {\"Date\": \"2013-12-01T00:00:00\", \"variable\": \"UK\", \"value\": 4376731.0}, {\"Date\": \"2014-01-01T00:00:00\", \"variable\": \"UK\", \"value\": 3832836.0}, {\"Date\": \"2014-02-01T00:00:00\", \"variable\": \"UK\", \"value\": 4790494.0}, {\"Date\": \"2014-03-01T00:00:00\", \"variable\": \"UK\", \"value\": 4642864.0}, {\"Date\": \"2014-04-01T00:00:00\", \"variable\": \"UK\", \"value\": 6346482.0}, {\"Date\": \"2014-05-01T00:00:00\", \"variable\": \"UK\", \"value\": 6870276.0}, {\"Date\": \"2014-06-01T00:00:00\", \"variable\": \"UK\", \"value\": 7109072.0}, {\"Date\": \"2014-07-01T00:00:00\", \"variable\": \"UK\", \"value\": 7393415.0}, {\"Date\": \"2014-08-01T00:00:00\", \"variable\": \"UK\", \"value\": 7759167.0}, {\"Date\": \"2014-09-01T00:00:00\", \"variable\": \"UK\", \"value\": 6817573.0}, {\"Date\": \"2014-10-01T00:00:00\", \"variable\": \"UK\", \"value\": 6400368.0}, {\"Date\": \"2014-11-01T00:00:00\", \"variable\": \"UK\", \"value\": 5238868.0}, {\"Date\": \"2014-12-01T00:00:00\", \"variable\": \"UK\", \"value\": 4161170.0}, {\"Date\": \"2015-01-01T00:00:00\", \"variable\": \"UK\", \"value\": 3688964.0}, {\"Date\": \"2015-02-01T00:00:00\", \"variable\": \"UK\", \"value\": 5018409.0}, {\"Date\": \"2015-03-01T00:00:00\", \"variable\": \"UK\", \"value\": 5545399.0}, {\"Date\": \"2015-04-01T00:00:00\", \"variable\": \"UK\", \"value\": 6180946.0}, {\"Date\": \"2015-05-01T00:00:00\", \"variable\": \"UK\", \"value\": 7407668.0}, {\"Date\": \"2015-06-01T00:00:00\", \"variable\": \"UK\", \"value\": 6544780.0}, {\"Date\": \"2015-07-01T00:00:00\", \"variable\": \"UK\", \"value\": 8218437.0}, {\"Date\": \"2015-08-01T00:00:00\", \"variable\": \"UK\", \"value\": 7838539.0}, {\"Date\": \"2015-09-01T00:00:00\", \"variable\": \"UK\", \"value\": 6801622.0}, {\"Date\": \"2015-10-01T00:00:00\", \"variable\": \"UK\", \"value\": 6837867.0}, {\"Date\": \"2015-11-01T00:00:00\", \"variable\": \"UK\", \"value\": 5119256.0}, {\"Date\": \"2015-12-01T00:00:00\", \"variable\": \"UK\", \"value\": 5462066.0}, {\"Date\": \"2016-01-01T00:00:00\", \"variable\": \"UK\", \"value\": 3814084.0}, {\"Date\": \"2016-02-01T00:00:00\", \"variable\": \"UK\", \"value\": 4583683.0}, {\"Date\": \"2016-03-01T00:00:00\", \"variable\": \"UK\", \"value\": 5254735.0}, {\"Date\": \"2016-04-01T00:00:00\", \"variable\": \"UK\", \"value\": 5774146.0}, {\"Date\": \"2016-05-01T00:00:00\", \"variable\": \"UK\", \"value\": 7097405.0}, {\"Date\": \"2016-06-01T00:00:00\", \"variable\": \"UK\", \"value\": 6502355.0}, {\"Date\": \"2016-07-01T00:00:00\", \"variable\": \"UK\", \"value\": 6847483.0}, {\"Date\": \"2016-08-01T00:00:00\", \"variable\": \"UK\", \"value\": 6847483.0}, {\"Date\": \"2016-09-01T00:00:00\", \"variable\": \"UK\", \"value\": 6793985.0}, {\"Date\": \"2016-10-01T00:00:00\", \"variable\": \"UK\", \"value\": 6545945.0}, {\"Date\": \"2016-11-01T00:00:00\", \"variable\": \"UK\", \"value\": 5736586.0}, {\"Date\": \"2016-12-01T00:00:00\", \"variable\": \"UK\", \"value\": 4699805.0}, {\"Date\": \"2017-01-01T00:00:00\", \"variable\": \"UK\", \"value\": 4010112.0}, {\"Date\": \"2017-02-01T00:00:00\", \"variable\": \"UK\", \"value\": 4804777.0}, {\"Date\": \"2017-03-01T00:00:00\", \"variable\": \"UK\", \"value\": 5768081.0}, {\"Date\": \"2017-04-01T00:00:00\", \"variable\": \"UK\", \"value\": 6899294.0}, {\"Date\": \"2017-05-01T00:00:00\", \"variable\": \"UK\", \"value\": 6462162.0}, {\"Date\": \"2017-06-01T00:00:00\", \"variable\": \"UK\", \"value\": 7530626.0}, {\"Date\": \"2017-07-01T00:00:00\", \"variable\": \"UK\", \"value\": 7604075.0}, {\"Date\": \"2017-08-01T00:00:00\", \"variable\": \"UK\", \"value\": 8241038.0}, {\"Date\": \"2017-09-01T00:00:00\", \"variable\": \"UK\", \"value\": 6373017.0}, {\"Date\": \"2017-10-01T00:00:00\", \"variable\": \"UK\", \"value\": 6283884.0}, {\"Date\": \"2017-11-01T00:00:00\", \"variable\": \"UK\", \"value\": 5782031.0}, {\"Date\": \"2017-12-01T00:00:00\", \"variable\": \"UK\", \"value\": 4963594.0}, {\"Date\": \"2018-01-01T00:00:00\", \"variable\": \"UK\", \"value\": 4726903.0}, {\"Date\": \"2018-02-01T00:00:00\", \"variable\": \"UK\", \"value\": 5587972.0}, {\"Date\": \"2018-03-01T00:00:00\", \"variable\": \"UK\", \"value\": 5569624.0}, {\"Date\": \"2018-04-01T00:00:00\", \"variable\": \"UK\", \"value\": 6459937.0}, {\"Date\": \"2018-05-01T00:00:00\", \"variable\": \"UK\", \"value\": 7671524.0}, {\"Date\": \"2018-06-01T00:00:00\", \"variable\": \"UK\", \"value\": 6910956.0}, {\"Date\": \"2018-07-01T00:00:00\", \"variable\": \"UK\", \"value\": 7507666.0}, {\"Date\": \"2018-08-01T00:00:00\", \"variable\": \"UK\", \"value\": 8070282.0}, {\"Date\": \"2018-09-01T00:00:00\", \"variable\": \"UK\", \"value\": 6877716.0}, {\"Date\": \"2018-10-01T00:00:00\", \"variable\": \"UK\", \"value\": 6015579.0}, {\"Date\": \"2018-11-01T00:00:00\", \"variable\": \"UK\", \"value\": 6030547.0}, {\"Date\": \"2018-12-01T00:00:00\", \"variable\": \"UK\", \"value\": 5078777.0}, {\"Date\": \"2019-01-01T00:00:00\", \"variable\": \"UK\", \"value\": 4851435.0}, {\"Date\": \"2019-02-01T00:00:00\", \"variable\": \"UK\", \"value\": 4798975.0}, {\"Date\": \"2019-03-01T00:00:00\", \"variable\": \"UK\", \"value\": 5409050.0}, {\"Date\": \"2019-04-01T00:00:00\", \"variable\": \"UK\", \"value\": 6625861.0}, {\"Date\": \"2019-05-01T00:00:00\", \"variable\": \"UK\", \"value\": 7600202.0}, {\"Date\": \"2019-06-01T00:00:00\", \"variable\": \"UK\", \"value\": 7525413.0}, {\"Date\": \"2019-07-01T00:00:00\", \"variable\": \"UK\", \"value\": 8962949.0}, {\"Date\": \"2019-08-01T00:00:00\", \"variable\": \"UK\", \"value\": 8889049.0}, {\"Date\": \"2019-09-01T00:00:00\", \"variable\": \"UK\", \"value\": 5858984.0}, {\"Date\": \"2019-10-01T00:00:00\", \"variable\": \"UK\", \"value\": 7455781.0}]}}, {\"mode\": \"vega-lite\"});\n",
       "</script>"
      ],
      "text/plain": [
       "alt.Chart(...)"
      ]
     },
     "execution_count": 73,
     "metadata": {},
     "output_type": "execute_result"
    }
   ],
   "source": [
    "import altair as alt\n",
    "\n",
    "alt.Chart(df2).mark_line().encode(\n",
    "    x = 'Date:T',\n",
    "    y = 'value:Q',\n",
    "    color='variable:N'\n",
    ")"
   ]
  },
  {
   "cell_type": "markdown",
   "id": "530aaf03",
   "metadata": {},
   "source": [
    "We note an increasing trend in data. Our objective is to understand the gap between the last and the first year."
   ]
  },
  {
   "cell_type": "code",
   "execution_count": 74,
   "id": "28b94753",
   "metadata": {},
   "outputs": [
    {
     "name": "stderr",
     "output_type": "stream",
     "text": [
      "/var/folders/vc/8c80t7jd1dq_mmp6cwgwxt640000gn/T/ipykernel_59385/3134759576.py:1: FutureWarning: Treating datetime data as categorical rather than numeric in `.describe` is deprecated and will be removed in a future version of pandas. Specify `datetime_is_numeric=True` to silence this warning and adopt the future behavior now.\n",
      "  df['Date'].describe()\n"
     ]
    },
    {
     "data": {
      "text/plain": [
       "count                     310\n",
       "unique                    310\n",
       "top       1994-01-01 00:00:00\n",
       "freq                        1\n",
       "first     1994-01-01 00:00:00\n",
       "last      2019-10-01 00:00:00\n",
       "Name: Date, dtype: object"
      ]
     },
     "execution_count": 74,
     "metadata": {},
     "output_type": "execute_result"
    }
   ],
   "source": [
    "df['Date'].describe()"
   ]
  },
  {
   "cell_type": "code",
   "execution_count": 75,
   "id": "988e6f16",
   "metadata": {},
   "outputs": [],
   "source": [
    "mask_first = df['Date'] == '1994-01-01'\n",
    "mask_last = df['Date'] == '2019-10-01'\n",
    "df3 = df[(mask_first) | (mask_last)]"
   ]
  },
  {
   "cell_type": "code",
   "execution_count": 76,
   "id": "0b5177ff",
   "metadata": {},
   "outputs": [],
   "source": [
    "df4 = pd.melt(df3, id_vars='Date')"
   ]
  },
  {
   "cell_type": "code",
   "execution_count": 77,
   "id": "f03f5b7e",
   "metadata": {},
   "outputs": [
    {
     "data": {
      "text/html": [
       "\n",
       "<div id=\"altair-viz-2c56b02e602d4976847a93d68006af7f\"></div>\n",
       "<script type=\"text/javascript\">\n",
       "  var VEGA_DEBUG = (typeof VEGA_DEBUG == \"undefined\") ? {} : VEGA_DEBUG;\n",
       "  (function(spec, embedOpt){\n",
       "    let outputDiv = document.currentScript.previousElementSibling;\n",
       "    if (outputDiv.id !== \"altair-viz-2c56b02e602d4976847a93d68006af7f\") {\n",
       "      outputDiv = document.getElementById(\"altair-viz-2c56b02e602d4976847a93d68006af7f\");\n",
       "    }\n",
       "    const paths = {\n",
       "      \"vega\": \"https://cdn.jsdelivr.net/npm//vega@5?noext\",\n",
       "      \"vega-lib\": \"https://cdn.jsdelivr.net/npm//vega-lib?noext\",\n",
       "      \"vega-lite\": \"https://cdn.jsdelivr.net/npm//vega-lite@4.17.0?noext\",\n",
       "      \"vega-embed\": \"https://cdn.jsdelivr.net/npm//vega-embed@6?noext\",\n",
       "    };\n",
       "\n",
       "    function maybeLoadScript(lib, version) {\n",
       "      var key = `${lib.replace(\"-\", \"\")}_version`;\n",
       "      return (VEGA_DEBUG[key] == version) ?\n",
       "        Promise.resolve(paths[lib]) :\n",
       "        new Promise(function(resolve, reject) {\n",
       "          var s = document.createElement('script');\n",
       "          document.getElementsByTagName(\"head\")[0].appendChild(s);\n",
       "          s.async = true;\n",
       "          s.onload = () => {\n",
       "            VEGA_DEBUG[key] = version;\n",
       "            return resolve(paths[lib]);\n",
       "          };\n",
       "          s.onerror = () => reject(`Error loading script: ${paths[lib]}`);\n",
       "          s.src = paths[lib];\n",
       "        });\n",
       "    }\n",
       "\n",
       "    function showError(err) {\n",
       "      outputDiv.innerHTML = `<div class=\"error\" style=\"color:red;\">${err}</div>`;\n",
       "      throw err;\n",
       "    }\n",
       "\n",
       "    function displayChart(vegaEmbed) {\n",
       "      vegaEmbed(outputDiv, spec, embedOpt)\n",
       "        .catch(err => showError(`Javascript Error: ${err.message}<br>This usually means there's a typo in your chart specification. See the javascript console for the full traceback.`));\n",
       "    }\n",
       "\n",
       "    if(typeof define === \"function\" && define.amd) {\n",
       "      requirejs.config({paths});\n",
       "      require([\"vega-embed\"], displayChart, err => showError(`Error loading script: ${err.message}`));\n",
       "    } else {\n",
       "      maybeLoadScript(\"vega\", \"5\")\n",
       "        .then(() => maybeLoadScript(\"vega-lite\", \"4.17.0\"))\n",
       "        .then(() => maybeLoadScript(\"vega-embed\", \"6\"))\n",
       "        .catch(showError)\n",
       "        .then(() => displayChart(vegaEmbed));\n",
       "    }\n",
       "  })({\"config\": {\"view\": {\"continuousWidth\": 400, \"continuousHeight\": 300}}, \"data\": {\"name\": \"data-01aa947b889669fc40d240c007711762\"}, \"mark\": {\"type\": \"line\", \"point\": {}}, \"encoding\": {\"color\": {\"field\": \"variable\", \"type\": \"nominal\"}, \"x\": {\"axis\": {\"labelAngle\": 0}, \"field\": \"Date\", \"title\": \"\", \"type\": \"ordinal\"}, \"y\": {\"field\": \"value\", \"type\": \"quantitative\"}}, \"width\": 400, \"$schema\": \"https://vega.github.io/schema/vega-lite/v4.17.0.json\", \"datasets\": {\"data-01aa947b889669fc40d240c007711762\": [{\"Date\": \"1994-01-01T00:00:00\", \"variable\": \"IT\", \"value\": 2900063.0}, {\"Date\": \"2019-10-01T00:00:00\", \"variable\": \"IT\", \"value\": 7692388.0}, {\"Date\": \"1994-01-01T00:00:00\", \"variable\": \"FR\", \"value\": 4117549.0}, {\"Date\": \"2019-10-01T00:00:00\", \"variable\": \"FR\", \"value\": 10401793.0}, {\"Date\": \"1994-01-01T00:00:00\", \"variable\": \"DE\", \"value\": 3743291.0}, {\"Date\": \"2019-10-01T00:00:00\", \"variable\": \"DE\", \"value\": 13780441.0}, {\"Date\": \"1994-01-01T00:00:00\", \"variable\": \"PT\", \"value\": 315653.0}, {\"Date\": \"2019-10-01T00:00:00\", \"variable\": \"PT\", \"value\": 1995942.0}, {\"Date\": \"1994-01-01T00:00:00\", \"variable\": \"ES\", \"value\": 1604591.0}, {\"Date\": \"2019-10-01T00:00:00\", \"variable\": \"ES\", \"value\": null}, {\"Date\": \"1994-01-01T00:00:00\", \"variable\": \"UK\", \"value\": 1767000.0}, {\"Date\": \"2019-10-01T00:00:00\", \"variable\": \"UK\", \"value\": 7455781.0}]}}, {\"mode\": \"vega-lite\"});\n",
       "</script>"
      ],
      "text/plain": [
       "alt.Chart(...)"
      ]
     },
     "execution_count": 77,
     "metadata": {},
     "output_type": "execute_result"
    }
   ],
   "source": [
    "alt.Chart(df4).mark_line(point=alt.OverlayMarkDef()).encode(\n",
    "    x = alt.X('Date:O', title='', axis=alt.Axis(labelAngle=0)),\n",
    "    y = 'value:Q',\n",
    "    color='variable:N'\n",
    ").properties(width=400)"
   ]
  },
  {
   "cell_type": "markdown",
   "id": "46b8672f",
   "metadata": {},
   "source": [
    "Select two countries, leave the others for context"
   ]
  },
  {
   "cell_type": "code",
   "execution_count": 106,
   "id": "9eae362c",
   "metadata": {},
   "outputs": [
    {
     "data": {
      "text/html": [
       "\n",
       "<div id=\"altair-viz-c244517d032940e6a4f4d50d379fe562\"></div>\n",
       "<script type=\"text/javascript\">\n",
       "  var VEGA_DEBUG = (typeof VEGA_DEBUG == \"undefined\") ? {} : VEGA_DEBUG;\n",
       "  (function(spec, embedOpt){\n",
       "    let outputDiv = document.currentScript.previousElementSibling;\n",
       "    if (outputDiv.id !== \"altair-viz-c244517d032940e6a4f4d50d379fe562\") {\n",
       "      outputDiv = document.getElementById(\"altair-viz-c244517d032940e6a4f4d50d379fe562\");\n",
       "    }\n",
       "    const paths = {\n",
       "      \"vega\": \"https://cdn.jsdelivr.net/npm//vega@5?noext\",\n",
       "      \"vega-lib\": \"https://cdn.jsdelivr.net/npm//vega-lib?noext\",\n",
       "      \"vega-lite\": \"https://cdn.jsdelivr.net/npm//vega-lite@4.17.0?noext\",\n",
       "      \"vega-embed\": \"https://cdn.jsdelivr.net/npm//vega-embed@6?noext\",\n",
       "    };\n",
       "\n",
       "    function maybeLoadScript(lib, version) {\n",
       "      var key = `${lib.replace(\"-\", \"\")}_version`;\n",
       "      return (VEGA_DEBUG[key] == version) ?\n",
       "        Promise.resolve(paths[lib]) :\n",
       "        new Promise(function(resolve, reject) {\n",
       "          var s = document.createElement('script');\n",
       "          document.getElementsByTagName(\"head\")[0].appendChild(s);\n",
       "          s.async = true;\n",
       "          s.onload = () => {\n",
       "            VEGA_DEBUG[key] = version;\n",
       "            return resolve(paths[lib]);\n",
       "          };\n",
       "          s.onerror = () => reject(`Error loading script: ${paths[lib]}`);\n",
       "          s.src = paths[lib];\n",
       "        });\n",
       "    }\n",
       "\n",
       "    function showError(err) {\n",
       "      outputDiv.innerHTML = `<div class=\"error\" style=\"color:red;\">${err}</div>`;\n",
       "      throw err;\n",
       "    }\n",
       "\n",
       "    function displayChart(vegaEmbed) {\n",
       "      vegaEmbed(outputDiv, spec, embedOpt)\n",
       "        .catch(err => showError(`Javascript Error: ${err.message}<br>This usually means there's a typo in your chart specification. See the javascript console for the full traceback.`));\n",
       "    }\n",
       "\n",
       "    if(typeof define === \"function\" && define.amd) {\n",
       "      requirejs.config({paths});\n",
       "      require([\"vega-embed\"], displayChart, err => showError(`Error loading script: ${err.message}`));\n",
       "    } else {\n",
       "      maybeLoadScript(\"vega\", \"5\")\n",
       "        .then(() => maybeLoadScript(\"vega-lite\", \"4.17.0\"))\n",
       "        .then(() => maybeLoadScript(\"vega-embed\", \"6\"))\n",
       "        .catch(showError)\n",
       "        .then(() => displayChart(vegaEmbed));\n",
       "    }\n",
       "  })({\"config\": {\"view\": {\"continuousWidth\": 400, \"continuousHeight\": 300}}, \"data\": {\"name\": \"data-01aa947b889669fc40d240c007711762\"}, \"mark\": {\"type\": \"line\", \"point\": {}}, \"encoding\": {\"color\": {\"field\": \"variable\", \"scale\": {\"domain\": [\"PT\", \"DE\", \"FR\", \"IT\", \"UK\", \"ES\"], \"range\": [\"#F77F00\", \"#003049\", \"#EAE2B7\", \"#EAE2B7\", \"#EAE2B7\", \"#EAE2B7\"]}, \"type\": \"nominal\"}, \"x\": {\"axis\": {\"labelAngle\": 0}, \"field\": \"Date\", \"title\": \"\", \"type\": \"ordinal\"}, \"y\": {\"field\": \"value\", \"type\": \"quantitative\"}}, \"width\": 400, \"$schema\": \"https://vega.github.io/schema/vega-lite/v4.17.0.json\", \"datasets\": {\"data-01aa947b889669fc40d240c007711762\": [{\"Date\": \"1994-01-01T00:00:00\", \"variable\": \"IT\", \"value\": 2900063.0}, {\"Date\": \"2019-10-01T00:00:00\", \"variable\": \"IT\", \"value\": 7692388.0}, {\"Date\": \"1994-01-01T00:00:00\", \"variable\": \"FR\", \"value\": 4117549.0}, {\"Date\": \"2019-10-01T00:00:00\", \"variable\": \"FR\", \"value\": 10401793.0}, {\"Date\": \"1994-01-01T00:00:00\", \"variable\": \"DE\", \"value\": 3743291.0}, {\"Date\": \"2019-10-01T00:00:00\", \"variable\": \"DE\", \"value\": 13780441.0}, {\"Date\": \"1994-01-01T00:00:00\", \"variable\": \"PT\", \"value\": 315653.0}, {\"Date\": \"2019-10-01T00:00:00\", \"variable\": \"PT\", \"value\": 1995942.0}, {\"Date\": \"1994-01-01T00:00:00\", \"variable\": \"ES\", \"value\": 1604591.0}, {\"Date\": \"2019-10-01T00:00:00\", \"variable\": \"ES\", \"value\": null}, {\"Date\": \"1994-01-01T00:00:00\", \"variable\": \"UK\", \"value\": 1767000.0}, {\"Date\": \"2019-10-01T00:00:00\", \"variable\": \"UK\", \"value\": 7455781.0}]}}, {\"mode\": \"vega-lite\"});\n",
       "</script>"
      ],
      "text/plain": [
       "alt.Chart(...)"
      ]
     },
     "execution_count": 106,
     "metadata": {},
     "output_type": "execute_result"
    }
   ],
   "source": [
    "alt.Chart(df4).mark_line(point=alt.OverlayMarkDef()).encode(\n",
    "    x = alt.X('Date:O', title='', axis=alt.Axis(labelAngle=0)),\n",
    "    y = 'value:Q',\n",
    "    color=alt.Color('variable:N', scale=alt.Scale(range=['#F77F00','#003049','#EAE2B7', '#EAE2B7', '#EAE2B7', '#EAE2B7'], domain=['PT', 'DE','FR', 'IT','UK', 'ES']))\n",
    ").properties(width=400)"
   ]
  },
  {
   "cell_type": "code",
   "execution_count": 109,
   "id": "c8c13b41",
   "metadata": {},
   "outputs": [
    {
     "name": "stderr",
     "output_type": "stream",
     "text": [
      "/var/folders/vc/8c80t7jd1dq_mmp6cwgwxt640000gn/T/ipykernel_59385/2422920986.py:1: UserWarning: Boolean Series key will be reindexed to match DataFrame index.\n",
      "  pi_pt = (df3[mask_last]['PT'].values[0] - df3[mask_first]['PT'].values[0])/df3[mask_first]['PT'].values[0]*100\n",
      "/var/folders/vc/8c80t7jd1dq_mmp6cwgwxt640000gn/T/ipykernel_59385/2422920986.py:2: UserWarning: Boolean Series key will be reindexed to match DataFrame index.\n",
      "  pi_de = (df3[mask_last]['DE'].values[0] - df3[mask_first]['DE'].values[0])/df3[mask_first]['DE'].values[0]*100\n"
     ]
    }
   ],
   "source": [
    "pi_pt = (df3[mask_last]['PT'].values[0] - df3[mask_first]['PT'].values[0])/df3[mask_first]['PT'].values[0]*100\n",
    "pi_de = (df3[mask_last]['DE'].values[0] - df3[mask_first]['DE'].values[0])/df3[mask_first]['DE'].values[0]*100"
   ]
  },
  {
   "cell_type": "code",
   "execution_count": 110,
   "id": "92bf7e98",
   "metadata": {},
   "outputs": [
    {
     "data": {
      "text/plain": [
       "(532.3215683044356, 268.13704838870393)"
      ]
     },
     "execution_count": 110,
     "metadata": {},
     "output_type": "execute_result"
    }
   ],
   "source": [
    "pi_pt,pi_de"
   ]
  },
  {
   "cell_type": "code",
   "execution_count": 113,
   "id": "a787a014",
   "metadata": {},
   "outputs": [],
   "source": [
    "df5 = pd.DataFrame({\n",
    "    'Date'    : [1994,2019,1994,2019],\n",
    "    'Country' : ['PT', 'PT', 'DE', 'DE'],\n",
    "    'Tourist Arrivals' : [0, pi_pt, 0, pi_de]\n",
    "})"
   ]
  },
  {
   "cell_type": "code",
   "execution_count": 114,
   "id": "22b34b90",
   "metadata": {},
   "outputs": [
    {
     "data": {
      "text/html": [
       "<div><div id=016d8f4e-1a4b-475a-981b-15effc018f0d style=\"display:none; background-color:#9D6CFF; color:white; width:200px; height:30px; padding-left:5px; border-radius:4px; flex-direction:row; justify-content:space-around; align-items:center;\" onmouseover=\"this.style.backgroundColor='#BA9BF8'\" onmouseout=\"this.style.backgroundColor='#9D6CFF'\" onclick=\"window.commands?.execute('create-mitosheet-from-dataframe-output');\">See Full Dataframe in Mito</div> <script> if (window.commands.hasCommand('create-mitosheet-from-dataframe-output')) document.getElementById('016d8f4e-1a4b-475a-981b-15effc018f0d').style.display = 'flex' </script> <table border=\"1\" class=\"dataframe\">\n",
       "  <thead>\n",
       "    <tr style=\"text-align: right;\">\n",
       "      <th></th>\n",
       "      <th>Date</th>\n",
       "      <th>Country</th>\n",
       "      <th>Tourist Arrivals</th>\n",
       "    </tr>\n",
       "  </thead>\n",
       "  <tbody>\n",
       "    <tr>\n",
       "      <th>0</th>\n",
       "      <td>1994</td>\n",
       "      <td>PT</td>\n",
       "      <td>0.000000</td>\n",
       "    </tr>\n",
       "    <tr>\n",
       "      <th>1</th>\n",
       "      <td>2019</td>\n",
       "      <td>PT</td>\n",
       "      <td>532.321568</td>\n",
       "    </tr>\n",
       "    <tr>\n",
       "      <th>2</th>\n",
       "      <td>1994</td>\n",
       "      <td>DE</td>\n",
       "      <td>0.000000</td>\n",
       "    </tr>\n",
       "    <tr>\n",
       "      <th>3</th>\n",
       "      <td>2019</td>\n",
       "      <td>DE</td>\n",
       "      <td>268.137048</td>\n",
       "    </tr>\n",
       "  </tbody>\n",
       "</table></div>"
      ],
      "text/plain": [
       "   Date Country  Tourist Arrivals\n",
       "0  1994      PT          0.000000\n",
       "1  2019      PT        532.321568\n",
       "2  1994      DE          0.000000\n",
       "3  2019      DE        268.137048"
      ]
     },
     "execution_count": 114,
     "metadata": {},
     "output_type": "execute_result"
    }
   ],
   "source": [
    "df5"
   ]
  },
  {
   "cell_type": "code",
   "execution_count": 183,
   "id": "e27270fd",
   "metadata": {},
   "outputs": [
    {
     "data": {
      "text/html": [
       "\n",
       "<div id=\"altair-viz-946fdb66eb614a08bab4a463de19f809\"></div>\n",
       "<script type=\"text/javascript\">\n",
       "  var VEGA_DEBUG = (typeof VEGA_DEBUG == \"undefined\") ? {} : VEGA_DEBUG;\n",
       "  (function(spec, embedOpt){\n",
       "    let outputDiv = document.currentScript.previousElementSibling;\n",
       "    if (outputDiv.id !== \"altair-viz-946fdb66eb614a08bab4a463de19f809\") {\n",
       "      outputDiv = document.getElementById(\"altair-viz-946fdb66eb614a08bab4a463de19f809\");\n",
       "    }\n",
       "    const paths = {\n",
       "      \"vega\": \"https://cdn.jsdelivr.net/npm//vega@5?noext\",\n",
       "      \"vega-lib\": \"https://cdn.jsdelivr.net/npm//vega-lib?noext\",\n",
       "      \"vega-lite\": \"https://cdn.jsdelivr.net/npm//vega-lite@4.17.0?noext\",\n",
       "      \"vega-embed\": \"https://cdn.jsdelivr.net/npm//vega-embed@6?noext\",\n",
       "    };\n",
       "\n",
       "    function maybeLoadScript(lib, version) {\n",
       "      var key = `${lib.replace(\"-\", \"\")}_version`;\n",
       "      return (VEGA_DEBUG[key] == version) ?\n",
       "        Promise.resolve(paths[lib]) :\n",
       "        new Promise(function(resolve, reject) {\n",
       "          var s = document.createElement('script');\n",
       "          document.getElementsByTagName(\"head\")[0].appendChild(s);\n",
       "          s.async = true;\n",
       "          s.onload = () => {\n",
       "            VEGA_DEBUG[key] = version;\n",
       "            return resolve(paths[lib]);\n",
       "          };\n",
       "          s.onerror = () => reject(`Error loading script: ${paths[lib]}`);\n",
       "          s.src = paths[lib];\n",
       "        });\n",
       "    }\n",
       "\n",
       "    function showError(err) {\n",
       "      outputDiv.innerHTML = `<div class=\"error\" style=\"color:red;\">${err}</div>`;\n",
       "      throw err;\n",
       "    }\n",
       "\n",
       "    function displayChart(vegaEmbed) {\n",
       "      vegaEmbed(outputDiv, spec, embedOpt)\n",
       "        .catch(err => showError(`Javascript Error: ${err.message}<br>This usually means there's a typo in your chart specification. See the javascript console for the full traceback.`));\n",
       "    }\n",
       "\n",
       "    if(typeof define === \"function\" && define.amd) {\n",
       "      requirejs.config({paths});\n",
       "      require([\"vega-embed\"], displayChart, err => showError(`Error loading script: ${err.message}`));\n",
       "    } else {\n",
       "      maybeLoadScript(\"vega\", \"5\")\n",
       "        .then(() => maybeLoadScript(\"vega-lite\", \"4.17.0\"))\n",
       "        .then(() => maybeLoadScript(\"vega-embed\", \"6\"))\n",
       "        .catch(showError)\n",
       "        .then(() => displayChart(vegaEmbed));\n",
       "    }\n",
       "  })({\"config\": {\"view\": {\"continuousWidth\": 400, \"continuousHeight\": 300}}, \"data\": {\"name\": \"data-ba560081619c819066b296f28716a75d\"}, \"mark\": {\"type\": \"line\", \"point\": {}}, \"encoding\": {\"color\": {\"field\": \"Country\", \"scale\": {\"domain\": [\"PT\", \"DE\"], \"range\": [\"#F77F00\", \"#003049\"]}, \"type\": \"nominal\"}, \"x\": {\"axis\": {\"labelAngle\": 0}, \"field\": \"Date\", \"title\": \"\", \"type\": \"ordinal\"}, \"y\": {\"field\": \"Tourist Arrivals\", \"title\": \"Percentage increase in tourist arrivals\", \"type\": \"quantitative\"}}, \"width\": 400, \"$schema\": \"https://vega.github.io/schema/vega-lite/v4.17.0.json\", \"datasets\": {\"data-ba560081619c819066b296f28716a75d\": [{\"Date\": 1994, \"Country\": \"PT\", \"Tourist Arrivals\": 0.0}, {\"Date\": 2019, \"Country\": \"PT\", \"Tourist Arrivals\": 532.3215683044356}, {\"Date\": 1994, \"Country\": \"DE\", \"Tourist Arrivals\": 0.0}, {\"Date\": 2019, \"Country\": \"DE\", \"Tourist Arrivals\": 268.13704838870393}]}}, {\"mode\": \"vega-lite\"});\n",
       "</script>"
      ],
      "text/plain": [
       "alt.Chart(...)"
      ]
     },
     "execution_count": 183,
     "metadata": {},
     "output_type": "execute_result"
    }
   ],
   "source": [
    "chart = alt.Chart(df5).mark_line(point=alt.OverlayMarkDef()).encode(\n",
    "    x = alt.X('Date:O', title='', axis=alt.Axis(labelAngle=0)),\n",
    "    y = alt.Y('Tourist Arrivals:Q',title='Percentage increase in tourist arrivals'),\n",
    "    color=alt.Color('Country:N', scale=alt.Scale(range=['#F77F00','#003049'], domain=['PT', 'DE']))\n",
    ").properties(width=400)\n",
    "\n",
    "\n",
    "chart"
   ]
  },
  {
   "cell_type": "markdown",
   "id": "5037b340",
   "metadata": {},
   "source": [
    "Add text"
   ]
  },
  {
   "cell_type": "code",
   "execution_count": 184,
   "id": "c6f81919",
   "metadata": {},
   "outputs": [
    {
     "data": {
      "text/html": [
       "\n",
       "<div id=\"altair-viz-955d997d18b04e38b6229e09e8edf454\"></div>\n",
       "<script type=\"text/javascript\">\n",
       "  var VEGA_DEBUG = (typeof VEGA_DEBUG == \"undefined\") ? {} : VEGA_DEBUG;\n",
       "  (function(spec, embedOpt){\n",
       "    let outputDiv = document.currentScript.previousElementSibling;\n",
       "    if (outputDiv.id !== \"altair-viz-955d997d18b04e38b6229e09e8edf454\") {\n",
       "      outputDiv = document.getElementById(\"altair-viz-955d997d18b04e38b6229e09e8edf454\");\n",
       "    }\n",
       "    const paths = {\n",
       "      \"vega\": \"https://cdn.jsdelivr.net/npm//vega@5?noext\",\n",
       "      \"vega-lib\": \"https://cdn.jsdelivr.net/npm//vega-lib?noext\",\n",
       "      \"vega-lite\": \"https://cdn.jsdelivr.net/npm//vega-lite@4.17.0?noext\",\n",
       "      \"vega-embed\": \"https://cdn.jsdelivr.net/npm//vega-embed@6?noext\",\n",
       "    };\n",
       "\n",
       "    function maybeLoadScript(lib, version) {\n",
       "      var key = `${lib.replace(\"-\", \"\")}_version`;\n",
       "      return (VEGA_DEBUG[key] == version) ?\n",
       "        Promise.resolve(paths[lib]) :\n",
       "        new Promise(function(resolve, reject) {\n",
       "          var s = document.createElement('script');\n",
       "          document.getElementsByTagName(\"head\")[0].appendChild(s);\n",
       "          s.async = true;\n",
       "          s.onload = () => {\n",
       "            VEGA_DEBUG[key] = version;\n",
       "            return resolve(paths[lib]);\n",
       "          };\n",
       "          s.onerror = () => reject(`Error loading script: ${paths[lib]}`);\n",
       "          s.src = paths[lib];\n",
       "        });\n",
       "    }\n",
       "\n",
       "    function showError(err) {\n",
       "      outputDiv.innerHTML = `<div class=\"error\" style=\"color:red;\">${err}</div>`;\n",
       "      throw err;\n",
       "    }\n",
       "\n",
       "    function displayChart(vegaEmbed) {\n",
       "      vegaEmbed(outputDiv, spec, embedOpt)\n",
       "        .catch(err => showError(`Javascript Error: ${err.message}<br>This usually means there's a typo in your chart specification. See the javascript console for the full traceback.`));\n",
       "    }\n",
       "\n",
       "    if(typeof define === \"function\" && define.amd) {\n",
       "      requirejs.config({paths});\n",
       "      require([\"vega-embed\"], displayChart, err => showError(`Error loading script: ${err.message}`));\n",
       "    } else {\n",
       "      maybeLoadScript(\"vega\", \"5\")\n",
       "        .then(() => maybeLoadScript(\"vega-lite\", \"4.17.0\"))\n",
       "        .then(() => maybeLoadScript(\"vega-embed\", \"6\"))\n",
       "        .catch(showError)\n",
       "        .then(() => displayChart(vegaEmbed));\n",
       "    }\n",
       "  })({\"config\": {\"view\": {\"continuousWidth\": 400, \"continuousHeight\": 300, \"strokeWidth\": 0}}, \"layer\": [{\"data\": {\"name\": \"data-ba560081619c819066b296f28716a75d\"}, \"mark\": {\"type\": \"line\", \"point\": {}}, \"encoding\": {\"color\": {\"field\": \"Country\", \"scale\": {\"domain\": [\"PT\", \"DE\"], \"range\": [\"#F77F00\", \"#003049\"]}, \"type\": \"nominal\"}, \"x\": {\"axis\": {\"labelAngle\": 0}, \"field\": \"Date\", \"title\": \"\", \"type\": \"ordinal\"}, \"y\": {\"field\": \"Tourist Arrivals\", \"title\": \"Percentage increase in tourist arrivals\", \"type\": \"quantitative\"}}, \"width\": 400}, {\"data\": {\"name\": \"data-30bf41e495b43d276e4d3452541d8f16\"}, \"mark\": {\"type\": \"text\", \"dx\": 80, \"fontSize\": 15}, \"encoding\": {\"color\": {\"field\": \"Country\", \"legend\": null, \"scale\": {\"domain\": [\"PT\", \"DE\"], \"range\": [\"#F77F00\", \"#003049\"]}, \"type\": \"nominal\"}, \"text\": {\"field\": \"Text\", \"type\": \"nominal\"}, \"x\": {\"field\": \"X\", \"type\": \"ordinal\"}, \"y\": {\"field\": \"Y\", \"type\": \"quantitative\"}}}], \"$schema\": \"https://vega.github.io/schema/vega-lite/v4.17.0.json\", \"datasets\": {\"data-ba560081619c819066b296f28716a75d\": [{\"Date\": 1994, \"Country\": \"PT\", \"Tourist Arrivals\": 0.0}, {\"Date\": 2019, \"Country\": \"PT\", \"Tourist Arrivals\": 532.3215683044356}, {\"Date\": 1994, \"Country\": \"DE\", \"Tourist Arrivals\": 0.0}, {\"Date\": 2019, \"Country\": \"DE\", \"Tourist Arrivals\": 268.13704838870393}], \"data-30bf41e495b43d276e4d3452541d8f16\": [{\"Text\": \"Portugal: 532.32%\", \"Y\": 550, \"X\": 2019, \"Country\": \"PT\"}, {\"Text\": \"Germany: 268.14%\", \"Y\": 300, \"X\": 2019, \"Country\": \"DE\"}]}}, {\"mode\": \"vega-lite\"});\n",
       "</script>"
      ],
      "text/plain": [
       "alt.LayerChart(...)"
      ]
     },
     "execution_count": 184,
     "metadata": {},
     "output_type": "execute_result"
    }
   ],
   "source": [
    "pi_df = pd.DataFrame({\n",
    "    'Text' : ['Portugal: ' + '{:.2f}'.format(pi_pt) + '%', 'Germany: ' + '{:.2f}'.format(pi_de) + '%'],\n",
    "    'Y' : [550,300],\n",
    "    'X' : [2019,2019],\n",
    "    'Country' : ['PT', 'DE']\n",
    "})\n",
    "\n",
    "pi = alt.Chart(pi_df).mark_text(dx=80,fontSize=15).encode(\n",
    "    text='Text:N',\n",
    "    y='Y:Q',\n",
    "    x='X:O',\n",
    "    color=alt.Color('Country:N', scale=alt.Scale(range=['#F77F00','#003049'], domain=['PT', 'DE']), legend=None)\n",
    ")\n",
    "\n",
    "(chart + pi).configure_view(strokeWidth=0)"
   ]
  },
  {
   "cell_type": "markdown",
   "id": "04259807",
   "metadata": {},
   "source": [
    "## From information to knowledge\n",
    "\n",
    "Add a context"
   ]
  },
  {
   "cell_type": "code",
   "execution_count": 185,
   "id": "478852e9",
   "metadata": {},
   "outputs": [
    {
     "data": {
      "text/html": [
       "\n",
       "<div id=\"altair-viz-6fbe3ec506cd4b8abee439d5370d4e50\"></div>\n",
       "<script type=\"text/javascript\">\n",
       "  var VEGA_DEBUG = (typeof VEGA_DEBUG == \"undefined\") ? {} : VEGA_DEBUG;\n",
       "  (function(spec, embedOpt){\n",
       "    let outputDiv = document.currentScript.previousElementSibling;\n",
       "    if (outputDiv.id !== \"altair-viz-6fbe3ec506cd4b8abee439d5370d4e50\") {\n",
       "      outputDiv = document.getElementById(\"altair-viz-6fbe3ec506cd4b8abee439d5370d4e50\");\n",
       "    }\n",
       "    const paths = {\n",
       "      \"vega\": \"https://cdn.jsdelivr.net/npm//vega@5?noext\",\n",
       "      \"vega-lib\": \"https://cdn.jsdelivr.net/npm//vega-lib?noext\",\n",
       "      \"vega-lite\": \"https://cdn.jsdelivr.net/npm//vega-lite@4.17.0?noext\",\n",
       "      \"vega-embed\": \"https://cdn.jsdelivr.net/npm//vega-embed@6?noext\",\n",
       "    };\n",
       "\n",
       "    function maybeLoadScript(lib, version) {\n",
       "      var key = `${lib.replace(\"-\", \"\")}_version`;\n",
       "      return (VEGA_DEBUG[key] == version) ?\n",
       "        Promise.resolve(paths[lib]) :\n",
       "        new Promise(function(resolve, reject) {\n",
       "          var s = document.createElement('script');\n",
       "          document.getElementsByTagName(\"head\")[0].appendChild(s);\n",
       "          s.async = true;\n",
       "          s.onload = () => {\n",
       "            VEGA_DEBUG[key] = version;\n",
       "            return resolve(paths[lib]);\n",
       "          };\n",
       "          s.onerror = () => reject(`Error loading script: ${paths[lib]}`);\n",
       "          s.src = paths[lib];\n",
       "        });\n",
       "    }\n",
       "\n",
       "    function showError(err) {\n",
       "      outputDiv.innerHTML = `<div class=\"error\" style=\"color:red;\">${err}</div>`;\n",
       "      throw err;\n",
       "    }\n",
       "\n",
       "    function displayChart(vegaEmbed) {\n",
       "      vegaEmbed(outputDiv, spec, embedOpt)\n",
       "        .catch(err => showError(`Javascript Error: ${err.message}<br>This usually means there's a typo in your chart specification. See the javascript console for the full traceback.`));\n",
       "    }\n",
       "\n",
       "    if(typeof define === \"function\" && define.amd) {\n",
       "      requirejs.config({paths});\n",
       "      require([\"vega-embed\"], displayChart, err => showError(`Error loading script: ${err.message}`));\n",
       "    } else {\n",
       "      maybeLoadScript(\"vega\", \"5\")\n",
       "        .then(() => maybeLoadScript(\"vega-lite\", \"4.17.0\"))\n",
       "        .then(() => maybeLoadScript(\"vega-embed\", \"6\"))\n",
       "        .catch(showError)\n",
       "        .then(() => displayChart(vegaEmbed));\n",
       "    }\n",
       "  })({\"config\": {\"view\": {\"continuousWidth\": 400, \"continuousHeight\": 300, \"strokeWidth\": 0}}, \"layer\": [{\"data\": {\"name\": \"data-ba560081619c819066b296f28716a75d\"}, \"mark\": {\"type\": \"line\", \"point\": {}}, \"encoding\": {\"color\": {\"field\": \"Country\", \"scale\": {\"domain\": [\"PT\", \"DE\"], \"range\": [\"#F77F00\", \"#003049\"]}, \"type\": \"nominal\"}, \"x\": {\"axis\": {\"labelAngle\": 0}, \"field\": \"Date\", \"title\": \"\", \"type\": \"ordinal\"}, \"y\": {\"field\": \"Tourist Arrivals\", \"title\": \"Percentage increase in tourist arrivals\", \"type\": \"quantitative\"}}, \"width\": 400}, {\"data\": {\"name\": \"data-30bf41e495b43d276e4d3452541d8f16\"}, \"mark\": {\"type\": \"text\", \"dx\": 80, \"fontSize\": 15}, \"encoding\": {\"color\": {\"field\": \"Country\", \"legend\": null, \"scale\": {\"domain\": [\"PT\", \"DE\"], \"range\": [\"#F77F00\", \"#003049\"]}, \"type\": \"nominal\"}, \"text\": {\"field\": \"Text\", \"type\": \"nominal\"}, \"x\": {\"field\": \"X\", \"type\": \"ordinal\"}, \"y\": {\"field\": \"Y\", \"type\": \"quantitative\"}}}, {\"data\": {\"name\": \"data-c6a9992f4a0fe3d0a549991aa3fc42ba\"}, \"mark\": {\"type\": \"text\", \"align\": \"left\", \"fontSize\": 15, \"lineBreak\": \"\\n\", \"y\": 250}, \"encoding\": {\"color\": {\"value\": \"#F77F00\"}, \"text\": {\"field\": \"text\", \"type\": \"nominal\"}}}], \"$schema\": \"https://vega.github.io/schema/vega-lite/v4.17.0.json\", \"datasets\": {\"data-ba560081619c819066b296f28716a75d\": [{\"Date\": 1994, \"Country\": \"PT\", \"Tourist Arrivals\": 0.0}, {\"Date\": 2019, \"Country\": \"PT\", \"Tourist Arrivals\": 532.3215683044356}, {\"Date\": 1994, \"Country\": \"DE\", \"Tourist Arrivals\": 0.0}, {\"Date\": 2019, \"Country\": \"DE\", \"Tourist Arrivals\": 268.13704838870393}], \"data-30bf41e495b43d276e4d3452541d8f16\": [{\"Text\": \"Portugal: 532.32%\", \"Y\": 550, \"X\": 2019, \"Country\": \"PT\"}, {\"Text\": \"Germany: 268.14%\", \"Y\": 300, \"X\": 2019, \"Country\": \"DE\"}], \"data-c6a9992f4a0fe3d0a549991aa3fc42ba\": [{\"text\": \"Thanks to the introduction of low cost flights, \\nPortugal has experienced an increase in tourist arrivals of over 500% in 25 years, \\neven surpassing the increase in Germany, one of the favorite destinations for tourists since ever.\"}]}}, {\"mode\": \"vega-lite\"});\n",
       "</script>"
      ],
      "text/plain": [
       "alt.LayerChart(...)"
      ]
     },
     "execution_count": 185,
     "metadata": {},
     "output_type": "execute_result"
    }
   ],
   "source": [
    "# build the annotation \n",
    "annotation = \"\"\"Thanks to the introduction of low cost flights, \n",
    "Portugal has experienced an increase in tourist arrivals of over 500% in 25 years, \n",
    "even surpassing the increase in Germany, one of the favorite destinations for tourists since ever.\"\"\"\n",
    "text_df = pd.DataFrame([{'text' : annotation}])\n",
    "\n",
    "text = alt.Chart(text_df).mark_text(lineBreak='\\n',align='left',fontSize=15,y=250).encode(\n",
    "    text='text:N',\n",
    "    color=alt.value('#F77F00')\n",
    ")\n",
    "\n",
    "# build the final chart\n",
    "total = (chart + pi + text).configure_view(strokeWidth=0)\n",
    "total\n"
   ]
  },
  {
   "cell_type": "markdown",
   "id": "68dc662d",
   "metadata": {},
   "source": [
    "# From Knowledge to wisdom\n",
    "\n",
    "Add a call to action"
   ]
  },
  {
   "cell_type": "code",
   "execution_count": 194,
   "id": "f55d5254",
   "metadata": {},
   "outputs": [
    {
     "data": {
      "text/html": [
       "\n",
       "<div id=\"altair-viz-532914eea3e7404888c42ad4d5391d69\"></div>\n",
       "<script type=\"text/javascript\">\n",
       "  var VEGA_DEBUG = (typeof VEGA_DEBUG == \"undefined\") ? {} : VEGA_DEBUG;\n",
       "  (function(spec, embedOpt){\n",
       "    let outputDiv = document.currentScript.previousElementSibling;\n",
       "    if (outputDiv.id !== \"altair-viz-532914eea3e7404888c42ad4d5391d69\") {\n",
       "      outputDiv = document.getElementById(\"altair-viz-532914eea3e7404888c42ad4d5391d69\");\n",
       "    }\n",
       "    const paths = {\n",
       "      \"vega\": \"https://cdn.jsdelivr.net/npm//vega@5?noext\",\n",
       "      \"vega-lib\": \"https://cdn.jsdelivr.net/npm//vega-lib?noext\",\n",
       "      \"vega-lite\": \"https://cdn.jsdelivr.net/npm//vega-lite@4.17.0?noext\",\n",
       "      \"vega-embed\": \"https://cdn.jsdelivr.net/npm//vega-embed@6?noext\",\n",
       "    };\n",
       "\n",
       "    function maybeLoadScript(lib, version) {\n",
       "      var key = `${lib.replace(\"-\", \"\")}_version`;\n",
       "      return (VEGA_DEBUG[key] == version) ?\n",
       "        Promise.resolve(paths[lib]) :\n",
       "        new Promise(function(resolve, reject) {\n",
       "          var s = document.createElement('script');\n",
       "          document.getElementsByTagName(\"head\")[0].appendChild(s);\n",
       "          s.async = true;\n",
       "          s.onload = () => {\n",
       "            VEGA_DEBUG[key] = version;\n",
       "            return resolve(paths[lib]);\n",
       "          };\n",
       "          s.onerror = () => reject(`Error loading script: ${paths[lib]}`);\n",
       "          s.src = paths[lib];\n",
       "        });\n",
       "    }\n",
       "\n",
       "    function showError(err) {\n",
       "      outputDiv.innerHTML = `<div class=\"error\" style=\"color:red;\">${err}</div>`;\n",
       "      throw err;\n",
       "    }\n",
       "\n",
       "    function displayChart(vegaEmbed) {\n",
       "      vegaEmbed(outputDiv, spec, embedOpt)\n",
       "        .catch(err => showError(`Javascript Error: ${err.message}<br>This usually means there's a typo in your chart specification. See the javascript console for the full traceback.`));\n",
       "    }\n",
       "\n",
       "    if(typeof define === \"function\" && define.amd) {\n",
       "      requirejs.config({paths});\n",
       "      require([\"vega-embed\"], displayChart, err => showError(`Error loading script: ${err.message}`));\n",
       "    } else {\n",
       "      maybeLoadScript(\"vega\", \"5\")\n",
       "        .then(() => maybeLoadScript(\"vega-lite\", \"4.17.0\"))\n",
       "        .then(() => maybeLoadScript(\"vega-embed\", \"6\"))\n",
       "        .catch(showError)\n",
       "        .then(() => displayChart(vegaEmbed));\n",
       "    }\n",
       "  })({\"config\": {\"view\": {\"continuousWidth\": 400, \"continuousHeight\": 300, \"strokeWidth\": 0}, \"title\": {\"fontSize\": 24, \"offset\": 25}}, \"layer\": [{\"data\": {\"name\": \"data-ba560081619c819066b296f28716a75d\"}, \"mark\": {\"type\": \"line\", \"point\": {}}, \"encoding\": {\"color\": {\"field\": \"Country\", \"scale\": {\"domain\": [\"PT\", \"DE\"], \"range\": [\"#F77F00\", \"#003049\"]}, \"type\": \"nominal\"}, \"x\": {\"axis\": {\"labelAngle\": 0}, \"field\": \"Date\", \"title\": \"\", \"type\": \"ordinal\"}, \"y\": {\"field\": \"Tourist Arrivals\", \"title\": \"Percentage increase in tourist arrivals\", \"type\": \"quantitative\"}}, \"width\": 400}, {\"data\": {\"name\": \"data-30bf41e495b43d276e4d3452541d8f16\"}, \"mark\": {\"type\": \"text\", \"dx\": 80, \"fontSize\": 15}, \"encoding\": {\"color\": {\"field\": \"Country\", \"legend\": null, \"scale\": {\"domain\": [\"PT\", \"DE\"], \"range\": [\"#F77F00\", \"#003049\"]}, \"type\": \"nominal\"}, \"text\": {\"field\": \"Text\", \"type\": \"nominal\"}, \"x\": {\"field\": \"X\", \"type\": \"ordinal\"}, \"y\": {\"field\": \"Y\", \"type\": \"quantitative\"}}}, {\"data\": {\"name\": \"data-c6a9992f4a0fe3d0a549991aa3fc42ba\"}, \"mark\": {\"type\": \"text\", \"align\": \"left\", \"fontSize\": 15, \"lineBreak\": \"\\n\", \"y\": 250}, \"encoding\": {\"color\": {\"value\": \"#F77F00\"}, \"text\": {\"field\": \"text\", \"type\": \"nominal\"}}}], \"title\": \"Yes, continue investing in tourism in Portugal.\", \"$schema\": \"https://vega.github.io/schema/vega-lite/v4.17.0.json\", \"datasets\": {\"data-ba560081619c819066b296f28716a75d\": [{\"Date\": 1994, \"Country\": \"PT\", \"Tourist Arrivals\": 0.0}, {\"Date\": 2019, \"Country\": \"PT\", \"Tourist Arrivals\": 532.3215683044356}, {\"Date\": 1994, \"Country\": \"DE\", \"Tourist Arrivals\": 0.0}, {\"Date\": 2019, \"Country\": \"DE\", \"Tourist Arrivals\": 268.13704838870393}], \"data-30bf41e495b43d276e4d3452541d8f16\": [{\"Text\": \"Portugal: 532.32%\", \"Y\": 550, \"X\": 2019, \"Country\": \"PT\"}, {\"Text\": \"Germany: 268.14%\", \"Y\": 300, \"X\": 2019, \"Country\": \"DE\"}], \"data-c6a9992f4a0fe3d0a549991aa3fc42ba\": [{\"text\": \"Thanks to the introduction of low cost flights, \\nPortugal has experienced an increase in tourist arrivals of over 500% in 25 years, \\neven surpassing the increase in Germany, one of the favorite destinations for tourists since ever.\"}]}}, {\"mode\": \"vega-lite\"});\n",
       "</script>"
      ],
      "text/plain": [
       "alt.LayerChart(...)"
      ]
     },
     "execution_count": 194,
     "metadata": {},
     "output_type": "execute_result"
    }
   ],
   "source": [
    "total.properties(title='Yes, continue investing in tourism in Portugal.'\n",
    ").configure_title(fontSize=24,offset=25)"
   ]
  },
  {
   "cell_type": "code",
   "execution_count": null,
   "id": "26c0246a",
   "metadata": {},
   "outputs": [],
   "source": []
  }
 ],
 "metadata": {
  "kernelspec": {
   "display_name": "Python 3 (ipykernel)",
   "language": "python",
   "name": "python3"
  },
  "language_info": {
   "codemirror_mode": {
    "name": "ipython",
    "version": 3
   },
   "file_extension": ".py",
   "mimetype": "text/x-python",
   "name": "python",
   "nbconvert_exporter": "python",
   "pygments_lexer": "ipython3",
   "version": "3.8.10"
  }
 },
 "nbformat": 4,
 "nbformat_minor": 5
}
