{
 "cells": [
  {
   "cell_type": "code",
   "execution_count": 1,
   "id": "34c2deba",
   "metadata": {},
   "outputs": [],
   "source": [
    "import pandas as pd\n",
    "\n",
    "df = pd.read_csv('source/tourist_arrivals_countries.csv', parse_dates=['Date'])\n",
    "# Remove missing rows from the data\n",
    "df = df.dropna()\n",
    "# Extract the year from the Date field and create a new column called Year\n",
    "df['Year'] = df['Date'].dt.year\n",
    "# Group the data by Year and calculate the average number of tourist arrivals for each year\n",
    "df = df.groupby('Year').mean()\n",
    "# Select only the rows where the year is 1994 or 2018\n",
    "df = df.loc[[1994, 2018]]\n",
    "# Select only the following columns: Year, PT and DE\n",
    "df = df[['PT', 'DE']]\n",
    "# Create a new dataframe df_pi with three columns Year, Country and Percentage Increase\n",
    "df_pi = pd.DataFrame(columns=['Year', 'Country', 'Percentage Increase'])\n",
    "# Add a new row to df_pi with the following values: 1994, PT, 0.0\n",
    "df_pi = df_pi.append({'Year': 1994, 'Country': 'PT', 'Percentage Increase': 0.0}, ignore_index=True)\n",
    "# Add a new row to df_pi with the following values: 1994, DE, 0.0\n",
    "df_pi = df_pi.append({'Year': 1994, 'Country': 'DE', 'Percentage Increase': 0.0}, ignore_index=True)\n",
    "# For columns PT and DE in the original dataframe df, calculate the percentae increase of the second row respect to first row and store the result as two new columns in df_pi. For the column year, add 2018\n",
    "df_pi = df_pi.append({'Year': 2018, 'Country': 'PT', 'Percentage Increase': df['PT'].pct_change().dropna().iloc[0]}, ignore_index=True)\n",
    "df_pi = df_pi.append({'Year': 2018, 'Country': 'DE', 'Percentage Increase': df['DE'].pct_change().dropna().iloc[0]}, ignore_index=True)\n",
    "# Use the Altair library to plot two lines in the same chart"
   ]
  },
  {
   "cell_type": "code",
   "execution_count": 2,
   "id": "c01e6ee0",
   "metadata": {},
   "outputs": [
    {
     "data": {
      "text/html": [
       "<div><div id=46f0dab0-5379-4d0f-82b1-7f0d42826261 style=\"display:none; background-color:#9D6CFF; color:white; width:200px; height:30px; padding-left:5px; border-radius:4px; flex-direction:row; justify-content:space-around; align-items:center;\" onmouseover=\"this.style.backgroundColor='#BA9BF8'\" onmouseout=\"this.style.backgroundColor='#9D6CFF'\" onclick=\"window.commands?.execute('create-mitosheet-from-dataframe-output');\">See Full Dataframe in Mito</div> <script> if (window.commands.hasCommand('create-mitosheet-from-dataframe-output')) document.getElementById('46f0dab0-5379-4d0f-82b1-7f0d42826261').style.display = 'flex' </script> <table border=\"1\" class=\"dataframe\">\n",
       "  <thead>\n",
       "    <tr style=\"text-align: right;\">\n",
       "      <th></th>\n",
       "      <th>Year</th>\n",
       "      <th>Country</th>\n",
       "      <th>Percentage Increase</th>\n",
       "    </tr>\n",
       "  </thead>\n",
       "  <tbody>\n",
       "    <tr>\n",
       "      <th>0</th>\n",
       "      <td>1994</td>\n",
       "      <td>PT</td>\n",
       "      <td>0.000000</td>\n",
       "    </tr>\n",
       "    <tr>\n",
       "      <th>1</th>\n",
       "      <td>1994</td>\n",
       "      <td>DE</td>\n",
       "      <td>0.000000</td>\n",
       "    </tr>\n",
       "    <tr>\n",
       "      <th>2</th>\n",
       "      <td>2018</td>\n",
       "      <td>PT</td>\n",
       "      <td>2.023563</td>\n",
       "    </tr>\n",
       "    <tr>\n",
       "      <th>3</th>\n",
       "      <td>2018</td>\n",
       "      <td>DE</td>\n",
       "      <td>1.159772</td>\n",
       "    </tr>\n",
       "  </tbody>\n",
       "</table></div>"
      ],
      "text/plain": [
       "   Year Country  Percentage Increase\n",
       "0  1994      PT             0.000000\n",
       "1  1994      DE             0.000000\n",
       "2  2018      PT             2.023563\n",
       "3  2018      DE             1.159772"
      ]
     },
     "execution_count": 2,
     "metadata": {},
     "output_type": "execute_result"
    }
   ],
   "source": [
    "df_pi"
   ]
  },
  {
   "cell_type": "code",
   "execution_count": 5,
   "id": "782fabb2",
   "metadata": {},
   "outputs": [
    {
     "data": {
      "text/html": [
       "\n",
       "<div id=\"altair-viz-bd34ca04166f4bb68db653fb5adc5a5f\"></div>\n",
       "<script type=\"text/javascript\">\n",
       "  var VEGA_DEBUG = (typeof VEGA_DEBUG == \"undefined\") ? {} : VEGA_DEBUG;\n",
       "  (function(spec, embedOpt){\n",
       "    let outputDiv = document.currentScript.previousElementSibling;\n",
       "    if (outputDiv.id !== \"altair-viz-bd34ca04166f4bb68db653fb5adc5a5f\") {\n",
       "      outputDiv = document.getElementById(\"altair-viz-bd34ca04166f4bb68db653fb5adc5a5f\");\n",
       "    }\n",
       "    const paths = {\n",
       "      \"vega\": \"https://cdn.jsdelivr.net/npm//vega@5?noext\",\n",
       "      \"vega-lib\": \"https://cdn.jsdelivr.net/npm//vega-lib?noext\",\n",
       "      \"vega-lite\": \"https://cdn.jsdelivr.net/npm//vega-lite@4.17.0?noext\",\n",
       "      \"vega-embed\": \"https://cdn.jsdelivr.net/npm//vega-embed@6?noext\",\n",
       "    };\n",
       "\n",
       "    function maybeLoadScript(lib, version) {\n",
       "      var key = `${lib.replace(\"-\", \"\")}_version`;\n",
       "      return (VEGA_DEBUG[key] == version) ?\n",
       "        Promise.resolve(paths[lib]) :\n",
       "        new Promise(function(resolve, reject) {\n",
       "          var s = document.createElement('script');\n",
       "          document.getElementsByTagName(\"head\")[0].appendChild(s);\n",
       "          s.async = true;\n",
       "          s.onload = () => {\n",
       "            VEGA_DEBUG[key] = version;\n",
       "            return resolve(paths[lib]);\n",
       "          };\n",
       "          s.onerror = () => reject(`Error loading script: ${paths[lib]}`);\n",
       "          s.src = paths[lib];\n",
       "        });\n",
       "    }\n",
       "\n",
       "    function showError(err) {\n",
       "      outputDiv.innerHTML = `<div class=\"error\" style=\"color:red;\">${err}</div>`;\n",
       "      throw err;\n",
       "    }\n",
       "\n",
       "    function displayChart(vegaEmbed) {\n",
       "      vegaEmbed(outputDiv, spec, embedOpt)\n",
       "        .catch(err => showError(`Javascript Error: ${err.message}<br>This usually means there's a typo in your chart specification. See the javascript console for the full traceback.`));\n",
       "    }\n",
       "\n",
       "    if(typeof define === \"function\" && define.amd) {\n",
       "      requirejs.config({paths});\n",
       "      require([\"vega-embed\"], displayChart, err => showError(`Error loading script: ${err.message}`));\n",
       "    } else {\n",
       "      maybeLoadScript(\"vega\", \"5\")\n",
       "        .then(() => maybeLoadScript(\"vega-lite\", \"4.17.0\"))\n",
       "        .then(() => maybeLoadScript(\"vega-embed\", \"6\"))\n",
       "        .catch(showError)\n",
       "        .then(() => displayChart(vegaEmbed));\n",
       "    }\n",
       "  })({\"config\": {\"view\": {\"continuousWidth\": 400, \"continuousHeight\": 300}}, \"data\": {\"name\": \"data-f23d8df32240ecc8f78c653904139b95\"}, \"mark\": \"line\", \"encoding\": {\"color\": {\"field\": \"Country\", \"type\": \"nominal\"}, \"x\": {\"field\": \"Year\", \"type\": \"quantitative\"}, \"y\": {\"field\": \"Percentage Increase\", \"type\": \"quantitative\"}}, \"$schema\": \"https://vega.github.io/schema/vega-lite/v4.17.0.json\", \"datasets\": {\"data-f23d8df32240ecc8f78c653904139b95\": [{\"Year\": 1994, \"Country\": \"PT\", \"Percentage Increase\": 0.0}, {\"Year\": 1994, \"Country\": \"DE\", \"Percentage Increase\": 0.0}, {\"Year\": 2018, \"Country\": \"PT\", \"Percentage Increase\": 2.0235633018739816}, {\"Year\": 2018, \"Country\": \"DE\", \"Percentage Increase\": 1.1597719264724557}]}}, {\"mode\": \"vega-lite\"});\n",
       "</script>"
      ],
      "text/plain": [
       "alt.Chart(...)"
      ]
     },
     "execution_count": 5,
     "metadata": {},
     "output_type": "execute_result"
    }
   ],
   "source": [
    "import altair as alt\n",
    "chart = alt.Chart(df_pi).mark_line().encode(\n",
    "        x='Year',\n",
    "        y='Percentage Increase',\n",
    "        color='Country'\n",
    "    )\n",
    "chart"
   ]
  },
  {
   "cell_type": "code",
   "execution_count": null,
   "id": "259f0061",
   "metadata": {},
   "outputs": [],
   "source": []
  }
 ],
 "metadata": {
  "kernelspec": {
   "display_name": "Python 3 (ipykernel)",
   "language": "python",
   "name": "python3"
  },
  "language_info": {
   "codemirror_mode": {
    "name": "ipython",
    "version": 3
   },
   "file_extension": ".py",
   "mimetype": "text/x-python",
   "name": "python",
   "nbconvert_exporter": "python",
   "pygments_lexer": "ipython3",
   "version": "3.8.10"
  }
 },
 "nbformat": 4,
 "nbformat_minor": 5
}
