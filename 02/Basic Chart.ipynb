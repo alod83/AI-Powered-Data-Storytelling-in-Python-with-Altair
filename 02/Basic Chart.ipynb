{
 "cells": [
  {
   "cell_type": "markdown",
   "id": "48676840",
   "metadata": {},
   "source": [
    "# Building a Basic Chart\n",
    "\n",
    "## Example"
   ]
  },
  {
   "cell_type": "code",
   "execution_count": 1,
   "id": "08908435",
   "metadata": {},
   "outputs": [
    {
     "name": "stderr",
     "output_type": "stream",
     "text": [
      "/Users/angelica/Library/Python/3.8/lib/python/site-packages/altair/utils/core.py:317: FutureWarning: iteritems is deprecated and will be removed in a future version. Use .items instead.\n",
      "  for col_name, dtype in df.dtypes.iteritems():\n"
     ]
    },
    {
     "data": {
      "text/html": [
       "\n",
       "<div id=\"altair-viz-d736e0896f5c4ecc86a934d4323d5874\"></div>\n",
       "<script type=\"text/javascript\">\n",
       "  var VEGA_DEBUG = (typeof VEGA_DEBUG == \"undefined\") ? {} : VEGA_DEBUG;\n",
       "  (function(spec, embedOpt){\n",
       "    let outputDiv = document.currentScript.previousElementSibling;\n",
       "    if (outputDiv.id !== \"altair-viz-d736e0896f5c4ecc86a934d4323d5874\") {\n",
       "      outputDiv = document.getElementById(\"altair-viz-d736e0896f5c4ecc86a934d4323d5874\");\n",
       "    }\n",
       "    const paths = {\n",
       "      \"vega\": \"https://cdn.jsdelivr.net/npm//vega@5?noext\",\n",
       "      \"vega-lib\": \"https://cdn.jsdelivr.net/npm//vega-lib?noext\",\n",
       "      \"vega-lite\": \"https://cdn.jsdelivr.net/npm//vega-lite@4.17.0?noext\",\n",
       "      \"vega-embed\": \"https://cdn.jsdelivr.net/npm//vega-embed@6?noext\",\n",
       "    };\n",
       "\n",
       "    function maybeLoadScript(lib, version) {\n",
       "      var key = `${lib.replace(\"-\", \"\")}_version`;\n",
       "      return (VEGA_DEBUG[key] == version) ?\n",
       "        Promise.resolve(paths[lib]) :\n",
       "        new Promise(function(resolve, reject) {\n",
       "          var s = document.createElement('script');\n",
       "          document.getElementsByTagName(\"head\")[0].appendChild(s);\n",
       "          s.async = true;\n",
       "          s.onload = () => {\n",
       "            VEGA_DEBUG[key] = version;\n",
       "            return resolve(paths[lib]);\n",
       "          };\n",
       "          s.onerror = () => reject(`Error loading script: ${paths[lib]}`);\n",
       "          s.src = paths[lib];\n",
       "        });\n",
       "    }\n",
       "\n",
       "    function showError(err) {\n",
       "      outputDiv.innerHTML = `<div class=\"error\" style=\"color:red;\">${err}</div>`;\n",
       "      throw err;\n",
       "    }\n",
       "\n",
       "    function displayChart(vegaEmbed) {\n",
       "      vegaEmbed(outputDiv, spec, embedOpt)\n",
       "        .catch(err => showError(`Javascript Error: ${err.message}<br>This usually means there's a typo in your chart specification. See the javascript console for the full traceback.`));\n",
       "    }\n",
       "\n",
       "    if(typeof define === \"function\" && define.amd) {\n",
       "      requirejs.config({paths});\n",
       "      require([\"vega-embed\"], displayChart, err => showError(`Error loading script: ${err.message}`));\n",
       "    } else {\n",
       "      maybeLoadScript(\"vega\", \"5\")\n",
       "        .then(() => maybeLoadScript(\"vega-lite\", \"4.17.0\"))\n",
       "        .then(() => maybeLoadScript(\"vega-embed\", \"6\"))\n",
       "        .catch(showError)\n",
       "        .then(() => displayChart(vegaEmbed));\n",
       "    }\n",
       "  })({\"config\": {\"view\": {\"continuousWidth\": 400, \"continuousHeight\": 300}}, \"data\": {\"name\": \"data-0c382a7e2b25acc44ea0fe6355a4f195\"}, \"mark\": \"bar\", \"encoding\": {\"x\": {\"field\": \"Age\", \"type\": \"quantitative\"}, \"y\": {\"field\": \"Name\", \"type\": \"nominal\"}}, \"$schema\": \"https://vega.github.io/schema/vega-lite/v4.17.0.json\", \"datasets\": {\"data-0c382a7e2b25acc44ea0fe6355a4f195\": [{\"Name\": \"Alice\", \"Age\": 25, \"City\": \"New York\"}, {\"Name\": \"Bob\", \"Age\": 30, \"City\": \"Paris\"}, {\"Name\": \"Charlie\", \"Age\": 35, \"City\": \"London\"}]}}, {\"mode\": \"vega-lite\"});\n",
       "</script>"
      ],
      "text/plain": [
       "alt.Chart(...)"
      ]
     },
     "metadata": {},
     "output_type": "display_data"
    }
   ],
   "source": [
    "import pandas as pd\n",
    "import altair as alt\n",
    "\n",
    "# Create data for the DataFrame\n",
    "data = {'Name': ['Alice', 'Bob', 'Charlie'],\n",
    "'Age': [25, 30, 35],\n",
    "'City': ['New York', 'Paris', 'London']\n",
    "}\n",
    "\n",
    "\n",
    "# Create the DataFrame from the data\n",
    "df = pd.DataFrame(data)\n",
    "\n",
    "# Create the chart\n",
    "chart = alt.Chart(df).mark_bar(\n",
    ").encode(\n",
    "    x = 'Age:Q',     \n",
    "    y = 'Name:N' \n",
    ")\n",
    "\n",
    "chart.save('chart.html')\n",
    "chart.display()"
   ]
  },
  {
   "cell_type": "markdown",
   "id": "96661268",
   "metadata": {},
   "source": [
    "## Exercise 1\n",
    "\n",
    "Draw a bar chart using the following DataFrame:"
   ]
  },
  {
   "cell_type": "code",
   "execution_count": 2,
   "id": "ff73b32b",
   "metadata": {},
   "outputs": [],
   "source": [
    "import pandas as pd\n",
    "import altair as alt\n",
    "\n",
    "df = pd.DataFrame({\n",
    "   'X' : [1,2,3],\n",
    "   'Y' : ['A','B','C']\n",
    "})"
   ]
  },
  {
   "cell_type": "markdown",
   "id": "49c490be",
   "metadata": {},
   "source": [
    "Solution"
   ]
  },
  {
   "cell_type": "code",
   "execution_count": 3,
   "id": "a6d5a887",
   "metadata": {},
   "outputs": [
    {
     "data": {
      "text/html": [
       "\n",
       "<div id=\"altair-viz-e326828b231b44ad8c43343170cdf105\"></div>\n",
       "<script type=\"text/javascript\">\n",
       "  var VEGA_DEBUG = (typeof VEGA_DEBUG == \"undefined\") ? {} : VEGA_DEBUG;\n",
       "  (function(spec, embedOpt){\n",
       "    let outputDiv = document.currentScript.previousElementSibling;\n",
       "    if (outputDiv.id !== \"altair-viz-e326828b231b44ad8c43343170cdf105\") {\n",
       "      outputDiv = document.getElementById(\"altair-viz-e326828b231b44ad8c43343170cdf105\");\n",
       "    }\n",
       "    const paths = {\n",
       "      \"vega\": \"https://cdn.jsdelivr.net/npm//vega@5?noext\",\n",
       "      \"vega-lib\": \"https://cdn.jsdelivr.net/npm//vega-lib?noext\",\n",
       "      \"vega-lite\": \"https://cdn.jsdelivr.net/npm//vega-lite@4.17.0?noext\",\n",
       "      \"vega-embed\": \"https://cdn.jsdelivr.net/npm//vega-embed@6?noext\",\n",
       "    };\n",
       "\n",
       "    function maybeLoadScript(lib, version) {\n",
       "      var key = `${lib.replace(\"-\", \"\")}_version`;\n",
       "      return (VEGA_DEBUG[key] == version) ?\n",
       "        Promise.resolve(paths[lib]) :\n",
       "        new Promise(function(resolve, reject) {\n",
       "          var s = document.createElement('script');\n",
       "          document.getElementsByTagName(\"head\")[0].appendChild(s);\n",
       "          s.async = true;\n",
       "          s.onload = () => {\n",
       "            VEGA_DEBUG[key] = version;\n",
       "            return resolve(paths[lib]);\n",
       "          };\n",
       "          s.onerror = () => reject(`Error loading script: ${paths[lib]}`);\n",
       "          s.src = paths[lib];\n",
       "        });\n",
       "    }\n",
       "\n",
       "    function showError(err) {\n",
       "      outputDiv.innerHTML = `<div class=\"error\" style=\"color:red;\">${err}</div>`;\n",
       "      throw err;\n",
       "    }\n",
       "\n",
       "    function displayChart(vegaEmbed) {\n",
       "      vegaEmbed(outputDiv, spec, embedOpt)\n",
       "        .catch(err => showError(`Javascript Error: ${err.message}<br>This usually means there's a typo in your chart specification. See the javascript console for the full traceback.`));\n",
       "    }\n",
       "\n",
       "    if(typeof define === \"function\" && define.amd) {\n",
       "      requirejs.config({paths});\n",
       "      require([\"vega-embed\"], displayChart, err => showError(`Error loading script: ${err.message}`));\n",
       "    } else {\n",
       "      maybeLoadScript(\"vega\", \"5\")\n",
       "        .then(() => maybeLoadScript(\"vega-lite\", \"4.17.0\"))\n",
       "        .then(() => maybeLoadScript(\"vega-embed\", \"6\"))\n",
       "        .catch(showError)\n",
       "        .then(() => displayChart(vegaEmbed));\n",
       "    }\n",
       "  })({\"config\": {\"view\": {\"continuousWidth\": 400, \"continuousHeight\": 300}}, \"data\": {\"name\": \"data-41204eb621ae975685516319983627f1\"}, \"mark\": \"bar\", \"encoding\": {\"x\": {\"field\": \"X\", \"type\": \"quantitative\"}, \"y\": {\"field\": \"Y\", \"type\": \"nominal\"}}, \"$schema\": \"https://vega.github.io/schema/vega-lite/v4.17.0.json\", \"datasets\": {\"data-41204eb621ae975685516319983627f1\": [{\"X\": 1, \"Y\": \"A\"}, {\"X\": 2, \"Y\": \"B\"}, {\"X\": 3, \"Y\": \"C\"}]}}, {\"mode\": \"vega-lite\"});\n",
       "</script>"
      ],
      "text/plain": [
       "alt.Chart(...)"
      ]
     },
     "execution_count": 3,
     "metadata": {},
     "output_type": "execute_result"
    }
   ],
   "source": [
    "chart = alt.Chart(df).mark_bar(\n",
    ").encode(\n",
    "    x = 'X:Q',     \n",
    "    y = 'Y:N' \n",
    ")\n",
    "chart"
   ]
  },
  {
   "cell_type": "markdown",
   "id": "eeb118bd",
   "metadata": {},
   "source": [
    "## Exercise 2\n",
    "\n",
    "Draw a line chart using the following DataFrame:"
   ]
  },
  {
   "cell_type": "code",
   "execution_count": 4,
   "id": "c95cedf8",
   "metadata": {},
   "outputs": [],
   "source": [
    "import random\n",
    "\n",
    "df = pd.DataFrame({\n",
    "   'X' : list(range(100)),\n",
    "   'Y' : [random.randint(0, 100) for _ in range(100)]\n",
    "})"
   ]
  },
  {
   "cell_type": "code",
   "execution_count": 5,
   "id": "9ebbfd6b",
   "metadata": {},
   "outputs": [
    {
     "data": {
      "text/html": [
       "\n",
       "<div id=\"altair-viz-57d0d80046db411a961cc327bec9d49e\"></div>\n",
       "<script type=\"text/javascript\">\n",
       "  var VEGA_DEBUG = (typeof VEGA_DEBUG == \"undefined\") ? {} : VEGA_DEBUG;\n",
       "  (function(spec, embedOpt){\n",
       "    let outputDiv = document.currentScript.previousElementSibling;\n",
       "    if (outputDiv.id !== \"altair-viz-57d0d80046db411a961cc327bec9d49e\") {\n",
       "      outputDiv = document.getElementById(\"altair-viz-57d0d80046db411a961cc327bec9d49e\");\n",
       "    }\n",
       "    const paths = {\n",
       "      \"vega\": \"https://cdn.jsdelivr.net/npm//vega@5?noext\",\n",
       "      \"vega-lib\": \"https://cdn.jsdelivr.net/npm//vega-lib?noext\",\n",
       "      \"vega-lite\": \"https://cdn.jsdelivr.net/npm//vega-lite@4.17.0?noext\",\n",
       "      \"vega-embed\": \"https://cdn.jsdelivr.net/npm//vega-embed@6?noext\",\n",
       "    };\n",
       "\n",
       "    function maybeLoadScript(lib, version) {\n",
       "      var key = `${lib.replace(\"-\", \"\")}_version`;\n",
       "      return (VEGA_DEBUG[key] == version) ?\n",
       "        Promise.resolve(paths[lib]) :\n",
       "        new Promise(function(resolve, reject) {\n",
       "          var s = document.createElement('script');\n",
       "          document.getElementsByTagName(\"head\")[0].appendChild(s);\n",
       "          s.async = true;\n",
       "          s.onload = () => {\n",
       "            VEGA_DEBUG[key] = version;\n",
       "            return resolve(paths[lib]);\n",
       "          };\n",
       "          s.onerror = () => reject(`Error loading script: ${paths[lib]}`);\n",
       "          s.src = paths[lib];\n",
       "        });\n",
       "    }\n",
       "\n",
       "    function showError(err) {\n",
       "      outputDiv.innerHTML = `<div class=\"error\" style=\"color:red;\">${err}</div>`;\n",
       "      throw err;\n",
       "    }\n",
       "\n",
       "    function displayChart(vegaEmbed) {\n",
       "      vegaEmbed(outputDiv, spec, embedOpt)\n",
       "        .catch(err => showError(`Javascript Error: ${err.message}<br>This usually means there's a typo in your chart specification. See the javascript console for the full traceback.`));\n",
       "    }\n",
       "\n",
       "    if(typeof define === \"function\" && define.amd) {\n",
       "      requirejs.config({paths});\n",
       "      require([\"vega-embed\"], displayChart, err => showError(`Error loading script: ${err.message}`));\n",
       "    } else {\n",
       "      maybeLoadScript(\"vega\", \"5\")\n",
       "        .then(() => maybeLoadScript(\"vega-lite\", \"4.17.0\"))\n",
       "        .then(() => maybeLoadScript(\"vega-embed\", \"6\"))\n",
       "        .catch(showError)\n",
       "        .then(() => displayChart(vegaEmbed));\n",
       "    }\n",
       "  })({\"config\": {\"view\": {\"continuousWidth\": 400, \"continuousHeight\": 300}}, \"data\": {\"name\": \"data-b955ea81f8204cc9a163fcb345348460\"}, \"mark\": \"line\", \"encoding\": {\"x\": {\"field\": \"X\", \"type\": \"quantitative\"}, \"y\": {\"field\": \"Y\", \"type\": \"quantitative\"}}, \"$schema\": \"https://vega.github.io/schema/vega-lite/v4.17.0.json\", \"datasets\": {\"data-b955ea81f8204cc9a163fcb345348460\": [{\"X\": 0, \"Y\": 45}, {\"X\": 1, \"Y\": 25}, {\"X\": 2, \"Y\": 76}, {\"X\": 3, \"Y\": 95}, {\"X\": 4, \"Y\": 87}, {\"X\": 5, \"Y\": 97}, {\"X\": 6, \"Y\": 40}, {\"X\": 7, \"Y\": 80}, {\"X\": 8, \"Y\": 47}, {\"X\": 9, \"Y\": 77}, {\"X\": 10, \"Y\": 4}, {\"X\": 11, \"Y\": 29}, {\"X\": 12, \"Y\": 87}, {\"X\": 13, \"Y\": 3}, {\"X\": 14, \"Y\": 90}, {\"X\": 15, \"Y\": 6}, {\"X\": 16, \"Y\": 50}, {\"X\": 17, \"Y\": 99}, {\"X\": 18, \"Y\": 2}, {\"X\": 19, \"Y\": 34}, {\"X\": 20, \"Y\": 7}, {\"X\": 21, \"Y\": 6}, {\"X\": 22, \"Y\": 8}, {\"X\": 23, \"Y\": 66}, {\"X\": 24, \"Y\": 70}, {\"X\": 25, \"Y\": 12}, {\"X\": 26, \"Y\": 77}, {\"X\": 27, \"Y\": 53}, {\"X\": 28, \"Y\": 29}, {\"X\": 29, \"Y\": 94}, {\"X\": 30, \"Y\": 34}, {\"X\": 31, \"Y\": 34}, {\"X\": 32, \"Y\": 70}, {\"X\": 33, \"Y\": 91}, {\"X\": 34, \"Y\": 12}, {\"X\": 35, \"Y\": 56}, {\"X\": 36, \"Y\": 78}, {\"X\": 37, \"Y\": 27}, {\"X\": 38, \"Y\": 90}, {\"X\": 39, \"Y\": 45}, {\"X\": 40, \"Y\": 18}, {\"X\": 41, \"Y\": 1}, {\"X\": 42, \"Y\": 15}, {\"X\": 43, \"Y\": 39}, {\"X\": 44, \"Y\": 64}, {\"X\": 45, \"Y\": 78}, {\"X\": 46, \"Y\": 6}, {\"X\": 47, \"Y\": 13}, {\"X\": 48, \"Y\": 38}, {\"X\": 49, \"Y\": 28}, {\"X\": 50, \"Y\": 4}, {\"X\": 51, \"Y\": 62}, {\"X\": 52, \"Y\": 17}, {\"X\": 53, \"Y\": 15}, {\"X\": 54, \"Y\": 54}, {\"X\": 55, \"Y\": 62}, {\"X\": 56, \"Y\": 20}, {\"X\": 57, \"Y\": 53}, {\"X\": 58, \"Y\": 35}, {\"X\": 59, \"Y\": 91}, {\"X\": 60, \"Y\": 30}, {\"X\": 61, \"Y\": 53}, {\"X\": 62, \"Y\": 29}, {\"X\": 63, \"Y\": 19}, {\"X\": 64, \"Y\": 78}, {\"X\": 65, \"Y\": 54}, {\"X\": 66, \"Y\": 23}, {\"X\": 67, \"Y\": 55}, {\"X\": 68, \"Y\": 18}, {\"X\": 69, \"Y\": 53}, {\"X\": 70, \"Y\": 55}, {\"X\": 71, \"Y\": 10}, {\"X\": 72, \"Y\": 46}, {\"X\": 73, \"Y\": 57}, {\"X\": 74, \"Y\": 86}, {\"X\": 75, \"Y\": 17}, {\"X\": 76, \"Y\": 81}, {\"X\": 77, \"Y\": 41}, {\"X\": 78, \"Y\": 74}, {\"X\": 79, \"Y\": 61}, {\"X\": 80, \"Y\": 39}, {\"X\": 81, \"Y\": 46}, {\"X\": 82, \"Y\": 52}, {\"X\": 83, \"Y\": 1}, {\"X\": 84, \"Y\": 67}, {\"X\": 85, \"Y\": 43}, {\"X\": 86, \"Y\": 82}, {\"X\": 87, \"Y\": 18}, {\"X\": 88, \"Y\": 50}, {\"X\": 89, \"Y\": 25}, {\"X\": 90, \"Y\": 1}, {\"X\": 91, \"Y\": 26}, {\"X\": 92, \"Y\": 10}, {\"X\": 93, \"Y\": 21}, {\"X\": 94, \"Y\": 92}, {\"X\": 95, \"Y\": 43}, {\"X\": 96, \"Y\": 67}, {\"X\": 97, \"Y\": 8}, {\"X\": 98, \"Y\": 97}, {\"X\": 99, \"Y\": 82}]}}, {\"mode\": \"vega-lite\"});\n",
       "</script>"
      ],
      "text/plain": [
       "alt.Chart(...)"
      ]
     },
     "execution_count": 5,
     "metadata": {},
     "output_type": "execute_result"
    }
   ],
   "source": [
    "chart = alt.Chart(df).mark_line().encode(\n",
    "    x = 'X:Q',     \n",
    "    y = 'Y:Q' \n",
    ")\n",
    "\n",
    "chart"
   ]
  },
  {
   "cell_type": "markdown",
   "id": "f2feaa0a",
   "metadata": {},
   "source": [
    "## Exercise 3\n",
    "\n",
    "Draw a scatter plot using the following DataFrame:"
   ]
  },
  {
   "cell_type": "code",
   "execution_count": 6,
   "id": "ba41b88e",
   "metadata": {},
   "outputs": [],
   "source": [
    "df = pd.DataFrame({\n",
    "   'X' : list(range(100)),\n",
    "   'Y' : [random.randint(0, 100) for _ in range(100)]\n",
    "})"
   ]
  },
  {
   "cell_type": "code",
   "execution_count": 7,
   "id": "eba37358",
   "metadata": {},
   "outputs": [
    {
     "data": {
      "text/html": [
       "\n",
       "<div id=\"altair-viz-7f53c09f2a0d47e282488a8986bdbe4d\"></div>\n",
       "<script type=\"text/javascript\">\n",
       "  var VEGA_DEBUG = (typeof VEGA_DEBUG == \"undefined\") ? {} : VEGA_DEBUG;\n",
       "  (function(spec, embedOpt){\n",
       "    let outputDiv = document.currentScript.previousElementSibling;\n",
       "    if (outputDiv.id !== \"altair-viz-7f53c09f2a0d47e282488a8986bdbe4d\") {\n",
       "      outputDiv = document.getElementById(\"altair-viz-7f53c09f2a0d47e282488a8986bdbe4d\");\n",
       "    }\n",
       "    const paths = {\n",
       "      \"vega\": \"https://cdn.jsdelivr.net/npm//vega@5?noext\",\n",
       "      \"vega-lib\": \"https://cdn.jsdelivr.net/npm//vega-lib?noext\",\n",
       "      \"vega-lite\": \"https://cdn.jsdelivr.net/npm//vega-lite@4.17.0?noext\",\n",
       "      \"vega-embed\": \"https://cdn.jsdelivr.net/npm//vega-embed@6?noext\",\n",
       "    };\n",
       "\n",
       "    function maybeLoadScript(lib, version) {\n",
       "      var key = `${lib.replace(\"-\", \"\")}_version`;\n",
       "      return (VEGA_DEBUG[key] == version) ?\n",
       "        Promise.resolve(paths[lib]) :\n",
       "        new Promise(function(resolve, reject) {\n",
       "          var s = document.createElement('script');\n",
       "          document.getElementsByTagName(\"head\")[0].appendChild(s);\n",
       "          s.async = true;\n",
       "          s.onload = () => {\n",
       "            VEGA_DEBUG[key] = version;\n",
       "            return resolve(paths[lib]);\n",
       "          };\n",
       "          s.onerror = () => reject(`Error loading script: ${paths[lib]}`);\n",
       "          s.src = paths[lib];\n",
       "        });\n",
       "    }\n",
       "\n",
       "    function showError(err) {\n",
       "      outputDiv.innerHTML = `<div class=\"error\" style=\"color:red;\">${err}</div>`;\n",
       "      throw err;\n",
       "    }\n",
       "\n",
       "    function displayChart(vegaEmbed) {\n",
       "      vegaEmbed(outputDiv, spec, embedOpt)\n",
       "        .catch(err => showError(`Javascript Error: ${err.message}<br>This usually means there's a typo in your chart specification. See the javascript console for the full traceback.`));\n",
       "    }\n",
       "\n",
       "    if(typeof define === \"function\" && define.amd) {\n",
       "      requirejs.config({paths});\n",
       "      require([\"vega-embed\"], displayChart, err => showError(`Error loading script: ${err.message}`));\n",
       "    } else {\n",
       "      maybeLoadScript(\"vega\", \"5\")\n",
       "        .then(() => maybeLoadScript(\"vega-lite\", \"4.17.0\"))\n",
       "        .then(() => maybeLoadScript(\"vega-embed\", \"6\"))\n",
       "        .catch(showError)\n",
       "        .then(() => displayChart(vegaEmbed));\n",
       "    }\n",
       "  })({\"config\": {\"view\": {\"continuousWidth\": 400, \"continuousHeight\": 300}}, \"data\": {\"name\": \"data-5cf6b0c51e5cd2102c57a73453e3b96f\"}, \"mark\": \"circle\", \"encoding\": {\"x\": {\"field\": \"X\", \"type\": \"quantitative\"}, \"y\": {\"field\": \"Y\", \"type\": \"quantitative\"}}, \"$schema\": \"https://vega.github.io/schema/vega-lite/v4.17.0.json\", \"datasets\": {\"data-5cf6b0c51e5cd2102c57a73453e3b96f\": [{\"X\": 0, \"Y\": 82}, {\"X\": 1, \"Y\": 95}, {\"X\": 2, \"Y\": 5}, {\"X\": 3, \"Y\": 81}, {\"X\": 4, \"Y\": 77}, {\"X\": 5, \"Y\": 53}, {\"X\": 6, \"Y\": 97}, {\"X\": 7, \"Y\": 8}, {\"X\": 8, \"Y\": 32}, {\"X\": 9, \"Y\": 20}, {\"X\": 10, \"Y\": 44}, {\"X\": 11, \"Y\": 65}, {\"X\": 12, \"Y\": 48}, {\"X\": 13, \"Y\": 43}, {\"X\": 14, \"Y\": 63}, {\"X\": 15, \"Y\": 99}, {\"X\": 16, \"Y\": 62}, {\"X\": 17, \"Y\": 2}, {\"X\": 18, \"Y\": 79}, {\"X\": 19, \"Y\": 77}, {\"X\": 20, \"Y\": 86}, {\"X\": 21, \"Y\": 14}, {\"X\": 22, \"Y\": 60}, {\"X\": 23, \"Y\": 29}, {\"X\": 24, \"Y\": 27}, {\"X\": 25, \"Y\": 95}, {\"X\": 26, \"Y\": 98}, {\"X\": 27, \"Y\": 81}, {\"X\": 28, \"Y\": 83}, {\"X\": 29, \"Y\": 60}, {\"X\": 30, \"Y\": 71}, {\"X\": 31, \"Y\": 56}, {\"X\": 32, \"Y\": 49}, {\"X\": 33, \"Y\": 49}, {\"X\": 34, \"Y\": 41}, {\"X\": 35, \"Y\": 5}, {\"X\": 36, \"Y\": 14}, {\"X\": 37, \"Y\": 48}, {\"X\": 38, \"Y\": 43}, {\"X\": 39, \"Y\": 20}, {\"X\": 40, \"Y\": 50}, {\"X\": 41, \"Y\": 99}, {\"X\": 42, \"Y\": 41}, {\"X\": 43, \"Y\": 90}, {\"X\": 44, \"Y\": 76}, {\"X\": 45, \"Y\": 50}, {\"X\": 46, \"Y\": 84}, {\"X\": 47, \"Y\": 67}, {\"X\": 48, \"Y\": 33}, {\"X\": 49, \"Y\": 68}, {\"X\": 50, \"Y\": 16}, {\"X\": 51, \"Y\": 25}, {\"X\": 52, \"Y\": 21}, {\"X\": 53, \"Y\": 0}, {\"X\": 54, \"Y\": 3}, {\"X\": 55, \"Y\": 42}, {\"X\": 56, \"Y\": 37}, {\"X\": 57, \"Y\": 53}, {\"X\": 58, \"Y\": 5}, {\"X\": 59, \"Y\": 98}, {\"X\": 60, \"Y\": 54}, {\"X\": 61, \"Y\": 42}, {\"X\": 62, \"Y\": 50}, {\"X\": 63, \"Y\": 6}, {\"X\": 64, \"Y\": 46}, {\"X\": 65, \"Y\": 46}, {\"X\": 66, \"Y\": 68}, {\"X\": 67, \"Y\": 53}, {\"X\": 68, \"Y\": 97}, {\"X\": 69, \"Y\": 50}, {\"X\": 70, \"Y\": 8}, {\"X\": 71, \"Y\": 12}, {\"X\": 72, \"Y\": 60}, {\"X\": 73, \"Y\": 88}, {\"X\": 74, \"Y\": 98}, {\"X\": 75, \"Y\": 95}, {\"X\": 76, \"Y\": 16}, {\"X\": 77, \"Y\": 1}, {\"X\": 78, \"Y\": 99}, {\"X\": 79, \"Y\": 70}, {\"X\": 80, \"Y\": 80}, {\"X\": 81, \"Y\": 42}, {\"X\": 82, \"Y\": 79}, {\"X\": 83, \"Y\": 74}, {\"X\": 84, \"Y\": 9}, {\"X\": 85, \"Y\": 8}, {\"X\": 86, \"Y\": 69}, {\"X\": 87, \"Y\": 64}, {\"X\": 88, \"Y\": 75}, {\"X\": 89, \"Y\": 55}, {\"X\": 90, \"Y\": 52}, {\"X\": 91, \"Y\": 4}, {\"X\": 92, \"Y\": 39}, {\"X\": 93, \"Y\": 6}, {\"X\": 94, \"Y\": 20}, {\"X\": 95, \"Y\": 79}, {\"X\": 96, \"Y\": 51}, {\"X\": 97, \"Y\": 0}, {\"X\": 98, \"Y\": 84}, {\"X\": 99, \"Y\": 2}]}}, {\"mode\": \"vega-lite\"});\n",
       "</script>"
      ],
      "text/plain": [
       "alt.Chart(...)"
      ]
     },
     "execution_count": 7,
     "metadata": {},
     "output_type": "execute_result"
    }
   ],
   "source": [
    "chart = alt.Chart(df).mark_circle().encode(\n",
    "    x = 'X:Q',     \n",
    "    y = 'Y:Q' \n",
    ")\n",
    "\n",
    "chart"
   ]
  }
 ],
 "metadata": {
  "kernelspec": {
   "display_name": "Python 3 (ipykernel)",
   "language": "python",
   "name": "python3"
  },
  "language_info": {
   "codemirror_mode": {
    "name": "ipython",
    "version": 3
   },
   "file_extension": ".py",
   "mimetype": "text/x-python",
   "name": "python",
   "nbconvert_exporter": "python",
   "pygments_lexer": "ipython3",
   "version": "3.8.10"
  }
 },
 "nbformat": 4,
 "nbformat_minor": 5
}
