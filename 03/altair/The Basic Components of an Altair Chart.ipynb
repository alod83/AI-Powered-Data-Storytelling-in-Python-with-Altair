{
 "cells": [
  {
   "cell_type": "code",
   "execution_count": 45,
   "id": "c6cd27b0",
   "metadata": {},
   "outputs": [],
   "source": [
    "%load_ext autoreload\n",
    "%autoreload 2"
   ]
  },
  {
   "cell_type": "markdown",
   "id": "ca80c1ac",
   "metadata": {},
   "source": [
    "# The Basic Components of an Altair Chart\n",
    "\n",
    "# Conditions"
   ]
  },
  {
   "cell_type": "code",
   "execution_count": 46,
   "id": "cab4ea01",
   "metadata": {},
   "outputs": [
    {
     "data": {
      "text/html": [
       "\n",
       "<div id=\"altair-viz-f0dd3c6777f540dcb4afaa1baa064c4f\"></div>\n",
       "<script type=\"text/javascript\">\n",
       "  var VEGA_DEBUG = (typeof VEGA_DEBUG == \"undefined\") ? {} : VEGA_DEBUG;\n",
       "  (function(spec, embedOpt){\n",
       "    let outputDiv = document.currentScript.previousElementSibling;\n",
       "    if (outputDiv.id !== \"altair-viz-f0dd3c6777f540dcb4afaa1baa064c4f\") {\n",
       "      outputDiv = document.getElementById(\"altair-viz-f0dd3c6777f540dcb4afaa1baa064c4f\");\n",
       "    }\n",
       "    const paths = {\n",
       "      \"vega\": \"https://cdn.jsdelivr.net/npm//vega@5?noext\",\n",
       "      \"vega-lib\": \"https://cdn.jsdelivr.net/npm//vega-lib?noext\",\n",
       "      \"vega-lite\": \"https://cdn.jsdelivr.net/npm//vega-lite@4.17.0?noext\",\n",
       "      \"vega-embed\": \"https://cdn.jsdelivr.net/npm//vega-embed@6?noext\",\n",
       "    };\n",
       "\n",
       "    function maybeLoadScript(lib, version) {\n",
       "      var key = `${lib.replace(\"-\", \"\")}_version`;\n",
       "      return (VEGA_DEBUG[key] == version) ?\n",
       "        Promise.resolve(paths[lib]) :\n",
       "        new Promise(function(resolve, reject) {\n",
       "          var s = document.createElement('script');\n",
       "          document.getElementsByTagName(\"head\")[0].appendChild(s);\n",
       "          s.async = true;\n",
       "          s.onload = () => {\n",
       "            VEGA_DEBUG[key] = version;\n",
       "            return resolve(paths[lib]);\n",
       "          };\n",
       "          s.onerror = () => reject(`Error loading script: ${paths[lib]}`);\n",
       "          s.src = paths[lib];\n",
       "        });\n",
       "    }\n",
       "\n",
       "    function showError(err) {\n",
       "      outputDiv.innerHTML = `<div class=\"error\" style=\"color:red;\">${err}</div>`;\n",
       "      throw err;\n",
       "    }\n",
       "\n",
       "    function displayChart(vegaEmbed) {\n",
       "      vegaEmbed(outputDiv, spec, embedOpt)\n",
       "        .catch(err => showError(`Javascript Error: ${err.message}<br>This usually means there's a typo in your chart specification. See the javascript console for the full traceback.`));\n",
       "    }\n",
       "\n",
       "    if(typeof define === \"function\" && define.amd) {\n",
       "      requirejs.config({paths});\n",
       "      require([\"vega-embed\"], displayChart, err => showError(`Error loading script: ${err.message}`));\n",
       "    } else {\n",
       "      maybeLoadScript(\"vega\", \"5\")\n",
       "        .then(() => maybeLoadScript(\"vega-lite\", \"4.17.0\"))\n",
       "        .then(() => maybeLoadScript(\"vega-embed\", \"6\"))\n",
       "        .catch(showError)\n",
       "        .then(() => displayChart(vegaEmbed));\n",
       "    }\n",
       "  })({\"config\": {\"view\": {\"continuousWidth\": 400, \"continuousHeight\": 300}, \"axis\": {\"labelFontSize\": 15, \"titleFontSize\": 20}, \"legend\": {\"labelFontSize\": 15, \"titleFontSize\": 20}, \"title\": {\"fontSize\": 25, \"offset\": 25}}, \"data\": {\"name\": \"data-679b3cb888c979e4923127b2d96de8f9\"}, \"mark\": \"bar\", \"encoding\": {\"color\": {\"condition\": {\"value\": \"#80C11E\", \"test\": \"(datum.Region === 'Europe')\"}, \"value\": \"#636466\"}, \"x\": {\"field\": \"Country\", \"type\": \"nominal\"}, \"y\": {\"field\": \"Medals\", \"type\": \"quantitative\"}}, \"title\": \"A bar chart\", \"width\": 300, \"$schema\": \"https://vega.github.io/schema/vega-lite/v4.17.0.json\", \"datasets\": {\"data-679b3cb888c979e4923127b2d96de8f9\": [{\"Country\": \"Japan\", \"Medals\": 4, \"Region\": \"Asia\"}, {\"Country\": \"USA\", \"Medals\": 6, \"Region\": \"Americas\"}, {\"Country\": \"Germany\", \"Medals\": 10, \"Region\": \"Europe\"}, {\"Country\": \"Spain\", \"Medals\": 3, \"Region\": \"Europe\"}, {\"Country\": \"France\", \"Medals\": 7, \"Region\": \"Europe\"}, {\"Country\": \"Italy\", \"Medals\": 8, \"Region\": \"Europe\"}]}}, {\"mode\": \"vega-lite\"});\n",
       "</script>"
      ],
      "text/plain": [
       "alt.Chart(...)"
      ]
     },
     "execution_count": 46,
     "metadata": {},
     "output_type": "execute_result"
    }
   ],
   "source": [
    "import pandas as pd\n",
    "import altair as alt\n",
    "from config import *\n",
    "\n",
    "df = pd.DataFrame(\n",
    "    {\"Country\": [\"Japan\", \"USA\", \"Germany\", \"Spain\", \"France\", \"Italy\"], \n",
    "     \"Medals\": [4, 6, 10, 3, 7, 8], \n",
    "     \"Region\":[\"Asia\",\"Americas\",\"Europe\",\"Europe\",\"Europe\",\"Europe\"]}) \n",
    "\n",
    "chart = alt.Chart(df).mark_bar().encode(\n",
    "    x='Country',\n",
    "    y='Medals',\n",
    "    color=alt.condition(\n",
    "        alt.datum.Region == 'Europe',\n",
    "        alt.value('#80C11E'),  # color to use when condition is true\n",
    "        alt.value('#636466')  # color to use when condition is false\n",
    "    )\n",
    ").properties(\n",
    "    width=width, \n",
    "    title='A bar chart'\n",
    ")\n",
    "\n",
    "configure_layout(chart)"
   ]
  },
  {
   "cell_type": "markdown",
   "id": "e048686e",
   "metadata": {},
   "source": [
    "# Chart Combination"
   ]
  },
  {
   "cell_type": "code",
   "execution_count": 47,
   "id": "2fad8001",
   "metadata": {},
   "outputs": [],
   "source": [
    "chart1 = alt.Chart(df).mark_bar(color='#636466').encode(\n",
    "    x='Country',\n",
    "    y='Medals'\n",
    ").properties(width=width, title='A bar chart')\n",
    "\n",
    "chart2 = alt.Chart(df).mark_line(color='#80C11E').encode(\n",
    "    x='Country',\n",
    "    y='Medals'\n",
    ").properties(width=width, title='A line chart')\n",
    "\n"
   ]
  },
  {
   "cell_type": "markdown",
   "id": "09172581",
   "metadata": {},
   "source": [
    "## Layering"
   ]
  },
  {
   "cell_type": "code",
   "execution_count": 48,
   "id": "8683f404",
   "metadata": {},
   "outputs": [
    {
     "data": {
      "text/html": [
       "\n",
       "<div id=\"altair-viz-e866123946274a2a9d22b26c2e5e4a7b\"></div>\n",
       "<script type=\"text/javascript\">\n",
       "  var VEGA_DEBUG = (typeof VEGA_DEBUG == \"undefined\") ? {} : VEGA_DEBUG;\n",
       "  (function(spec, embedOpt){\n",
       "    let outputDiv = document.currentScript.previousElementSibling;\n",
       "    if (outputDiv.id !== \"altair-viz-e866123946274a2a9d22b26c2e5e4a7b\") {\n",
       "      outputDiv = document.getElementById(\"altair-viz-e866123946274a2a9d22b26c2e5e4a7b\");\n",
       "    }\n",
       "    const paths = {\n",
       "      \"vega\": \"https://cdn.jsdelivr.net/npm//vega@5?noext\",\n",
       "      \"vega-lib\": \"https://cdn.jsdelivr.net/npm//vega-lib?noext\",\n",
       "      \"vega-lite\": \"https://cdn.jsdelivr.net/npm//vega-lite@4.17.0?noext\",\n",
       "      \"vega-embed\": \"https://cdn.jsdelivr.net/npm//vega-embed@6?noext\",\n",
       "    };\n",
       "\n",
       "    function maybeLoadScript(lib, version) {\n",
       "      var key = `${lib.replace(\"-\", \"\")}_version`;\n",
       "      return (VEGA_DEBUG[key] == version) ?\n",
       "        Promise.resolve(paths[lib]) :\n",
       "        new Promise(function(resolve, reject) {\n",
       "          var s = document.createElement('script');\n",
       "          document.getElementsByTagName(\"head\")[0].appendChild(s);\n",
       "          s.async = true;\n",
       "          s.onload = () => {\n",
       "            VEGA_DEBUG[key] = version;\n",
       "            return resolve(paths[lib]);\n",
       "          };\n",
       "          s.onerror = () => reject(`Error loading script: ${paths[lib]}`);\n",
       "          s.src = paths[lib];\n",
       "        });\n",
       "    }\n",
       "\n",
       "    function showError(err) {\n",
       "      outputDiv.innerHTML = `<div class=\"error\" style=\"color:red;\">${err}</div>`;\n",
       "      throw err;\n",
       "    }\n",
       "\n",
       "    function displayChart(vegaEmbed) {\n",
       "      vegaEmbed(outputDiv, spec, embedOpt)\n",
       "        .catch(err => showError(`Javascript Error: ${err.message}<br>This usually means there's a typo in your chart specification. See the javascript console for the full traceback.`));\n",
       "    }\n",
       "\n",
       "    if(typeof define === \"function\" && define.amd) {\n",
       "      requirejs.config({paths});\n",
       "      require([\"vega-embed\"], displayChart, err => showError(`Error loading script: ${err.message}`));\n",
       "    } else {\n",
       "      maybeLoadScript(\"vega\", \"5\")\n",
       "        .then(() => maybeLoadScript(\"vega-lite\", \"4.17.0\"))\n",
       "        .then(() => maybeLoadScript(\"vega-embed\", \"6\"))\n",
       "        .catch(showError)\n",
       "        .then(() => displayChart(vegaEmbed));\n",
       "    }\n",
       "  })({\"config\": {\"view\": {\"continuousWidth\": 400, \"continuousHeight\": 300}, \"axis\": {\"labelFontSize\": 15, \"titleFontSize\": 20}, \"legend\": {\"labelFontSize\": 15, \"titleFontSize\": 20}, \"title\": {\"fontSize\": 25, \"offset\": 25}}, \"layer\": [{\"mark\": {\"type\": \"bar\", \"color\": \"#636466\"}, \"encoding\": {\"x\": {\"field\": \"Country\", \"type\": \"nominal\"}, \"y\": {\"field\": \"Medals\", \"type\": \"quantitative\"}}, \"title\": \"A bar chart\", \"width\": 300}, {\"mark\": {\"type\": \"line\", \"color\": \"#80C11E\"}, \"encoding\": {\"x\": {\"field\": \"Country\", \"type\": \"nominal\"}, \"y\": {\"field\": \"Medals\", \"type\": \"quantitative\"}}, \"title\": \"A line chart\", \"width\": 300}], \"data\": {\"name\": \"data-679b3cb888c979e4923127b2d96de8f9\"}, \"$schema\": \"https://vega.github.io/schema/vega-lite/v4.17.0.json\", \"datasets\": {\"data-679b3cb888c979e4923127b2d96de8f9\": [{\"Country\": \"Japan\", \"Medals\": 4, \"Region\": \"Asia\"}, {\"Country\": \"USA\", \"Medals\": 6, \"Region\": \"Americas\"}, {\"Country\": \"Germany\", \"Medals\": 10, \"Region\": \"Europe\"}, {\"Country\": \"Spain\", \"Medals\": 3, \"Region\": \"Europe\"}, {\"Country\": \"France\", \"Medals\": 7, \"Region\": \"Europe\"}, {\"Country\": \"Italy\", \"Medals\": 8, \"Region\": \"Europe\"}]}}, {\"mode\": \"vega-lite\"});\n",
       "</script>"
      ],
      "text/plain": [
       "alt.LayerChart(...)"
      ]
     },
     "execution_count": 48,
     "metadata": {},
     "output_type": "execute_result"
    }
   ],
   "source": [
    "total = alt.layer(chart1,chart2)\n",
    "\n",
    "configure_layout(total)"
   ]
  },
  {
   "cell_type": "markdown",
   "id": "9794e6e6",
   "metadata": {},
   "source": [
    "## Vertical Concatenation"
   ]
  },
  {
   "cell_type": "code",
   "execution_count": 49,
   "id": "782551e9",
   "metadata": {},
   "outputs": [
    {
     "data": {
      "text/html": [
       "\n",
       "<div id=\"altair-viz-b0bbee5a78a74b4f95216afab9c16c3d\"></div>\n",
       "<script type=\"text/javascript\">\n",
       "  var VEGA_DEBUG = (typeof VEGA_DEBUG == \"undefined\") ? {} : VEGA_DEBUG;\n",
       "  (function(spec, embedOpt){\n",
       "    let outputDiv = document.currentScript.previousElementSibling;\n",
       "    if (outputDiv.id !== \"altair-viz-b0bbee5a78a74b4f95216afab9c16c3d\") {\n",
       "      outputDiv = document.getElementById(\"altair-viz-b0bbee5a78a74b4f95216afab9c16c3d\");\n",
       "    }\n",
       "    const paths = {\n",
       "      \"vega\": \"https://cdn.jsdelivr.net/npm//vega@5?noext\",\n",
       "      \"vega-lib\": \"https://cdn.jsdelivr.net/npm//vega-lib?noext\",\n",
       "      \"vega-lite\": \"https://cdn.jsdelivr.net/npm//vega-lite@4.17.0?noext\",\n",
       "      \"vega-embed\": \"https://cdn.jsdelivr.net/npm//vega-embed@6?noext\",\n",
       "    };\n",
       "\n",
       "    function maybeLoadScript(lib, version) {\n",
       "      var key = `${lib.replace(\"-\", \"\")}_version`;\n",
       "      return (VEGA_DEBUG[key] == version) ?\n",
       "        Promise.resolve(paths[lib]) :\n",
       "        new Promise(function(resolve, reject) {\n",
       "          var s = document.createElement('script');\n",
       "          document.getElementsByTagName(\"head\")[0].appendChild(s);\n",
       "          s.async = true;\n",
       "          s.onload = () => {\n",
       "            VEGA_DEBUG[key] = version;\n",
       "            return resolve(paths[lib]);\n",
       "          };\n",
       "          s.onerror = () => reject(`Error loading script: ${paths[lib]}`);\n",
       "          s.src = paths[lib];\n",
       "        });\n",
       "    }\n",
       "\n",
       "    function showError(err) {\n",
       "      outputDiv.innerHTML = `<div class=\"error\" style=\"color:red;\">${err}</div>`;\n",
       "      throw err;\n",
       "    }\n",
       "\n",
       "    function displayChart(vegaEmbed) {\n",
       "      vegaEmbed(outputDiv, spec, embedOpt)\n",
       "        .catch(err => showError(`Javascript Error: ${err.message}<br>This usually means there's a typo in your chart specification. See the javascript console for the full traceback.`));\n",
       "    }\n",
       "\n",
       "    if(typeof define === \"function\" && define.amd) {\n",
       "      requirejs.config({paths});\n",
       "      require([\"vega-embed\"], displayChart, err => showError(`Error loading script: ${err.message}`));\n",
       "    } else {\n",
       "      maybeLoadScript(\"vega\", \"5\")\n",
       "        .then(() => maybeLoadScript(\"vega-lite\", \"4.17.0\"))\n",
       "        .then(() => maybeLoadScript(\"vega-embed\", \"6\"))\n",
       "        .catch(showError)\n",
       "        .then(() => displayChart(vegaEmbed));\n",
       "    }\n",
       "  })({\"config\": {\"view\": {\"continuousWidth\": 400, \"continuousHeight\": 300}, \"axis\": {\"labelFontSize\": 15, \"titleFontSize\": 20}, \"legend\": {\"labelFontSize\": 15, \"titleFontSize\": 20}, \"title\": {\"fontSize\": 25, \"offset\": 25}}, \"vconcat\": [{\"mark\": {\"type\": \"bar\", \"color\": \"#636466\"}, \"encoding\": {\"x\": {\"field\": \"Country\", \"type\": \"nominal\"}, \"y\": {\"field\": \"Medals\", \"type\": \"quantitative\"}}, \"title\": \"A bar chart\", \"width\": 300}, {\"mark\": {\"type\": \"line\", \"color\": \"#80C11E\"}, \"encoding\": {\"x\": {\"field\": \"Country\", \"type\": \"nominal\"}, \"y\": {\"field\": \"Medals\", \"type\": \"quantitative\"}}, \"title\": \"A line chart\", \"width\": 300}], \"data\": {\"name\": \"data-679b3cb888c979e4923127b2d96de8f9\"}, \"$schema\": \"https://vega.github.io/schema/vega-lite/v4.17.0.json\", \"datasets\": {\"data-679b3cb888c979e4923127b2d96de8f9\": [{\"Country\": \"Japan\", \"Medals\": 4, \"Region\": \"Asia\"}, {\"Country\": \"USA\", \"Medals\": 6, \"Region\": \"Americas\"}, {\"Country\": \"Germany\", \"Medals\": 10, \"Region\": \"Europe\"}, {\"Country\": \"Spain\", \"Medals\": 3, \"Region\": \"Europe\"}, {\"Country\": \"France\", \"Medals\": 7, \"Region\": \"Europe\"}, {\"Country\": \"Italy\", \"Medals\": 8, \"Region\": \"Europe\"}]}}, {\"mode\": \"vega-lite\"});\n",
       "</script>"
      ],
      "text/plain": [
       "alt.VConcatChart(...)"
      ]
     },
     "execution_count": 49,
     "metadata": {},
     "output_type": "execute_result"
    }
   ],
   "source": [
    "configure_layout(alt.vconcat(chart1,chart2))"
   ]
  },
  {
   "cell_type": "markdown",
   "id": "81732b89",
   "metadata": {},
   "source": [
    "## Horizontal Concatentation"
   ]
  },
  {
   "cell_type": "code",
   "execution_count": 50,
   "id": "b94652f7",
   "metadata": {},
   "outputs": [
    {
     "data": {
      "text/html": [
       "\n",
       "<div id=\"altair-viz-99a50bf299804f39957563d325f362a7\"></div>\n",
       "<script type=\"text/javascript\">\n",
       "  var VEGA_DEBUG = (typeof VEGA_DEBUG == \"undefined\") ? {} : VEGA_DEBUG;\n",
       "  (function(spec, embedOpt){\n",
       "    let outputDiv = document.currentScript.previousElementSibling;\n",
       "    if (outputDiv.id !== \"altair-viz-99a50bf299804f39957563d325f362a7\") {\n",
       "      outputDiv = document.getElementById(\"altair-viz-99a50bf299804f39957563d325f362a7\");\n",
       "    }\n",
       "    const paths = {\n",
       "      \"vega\": \"https://cdn.jsdelivr.net/npm//vega@5?noext\",\n",
       "      \"vega-lib\": \"https://cdn.jsdelivr.net/npm//vega-lib?noext\",\n",
       "      \"vega-lite\": \"https://cdn.jsdelivr.net/npm//vega-lite@4.17.0?noext\",\n",
       "      \"vega-embed\": \"https://cdn.jsdelivr.net/npm//vega-embed@6?noext\",\n",
       "    };\n",
       "\n",
       "    function maybeLoadScript(lib, version) {\n",
       "      var key = `${lib.replace(\"-\", \"\")}_version`;\n",
       "      return (VEGA_DEBUG[key] == version) ?\n",
       "        Promise.resolve(paths[lib]) :\n",
       "        new Promise(function(resolve, reject) {\n",
       "          var s = document.createElement('script');\n",
       "          document.getElementsByTagName(\"head\")[0].appendChild(s);\n",
       "          s.async = true;\n",
       "          s.onload = () => {\n",
       "            VEGA_DEBUG[key] = version;\n",
       "            return resolve(paths[lib]);\n",
       "          };\n",
       "          s.onerror = () => reject(`Error loading script: ${paths[lib]}`);\n",
       "          s.src = paths[lib];\n",
       "        });\n",
       "    }\n",
       "\n",
       "    function showError(err) {\n",
       "      outputDiv.innerHTML = `<div class=\"error\" style=\"color:red;\">${err}</div>`;\n",
       "      throw err;\n",
       "    }\n",
       "\n",
       "    function displayChart(vegaEmbed) {\n",
       "      vegaEmbed(outputDiv, spec, embedOpt)\n",
       "        .catch(err => showError(`Javascript Error: ${err.message}<br>This usually means there's a typo in your chart specification. See the javascript console for the full traceback.`));\n",
       "    }\n",
       "\n",
       "    if(typeof define === \"function\" && define.amd) {\n",
       "      requirejs.config({paths});\n",
       "      require([\"vega-embed\"], displayChart, err => showError(`Error loading script: ${err.message}`));\n",
       "    } else {\n",
       "      maybeLoadScript(\"vega\", \"5\")\n",
       "        .then(() => maybeLoadScript(\"vega-lite\", \"4.17.0\"))\n",
       "        .then(() => maybeLoadScript(\"vega-embed\", \"6\"))\n",
       "        .catch(showError)\n",
       "        .then(() => displayChart(vegaEmbed));\n",
       "    }\n",
       "  })({\"config\": {\"view\": {\"continuousWidth\": 400, \"continuousHeight\": 300}, \"axis\": {\"labelFontSize\": 15, \"titleFontSize\": 20}, \"legend\": {\"labelFontSize\": 15, \"titleFontSize\": 20}, \"title\": {\"fontSize\": 25, \"offset\": 25}}, \"hconcat\": [{\"mark\": {\"type\": \"bar\", \"color\": \"#636466\"}, \"encoding\": {\"x\": {\"field\": \"Country\", \"type\": \"nominal\"}, \"y\": {\"field\": \"Medals\", \"type\": \"quantitative\"}}, \"title\": \"A bar chart\", \"width\": 300}, {\"mark\": {\"type\": \"line\", \"color\": \"#80C11E\"}, \"encoding\": {\"x\": {\"field\": \"Country\", \"type\": \"nominal\"}, \"y\": {\"field\": \"Medals\", \"type\": \"quantitative\"}}, \"title\": \"A line chart\", \"width\": 300}], \"data\": {\"name\": \"data-679b3cb888c979e4923127b2d96de8f9\"}, \"$schema\": \"https://vega.github.io/schema/vega-lite/v4.17.0.json\", \"datasets\": {\"data-679b3cb888c979e4923127b2d96de8f9\": [{\"Country\": \"Japan\", \"Medals\": 4, \"Region\": \"Asia\"}, {\"Country\": \"USA\", \"Medals\": 6, \"Region\": \"Americas\"}, {\"Country\": \"Germany\", \"Medals\": 10, \"Region\": \"Europe\"}, {\"Country\": \"Spain\", \"Medals\": 3, \"Region\": \"Europe\"}, {\"Country\": \"France\", \"Medals\": 7, \"Region\": \"Europe\"}, {\"Country\": \"Italy\", \"Medals\": 8, \"Region\": \"Europe\"}]}}, {\"mode\": \"vega-lite\"});\n",
       "</script>"
      ],
      "text/plain": [
       "alt.HConcatChart(...)"
      ]
     },
     "execution_count": 50,
     "metadata": {},
     "output_type": "execute_result"
    }
   ],
   "source": [
    "configure_layout(alt.hconcat(chart1,chart2))"
   ]
  },
  {
   "cell_type": "markdown",
   "id": "226bc9f9",
   "metadata": {},
   "source": [
    "## Repeated Chart"
   ]
  },
  {
   "cell_type": "code",
   "execution_count": 51,
   "id": "567ee303",
   "metadata": {},
   "outputs": [
    {
     "data": {
      "text/html": [
       "\n",
       "<div id=\"altair-viz-68e3f0ee310549b48f5e9c2036ed5191\"></div>\n",
       "<script type=\"text/javascript\">\n",
       "  var VEGA_DEBUG = (typeof VEGA_DEBUG == \"undefined\") ? {} : VEGA_DEBUG;\n",
       "  (function(spec, embedOpt){\n",
       "    let outputDiv = document.currentScript.previousElementSibling;\n",
       "    if (outputDiv.id !== \"altair-viz-68e3f0ee310549b48f5e9c2036ed5191\") {\n",
       "      outputDiv = document.getElementById(\"altair-viz-68e3f0ee310549b48f5e9c2036ed5191\");\n",
       "    }\n",
       "    const paths = {\n",
       "      \"vega\": \"https://cdn.jsdelivr.net/npm//vega@5?noext\",\n",
       "      \"vega-lib\": \"https://cdn.jsdelivr.net/npm//vega-lib?noext\",\n",
       "      \"vega-lite\": \"https://cdn.jsdelivr.net/npm//vega-lite@4.17.0?noext\",\n",
       "      \"vega-embed\": \"https://cdn.jsdelivr.net/npm//vega-embed@6?noext\",\n",
       "    };\n",
       "\n",
       "    function maybeLoadScript(lib, version) {\n",
       "      var key = `${lib.replace(\"-\", \"\")}_version`;\n",
       "      return (VEGA_DEBUG[key] == version) ?\n",
       "        Promise.resolve(paths[lib]) :\n",
       "        new Promise(function(resolve, reject) {\n",
       "          var s = document.createElement('script');\n",
       "          document.getElementsByTagName(\"head\")[0].appendChild(s);\n",
       "          s.async = true;\n",
       "          s.onload = () => {\n",
       "            VEGA_DEBUG[key] = version;\n",
       "            return resolve(paths[lib]);\n",
       "          };\n",
       "          s.onerror = () => reject(`Error loading script: ${paths[lib]}`);\n",
       "          s.src = paths[lib];\n",
       "        });\n",
       "    }\n",
       "\n",
       "    function showError(err) {\n",
       "      outputDiv.innerHTML = `<div class=\"error\" style=\"color:red;\">${err}</div>`;\n",
       "      throw err;\n",
       "    }\n",
       "\n",
       "    function displayChart(vegaEmbed) {\n",
       "      vegaEmbed(outputDiv, spec, embedOpt)\n",
       "        .catch(err => showError(`Javascript Error: ${err.message}<br>This usually means there's a typo in your chart specification. See the javascript console for the full traceback.`));\n",
       "    }\n",
       "\n",
       "    if(typeof define === \"function\" && define.amd) {\n",
       "      requirejs.config({paths});\n",
       "      require([\"vega-embed\"], displayChart, err => showError(`Error loading script: ${err.message}`));\n",
       "    } else {\n",
       "      maybeLoadScript(\"vega\", \"5\")\n",
       "        .then(() => maybeLoadScript(\"vega-lite\", \"4.17.0\"))\n",
       "        .then(() => maybeLoadScript(\"vega-embed\", \"6\"))\n",
       "        .catch(showError)\n",
       "        .then(() => displayChart(vegaEmbed));\n",
       "    }\n",
       "  })({\"config\": {\"view\": {\"continuousWidth\": 400, \"continuousHeight\": 300}}, \"repeat\": {\"column\": [\"X\", \"Y\", \"Z\", \"H\", \"M\"], \"row\": [\"X\", \"Y\", \"Z\", \"H\", \"M\"]}, \"spec\": {\"data\": {\"name\": \"data-f6be64e55b67dfa3f8d06ba53b7821fc\"}, \"mark\": {\"type\": \"circle\", \"color\": \"#80C11E\"}, \"encoding\": {\"x\": {\"field\": {\"repeat\": \"column\"}, \"type\": \"quantitative\"}, \"y\": {\"field\": {\"repeat\": \"row\"}, \"type\": \"quantitative\"}}, \"height\": 100, \"width\": 100}, \"$schema\": \"https://vega.github.io/schema/vega-lite/v4.17.0.json\", \"datasets\": {\"data-f6be64e55b67dfa3f8d06ba53b7821fc\": [{\"X\": 1, \"Y\": 2, \"Z\": 3, \"H\": 5, \"M\": 3, \"Country\": \"USA\"}, {\"X\": 2, \"Y\": 4, \"Z\": 4, \"H\": 6, \"M\": 4, \"Country\": \"EU\"}, {\"X\": 3, \"Y\": 5, \"Z\": 5, \"H\": 8, \"M\": 5, \"Country\": \"EU\"}, {\"X\": 4, \"Y\": 6, \"Z\": 6, \"H\": 9, \"M\": 3, \"Country\": \"USA\"}]}}, {\"mode\": \"vega-lite\"});\n",
       "</script>"
      ],
      "text/plain": [
       "alt.RepeatChart(...)"
      ]
     },
     "execution_count": 51,
     "metadata": {},
     "output_type": "execute_result"
    }
   ],
   "source": [
    "df = pd.DataFrame({\n",
    "'X' : [1,2,3,4],\n",
    "'Y' : [2,4,5,6],\n",
    "'Z' : [3,4,5,6],\n",
    "'H' : [5,6,8,9],\n",
    "'M' : [3,4,5,3],\n",
    "'Country' : ['USA', 'EU', 'EU', 'USA']\n",
    "})\n",
    "\n",
    "\n",
    "fields = df.columns.tolist()\n",
    "fields.remove('Country')\n",
    "\n",
    "chart = alt.Chart(df).mark_circle(color='#80C11E').encode(\n",
    "    alt.X(alt.repeat(\"column\"), type='quantitative'),\n",
    "    alt.Y(alt.repeat(\"row\"), type='quantitative')\n",
    ").properties(\n",
    "    width=100,\n",
    "    height=100\n",
    ").repeat(\n",
    "    row=fields,\n",
    "    column=fields\n",
    ")\n",
    "\n",
    "chart"
   ]
  },
  {
   "cell_type": "markdown",
   "id": "400f4a47",
   "metadata": {},
   "source": [
    "# Interactivity"
   ]
  },
  {
   "cell_type": "code",
   "execution_count": 76,
   "id": "509a2592",
   "metadata": {},
   "outputs": [
    {
     "data": {
      "text/html": [
       "\n",
       "<div id=\"altair-viz-097c65f76ed34ff9974178e45febd9fe\"></div>\n",
       "<script type=\"text/javascript\">\n",
       "  var VEGA_DEBUG = (typeof VEGA_DEBUG == \"undefined\") ? {} : VEGA_DEBUG;\n",
       "  (function(spec, embedOpt){\n",
       "    let outputDiv = document.currentScript.previousElementSibling;\n",
       "    if (outputDiv.id !== \"altair-viz-097c65f76ed34ff9974178e45febd9fe\") {\n",
       "      outputDiv = document.getElementById(\"altair-viz-097c65f76ed34ff9974178e45febd9fe\");\n",
       "    }\n",
       "    const paths = {\n",
       "      \"vega\": \"https://cdn.jsdelivr.net/npm//vega@5?noext\",\n",
       "      \"vega-lib\": \"https://cdn.jsdelivr.net/npm//vega-lib?noext\",\n",
       "      \"vega-lite\": \"https://cdn.jsdelivr.net/npm//vega-lite@4.17.0?noext\",\n",
       "      \"vega-embed\": \"https://cdn.jsdelivr.net/npm//vega-embed@6?noext\",\n",
       "    };\n",
       "\n",
       "    function maybeLoadScript(lib, version) {\n",
       "      var key = `${lib.replace(\"-\", \"\")}_version`;\n",
       "      return (VEGA_DEBUG[key] == version) ?\n",
       "        Promise.resolve(paths[lib]) :\n",
       "        new Promise(function(resolve, reject) {\n",
       "          var s = document.createElement('script');\n",
       "          document.getElementsByTagName(\"head\")[0].appendChild(s);\n",
       "          s.async = true;\n",
       "          s.onload = () => {\n",
       "            VEGA_DEBUG[key] = version;\n",
       "            return resolve(paths[lib]);\n",
       "          };\n",
       "          s.onerror = () => reject(`Error loading script: ${paths[lib]}`);\n",
       "          s.src = paths[lib];\n",
       "        });\n",
       "    }\n",
       "\n",
       "    function showError(err) {\n",
       "      outputDiv.innerHTML = `<div class=\"error\" style=\"color:red;\">${err}</div>`;\n",
       "      throw err;\n",
       "    }\n",
       "\n",
       "    function displayChart(vegaEmbed) {\n",
       "      vegaEmbed(outputDiv, spec, embedOpt)\n",
       "        .catch(err => showError(`Javascript Error: ${err.message}<br>This usually means there's a typo in your chart specification. See the javascript console for the full traceback.`));\n",
       "    }\n",
       "\n",
       "    if(typeof define === \"function\" && define.amd) {\n",
       "      requirejs.config({paths});\n",
       "      require([\"vega-embed\"], displayChart, err => showError(`Error loading script: ${err.message}`));\n",
       "    } else {\n",
       "      maybeLoadScript(\"vega\", \"5\")\n",
       "        .then(() => maybeLoadScript(\"vega-lite\", \"4.17.0\"))\n",
       "        .then(() => maybeLoadScript(\"vega-embed\", \"6\"))\n",
       "        .catch(showError)\n",
       "        .then(() => displayChart(vegaEmbed));\n",
       "    }\n",
       "  })({\"config\": {\"view\": {\"continuousWidth\": 400, \"continuousHeight\": 300}, \"axis\": {\"labelFontSize\": 15, \"titleFontSize\": 20}, \"legend\": {\"labelFontSize\": 15, \"titleFontSize\": 20}, \"title\": {\"fontSize\": 25, \"offset\": 25}}, \"data\": {\"name\": \"data-679b3cb888c979e4923127b2d96de8f9\"}, \"mark\": {\"type\": \"bar\", \"color\": \"#636466\"}, \"encoding\": {\"tooltip\": [{\"field\": \"Country\", \"type\": \"nominal\"}, {\"field\": \"Medals\", \"type\": \"quantitative\"}, {\"field\": \"Region\", \"type\": \"nominal\"}], \"x\": {\"field\": \"Country\", \"type\": \"nominal\"}, \"y\": {\"field\": \"Medals\", \"type\": \"quantitative\"}}, \"selection\": {\"selector007\": {\"type\": \"interval\", \"bind\": \"scales\", \"encodings\": [\"x\", \"y\"]}}, \"title\": \"A bar chart\", \"width\": 300, \"$schema\": \"https://vega.github.io/schema/vega-lite/v4.17.0.json\", \"datasets\": {\"data-679b3cb888c979e4923127b2d96de8f9\": [{\"Country\": \"Japan\", \"Medals\": 4, \"Region\": \"Asia\"}, {\"Country\": \"USA\", \"Medals\": 6, \"Region\": \"Americas\"}, {\"Country\": \"Germany\", \"Medals\": 10, \"Region\": \"Europe\"}, {\"Country\": \"Spain\", \"Medals\": 3, \"Region\": \"Europe\"}, {\"Country\": \"France\", \"Medals\": 7, \"Region\": \"Europe\"}, {\"Country\": \"Italy\", \"Medals\": 8, \"Region\": \"Europe\"}]}}, {\"mode\": \"vega-lite\"});\n",
       "</script>"
      ],
      "text/plain": [
       "alt.Chart(...)"
      ]
     },
     "execution_count": 76,
     "metadata": {},
     "output_type": "execute_result"
    }
   ],
   "source": [
    "df = pd.DataFrame(\n",
    "    {\"Country\": [\"Japan\", \"USA\", \"Germany\", \"Spain\", \"France\", \"Italy\"], \n",
    "     \"Medals\": [4, 6, 10, 3, 7, 8], \n",
    "     \"Region\":[\"Asia\",\"Americas\",\"Europe\",\"Europe\",\"Europe\",\"Europe\"]}) \n",
    "\n",
    "chart = alt.Chart(df).mark_bar(color='#636466').encode(\n",
    "    x='Country',\n",
    "    y='Medals',\n",
    "    tooltip=['Country', 'Medals', 'Region']\n",
    ").properties(\n",
    "    width=width, \n",
    "    title='A bar chart'\n",
    ").interactive()\n",
    "\n",
    "configure_layout(chart)"
   ]
  },
  {
   "cell_type": "code",
   "execution_count": 53,
   "id": "899abf24",
   "metadata": {},
   "outputs": [],
   "source": [
    "df.to_json('data.json')"
   ]
  },
  {
   "cell_type": "markdown",
   "id": "8b4196fa",
   "metadata": {},
   "source": [
    "# Configurations\n",
    "\n",
    "## Basic Chart"
   ]
  },
  {
   "cell_type": "code",
   "execution_count": 96,
   "id": "1980bc3e",
   "metadata": {},
   "outputs": [
    {
     "data": {
      "text/html": [
       "\n",
       "<div id=\"altair-viz-4130b57aced74bf8978b1c049c43928f\"></div>\n",
       "<script type=\"text/javascript\">\n",
       "  var VEGA_DEBUG = (typeof VEGA_DEBUG == \"undefined\") ? {} : VEGA_DEBUG;\n",
       "  (function(spec, embedOpt){\n",
       "    let outputDiv = document.currentScript.previousElementSibling;\n",
       "    if (outputDiv.id !== \"altair-viz-4130b57aced74bf8978b1c049c43928f\") {\n",
       "      outputDiv = document.getElementById(\"altair-viz-4130b57aced74bf8978b1c049c43928f\");\n",
       "    }\n",
       "    const paths = {\n",
       "      \"vega\": \"https://cdn.jsdelivr.net/npm//vega@5?noext\",\n",
       "      \"vega-lib\": \"https://cdn.jsdelivr.net/npm//vega-lib?noext\",\n",
       "      \"vega-lite\": \"https://cdn.jsdelivr.net/npm//vega-lite@4.17.0?noext\",\n",
       "      \"vega-embed\": \"https://cdn.jsdelivr.net/npm//vega-embed@6?noext\",\n",
       "    };\n",
       "\n",
       "    function maybeLoadScript(lib, version) {\n",
       "      var key = `${lib.replace(\"-\", \"\")}_version`;\n",
       "      return (VEGA_DEBUG[key] == version) ?\n",
       "        Promise.resolve(paths[lib]) :\n",
       "        new Promise(function(resolve, reject) {\n",
       "          var s = document.createElement('script');\n",
       "          document.getElementsByTagName(\"head\")[0].appendChild(s);\n",
       "          s.async = true;\n",
       "          s.onload = () => {\n",
       "            VEGA_DEBUG[key] = version;\n",
       "            return resolve(paths[lib]);\n",
       "          };\n",
       "          s.onerror = () => reject(`Error loading script: ${paths[lib]}`);\n",
       "          s.src = paths[lib];\n",
       "        });\n",
       "    }\n",
       "\n",
       "    function showError(err) {\n",
       "      outputDiv.innerHTML = `<div class=\"error\" style=\"color:red;\">${err}</div>`;\n",
       "      throw err;\n",
       "    }\n",
       "\n",
       "    function displayChart(vegaEmbed) {\n",
       "      vegaEmbed(outputDiv, spec, embedOpt)\n",
       "        .catch(err => showError(`Javascript Error: ${err.message}<br>This usually means there's a typo in your chart specification. See the javascript console for the full traceback.`));\n",
       "    }\n",
       "\n",
       "    if(typeof define === \"function\" && define.amd) {\n",
       "      requirejs.config({paths});\n",
       "      require([\"vega-embed\"], displayChart, err => showError(`Error loading script: ${err.message}`));\n",
       "    } else {\n",
       "      maybeLoadScript(\"vega\", \"5\")\n",
       "        .then(() => maybeLoadScript(\"vega-lite\", \"4.17.0\"))\n",
       "        .then(() => maybeLoadScript(\"vega-embed\", \"6\"))\n",
       "        .catch(showError)\n",
       "        .then(() => displayChart(vegaEmbed));\n",
       "    }\n",
       "  })({\"config\": {\"view\": {\"continuousWidth\": 400, \"continuousHeight\": 300}}, \"data\": {\"name\": \"data-679b3cb888c979e4923127b2d96de8f9\"}, \"mark\": {\"type\": \"bar\", \"color\": \"#636466\"}, \"encoding\": {\"x\": {\"field\": \"Country\", \"type\": \"nominal\"}, \"y\": {\"field\": \"Medals\", \"type\": \"quantitative\"}}, \"title\": \"A bar chart\", \"width\": 300, \"$schema\": \"https://vega.github.io/schema/vega-lite/v4.17.0.json\", \"datasets\": {\"data-679b3cb888c979e4923127b2d96de8f9\": [{\"Country\": \"Japan\", \"Medals\": 4, \"Region\": \"Asia\"}, {\"Country\": \"USA\", \"Medals\": 6, \"Region\": \"Americas\"}, {\"Country\": \"Germany\", \"Medals\": 10, \"Region\": \"Europe\"}, {\"Country\": \"Spain\", \"Medals\": 3, \"Region\": \"Europe\"}, {\"Country\": \"France\", \"Medals\": 7, \"Region\": \"Europe\"}, {\"Country\": \"Italy\", \"Medals\": 8, \"Region\": \"Europe\"}]}}, {\"mode\": \"vega-lite\"});\n",
       "</script>"
      ],
      "text/plain": [
       "alt.Chart(...)"
      ]
     },
     "execution_count": 96,
     "metadata": {},
     "output_type": "execute_result"
    }
   ],
   "source": [
    "import pandas as pd\n",
    "import altair as alt\n",
    "\n",
    "df = pd.DataFrame(\n",
    "    {\"Country\": [\"Japan\", \"USA\", \"Germany\", \"Spain\", \"France\", \"Italy\"], \n",
    "     \"Medals\": [4, 6, 10, 3, 7, 8], \n",
    "     \"Region\":[\"Asia\",\"Americas\",\"Europe\",\"Europe\",\"Europe\",\"Europe\"]}) \n",
    "\n",
    "\n",
    "chart = alt.Chart(df).mark_bar(color='#636466').encode(\n",
    "    x='Country',\n",
    "    y='Medals'\n",
    ").properties(width=width, title='A bar chart')\n",
    "\n",
    "chart"
   ]
  },
  {
   "cell_type": "markdown",
   "id": "633c4bdb",
   "metadata": {},
   "source": [
    "## Axes"
   ]
  },
  {
   "cell_type": "code",
   "execution_count": 97,
   "id": "65d09d45",
   "metadata": {},
   "outputs": [
    {
     "data": {
      "text/html": [
       "\n",
       "<div id=\"altair-viz-b207cad548094ae38b408835b018ce5f\"></div>\n",
       "<script type=\"text/javascript\">\n",
       "  var VEGA_DEBUG = (typeof VEGA_DEBUG == \"undefined\") ? {} : VEGA_DEBUG;\n",
       "  (function(spec, embedOpt){\n",
       "    let outputDiv = document.currentScript.previousElementSibling;\n",
       "    if (outputDiv.id !== \"altair-viz-b207cad548094ae38b408835b018ce5f\") {\n",
       "      outputDiv = document.getElementById(\"altair-viz-b207cad548094ae38b408835b018ce5f\");\n",
       "    }\n",
       "    const paths = {\n",
       "      \"vega\": \"https://cdn.jsdelivr.net/npm//vega@5?noext\",\n",
       "      \"vega-lib\": \"https://cdn.jsdelivr.net/npm//vega-lib?noext\",\n",
       "      \"vega-lite\": \"https://cdn.jsdelivr.net/npm//vega-lite@4.17.0?noext\",\n",
       "      \"vega-embed\": \"https://cdn.jsdelivr.net/npm//vega-embed@6?noext\",\n",
       "    };\n",
       "\n",
       "    function maybeLoadScript(lib, version) {\n",
       "      var key = `${lib.replace(\"-\", \"\")}_version`;\n",
       "      return (VEGA_DEBUG[key] == version) ?\n",
       "        Promise.resolve(paths[lib]) :\n",
       "        new Promise(function(resolve, reject) {\n",
       "          var s = document.createElement('script');\n",
       "          document.getElementsByTagName(\"head\")[0].appendChild(s);\n",
       "          s.async = true;\n",
       "          s.onload = () => {\n",
       "            VEGA_DEBUG[key] = version;\n",
       "            return resolve(paths[lib]);\n",
       "          };\n",
       "          s.onerror = () => reject(`Error loading script: ${paths[lib]}`);\n",
       "          s.src = paths[lib];\n",
       "        });\n",
       "    }\n",
       "\n",
       "    function showError(err) {\n",
       "      outputDiv.innerHTML = `<div class=\"error\" style=\"color:red;\">${err}</div>`;\n",
       "      throw err;\n",
       "    }\n",
       "\n",
       "    function displayChart(vegaEmbed) {\n",
       "      vegaEmbed(outputDiv, spec, embedOpt)\n",
       "        .catch(err => showError(`Javascript Error: ${err.message}<br>This usually means there's a typo in your chart specification. See the javascript console for the full traceback.`));\n",
       "    }\n",
       "\n",
       "    if(typeof define === \"function\" && define.amd) {\n",
       "      requirejs.config({paths});\n",
       "      require([\"vega-embed\"], displayChart, err => showError(`Error loading script: ${err.message}`));\n",
       "    } else {\n",
       "      maybeLoadScript(\"vega\", \"5\")\n",
       "        .then(() => maybeLoadScript(\"vega-lite\", \"4.17.0\"))\n",
       "        .then(() => maybeLoadScript(\"vega-embed\", \"6\"))\n",
       "        .catch(showError)\n",
       "        .then(() => displayChart(vegaEmbed));\n",
       "    }\n",
       "  })({\"config\": {\"view\": {\"continuousWidth\": 400, \"continuousHeight\": 300}, \"axis\": {\"labelAngle\": 0, \"labelFontSize\": 12, \"titleFontSize\": 14}}, \"data\": {\"name\": \"data-679b3cb888c979e4923127b2d96de8f9\"}, \"mark\": {\"type\": \"bar\", \"color\": \"#636466\"}, \"encoding\": {\"x\": {\"field\": \"Country\", \"type\": \"nominal\"}, \"y\": {\"field\": \"Medals\", \"type\": \"quantitative\"}}, \"title\": \"A bar chart\", \"width\": 300, \"$schema\": \"https://vega.github.io/schema/vega-lite/v4.17.0.json\", \"datasets\": {\"data-679b3cb888c979e4923127b2d96de8f9\": [{\"Country\": \"Japan\", \"Medals\": 4, \"Region\": \"Asia\"}, {\"Country\": \"USA\", \"Medals\": 6, \"Region\": \"Americas\"}, {\"Country\": \"Germany\", \"Medals\": 10, \"Region\": \"Europe\"}, {\"Country\": \"Spain\", \"Medals\": 3, \"Region\": \"Europe\"}, {\"Country\": \"France\", \"Medals\": 7, \"Region\": \"Europe\"}, {\"Country\": \"Italy\", \"Medals\": 8, \"Region\": \"Europe\"}]}}, {\"mode\": \"vega-lite\"});\n",
       "</script>"
      ],
      "text/plain": [
       "alt.Chart(...)"
      ]
     },
     "execution_count": 97,
     "metadata": {},
     "output_type": "execute_result"
    }
   ],
   "source": [
    "chart.configure_axis(\n",
    "    labelAngle=0,\n",
    "    titleFontSize=14,\n",
    "    labelFontSize=12\n",
    ")"
   ]
  },
  {
   "cell_type": "code",
   "execution_count": 98,
   "id": "cd764ec3",
   "metadata": {},
   "outputs": [
    {
     "data": {
      "text/html": [
       "\n",
       "<div id=\"altair-viz-4c4509d3489046b8890bc08e413e1831\"></div>\n",
       "<script type=\"text/javascript\">\n",
       "  var VEGA_DEBUG = (typeof VEGA_DEBUG == \"undefined\") ? {} : VEGA_DEBUG;\n",
       "  (function(spec, embedOpt){\n",
       "    let outputDiv = document.currentScript.previousElementSibling;\n",
       "    if (outputDiv.id !== \"altair-viz-4c4509d3489046b8890bc08e413e1831\") {\n",
       "      outputDiv = document.getElementById(\"altair-viz-4c4509d3489046b8890bc08e413e1831\");\n",
       "    }\n",
       "    const paths = {\n",
       "      \"vega\": \"https://cdn.jsdelivr.net/npm//vega@5?noext\",\n",
       "      \"vega-lib\": \"https://cdn.jsdelivr.net/npm//vega-lib?noext\",\n",
       "      \"vega-lite\": \"https://cdn.jsdelivr.net/npm//vega-lite@4.17.0?noext\",\n",
       "      \"vega-embed\": \"https://cdn.jsdelivr.net/npm//vega-embed@6?noext\",\n",
       "    };\n",
       "\n",
       "    function maybeLoadScript(lib, version) {\n",
       "      var key = `${lib.replace(\"-\", \"\")}_version`;\n",
       "      return (VEGA_DEBUG[key] == version) ?\n",
       "        Promise.resolve(paths[lib]) :\n",
       "        new Promise(function(resolve, reject) {\n",
       "          var s = document.createElement('script');\n",
       "          document.getElementsByTagName(\"head\")[0].appendChild(s);\n",
       "          s.async = true;\n",
       "          s.onload = () => {\n",
       "            VEGA_DEBUG[key] = version;\n",
       "            return resolve(paths[lib]);\n",
       "          };\n",
       "          s.onerror = () => reject(`Error loading script: ${paths[lib]}`);\n",
       "          s.src = paths[lib];\n",
       "        });\n",
       "    }\n",
       "\n",
       "    function showError(err) {\n",
       "      outputDiv.innerHTML = `<div class=\"error\" style=\"color:red;\">${err}</div>`;\n",
       "      throw err;\n",
       "    }\n",
       "\n",
       "    function displayChart(vegaEmbed) {\n",
       "      vegaEmbed(outputDiv, spec, embedOpt)\n",
       "        .catch(err => showError(`Javascript Error: ${err.message}<br>This usually means there's a typo in your chart specification. See the javascript console for the full traceback.`));\n",
       "    }\n",
       "\n",
       "    if(typeof define === \"function\" && define.amd) {\n",
       "      requirejs.config({paths});\n",
       "      require([\"vega-embed\"], displayChart, err => showError(`Error loading script: ${err.message}`));\n",
       "    } else {\n",
       "      maybeLoadScript(\"vega\", \"5\")\n",
       "        .then(() => maybeLoadScript(\"vega-lite\", \"4.17.0\"))\n",
       "        .then(() => maybeLoadScript(\"vega-embed\", \"6\"))\n",
       "        .catch(showError)\n",
       "        .then(() => displayChart(vegaEmbed));\n",
       "    }\n",
       "  })({\"config\": {\"view\": {\"continuousWidth\": 400, \"continuousHeight\": 300}, \"axisX\": {\"labelAngle\": 0, \"labelFontSize\": 12, \"titleFontSize\": 14}}, \"data\": {\"name\": \"data-679b3cb888c979e4923127b2d96de8f9\"}, \"mark\": {\"type\": \"bar\", \"color\": \"#636466\"}, \"encoding\": {\"x\": {\"field\": \"Country\", \"type\": \"nominal\"}, \"y\": {\"field\": \"Medals\", \"type\": \"quantitative\"}}, \"title\": \"A bar chart\", \"width\": 300, \"$schema\": \"https://vega.github.io/schema/vega-lite/v4.17.0.json\", \"datasets\": {\"data-679b3cb888c979e4923127b2d96de8f9\": [{\"Country\": \"Japan\", \"Medals\": 4, \"Region\": \"Asia\"}, {\"Country\": \"USA\", \"Medals\": 6, \"Region\": \"Americas\"}, {\"Country\": \"Germany\", \"Medals\": 10, \"Region\": \"Europe\"}, {\"Country\": \"Spain\", \"Medals\": 3, \"Region\": \"Europe\"}, {\"Country\": \"France\", \"Medals\": 7, \"Region\": \"Europe\"}, {\"Country\": \"Italy\", \"Medals\": 8, \"Region\": \"Europe\"}]}}, {\"mode\": \"vega-lite\"});\n",
       "</script>"
      ],
      "text/plain": [
       "alt.Chart(...)"
      ]
     },
     "execution_count": 98,
     "metadata": {},
     "output_type": "execute_result"
    }
   ],
   "source": [
    "chart.configure_axisX(\n",
    "    labelAngle=0,\n",
    "    titleFontSize=14,\n",
    "    labelFontSize=12\n",
    ")"
   ]
  },
  {
   "cell_type": "markdown",
   "id": "d71a68e2",
   "metadata": {},
   "source": [
    "## Title"
   ]
  },
  {
   "cell_type": "code",
   "execution_count": 101,
   "id": "585c0ff9",
   "metadata": {},
   "outputs": [
    {
     "data": {
      "text/html": [
       "\n",
       "<div id=\"altair-viz-7f65fbb372cf42faa9fe50c81702cd6e\"></div>\n",
       "<script type=\"text/javascript\">\n",
       "  var VEGA_DEBUG = (typeof VEGA_DEBUG == \"undefined\") ? {} : VEGA_DEBUG;\n",
       "  (function(spec, embedOpt){\n",
       "    let outputDiv = document.currentScript.previousElementSibling;\n",
       "    if (outputDiv.id !== \"altair-viz-7f65fbb372cf42faa9fe50c81702cd6e\") {\n",
       "      outputDiv = document.getElementById(\"altair-viz-7f65fbb372cf42faa9fe50c81702cd6e\");\n",
       "    }\n",
       "    const paths = {\n",
       "      \"vega\": \"https://cdn.jsdelivr.net/npm//vega@5?noext\",\n",
       "      \"vega-lib\": \"https://cdn.jsdelivr.net/npm//vega-lib?noext\",\n",
       "      \"vega-lite\": \"https://cdn.jsdelivr.net/npm//vega-lite@4.17.0?noext\",\n",
       "      \"vega-embed\": \"https://cdn.jsdelivr.net/npm//vega-embed@6?noext\",\n",
       "    };\n",
       "\n",
       "    function maybeLoadScript(lib, version) {\n",
       "      var key = `${lib.replace(\"-\", \"\")}_version`;\n",
       "      return (VEGA_DEBUG[key] == version) ?\n",
       "        Promise.resolve(paths[lib]) :\n",
       "        new Promise(function(resolve, reject) {\n",
       "          var s = document.createElement('script');\n",
       "          document.getElementsByTagName(\"head\")[0].appendChild(s);\n",
       "          s.async = true;\n",
       "          s.onload = () => {\n",
       "            VEGA_DEBUG[key] = version;\n",
       "            return resolve(paths[lib]);\n",
       "          };\n",
       "          s.onerror = () => reject(`Error loading script: ${paths[lib]}`);\n",
       "          s.src = paths[lib];\n",
       "        });\n",
       "    }\n",
       "\n",
       "    function showError(err) {\n",
       "      outputDiv.innerHTML = `<div class=\"error\" style=\"color:red;\">${err}</div>`;\n",
       "      throw err;\n",
       "    }\n",
       "\n",
       "    function displayChart(vegaEmbed) {\n",
       "      vegaEmbed(outputDiv, spec, embedOpt)\n",
       "        .catch(err => showError(`Javascript Error: ${err.message}<br>This usually means there's a typo in your chart specification. See the javascript console for the full traceback.`));\n",
       "    }\n",
       "\n",
       "    if(typeof define === \"function\" && define.amd) {\n",
       "      requirejs.config({paths});\n",
       "      require([\"vega-embed\"], displayChart, err => showError(`Error loading script: ${err.message}`));\n",
       "    } else {\n",
       "      maybeLoadScript(\"vega\", \"5\")\n",
       "        .then(() => maybeLoadScript(\"vega-lite\", \"4.17.0\"))\n",
       "        .then(() => maybeLoadScript(\"vega-embed\", \"6\"))\n",
       "        .catch(showError)\n",
       "        .then(() => displayChart(vegaEmbed));\n",
       "    }\n",
       "  })({\"config\": {\"view\": {\"continuousWidth\": 400, \"continuousHeight\": 300}, \"title\": {\"anchor\": \"start\", \"color\": \"#80C11E\", \"fontSize\": 20, \"offset\": 30}}, \"data\": {\"name\": \"data-679b3cb888c979e4923127b2d96de8f9\"}, \"mark\": {\"type\": \"bar\", \"color\": \"#636466\"}, \"encoding\": {\"x\": {\"field\": \"Country\", \"type\": \"nominal\"}, \"y\": {\"field\": \"Medals\", \"type\": \"quantitative\"}}, \"title\": \"A bar chart\", \"width\": 300, \"$schema\": \"https://vega.github.io/schema/vega-lite/v4.17.0.json\", \"datasets\": {\"data-679b3cb888c979e4923127b2d96de8f9\": [{\"Country\": \"Japan\", \"Medals\": 4, \"Region\": \"Asia\"}, {\"Country\": \"USA\", \"Medals\": 6, \"Region\": \"Americas\"}, {\"Country\": \"Germany\", \"Medals\": 10, \"Region\": \"Europe\"}, {\"Country\": \"Spain\", \"Medals\": 3, \"Region\": \"Europe\"}, {\"Country\": \"France\", \"Medals\": 7, \"Region\": \"Europe\"}, {\"Country\": \"Italy\", \"Medals\": 8, \"Region\": \"Europe\"}]}}, {\"mode\": \"vega-lite\"});\n",
       "</script>"
      ],
      "text/plain": [
       "alt.Chart(...)"
      ]
     },
     "execution_count": 101,
     "metadata": {},
     "output_type": "execute_result"
    }
   ],
   "source": [
    "chart.configure_title(\n",
    "    fontSize=20,\n",
    "    color='#80C11E',\n",
    "    offset=30,\n",
    "    anchor='start' #one of [None, 'start', 'middle', 'end']\n",
    ")"
   ]
  },
  {
   "cell_type": "markdown",
   "id": "7c56b826",
   "metadata": {},
   "source": [
    "## View"
   ]
  },
  {
   "cell_type": "code",
   "execution_count": 108,
   "id": "ed778ea8",
   "metadata": {},
   "outputs": [
    {
     "data": {
      "text/html": [
       "\n",
       "<div id=\"altair-viz-cf0bf80930584318b478347968116f30\"></div>\n",
       "<script type=\"text/javascript\">\n",
       "  var VEGA_DEBUG = (typeof VEGA_DEBUG == \"undefined\") ? {} : VEGA_DEBUG;\n",
       "  (function(spec, embedOpt){\n",
       "    let outputDiv = document.currentScript.previousElementSibling;\n",
       "    if (outputDiv.id !== \"altair-viz-cf0bf80930584318b478347968116f30\") {\n",
       "      outputDiv = document.getElementById(\"altair-viz-cf0bf80930584318b478347968116f30\");\n",
       "    }\n",
       "    const paths = {\n",
       "      \"vega\": \"https://cdn.jsdelivr.net/npm//vega@5?noext\",\n",
       "      \"vega-lib\": \"https://cdn.jsdelivr.net/npm//vega-lib?noext\",\n",
       "      \"vega-lite\": \"https://cdn.jsdelivr.net/npm//vega-lite@4.17.0?noext\",\n",
       "      \"vega-embed\": \"https://cdn.jsdelivr.net/npm//vega-embed@6?noext\",\n",
       "    };\n",
       "\n",
       "    function maybeLoadScript(lib, version) {\n",
       "      var key = `${lib.replace(\"-\", \"\")}_version`;\n",
       "      return (VEGA_DEBUG[key] == version) ?\n",
       "        Promise.resolve(paths[lib]) :\n",
       "        new Promise(function(resolve, reject) {\n",
       "          var s = document.createElement('script');\n",
       "          document.getElementsByTagName(\"head\")[0].appendChild(s);\n",
       "          s.async = true;\n",
       "          s.onload = () => {\n",
       "            VEGA_DEBUG[key] = version;\n",
       "            return resolve(paths[lib]);\n",
       "          };\n",
       "          s.onerror = () => reject(`Error loading script: ${paths[lib]}`);\n",
       "          s.src = paths[lib];\n",
       "        });\n",
       "    }\n",
       "\n",
       "    function showError(err) {\n",
       "      outputDiv.innerHTML = `<div class=\"error\" style=\"color:red;\">${err}</div>`;\n",
       "      throw err;\n",
       "    }\n",
       "\n",
       "    function displayChart(vegaEmbed) {\n",
       "      vegaEmbed(outputDiv, spec, embedOpt)\n",
       "        .catch(err => showError(`Javascript Error: ${err.message}<br>This usually means there's a typo in your chart specification. See the javascript console for the full traceback.`));\n",
       "    }\n",
       "\n",
       "    if(typeof define === \"function\" && define.amd) {\n",
       "      requirejs.config({paths});\n",
       "      require([\"vega-embed\"], displayChart, err => showError(`Error loading script: ${err.message}`));\n",
       "    } else {\n",
       "      maybeLoadScript(\"vega\", \"5\")\n",
       "        .then(() => maybeLoadScript(\"vega-lite\", \"4.17.0\"))\n",
       "        .then(() => maybeLoadScript(\"vega-embed\", \"6\"))\n",
       "        .catch(showError)\n",
       "        .then(() => displayChart(vegaEmbed));\n",
       "    }\n",
       "  })({\"config\": {\"view\": {\"continuousWidth\": 400, \"continuousHeight\": 300, \"fill\": \"#E0E0E0\", \"stroke\": \"#80C11E\", \"strokeWidth\": 4}}, \"data\": {\"name\": \"data-679b3cb888c979e4923127b2d96de8f9\"}, \"mark\": {\"type\": \"bar\", \"color\": \"#636466\"}, \"encoding\": {\"x\": {\"field\": \"Country\", \"type\": \"nominal\"}, \"y\": {\"field\": \"Medals\", \"type\": \"quantitative\"}}, \"title\": \"A bar chart\", \"width\": 300, \"$schema\": \"https://vega.github.io/schema/vega-lite/v4.17.0.json\", \"datasets\": {\"data-679b3cb888c979e4923127b2d96de8f9\": [{\"Country\": \"Japan\", \"Medals\": 4, \"Region\": \"Asia\"}, {\"Country\": \"USA\", \"Medals\": 6, \"Region\": \"Americas\"}, {\"Country\": \"Germany\", \"Medals\": 10, \"Region\": \"Europe\"}, {\"Country\": \"Spain\", \"Medals\": 3, \"Region\": \"Europe\"}, {\"Country\": \"France\", \"Medals\": 7, \"Region\": \"Europe\"}, {\"Country\": \"Italy\", \"Medals\": 8, \"Region\": \"Europe\"}]}}, {\"mode\": \"vega-lite\"});\n",
       "</script>"
      ],
      "text/plain": [
       "alt.Chart(...)"
      ]
     },
     "execution_count": 108,
     "metadata": {},
     "output_type": "execute_result"
    }
   ],
   "source": [
    "chart.configure_view(\n",
    "    strokeWidth=4,\n",
    "    stroke='#80C11E',\n",
    "    fill='#E0E0E0'\n",
    ")"
   ]
  },
  {
   "cell_type": "markdown",
   "id": "b08abd1a",
   "metadata": {},
   "source": [
    "## Concat"
   ]
  },
  {
   "cell_type": "code",
   "execution_count": 106,
   "id": "6a1b6334",
   "metadata": {},
   "outputs": [
    {
     "data": {
      "text/html": [
       "\n",
       "<div id=\"altair-viz-a041915c9a5843f5a9b16309c9405963\"></div>\n",
       "<script type=\"text/javascript\">\n",
       "  var VEGA_DEBUG = (typeof VEGA_DEBUG == \"undefined\") ? {} : VEGA_DEBUG;\n",
       "  (function(spec, embedOpt){\n",
       "    let outputDiv = document.currentScript.previousElementSibling;\n",
       "    if (outputDiv.id !== \"altair-viz-a041915c9a5843f5a9b16309c9405963\") {\n",
       "      outputDiv = document.getElementById(\"altair-viz-a041915c9a5843f5a9b16309c9405963\");\n",
       "    }\n",
       "    const paths = {\n",
       "      \"vega\": \"https://cdn.jsdelivr.net/npm//vega@5?noext\",\n",
       "      \"vega-lib\": \"https://cdn.jsdelivr.net/npm//vega-lib?noext\",\n",
       "      \"vega-lite\": \"https://cdn.jsdelivr.net/npm//vega-lite@4.17.0?noext\",\n",
       "      \"vega-embed\": \"https://cdn.jsdelivr.net/npm//vega-embed@6?noext\",\n",
       "    };\n",
       "\n",
       "    function maybeLoadScript(lib, version) {\n",
       "      var key = `${lib.replace(\"-\", \"\")}_version`;\n",
       "      return (VEGA_DEBUG[key] == version) ?\n",
       "        Promise.resolve(paths[lib]) :\n",
       "        new Promise(function(resolve, reject) {\n",
       "          var s = document.createElement('script');\n",
       "          document.getElementsByTagName(\"head\")[0].appendChild(s);\n",
       "          s.async = true;\n",
       "          s.onload = () => {\n",
       "            VEGA_DEBUG[key] = version;\n",
       "            return resolve(paths[lib]);\n",
       "          };\n",
       "          s.onerror = () => reject(`Error loading script: ${paths[lib]}`);\n",
       "          s.src = paths[lib];\n",
       "        });\n",
       "    }\n",
       "\n",
       "    function showError(err) {\n",
       "      outputDiv.innerHTML = `<div class=\"error\" style=\"color:red;\">${err}</div>`;\n",
       "      throw err;\n",
       "    }\n",
       "\n",
       "    function displayChart(vegaEmbed) {\n",
       "      vegaEmbed(outputDiv, spec, embedOpt)\n",
       "        .catch(err => showError(`Javascript Error: ${err.message}<br>This usually means there's a typo in your chart specification. See the javascript console for the full traceback.`));\n",
       "    }\n",
       "\n",
       "    if(typeof define === \"function\" && define.amd) {\n",
       "      requirejs.config({paths});\n",
       "      require([\"vega-embed\"], displayChart, err => showError(`Error loading script: ${err.message}`));\n",
       "    } else {\n",
       "      maybeLoadScript(\"vega\", \"5\")\n",
       "        .then(() => maybeLoadScript(\"vega-lite\", \"4.17.0\"))\n",
       "        .then(() => maybeLoadScript(\"vega-embed\", \"6\"))\n",
       "        .catch(showError)\n",
       "        .then(() => displayChart(vegaEmbed));\n",
       "    }\n",
       "  })({\"config\": {\"view\": {\"continuousWidth\": 400, \"continuousHeight\": 300}, \"concat\": {\"spacing\": 200}}, \"hconcat\": [{\"mark\": {\"type\": \"bar\", \"color\": \"#636466\"}, \"encoding\": {\"x\": {\"field\": \"Country\", \"type\": \"nominal\"}, \"y\": {\"field\": \"Medals\", \"type\": \"quantitative\"}}, \"title\": \"A bar chart\", \"width\": 300}, {\"mark\": {\"type\": \"line\", \"color\": \"#80C11E\"}, \"encoding\": {\"x\": {\"field\": \"Country\", \"type\": \"nominal\"}, \"y\": {\"field\": \"Medals\", \"type\": \"quantitative\"}}, \"title\": \"A line chart\", \"width\": 300}], \"data\": {\"name\": \"data-679b3cb888c979e4923127b2d96de8f9\"}, \"$schema\": \"https://vega.github.io/schema/vega-lite/v4.17.0.json\", \"datasets\": {\"data-679b3cb888c979e4923127b2d96de8f9\": [{\"Country\": \"Japan\", \"Medals\": 4, \"Region\": \"Asia\"}, {\"Country\": \"USA\", \"Medals\": 6, \"Region\": \"Americas\"}, {\"Country\": \"Germany\", \"Medals\": 10, \"Region\": \"Europe\"}, {\"Country\": \"Spain\", \"Medals\": 3, \"Region\": \"Europe\"}, {\"Country\": \"France\", \"Medals\": 7, \"Region\": \"Europe\"}, {\"Country\": \"Italy\", \"Medals\": 8, \"Region\": \"Europe\"}]}}, {\"mode\": \"vega-lite\"});\n",
       "</script>"
      ],
      "text/plain": [
       "alt.HConcatChart(...)"
      ]
     },
     "execution_count": 106,
     "metadata": {},
     "output_type": "execute_result"
    }
   ],
   "source": [
    "(chart1|chart2).configure_concat(\n",
    "    spacing=200\n",
    ")"
   ]
  },
  {
   "cell_type": "code",
   "execution_count": null,
   "id": "eb316afc",
   "metadata": {},
   "outputs": [],
   "source": []
  }
 ],
 "metadata": {
  "kernelspec": {
   "display_name": "Python 3 (ipykernel)",
   "language": "python",
   "name": "python3"
  },
  "language_info": {
   "codemirror_mode": {
    "name": "ipython",
    "version": 3
   },
   "file_extension": ".py",
   "mimetype": "text/x-python",
   "name": "python",
   "nbconvert_exporter": "python",
   "pygments_lexer": "ipython3",
   "version": "3.8.10"
  }
 },
 "nbformat": 4,
 "nbformat_minor": 5
}
