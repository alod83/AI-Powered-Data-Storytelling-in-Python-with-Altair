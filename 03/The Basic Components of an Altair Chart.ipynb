{
 "cells": [
  {
   "cell_type": "markdown",
   "id": "ca80c1ac",
   "metadata": {},
   "source": [
    "# The Basic Components of an Altair Chart\n",
    "\n",
    "# Conditions"
   ]
  },
  {
   "cell_type": "code",
   "execution_count": 12,
   "id": "cab4ea01",
   "metadata": {},
   "outputs": [
    {
     "data": {
      "text/html": [
       "\n",
       "<div id=\"altair-viz-d855189057e141f28b3fa56b09836f86\"></div>\n",
       "<script type=\"text/javascript\">\n",
       "  var VEGA_DEBUG = (typeof VEGA_DEBUG == \"undefined\") ? {} : VEGA_DEBUG;\n",
       "  (function(spec, embedOpt){\n",
       "    let outputDiv = document.currentScript.previousElementSibling;\n",
       "    if (outputDiv.id !== \"altair-viz-d855189057e141f28b3fa56b09836f86\") {\n",
       "      outputDiv = document.getElementById(\"altair-viz-d855189057e141f28b3fa56b09836f86\");\n",
       "    }\n",
       "    const paths = {\n",
       "      \"vega\": \"https://cdn.jsdelivr.net/npm//vega@5?noext\",\n",
       "      \"vega-lib\": \"https://cdn.jsdelivr.net/npm//vega-lib?noext\",\n",
       "      \"vega-lite\": \"https://cdn.jsdelivr.net/npm//vega-lite@4.17.0?noext\",\n",
       "      \"vega-embed\": \"https://cdn.jsdelivr.net/npm//vega-embed@6?noext\",\n",
       "    };\n",
       "\n",
       "    function maybeLoadScript(lib, version) {\n",
       "      var key = `${lib.replace(\"-\", \"\")}_version`;\n",
       "      return (VEGA_DEBUG[key] == version) ?\n",
       "        Promise.resolve(paths[lib]) :\n",
       "        new Promise(function(resolve, reject) {\n",
       "          var s = document.createElement('script');\n",
       "          document.getElementsByTagName(\"head\")[0].appendChild(s);\n",
       "          s.async = true;\n",
       "          s.onload = () => {\n",
       "            VEGA_DEBUG[key] = version;\n",
       "            return resolve(paths[lib]);\n",
       "          };\n",
       "          s.onerror = () => reject(`Error loading script: ${paths[lib]}`);\n",
       "          s.src = paths[lib];\n",
       "        });\n",
       "    }\n",
       "\n",
       "    function showError(err) {\n",
       "      outputDiv.innerHTML = `<div class=\"error\" style=\"color:red;\">${err}</div>`;\n",
       "      throw err;\n",
       "    }\n",
       "\n",
       "    function displayChart(vegaEmbed) {\n",
       "      vegaEmbed(outputDiv, spec, embedOpt)\n",
       "        .catch(err => showError(`Javascript Error: ${err.message}<br>This usually means there's a typo in your chart specification. See the javascript console for the full traceback.`));\n",
       "    }\n",
       "\n",
       "    if(typeof define === \"function\" && define.amd) {\n",
       "      requirejs.config({paths});\n",
       "      require([\"vega-embed\"], displayChart, err => showError(`Error loading script: ${err.message}`));\n",
       "    } else {\n",
       "      maybeLoadScript(\"vega\", \"5\")\n",
       "        .then(() => maybeLoadScript(\"vega-lite\", \"4.17.0\"))\n",
       "        .then(() => maybeLoadScript(\"vega-embed\", \"6\"))\n",
       "        .catch(showError)\n",
       "        .then(() => displayChart(vegaEmbed));\n",
       "    }\n",
       "  })({\"config\": {\"view\": {\"continuousWidth\": 400, \"continuousHeight\": 300}}, \"data\": {\"name\": \"data-f6be64e55b67dfa3f8d06ba53b7821fc\"}, \"mark\": \"bar\", \"encoding\": {\"color\": {\"condition\": {\"value\": \"red\", \"test\": \"(datum.Country === 'USA')\"}, \"value\": \"blue\"}, \"x\": {\"field\": \"X\", \"type\": \"quantitative\"}, \"y\": {\"field\": \"Y\", \"type\": \"quantitative\"}}, \"$schema\": \"https://vega.github.io/schema/vega-lite/v4.17.0.json\", \"datasets\": {\"data-f6be64e55b67dfa3f8d06ba53b7821fc\": [{\"X\": 1, \"Y\": 2, \"Z\": 3, \"H\": 5, \"M\": 3, \"Country\": \"USA\"}, {\"X\": 2, \"Y\": 4, \"Z\": 4, \"H\": 6, \"M\": 4, \"Country\": \"EU\"}, {\"X\": 3, \"Y\": 5, \"Z\": 5, \"H\": 8, \"M\": 5, \"Country\": \"EU\"}, {\"X\": 4, \"Y\": 6, \"Z\": 6, \"H\": 9, \"M\": 3, \"Country\": \"USA\"}]}}, {\"mode\": \"vega-lite\"});\n",
       "</script>"
      ],
      "text/plain": [
       "alt.Chart(...)"
      ]
     },
     "execution_count": 12,
     "metadata": {},
     "output_type": "execute_result"
    }
   ],
   "source": [
    "import pandas as pd\n",
    "import altair as alt\n",
    "\n",
    "df = pd.DataFrame({\n",
    "'X' : [1,2,3,4],\n",
    "'Y' : [2,4,5,6],\n",
    "'Z' : [3,4,5,6],\n",
    "'H' : [5,6,8,9],\n",
    "'M' : [3,4,5,3],\n",
    "'Country' : ['USA', 'EU', 'EU', 'USA']\n",
    "})\n",
    "\n",
    "chart = alt.Chart(df).mark_bar().encode(\n",
    "    x='X',\n",
    "    y='Y',\n",
    "    color=alt.condition(\n",
    "        alt.datum.Country == 'USA',\n",
    "        alt.value('red'),  # color to use when condition is true\n",
    "        alt.value('blue')  # color to use when condition is false\n",
    "    )\n",
    ")\n",
    "\n",
    "chart"
   ]
  },
  {
   "cell_type": "markdown",
   "id": "e048686e",
   "metadata": {},
   "source": [
    "# Chart Combination"
   ]
  },
  {
   "cell_type": "code",
   "execution_count": 13,
   "id": "2fad8001",
   "metadata": {},
   "outputs": [],
   "source": [
    "chart1 = alt.Chart(df).mark_bar().encode(\n",
    "    x='X:O',\n",
    "    y='Y',\n",
    "    color=alt.value('#003049')\n",
    ").properties(width=300, title='A bar chart')\n",
    "\n",
    "chart2 = alt.Chart(df).mark_line().encode(\n",
    "    x='X:O',\n",
    "    y='Y',\n",
    "    color=alt.value('#FCBE49')\n",
    ").properties(width=300, title='A line chart')\n",
    "\n"
   ]
  },
  {
   "cell_type": "markdown",
   "id": "09172581",
   "metadata": {},
   "source": [
    "## Layering"
   ]
  },
  {
   "cell_type": "code",
   "execution_count": 14,
   "id": "8683f404",
   "metadata": {},
   "outputs": [
    {
     "data": {
      "text/html": [
       "\n",
       "<div id=\"altair-viz-23a7abf9b0f64c989ebef5625119889c\"></div>\n",
       "<script type=\"text/javascript\">\n",
       "  var VEGA_DEBUG = (typeof VEGA_DEBUG == \"undefined\") ? {} : VEGA_DEBUG;\n",
       "  (function(spec, embedOpt){\n",
       "    let outputDiv = document.currentScript.previousElementSibling;\n",
       "    if (outputDiv.id !== \"altair-viz-23a7abf9b0f64c989ebef5625119889c\") {\n",
       "      outputDiv = document.getElementById(\"altair-viz-23a7abf9b0f64c989ebef5625119889c\");\n",
       "    }\n",
       "    const paths = {\n",
       "      \"vega\": \"https://cdn.jsdelivr.net/npm//vega@5?noext\",\n",
       "      \"vega-lib\": \"https://cdn.jsdelivr.net/npm//vega-lib?noext\",\n",
       "      \"vega-lite\": \"https://cdn.jsdelivr.net/npm//vega-lite@4.17.0?noext\",\n",
       "      \"vega-embed\": \"https://cdn.jsdelivr.net/npm//vega-embed@6?noext\",\n",
       "    };\n",
       "\n",
       "    function maybeLoadScript(lib, version) {\n",
       "      var key = `${lib.replace(\"-\", \"\")}_version`;\n",
       "      return (VEGA_DEBUG[key] == version) ?\n",
       "        Promise.resolve(paths[lib]) :\n",
       "        new Promise(function(resolve, reject) {\n",
       "          var s = document.createElement('script');\n",
       "          document.getElementsByTagName(\"head\")[0].appendChild(s);\n",
       "          s.async = true;\n",
       "          s.onload = () => {\n",
       "            VEGA_DEBUG[key] = version;\n",
       "            return resolve(paths[lib]);\n",
       "          };\n",
       "          s.onerror = () => reject(`Error loading script: ${paths[lib]}`);\n",
       "          s.src = paths[lib];\n",
       "        });\n",
       "    }\n",
       "\n",
       "    function showError(err) {\n",
       "      outputDiv.innerHTML = `<div class=\"error\" style=\"color:red;\">${err}</div>`;\n",
       "      throw err;\n",
       "    }\n",
       "\n",
       "    function displayChart(vegaEmbed) {\n",
       "      vegaEmbed(outputDiv, spec, embedOpt)\n",
       "        .catch(err => showError(`Javascript Error: ${err.message}<br>This usually means there's a typo in your chart specification. See the javascript console for the full traceback.`));\n",
       "    }\n",
       "\n",
       "    if(typeof define === \"function\" && define.amd) {\n",
       "      requirejs.config({paths});\n",
       "      require([\"vega-embed\"], displayChart, err => showError(`Error loading script: ${err.message}`));\n",
       "    } else {\n",
       "      maybeLoadScript(\"vega\", \"5\")\n",
       "        .then(() => maybeLoadScript(\"vega-lite\", \"4.17.0\"))\n",
       "        .then(() => maybeLoadScript(\"vega-embed\", \"6\"))\n",
       "        .catch(showError)\n",
       "        .then(() => displayChart(vegaEmbed));\n",
       "    }\n",
       "  })({\"config\": {\"view\": {\"continuousWidth\": 400, \"continuousHeight\": 300}}, \"layer\": [{\"mark\": \"bar\", \"encoding\": {\"color\": {\"value\": \"#003049\"}, \"x\": {\"field\": \"X\", \"type\": \"ordinal\"}, \"y\": {\"field\": \"Y\", \"type\": \"quantitative\"}}, \"title\": \"A bar chart\", \"width\": 300}, {\"mark\": \"line\", \"encoding\": {\"color\": {\"value\": \"#FCBE49\"}, \"x\": {\"field\": \"X\", \"type\": \"ordinal\"}, \"y\": {\"field\": \"Y\", \"type\": \"quantitative\"}}, \"title\": \"A line chart\", \"width\": 300}], \"data\": {\"name\": \"data-f6be64e55b67dfa3f8d06ba53b7821fc\"}, \"$schema\": \"https://vega.github.io/schema/vega-lite/v4.17.0.json\", \"datasets\": {\"data-f6be64e55b67dfa3f8d06ba53b7821fc\": [{\"X\": 1, \"Y\": 2, \"Z\": 3, \"H\": 5, \"M\": 3, \"Country\": \"USA\"}, {\"X\": 2, \"Y\": 4, \"Z\": 4, \"H\": 6, \"M\": 4, \"Country\": \"EU\"}, {\"X\": 3, \"Y\": 5, \"Z\": 5, \"H\": 8, \"M\": 5, \"Country\": \"EU\"}, {\"X\": 4, \"Y\": 6, \"Z\": 6, \"H\": 9, \"M\": 3, \"Country\": \"USA\"}]}}, {\"mode\": \"vega-lite\"});\n",
       "</script>"
      ],
      "text/plain": [
       "alt.LayerChart(...)"
      ]
     },
     "execution_count": 14,
     "metadata": {},
     "output_type": "execute_result"
    }
   ],
   "source": [
    "alt.layer(chart1,chart2)"
   ]
  },
  {
   "cell_type": "markdown",
   "id": "9794e6e6",
   "metadata": {},
   "source": [
    "## Vertical Concatenation"
   ]
  },
  {
   "cell_type": "code",
   "execution_count": 15,
   "id": "782551e9",
   "metadata": {},
   "outputs": [
    {
     "data": {
      "text/html": [
       "\n",
       "<div id=\"altair-viz-64ec2c6b0ed84532a48e7e0bc480a858\"></div>\n",
       "<script type=\"text/javascript\">\n",
       "  var VEGA_DEBUG = (typeof VEGA_DEBUG == \"undefined\") ? {} : VEGA_DEBUG;\n",
       "  (function(spec, embedOpt){\n",
       "    let outputDiv = document.currentScript.previousElementSibling;\n",
       "    if (outputDiv.id !== \"altair-viz-64ec2c6b0ed84532a48e7e0bc480a858\") {\n",
       "      outputDiv = document.getElementById(\"altair-viz-64ec2c6b0ed84532a48e7e0bc480a858\");\n",
       "    }\n",
       "    const paths = {\n",
       "      \"vega\": \"https://cdn.jsdelivr.net/npm//vega@5?noext\",\n",
       "      \"vega-lib\": \"https://cdn.jsdelivr.net/npm//vega-lib?noext\",\n",
       "      \"vega-lite\": \"https://cdn.jsdelivr.net/npm//vega-lite@4.17.0?noext\",\n",
       "      \"vega-embed\": \"https://cdn.jsdelivr.net/npm//vega-embed@6?noext\",\n",
       "    };\n",
       "\n",
       "    function maybeLoadScript(lib, version) {\n",
       "      var key = `${lib.replace(\"-\", \"\")}_version`;\n",
       "      return (VEGA_DEBUG[key] == version) ?\n",
       "        Promise.resolve(paths[lib]) :\n",
       "        new Promise(function(resolve, reject) {\n",
       "          var s = document.createElement('script');\n",
       "          document.getElementsByTagName(\"head\")[0].appendChild(s);\n",
       "          s.async = true;\n",
       "          s.onload = () => {\n",
       "            VEGA_DEBUG[key] = version;\n",
       "            return resolve(paths[lib]);\n",
       "          };\n",
       "          s.onerror = () => reject(`Error loading script: ${paths[lib]}`);\n",
       "          s.src = paths[lib];\n",
       "        });\n",
       "    }\n",
       "\n",
       "    function showError(err) {\n",
       "      outputDiv.innerHTML = `<div class=\"error\" style=\"color:red;\">${err}</div>`;\n",
       "      throw err;\n",
       "    }\n",
       "\n",
       "    function displayChart(vegaEmbed) {\n",
       "      vegaEmbed(outputDiv, spec, embedOpt)\n",
       "        .catch(err => showError(`Javascript Error: ${err.message}<br>This usually means there's a typo in your chart specification. See the javascript console for the full traceback.`));\n",
       "    }\n",
       "\n",
       "    if(typeof define === \"function\" && define.amd) {\n",
       "      requirejs.config({paths});\n",
       "      require([\"vega-embed\"], displayChart, err => showError(`Error loading script: ${err.message}`));\n",
       "    } else {\n",
       "      maybeLoadScript(\"vega\", \"5\")\n",
       "        .then(() => maybeLoadScript(\"vega-lite\", \"4.17.0\"))\n",
       "        .then(() => maybeLoadScript(\"vega-embed\", \"6\"))\n",
       "        .catch(showError)\n",
       "        .then(() => displayChart(vegaEmbed));\n",
       "    }\n",
       "  })({\"config\": {\"view\": {\"continuousWidth\": 400, \"continuousHeight\": 300}}, \"vconcat\": [{\"mark\": \"bar\", \"encoding\": {\"color\": {\"value\": \"#003049\"}, \"x\": {\"field\": \"X\", \"type\": \"ordinal\"}, \"y\": {\"field\": \"Y\", \"type\": \"quantitative\"}}, \"title\": \"A bar chart\", \"width\": 300}, {\"mark\": \"line\", \"encoding\": {\"color\": {\"value\": \"#FCBE49\"}, \"x\": {\"field\": \"X\", \"type\": \"ordinal\"}, \"y\": {\"field\": \"Y\", \"type\": \"quantitative\"}}, \"title\": \"A line chart\", \"width\": 300}], \"data\": {\"name\": \"data-f6be64e55b67dfa3f8d06ba53b7821fc\"}, \"$schema\": \"https://vega.github.io/schema/vega-lite/v4.17.0.json\", \"datasets\": {\"data-f6be64e55b67dfa3f8d06ba53b7821fc\": [{\"X\": 1, \"Y\": 2, \"Z\": 3, \"H\": 5, \"M\": 3, \"Country\": \"USA\"}, {\"X\": 2, \"Y\": 4, \"Z\": 4, \"H\": 6, \"M\": 4, \"Country\": \"EU\"}, {\"X\": 3, \"Y\": 5, \"Z\": 5, \"H\": 8, \"M\": 5, \"Country\": \"EU\"}, {\"X\": 4, \"Y\": 6, \"Z\": 6, \"H\": 9, \"M\": 3, \"Country\": \"USA\"}]}}, {\"mode\": \"vega-lite\"});\n",
       "</script>"
      ],
      "text/plain": [
       "alt.VConcatChart(...)"
      ]
     },
     "execution_count": 15,
     "metadata": {},
     "output_type": "execute_result"
    }
   ],
   "source": [
    "alt.vconcat(chart1,chart2)"
   ]
  },
  {
   "cell_type": "markdown",
   "id": "81732b89",
   "metadata": {},
   "source": [
    "## Horizontal Concatentation"
   ]
  },
  {
   "cell_type": "code",
   "execution_count": 16,
   "id": "b94652f7",
   "metadata": {},
   "outputs": [
    {
     "data": {
      "text/html": [
       "\n",
       "<div id=\"altair-viz-2551ff859cb645668b2918600332cc1e\"></div>\n",
       "<script type=\"text/javascript\">\n",
       "  var VEGA_DEBUG = (typeof VEGA_DEBUG == \"undefined\") ? {} : VEGA_DEBUG;\n",
       "  (function(spec, embedOpt){\n",
       "    let outputDiv = document.currentScript.previousElementSibling;\n",
       "    if (outputDiv.id !== \"altair-viz-2551ff859cb645668b2918600332cc1e\") {\n",
       "      outputDiv = document.getElementById(\"altair-viz-2551ff859cb645668b2918600332cc1e\");\n",
       "    }\n",
       "    const paths = {\n",
       "      \"vega\": \"https://cdn.jsdelivr.net/npm//vega@5?noext\",\n",
       "      \"vega-lib\": \"https://cdn.jsdelivr.net/npm//vega-lib?noext\",\n",
       "      \"vega-lite\": \"https://cdn.jsdelivr.net/npm//vega-lite@4.17.0?noext\",\n",
       "      \"vega-embed\": \"https://cdn.jsdelivr.net/npm//vega-embed@6?noext\",\n",
       "    };\n",
       "\n",
       "    function maybeLoadScript(lib, version) {\n",
       "      var key = `${lib.replace(\"-\", \"\")}_version`;\n",
       "      return (VEGA_DEBUG[key] == version) ?\n",
       "        Promise.resolve(paths[lib]) :\n",
       "        new Promise(function(resolve, reject) {\n",
       "          var s = document.createElement('script');\n",
       "          document.getElementsByTagName(\"head\")[0].appendChild(s);\n",
       "          s.async = true;\n",
       "          s.onload = () => {\n",
       "            VEGA_DEBUG[key] = version;\n",
       "            return resolve(paths[lib]);\n",
       "          };\n",
       "          s.onerror = () => reject(`Error loading script: ${paths[lib]}`);\n",
       "          s.src = paths[lib];\n",
       "        });\n",
       "    }\n",
       "\n",
       "    function showError(err) {\n",
       "      outputDiv.innerHTML = `<div class=\"error\" style=\"color:red;\">${err}</div>`;\n",
       "      throw err;\n",
       "    }\n",
       "\n",
       "    function displayChart(vegaEmbed) {\n",
       "      vegaEmbed(outputDiv, spec, embedOpt)\n",
       "        .catch(err => showError(`Javascript Error: ${err.message}<br>This usually means there's a typo in your chart specification. See the javascript console for the full traceback.`));\n",
       "    }\n",
       "\n",
       "    if(typeof define === \"function\" && define.amd) {\n",
       "      requirejs.config({paths});\n",
       "      require([\"vega-embed\"], displayChart, err => showError(`Error loading script: ${err.message}`));\n",
       "    } else {\n",
       "      maybeLoadScript(\"vega\", \"5\")\n",
       "        .then(() => maybeLoadScript(\"vega-lite\", \"4.17.0\"))\n",
       "        .then(() => maybeLoadScript(\"vega-embed\", \"6\"))\n",
       "        .catch(showError)\n",
       "        .then(() => displayChart(vegaEmbed));\n",
       "    }\n",
       "  })({\"config\": {\"view\": {\"continuousWidth\": 400, \"continuousHeight\": 300}}, \"hconcat\": [{\"mark\": \"bar\", \"encoding\": {\"color\": {\"value\": \"#003049\"}, \"x\": {\"field\": \"X\", \"type\": \"ordinal\"}, \"y\": {\"field\": \"Y\", \"type\": \"quantitative\"}}, \"title\": \"A bar chart\", \"width\": 300}, {\"mark\": \"line\", \"encoding\": {\"color\": {\"value\": \"#FCBE49\"}, \"x\": {\"field\": \"X\", \"type\": \"ordinal\"}, \"y\": {\"field\": \"Y\", \"type\": \"quantitative\"}}, \"title\": \"A line chart\", \"width\": 300}], \"data\": {\"name\": \"data-f6be64e55b67dfa3f8d06ba53b7821fc\"}, \"$schema\": \"https://vega.github.io/schema/vega-lite/v4.17.0.json\", \"datasets\": {\"data-f6be64e55b67dfa3f8d06ba53b7821fc\": [{\"X\": 1, \"Y\": 2, \"Z\": 3, \"H\": 5, \"M\": 3, \"Country\": \"USA\"}, {\"X\": 2, \"Y\": 4, \"Z\": 4, \"H\": 6, \"M\": 4, \"Country\": \"EU\"}, {\"X\": 3, \"Y\": 5, \"Z\": 5, \"H\": 8, \"M\": 5, \"Country\": \"EU\"}, {\"X\": 4, \"Y\": 6, \"Z\": 6, \"H\": 9, \"M\": 3, \"Country\": \"USA\"}]}}, {\"mode\": \"vega-lite\"});\n",
       "</script>"
      ],
      "text/plain": [
       "alt.HConcatChart(...)"
      ]
     },
     "execution_count": 16,
     "metadata": {},
     "output_type": "execute_result"
    }
   ],
   "source": [
    "alt.hconcat(chart1,chart2)"
   ]
  },
  {
   "cell_type": "markdown",
   "id": "226bc9f9",
   "metadata": {},
   "source": [
    "## Repeated Chart"
   ]
  },
  {
   "cell_type": "code",
   "execution_count": 17,
   "id": "567ee303",
   "metadata": {},
   "outputs": [
    {
     "data": {
      "text/html": [
       "\n",
       "<div id=\"altair-viz-eee7370c27574ceeb485e890b51b7a7d\"></div>\n",
       "<script type=\"text/javascript\">\n",
       "  var VEGA_DEBUG = (typeof VEGA_DEBUG == \"undefined\") ? {} : VEGA_DEBUG;\n",
       "  (function(spec, embedOpt){\n",
       "    let outputDiv = document.currentScript.previousElementSibling;\n",
       "    if (outputDiv.id !== \"altair-viz-eee7370c27574ceeb485e890b51b7a7d\") {\n",
       "      outputDiv = document.getElementById(\"altair-viz-eee7370c27574ceeb485e890b51b7a7d\");\n",
       "    }\n",
       "    const paths = {\n",
       "      \"vega\": \"https://cdn.jsdelivr.net/npm//vega@5?noext\",\n",
       "      \"vega-lib\": \"https://cdn.jsdelivr.net/npm//vega-lib?noext\",\n",
       "      \"vega-lite\": \"https://cdn.jsdelivr.net/npm//vega-lite@4.17.0?noext\",\n",
       "      \"vega-embed\": \"https://cdn.jsdelivr.net/npm//vega-embed@6?noext\",\n",
       "    };\n",
       "\n",
       "    function maybeLoadScript(lib, version) {\n",
       "      var key = `${lib.replace(\"-\", \"\")}_version`;\n",
       "      return (VEGA_DEBUG[key] == version) ?\n",
       "        Promise.resolve(paths[lib]) :\n",
       "        new Promise(function(resolve, reject) {\n",
       "          var s = document.createElement('script');\n",
       "          document.getElementsByTagName(\"head\")[0].appendChild(s);\n",
       "          s.async = true;\n",
       "          s.onload = () => {\n",
       "            VEGA_DEBUG[key] = version;\n",
       "            return resolve(paths[lib]);\n",
       "          };\n",
       "          s.onerror = () => reject(`Error loading script: ${paths[lib]}`);\n",
       "          s.src = paths[lib];\n",
       "        });\n",
       "    }\n",
       "\n",
       "    function showError(err) {\n",
       "      outputDiv.innerHTML = `<div class=\"error\" style=\"color:red;\">${err}</div>`;\n",
       "      throw err;\n",
       "    }\n",
       "\n",
       "    function displayChart(vegaEmbed) {\n",
       "      vegaEmbed(outputDiv, spec, embedOpt)\n",
       "        .catch(err => showError(`Javascript Error: ${err.message}<br>This usually means there's a typo in your chart specification. See the javascript console for the full traceback.`));\n",
       "    }\n",
       "\n",
       "    if(typeof define === \"function\" && define.amd) {\n",
       "      requirejs.config({paths});\n",
       "      require([\"vega-embed\"], displayChart, err => showError(`Error loading script: ${err.message}`));\n",
       "    } else {\n",
       "      maybeLoadScript(\"vega\", \"5\")\n",
       "        .then(() => maybeLoadScript(\"vega-lite\", \"4.17.0\"))\n",
       "        .then(() => maybeLoadScript(\"vega-embed\", \"6\"))\n",
       "        .catch(showError)\n",
       "        .then(() => displayChart(vegaEmbed));\n",
       "    }\n",
       "  })({\"config\": {\"view\": {\"continuousWidth\": 400, \"continuousHeight\": 300}}, \"repeat\": {\"column\": [\"X\", \"Y\", \"Z\", \"H\", \"M\"], \"row\": [\"X\", \"Y\", \"Z\", \"H\", \"M\"]}, \"spec\": {\"data\": {\"name\": \"data-f6be64e55b67dfa3f8d06ba53b7821fc\"}, \"mark\": {\"type\": \"bar\", \"size\": 10}, \"encoding\": {\"color\": {\"value\": \"#003049\"}, \"x\": {\"field\": {\"repeat\": \"column\"}, \"type\": \"quantitative\"}, \"y\": {\"field\": {\"repeat\": \"row\"}, \"type\": \"quantitative\"}}, \"height\": 100, \"width\": 100}, \"$schema\": \"https://vega.github.io/schema/vega-lite/v4.17.0.json\", \"datasets\": {\"data-f6be64e55b67dfa3f8d06ba53b7821fc\": [{\"X\": 1, \"Y\": 2, \"Z\": 3, \"H\": 5, \"M\": 3, \"Country\": \"USA\"}, {\"X\": 2, \"Y\": 4, \"Z\": 4, \"H\": 6, \"M\": 4, \"Country\": \"EU\"}, {\"X\": 3, \"Y\": 5, \"Z\": 5, \"H\": 8, \"M\": 5, \"Country\": \"EU\"}, {\"X\": 4, \"Y\": 6, \"Z\": 6, \"H\": 9, \"M\": 3, \"Country\": \"USA\"}]}}, {\"mode\": \"vega-lite\"});\n",
       "</script>"
      ],
      "text/plain": [
       "alt.RepeatChart(...)"
      ]
     },
     "execution_count": 17,
     "metadata": {},
     "output_type": "execute_result"
    }
   ],
   "source": [
    "fields = df.columns.tolist()\n",
    "fields.remove('Country')\n",
    "\n",
    "alt.Chart(df).mark_bar(size=10).encode(\n",
    "    alt.X(alt.repeat(\"column\"), type='quantitative'),\n",
    "    alt.Y(alt.repeat(\"row\"), type='quantitative'),\n",
    "    color=alt.value('#003049')\n",
    ").properties(\n",
    "    width=100,\n",
    "    height=100\n",
    ").repeat(\n",
    "    row=fields,\n",
    "    column=fields\n",
    ")"
   ]
  },
  {
   "cell_type": "markdown",
   "id": "400f4a47",
   "metadata": {},
   "source": [
    "# Interactivity"
   ]
  },
  {
   "cell_type": "code",
   "execution_count": 18,
   "id": "509a2592",
   "metadata": {},
   "outputs": [
    {
     "data": {
      "text/html": [
       "\n",
       "<div id=\"altair-viz-4e09a115ae4c4946926315c8cb6c1eba\"></div>\n",
       "<script type=\"text/javascript\">\n",
       "  var VEGA_DEBUG = (typeof VEGA_DEBUG == \"undefined\") ? {} : VEGA_DEBUG;\n",
       "  (function(spec, embedOpt){\n",
       "    let outputDiv = document.currentScript.previousElementSibling;\n",
       "    if (outputDiv.id !== \"altair-viz-4e09a115ae4c4946926315c8cb6c1eba\") {\n",
       "      outputDiv = document.getElementById(\"altair-viz-4e09a115ae4c4946926315c8cb6c1eba\");\n",
       "    }\n",
       "    const paths = {\n",
       "      \"vega\": \"https://cdn.jsdelivr.net/npm//vega@5?noext\",\n",
       "      \"vega-lib\": \"https://cdn.jsdelivr.net/npm//vega-lib?noext\",\n",
       "      \"vega-lite\": \"https://cdn.jsdelivr.net/npm//vega-lite@4.17.0?noext\",\n",
       "      \"vega-embed\": \"https://cdn.jsdelivr.net/npm//vega-embed@6?noext\",\n",
       "    };\n",
       "\n",
       "    function maybeLoadScript(lib, version) {\n",
       "      var key = `${lib.replace(\"-\", \"\")}_version`;\n",
       "      return (VEGA_DEBUG[key] == version) ?\n",
       "        Promise.resolve(paths[lib]) :\n",
       "        new Promise(function(resolve, reject) {\n",
       "          var s = document.createElement('script');\n",
       "          document.getElementsByTagName(\"head\")[0].appendChild(s);\n",
       "          s.async = true;\n",
       "          s.onload = () => {\n",
       "            VEGA_DEBUG[key] = version;\n",
       "            return resolve(paths[lib]);\n",
       "          };\n",
       "          s.onerror = () => reject(`Error loading script: ${paths[lib]}`);\n",
       "          s.src = paths[lib];\n",
       "        });\n",
       "    }\n",
       "\n",
       "    function showError(err) {\n",
       "      outputDiv.innerHTML = `<div class=\"error\" style=\"color:red;\">${err}</div>`;\n",
       "      throw err;\n",
       "    }\n",
       "\n",
       "    function displayChart(vegaEmbed) {\n",
       "      vegaEmbed(outputDiv, spec, embedOpt)\n",
       "        .catch(err => showError(`Javascript Error: ${err.message}<br>This usually means there's a typo in your chart specification. See the javascript console for the full traceback.`));\n",
       "    }\n",
       "\n",
       "    if(typeof define === \"function\" && define.amd) {\n",
       "      requirejs.config({paths});\n",
       "      require([\"vega-embed\"], displayChart, err => showError(`Error loading script: ${err.message}`));\n",
       "    } else {\n",
       "      maybeLoadScript(\"vega\", \"5\")\n",
       "        .then(() => maybeLoadScript(\"vega-lite\", \"4.17.0\"))\n",
       "        .then(() => maybeLoadScript(\"vega-embed\", \"6\"))\n",
       "        .catch(showError)\n",
       "        .then(() => displayChart(vegaEmbed));\n",
       "    }\n",
       "  })({\"config\": {\"view\": {\"continuousWidth\": 400, \"continuousHeight\": 300}}, \"data\": {\"name\": \"data-f6be64e55b67dfa3f8d06ba53b7821fc\"}, \"mark\": \"bar\", \"encoding\": {\"color\": {\"value\": \"#003049\"}, \"tooltip\": [{\"field\": \"X\", \"type\": \"quantitative\"}, {\"field\": \"Y\", \"type\": \"quantitative\"}, {\"field\": \"Country\", \"type\": \"nominal\"}], \"x\": {\"field\": \"X\", \"type\": \"ordinal\"}, \"y\": {\"field\": \"Y\", \"type\": \"quantitative\"}}, \"selection\": {\"selector002\": {\"type\": \"interval\", \"bind\": \"scales\", \"encodings\": [\"x\", \"y\"]}}, \"title\": \"A bar chart\", \"width\": 300, \"$schema\": \"https://vega.github.io/schema/vega-lite/v4.17.0.json\", \"datasets\": {\"data-f6be64e55b67dfa3f8d06ba53b7821fc\": [{\"X\": 1, \"Y\": 2, \"Z\": 3, \"H\": 5, \"M\": 3, \"Country\": \"USA\"}, {\"X\": 2, \"Y\": 4, \"Z\": 4, \"H\": 6, \"M\": 4, \"Country\": \"EU\"}, {\"X\": 3, \"Y\": 5, \"Z\": 5, \"H\": 8, \"M\": 5, \"Country\": \"EU\"}, {\"X\": 4, \"Y\": 6, \"Z\": 6, \"H\": 9, \"M\": 3, \"Country\": \"USA\"}]}}, {\"mode\": \"vega-lite\"});\n",
       "</script>"
      ],
      "text/plain": [
       "alt.Chart(...)"
      ]
     },
     "execution_count": 18,
     "metadata": {},
     "output_type": "execute_result"
    }
   ],
   "source": [
    "chart = alt.Chart(df).mark_bar().encode(\n",
    "    x='X:O',\n",
    "    y='Y',\n",
    "    color=alt.value('#003049'),\n",
    "    tooltip=['X', 'Y', 'Country']\n",
    ").properties(\n",
    "    width=300, \n",
    "    title='A bar chart'\n",
    ").interactive()\n",
    "\n",
    "chart"
   ]
  },
  {
   "cell_type": "markdown",
   "id": "f59c0c4b",
   "metadata": {},
   "source": [
    "# Configurations"
   ]
  },
  {
   "cell_type": "code",
   "execution_count": 19,
   "id": "610a0b2c",
   "metadata": {},
   "outputs": [
    {
     "data": {
      "text/html": [
       "\n",
       "<div id=\"altair-viz-292974ac10bd42b8b75ca859f98dca77\"></div>\n",
       "<script type=\"text/javascript\">\n",
       "  var VEGA_DEBUG = (typeof VEGA_DEBUG == \"undefined\") ? {} : VEGA_DEBUG;\n",
       "  (function(spec, embedOpt){\n",
       "    let outputDiv = document.currentScript.previousElementSibling;\n",
       "    if (outputDiv.id !== \"altair-viz-292974ac10bd42b8b75ca859f98dca77\") {\n",
       "      outputDiv = document.getElementById(\"altair-viz-292974ac10bd42b8b75ca859f98dca77\");\n",
       "    }\n",
       "    const paths = {\n",
       "      \"vega\": \"https://cdn.jsdelivr.net/npm//vega@5?noext\",\n",
       "      \"vega-lib\": \"https://cdn.jsdelivr.net/npm//vega-lib?noext\",\n",
       "      \"vega-lite\": \"https://cdn.jsdelivr.net/npm//vega-lite@4.17.0?noext\",\n",
       "      \"vega-embed\": \"https://cdn.jsdelivr.net/npm//vega-embed@6?noext\",\n",
       "    };\n",
       "\n",
       "    function maybeLoadScript(lib, version) {\n",
       "      var key = `${lib.replace(\"-\", \"\")}_version`;\n",
       "      return (VEGA_DEBUG[key] == version) ?\n",
       "        Promise.resolve(paths[lib]) :\n",
       "        new Promise(function(resolve, reject) {\n",
       "          var s = document.createElement('script');\n",
       "          document.getElementsByTagName(\"head\")[0].appendChild(s);\n",
       "          s.async = true;\n",
       "          s.onload = () => {\n",
       "            VEGA_DEBUG[key] = version;\n",
       "            return resolve(paths[lib]);\n",
       "          };\n",
       "          s.onerror = () => reject(`Error loading script: ${paths[lib]}`);\n",
       "          s.src = paths[lib];\n",
       "        });\n",
       "    }\n",
       "\n",
       "    function showError(err) {\n",
       "      outputDiv.innerHTML = `<div class=\"error\" style=\"color:red;\">${err}</div>`;\n",
       "      throw err;\n",
       "    }\n",
       "\n",
       "    function displayChart(vegaEmbed) {\n",
       "      vegaEmbed(outputDiv, spec, embedOpt)\n",
       "        .catch(err => showError(`Javascript Error: ${err.message}<br>This usually means there's a typo in your chart specification. See the javascript console for the full traceback.`));\n",
       "    }\n",
       "\n",
       "    if(typeof define === \"function\" && define.amd) {\n",
       "      requirejs.config({paths});\n",
       "      require([\"vega-embed\"], displayChart, err => showError(`Error loading script: ${err.message}`));\n",
       "    } else {\n",
       "      maybeLoadScript(\"vega\", \"5\")\n",
       "        .then(() => maybeLoadScript(\"vega-lite\", \"4.17.0\"))\n",
       "        .then(() => maybeLoadScript(\"vega-embed\", \"6\"))\n",
       "        .catch(showError)\n",
       "        .then(() => displayChart(vegaEmbed));\n",
       "    }\n",
       "  })({\"config\": {\"view\": {\"continuousWidth\": 400, \"continuousHeight\": 300}, \"axis\": {\"labelAngle\": 0}}, \"hconcat\": [{\"mark\": \"bar\", \"encoding\": {\"color\": {\"value\": \"#003049\"}, \"x\": {\"field\": \"X\", \"type\": \"ordinal\"}, \"y\": {\"field\": \"Y\", \"type\": \"quantitative\"}}, \"title\": \"A bar chart\", \"width\": 300}, {\"mark\": \"line\", \"encoding\": {\"color\": {\"value\": \"#FCBE49\"}, \"x\": {\"field\": \"X\", \"type\": \"ordinal\"}, \"y\": {\"field\": \"Y\", \"type\": \"quantitative\"}}, \"title\": \"A line chart\", \"width\": 300}], \"data\": {\"name\": \"data-f6be64e55b67dfa3f8d06ba53b7821fc\"}, \"$schema\": \"https://vega.github.io/schema/vega-lite/v4.17.0.json\", \"datasets\": {\"data-f6be64e55b67dfa3f8d06ba53b7821fc\": [{\"X\": 1, \"Y\": 2, \"Z\": 3, \"H\": 5, \"M\": 3, \"Country\": \"USA\"}, {\"X\": 2, \"Y\": 4, \"Z\": 4, \"H\": 6, \"M\": 4, \"Country\": \"EU\"}, {\"X\": 3, \"Y\": 5, \"Z\": 5, \"H\": 8, \"M\": 5, \"Country\": \"EU\"}, {\"X\": 4, \"Y\": 6, \"Z\": 6, \"H\": 9, \"M\": 3, \"Country\": \"USA\"}]}}, {\"mode\": \"vega-lite\"});\n",
       "</script>"
      ],
      "text/plain": [
       "alt.HConcatChart(...)"
      ]
     },
     "execution_count": 19,
     "metadata": {},
     "output_type": "execute_result"
    }
   ],
   "source": [
    "(chart1 | chart2).configure_axis(\n",
    "    labelAngle=0\n",
    ")"
   ]
  },
  {
   "cell_type": "code",
   "execution_count": null,
   "id": "956685b9",
   "metadata": {},
   "outputs": [],
   "source": []
  }
 ],
 "metadata": {
  "kernelspec": {
   "display_name": "Python 3 (ipykernel)",
   "language": "python",
   "name": "python3"
  },
  "language_info": {
   "codemirror_mode": {
    "name": "ipython",
    "version": 3
   },
   "file_extension": ".py",
   "mimetype": "text/x-python",
   "name": "python",
   "nbconvert_exporter": "python",
   "pygments_lexer": "ipython3",
   "version": "3.8.10"
  }
 },
 "nbformat": 4,
 "nbformat_minor": 5
}
