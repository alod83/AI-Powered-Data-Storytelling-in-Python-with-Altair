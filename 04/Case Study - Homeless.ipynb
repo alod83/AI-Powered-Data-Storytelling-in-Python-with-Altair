{
 "cells": [
  {
   "cell_type": "markdown",
   "id": "86b6b4b5",
   "metadata": {},
   "source": [
    "# Case Study - Homeless"
   ]
  },
  {
   "cell_type": "code",
   "execution_count": 13,
   "id": "11bc2226",
   "metadata": {},
   "outputs": [
    {
     "data": {
      "text/html": [
       "<div><div id=56ecf124-ccff-4dfd-9548-4caa1c0886e9 style=\"display:none; background-color:#9D6CFF; color:white; width:200px; height:30px; padding-left:5px; border-radius:4px; flex-direction:row; justify-content:space-around; align-items:center;\" onmouseover=\"this.style.backgroundColor='#BA9BF8'\" onmouseout=\"this.style.backgroundColor='#9D6CFF'\" onclick=\"window.commands?.execute('create-mitosheet-from-dataframe-output');\">See Full Dataframe in Mito</div> <script> if (window.commands.hasCommand('create-mitosheet-from-dataframe-output')) document.getElementById('56ecf124-ccff-4dfd-9548-4caa1c0886e9').style.display = 'flex' </script> <table border=\"1\" class=\"dataframe\">\n",
       "  <thead>\n",
       "    <tr style=\"text-align: right;\">\n",
       "      <th></th>\n",
       "      <th>ITTER107</th>\n",
       "      <th>Territory</th>\n",
       "      <th>Sex</th>\n",
       "      <th>Age</th>\n",
       "      <th>Citizenship</th>\n",
       "      <th>Value</th>\n",
       "    </tr>\n",
       "  </thead>\n",
       "  <tbody>\n",
       "    <tr>\n",
       "      <th>0</th>\n",
       "      <td>ITC1</td>\n",
       "      <td>Piemonte</td>\n",
       "      <td>M</td>\n",
       "      <td>TOTAL</td>\n",
       "      <td>ITL</td>\n",
       "      <td>4218</td>\n",
       "    </tr>\n",
       "    <tr>\n",
       "      <th>1</th>\n",
       "      <td>ITC1</td>\n",
       "      <td>Piemonte</td>\n",
       "      <td>F</td>\n",
       "      <td>TOTAL</td>\n",
       "      <td>ITL</td>\n",
       "      <td>1496</td>\n",
       "    </tr>\n",
       "    <tr>\n",
       "      <th>2</th>\n",
       "      <td>ITC1</td>\n",
       "      <td>Piemonte</td>\n",
       "      <td>T</td>\n",
       "      <td>TOTAL</td>\n",
       "      <td>ITL</td>\n",
       "      <td>5714</td>\n",
       "    </tr>\n",
       "    <tr>\n",
       "      <th>3</th>\n",
       "      <td>ITC2</td>\n",
       "      <td>Valle d'Aosta / Vallée d'Aoste</td>\n",
       "      <td>M</td>\n",
       "      <td>TOTAL</td>\n",
       "      <td>ITL</td>\n",
       "      <td>41</td>\n",
       "    </tr>\n",
       "    <tr>\n",
       "      <th>4</th>\n",
       "      <td>ITC2</td>\n",
       "      <td>Valle d'Aosta / Vallée d'Aoste</td>\n",
       "      <td>F</td>\n",
       "      <td>TOTAL</td>\n",
       "      <td>ITL</td>\n",
       "      <td>17</td>\n",
       "    </tr>\n",
       "  </tbody>\n",
       "</table></div>"
      ],
      "text/plain": [
       "  ITTER107                       Territory Sex    Age Citizenship  Value\n",
       "0     ITC1                        Piemonte   M  TOTAL         ITL   4218\n",
       "1     ITC1                        Piemonte   F  TOTAL         ITL   1496\n",
       "2     ITC1                        Piemonte   T  TOTAL         ITL   5714\n",
       "3     ITC2  Valle d'Aosta / Vallée d'Aoste   M  TOTAL         ITL     41\n",
       "4     ITC2  Valle d'Aosta / Vallée d'Aoste   F  TOTAL         ITL     17"
      ]
     },
     "execution_count": 13,
     "metadata": {},
     "output_type": "execute_result"
    }
   ],
   "source": [
    "import pandas as pd\n",
    "df = pd.read_csv('source/homeless.csv')\n",
    "df.head()"
   ]
  },
  {
   "cell_type": "markdown",
   "id": "a8b0807d",
   "metadata": {},
   "source": [
    "Select only some fields"
   ]
  },
  {
   "cell_type": "code",
   "execution_count": 14,
   "id": "580aaac3",
   "metadata": {},
   "outputs": [],
   "source": [
    "df['Territory'] = df['Territory'].str.replace('Trentino Alto Adige / Südtirol', 'Trentino-Alto Adige/Südtirol')"
   ]
  },
  {
   "cell_type": "markdown",
   "id": "69890bda",
   "metadata": {},
   "source": [
    "Focus on total age, total sex and total citizenship"
   ]
  },
  {
   "cell_type": "code",
   "execution_count": 15,
   "id": "e692909d",
   "metadata": {},
   "outputs": [],
   "source": [
    "df_tot = df[(df['Age'] == 'TOTAL') & (df['Sex'] == 'T') &  (df['Citizenship'] == 'TOTAL')]"
   ]
  },
  {
   "cell_type": "markdown",
   "id": "851daed6",
   "metadata": {},
   "source": [
    "## Draw a preliminary map"
   ]
  },
  {
   "cell_type": "code",
   "execution_count": 16,
   "id": "0efb0b28",
   "metadata": {},
   "outputs": [
    {
     "data": {
      "text/html": [
       "\n",
       "<div id=\"altair-viz-9297a9081e38490382b6bd730ea1bac3\"></div>\n",
       "<script type=\"text/javascript\">\n",
       "  var VEGA_DEBUG = (typeof VEGA_DEBUG == \"undefined\") ? {} : VEGA_DEBUG;\n",
       "  (function(spec, embedOpt){\n",
       "    let outputDiv = document.currentScript.previousElementSibling;\n",
       "    if (outputDiv.id !== \"altair-viz-9297a9081e38490382b6bd730ea1bac3\") {\n",
       "      outputDiv = document.getElementById(\"altair-viz-9297a9081e38490382b6bd730ea1bac3\");\n",
       "    }\n",
       "    const paths = {\n",
       "      \"vega\": \"https://cdn.jsdelivr.net/npm//vega@5?noext\",\n",
       "      \"vega-lib\": \"https://cdn.jsdelivr.net/npm//vega-lib?noext\",\n",
       "      \"vega-lite\": \"https://cdn.jsdelivr.net/npm//vega-lite@4.17.0?noext\",\n",
       "      \"vega-embed\": \"https://cdn.jsdelivr.net/npm//vega-embed@6?noext\",\n",
       "    };\n",
       "\n",
       "    function maybeLoadScript(lib, version) {\n",
       "      var key = `${lib.replace(\"-\", \"\")}_version`;\n",
       "      return (VEGA_DEBUG[key] == version) ?\n",
       "        Promise.resolve(paths[lib]) :\n",
       "        new Promise(function(resolve, reject) {\n",
       "          var s = document.createElement('script');\n",
       "          document.getElementsByTagName(\"head\")[0].appendChild(s);\n",
       "          s.async = true;\n",
       "          s.onload = () => {\n",
       "            VEGA_DEBUG[key] = version;\n",
       "            return resolve(paths[lib]);\n",
       "          };\n",
       "          s.onerror = () => reject(`Error loading script: ${paths[lib]}`);\n",
       "          s.src = paths[lib];\n",
       "        });\n",
       "    }\n",
       "\n",
       "    function showError(err) {\n",
       "      outputDiv.innerHTML = `<div class=\"error\" style=\"color:red;\">${err}</div>`;\n",
       "      throw err;\n",
       "    }\n",
       "\n",
       "    function displayChart(vegaEmbed) {\n",
       "      vegaEmbed(outputDiv, spec, embedOpt)\n",
       "        .catch(err => showError(`Javascript Error: ${err.message}<br>This usually means there's a typo in your chart specification. See the javascript console for the full traceback.`));\n",
       "    }\n",
       "\n",
       "    if(typeof define === \"function\" && define.amd) {\n",
       "      requirejs.config({paths});\n",
       "      require([\"vega-embed\"], displayChart, err => showError(`Error loading script: ${err.message}`));\n",
       "    } else {\n",
       "      maybeLoadScript(\"vega\", \"5\")\n",
       "        .then(() => maybeLoadScript(\"vega-lite\", \"4.17.0\"))\n",
       "        .then(() => maybeLoadScript(\"vega-embed\", \"6\"))\n",
       "        .catch(showError)\n",
       "        .then(() => displayChart(vegaEmbed));\n",
       "    }\n",
       "  })({\"config\": {\"view\": {\"continuousWidth\": 400, \"continuousHeight\": 300}}, \"data\": {\"url\": \"https://raw.githubusercontent.com/openpolis/geojson-italy/master/topojson/limits_IT_regions.topo.json\", \"format\": {\"feature\": \"regions\", \"type\": \"topojson\"}}, \"mark\": \"geoshape\", \"encoding\": {\"color\": {\"field\": \"Value\", \"type\": \"quantitative\"}, \"tooltip\": {\"field\": \"properties.reg_name\", \"type\": \"nominal\"}}, \"height\": 500, \"projection\": {\"type\": \"mercator\"}, \"title\": \"Homeless in Italy in 2021\", \"transform\": [{\"lookup\": \"properties.reg_name\", \"from\": {\"data\": {\"name\": \"data-c6f0a48ad870e34fe306d020df76c95a\"}, \"key\": \"Territory\", \"fields\": [\"Territory\", \"Value\"]}}], \"width\": 500, \"$schema\": \"https://vega.github.io/schema/vega-lite/v4.17.0.json\", \"datasets\": {\"data-c6f0a48ad870e34fe306d020df76c95a\": [{\"ITTER107\": \"ITC1\", \"Territory\": \"Piemonte\", \"Sex\": \"T\", \"Age\": \"TOTAL\", \"Citizenship\": \"TOTAL\", \"Value\": 8766}, {\"ITTER107\": \"ITC2\", \"Territory\": \"Valle d'Aosta / Vall\\u00e9e d'Aoste\", \"Sex\": \"T\", \"Age\": \"TOTAL\", \"Citizenship\": \"TOTAL\", \"Value\": 73}, {\"ITTER107\": \"ITC3\", \"Territory\": \"Liguria\", \"Sex\": \"T\", \"Age\": \"TOTAL\", \"Citizenship\": \"TOTAL\", \"Value\": 4293}, {\"ITTER107\": \"ITC4\", \"Territory\": \"Lombardia\", \"Sex\": \"T\", \"Age\": \"TOTAL\", \"Citizenship\": \"TOTAL\", \"Value\": 16346}, {\"ITTER107\": \"ITDA\", \"Territory\": \"Trentino-Alto Adige/S\\u00fcdtirol\", \"Sex\": \"T\", \"Age\": \"TOTAL\", \"Citizenship\": \"TOTAL\", \"Value\": 612}, {\"ITTER107\": \"ITD1\", \"Territory\": \"Provincia Autonoma Bolzano / Bozen\", \"Sex\": \"T\", \"Age\": \"TOTAL\", \"Citizenship\": \"TOTAL\", \"Value\": 313}, {\"ITTER107\": \"ITD2\", \"Territory\": \"Provincia Autonoma Trento\", \"Sex\": \"T\", \"Age\": \"TOTAL\", \"Citizenship\": \"TOTAL\", \"Value\": 299}, {\"ITTER107\": \"ITD3\", \"Territory\": \"Veneto\", \"Sex\": \"T\", \"Age\": \"TOTAL\", \"Citizenship\": \"TOTAL\", \"Value\": 3794}, {\"ITTER107\": \"ITD4\", \"Territory\": \"Friuli-Venezia Giulia\", \"Sex\": \"T\", \"Age\": \"TOTAL\", \"Citizenship\": \"TOTAL\", \"Value\": 1451}, {\"ITTER107\": \"ITD5\", \"Territory\": \"Emilia-Romagna\", \"Sex\": \"T\", \"Age\": \"TOTAL\", \"Citizenship\": \"TOTAL\", \"Value\": 4926}, {\"ITTER107\": \"ITE1\", \"Territory\": \"Toscana\", \"Sex\": \"T\", \"Age\": \"TOTAL\", \"Citizenship\": \"TOTAL\", \"Value\": 4450}, {\"ITTER107\": \"ITE2\", \"Territory\": \"Umbria\", \"Sex\": \"T\", \"Age\": \"TOTAL\", \"Citizenship\": \"TOTAL\", \"Value\": 431}, {\"ITTER107\": \"ITE3\", \"Territory\": \"Marche\", \"Sex\": \"T\", \"Age\": \"TOTAL\", \"Citizenship\": \"TOTAL\", \"Value\": 1107}, {\"ITTER107\": \"ITE4\", \"Territory\": \"Lazio\", \"Sex\": \"T\", \"Age\": \"TOTAL\", \"Citizenship\": \"TOTAL\", \"Value\": 24049}, {\"ITTER107\": \"ITF1\", \"Territory\": \"Abruzzo\", \"Sex\": \"T\", \"Age\": \"TOTAL\", \"Citizenship\": \"TOTAL\", \"Value\": 610}, {\"ITTER107\": \"ITF2\", \"Territory\": \"Molise\", \"Sex\": \"T\", \"Age\": \"TOTAL\", \"Citizenship\": \"TOTAL\", \"Value\": 101}, {\"ITTER107\": \"ITF3\", \"Territory\": \"Campania\", \"Sex\": \"T\", \"Age\": \"TOTAL\", \"Citizenship\": \"TOTAL\", \"Value\": 7828}, {\"ITTER107\": \"ITF4\", \"Territory\": \"Puglia\", \"Sex\": \"T\", \"Age\": \"TOTAL\", \"Citizenship\": \"TOTAL\", \"Value\": 7655}, {\"ITTER107\": \"ITF5\", \"Territory\": \"Basilicata\", \"Sex\": \"T\", \"Age\": \"TOTAL\", \"Citizenship\": \"TOTAL\", \"Value\": 119}, {\"ITTER107\": \"ITF6\", \"Territory\": \"Calabria\", \"Sex\": \"T\", \"Age\": \"TOTAL\", \"Citizenship\": \"TOTAL\", \"Value\": 2351}, {\"ITTER107\": \"ITG1\", \"Territory\": \"Sicilia\", \"Sex\": \"T\", \"Age\": \"TOTAL\", \"Citizenship\": \"TOTAL\", \"Value\": 4023}, {\"ITTER107\": \"ITG2\", \"Territory\": \"Sardegna\", \"Sex\": \"T\", \"Age\": \"TOTAL\", \"Citizenship\": \"TOTAL\", \"Value\": 3212}]}}, {\"mode\": \"vega-lite\"});\n",
       "</script>"
      ],
      "text/plain": [
       "alt.Chart(...)"
      ]
     },
     "execution_count": 16,
     "metadata": {},
     "output_type": "execute_result"
    }
   ],
   "source": [
    "import altair as alt\n",
    "\n",
    "# Load the TopoJSON file by URL\n",
    "url = \"https://raw.githubusercontent.com/openpolis/geojson-italy/master/topojson/limits_IT_regions.topo.json\"\n",
    "\n",
    "\n",
    "source = alt.topo_feature(url, \"regions\")\n",
    "\n",
    "alt.Chart(source).mark_geoshape().encode(\n",
    "    tooltip='properties.reg_name:N',\n",
    "    color=alt.Color('Value:Q')\n",
    ").project('mercator').properties(\n",
    "    width=500,\n",
    "    height=500\n",
    ").transform_lookup(\n",
    "    lookup='properties.reg_name',\n",
    "    from_=alt.LookupData(df_tot, 'Territory', ['Territory', 'Value'])\n",
    ").properties(title='Homeless in Italy in 2021')\n"
   ]
  },
  {
   "cell_type": "markdown",
   "id": "59f96213",
   "metadata": {},
   "source": [
    "Normalize by population"
   ]
  },
  {
   "cell_type": "code",
   "execution_count": 20,
   "id": "54196e28",
   "metadata": {},
   "outputs": [
    {
     "data": {
      "text/html": [
       "<div><div id=1bdc2510-3002-4e81-b686-18815dc88470 style=\"display:none; background-color:#9D6CFF; color:white; width:200px; height:30px; padding-left:5px; border-radius:4px; flex-direction:row; justify-content:space-around; align-items:center;\" onmouseover=\"this.style.backgroundColor='#BA9BF8'\" onmouseout=\"this.style.backgroundColor='#9D6CFF'\" onclick=\"window.commands?.execute('create-mitosheet-from-dataframe-output');\">See Full Dataframe in Mito</div> <script> if (window.commands.hasCommand('create-mitosheet-from-dataframe-output')) document.getElementById('1bdc2510-3002-4e81-b686-18815dc88470').style.display = 'flex' </script> <table border=\"1\" class=\"dataframe\">\n",
       "  <thead>\n",
       "    <tr style=\"text-align: right;\">\n",
       "      <th></th>\n",
       "      <th>ITTER107</th>\n",
       "      <th>Territory</th>\n",
       "      <th>Sex</th>\n",
       "      <th>Age</th>\n",
       "      <th>Value</th>\n",
       "    </tr>\n",
       "  </thead>\n",
       "  <tbody>\n",
       "    <tr>\n",
       "      <th>0</th>\n",
       "      <td>ITD4</td>\n",
       "      <td>Friuli-Venezia Giulia</td>\n",
       "      <td>M</td>\n",
       "      <td>Y_UN4</td>\n",
       "      <td>19794</td>\n",
       "    </tr>\n",
       "    <tr>\n",
       "      <th>1</th>\n",
       "      <td>ITE1</td>\n",
       "      <td>Toscana</td>\n",
       "      <td>M</td>\n",
       "      <td>Y_UN4</td>\n",
       "      <td>61789</td>\n",
       "    </tr>\n",
       "    <tr>\n",
       "      <th>2</th>\n",
       "      <td>ITF6</td>\n",
       "      <td>Calabria</td>\n",
       "      <td>M</td>\n",
       "      <td>Y_UN4</td>\n",
       "      <td>36842</td>\n",
       "    </tr>\n",
       "    <tr>\n",
       "      <th>3</th>\n",
       "      <td>ITD2</td>\n",
       "      <td>Provincia Autonoma Trento</td>\n",
       "      <td>T</td>\n",
       "      <td>Y5-9</td>\n",
       "      <td>25101</td>\n",
       "    </tr>\n",
       "    <tr>\n",
       "      <th>4</th>\n",
       "      <td>ITD3</td>\n",
       "      <td>Veneto</td>\n",
       "      <td>M</td>\n",
       "      <td>Y5-9</td>\n",
       "      <td>105344</td>\n",
       "    </tr>\n",
       "  </tbody>\n",
       "</table></div>"
      ],
      "text/plain": [
       "  ITTER107                  Territory Sex    Age   Value\n",
       "0     ITD4      Friuli-Venezia Giulia   M  Y_UN4   19794\n",
       "1     ITE1                    Toscana   M  Y_UN4   61789\n",
       "2     ITF6                   Calabria   M  Y_UN4   36842\n",
       "3     ITD2  Provincia Autonoma Trento   T   Y5-9   25101\n",
       "4     ITD3                     Veneto   M   Y5-9  105344"
      ]
     },
     "execution_count": 20,
     "metadata": {},
     "output_type": "execute_result"
    }
   ],
   "source": [
    "population = pd.read_csv('source/population.csv')\n",
    "population.head()"
   ]
  },
  {
   "cell_type": "code",
   "execution_count": 23,
   "id": "93afd3a0",
   "metadata": {},
   "outputs": [
    {
     "name": "stderr",
     "output_type": "stream",
     "text": [
      "/var/folders/vc/8c80t7jd1dq_mmp6cwgwxt640000gn/T/ipykernel_57632/341170292.py:2: SettingWithCopyWarning: \n",
      "A value is trying to be set on a copy of a slice from a DataFrame.\n",
      "Try using .loc[row_indexer,col_indexer] = value instead\n",
      "\n",
      "See the caveats in the documentation: https://pandas.pydata.org/pandas-docs/stable/user_guide/indexing.html#returning-a-view-versus-a-copy\n",
      "  pop_tot['Territory'] = pop_tot['Territory'].str.replace('Trentino Alto Adige / Südtirol', 'Trentino-Alto Adige/Südtirol')\n"
     ]
    }
   ],
   "source": [
    "pop_tot = population[(population['Age'] == 'TOTAL') & (population['Sex'] == 'T')]\n",
    "pop_tot['Territory'] = pop_tot['Territory'].str.replace('Trentino Alto Adige / Südtirol', 'Trentino-Alto Adige/Südtirol')"
   ]
  },
  {
   "cell_type": "code",
   "execution_count": 24,
   "id": "1270288d",
   "metadata": {},
   "outputs": [
    {
     "data": {
      "text/plain": [
       "(22, 22)"
      ]
     },
     "execution_count": 24,
     "metadata": {},
     "output_type": "execute_result"
    }
   ],
   "source": [
    "len(df_tot), len(pop_tot)"
   ]
  },
  {
   "cell_type": "markdown",
   "id": "e80cd5f5",
   "metadata": {},
   "source": [
    "Join the two datasets"
   ]
  },
  {
   "cell_type": "code",
   "execution_count": 25,
   "id": "2c5c2e9c",
   "metadata": {},
   "outputs": [],
   "source": [
    "df_tot = df_tot[['Value', 'ITTER107']]\n",
    "pop_tot = pop_tot[['Value', 'ITTER107','Territory']]"
   ]
  },
  {
   "cell_type": "code",
   "execution_count": 26,
   "id": "30135c81",
   "metadata": {},
   "outputs": [],
   "source": [
    "df3 = pop_tot.set_index('ITTER107').join(df_tot.set_index('ITTER107'),lsuffix='_pop', rsuffix='_hom').reset_index()"
   ]
  },
  {
   "cell_type": "markdown",
   "id": "15fcaef3",
   "metadata": {},
   "source": [
    "Calculate ratio: number of homeless people over 1000 inhabitants"
   ]
  },
  {
   "cell_type": "code",
   "execution_count": 27,
   "id": "bbc2828f",
   "metadata": {},
   "outputs": [],
   "source": [
    "df3['Ratio'] = df3['Value_hom']/df3['Value_pop']*1000"
   ]
  },
  {
   "cell_type": "code",
   "execution_count": 28,
   "id": "873f783b",
   "metadata": {},
   "outputs": [
    {
     "data": {
      "text/html": [
       "\n",
       "<div id=\"altair-viz-c7ad91ec2a164ecbaa448db2d54f60ee\"></div>\n",
       "<script type=\"text/javascript\">\n",
       "  var VEGA_DEBUG = (typeof VEGA_DEBUG == \"undefined\") ? {} : VEGA_DEBUG;\n",
       "  (function(spec, embedOpt){\n",
       "    let outputDiv = document.currentScript.previousElementSibling;\n",
       "    if (outputDiv.id !== \"altair-viz-c7ad91ec2a164ecbaa448db2d54f60ee\") {\n",
       "      outputDiv = document.getElementById(\"altair-viz-c7ad91ec2a164ecbaa448db2d54f60ee\");\n",
       "    }\n",
       "    const paths = {\n",
       "      \"vega\": \"https://cdn.jsdelivr.net/npm//vega@5?noext\",\n",
       "      \"vega-lib\": \"https://cdn.jsdelivr.net/npm//vega-lib?noext\",\n",
       "      \"vega-lite\": \"https://cdn.jsdelivr.net/npm//vega-lite@4.17.0?noext\",\n",
       "      \"vega-embed\": \"https://cdn.jsdelivr.net/npm//vega-embed@6?noext\",\n",
       "    };\n",
       "\n",
       "    function maybeLoadScript(lib, version) {\n",
       "      var key = `${lib.replace(\"-\", \"\")}_version`;\n",
       "      return (VEGA_DEBUG[key] == version) ?\n",
       "        Promise.resolve(paths[lib]) :\n",
       "        new Promise(function(resolve, reject) {\n",
       "          var s = document.createElement('script');\n",
       "          document.getElementsByTagName(\"head\")[0].appendChild(s);\n",
       "          s.async = true;\n",
       "          s.onload = () => {\n",
       "            VEGA_DEBUG[key] = version;\n",
       "            return resolve(paths[lib]);\n",
       "          };\n",
       "          s.onerror = () => reject(`Error loading script: ${paths[lib]}`);\n",
       "          s.src = paths[lib];\n",
       "        });\n",
       "    }\n",
       "\n",
       "    function showError(err) {\n",
       "      outputDiv.innerHTML = `<div class=\"error\" style=\"color:red;\">${err}</div>`;\n",
       "      throw err;\n",
       "    }\n",
       "\n",
       "    function displayChart(vegaEmbed) {\n",
       "      vegaEmbed(outputDiv, spec, embedOpt)\n",
       "        .catch(err => showError(`Javascript Error: ${err.message}<br>This usually means there's a typo in your chart specification. See the javascript console for the full traceback.`));\n",
       "    }\n",
       "\n",
       "    if(typeof define === \"function\" && define.amd) {\n",
       "      requirejs.config({paths});\n",
       "      require([\"vega-embed\"], displayChart, err => showError(`Error loading script: ${err.message}`));\n",
       "    } else {\n",
       "      maybeLoadScript(\"vega\", \"5\")\n",
       "        .then(() => maybeLoadScript(\"vega-lite\", \"4.17.0\"))\n",
       "        .then(() => maybeLoadScript(\"vega-embed\", \"6\"))\n",
       "        .catch(showError)\n",
       "        .then(() => displayChart(vegaEmbed));\n",
       "    }\n",
       "  })({\"config\": {\"view\": {\"continuousWidth\": 400, \"continuousHeight\": 300}}, \"data\": {\"url\": \"https://raw.githubusercontent.com/openpolis/geojson-italy/master/topojson/limits_IT_regions.topo.json\", \"format\": {\"feature\": \"regions\", \"type\": \"topojson\"}}, \"mark\": \"geoshape\", \"encoding\": {\"color\": {\"field\": \"Ratio\", \"type\": \"quantitative\"}, \"tooltip\": {\"field\": \"properties.reg_name\", \"type\": \"nominal\"}}, \"height\": 500, \"projection\": {\"type\": \"mercator\"}, \"title\": \"Homeless in Italy in 2021\", \"transform\": [{\"lookup\": \"properties.reg_name\", \"from\": {\"data\": {\"name\": \"data-443e7d92aeff7394ced2053e878699ce\"}, \"key\": \"Territory\", \"fields\": [\"Territory\", \"Ratio\"]}}], \"width\": 500, \"$schema\": \"https://vega.github.io/schema/vega-lite/v4.17.0.json\", \"datasets\": {\"data-443e7d92aeff7394ced2053e878699ce\": [{\"ITTER107\": \"ITF4\", \"Value_pop\": 3922941, \"Territory\": \"Puglia\", \"Value_hom\": 7655, \"Ratio\": 1.9513421180690713}, {\"ITTER107\": \"ITD2\", \"Value_pop\": 540958, \"Territory\": \"Provincia Autonoma Trento\", \"Value_hom\": 299, \"Ratio\": 0.5527231319252142}, {\"ITTER107\": \"ITF3\", \"Value_pop\": 5624420, \"Territory\": \"Campania\", \"Value_hom\": 7828, \"Ratio\": 1.3917879532467348}, {\"ITTER107\": \"ITE4\", \"Value_pop\": 5714882, \"Territory\": \"Lazio\", \"Value_hom\": 24049, \"Ratio\": 4.208135881020815}, {\"ITTER107\": \"ITC3\", \"Value_pop\": 1509227, \"Territory\": \"Liguria\", \"Value_hom\": 4293, \"Ratio\": 2.8445025168513416}, {\"ITTER107\": \"ITE2\", \"Value_pop\": 858812, \"Territory\": \"Umbria\", \"Value_hom\": 431, \"Ratio\": 0.501856052314127}, {\"ITTER107\": \"ITF5\", \"Value_pop\": 541168, \"Territory\": \"Basilicata\", \"Value_hom\": 119, \"Ratio\": 0.21989474617863583}, {\"ITTER107\": \"ITE1\", \"Value_pop\": 3663191, \"Territory\": \"Toscana\", \"Value_hom\": 4450, \"Ratio\": 1.214787872103857}, {\"ITTER107\": \"ITD5\", \"Value_pop\": 4425366, \"Territory\": \"Emilia-Romagna\", \"Value_hom\": 4926, \"Ratio\": 1.1131282700685095}, {\"ITTER107\": \"ITD3\", \"Value_pop\": 4847745, \"Territory\": \"Veneto\", \"Value_hom\": 3794, \"Ratio\": 0.7826319247402658}, {\"ITTER107\": \"ITF2\", \"Value_pop\": 292150, \"Territory\": \"Molise\", \"Value_hom\": 101, \"Ratio\": 0.3457128187574876}, {\"ITTER107\": \"ITD1\", \"Value_pop\": 532616, \"Territory\": \"Provincia Autonoma Bolzano / Bozen\", \"Value_hom\": 313, \"Ratio\": 0.5876654099764183}, {\"ITTER107\": \"ITC4\", \"Value_pop\": 9943004, \"Territory\": \"Lombardia\", \"Value_hom\": 16346, \"Ratio\": 1.643969971248126}, {\"ITTER107\": \"ITF1\", \"Value_pop\": 1275950, \"Territory\": \"Abruzzo\", \"Value_hom\": 610, \"Ratio\": 0.47807515968494063}, {\"ITTER107\": \"ITF6\", \"Value_pop\": 1855454, \"Territory\": \"Calabria\", \"Value_hom\": 2351, \"Ratio\": 1.267075335739932}, {\"ITTER107\": \"ITG1\", \"Value_pop\": 4833329, \"Territory\": \"Sicilia\", \"Value_hom\": 4023, \"Ratio\": 0.8323455738270662}, {\"ITTER107\": \"ITG2\", \"Value_pop\": 1587413, \"Territory\": \"Sardegna\", \"Value_hom\": 3212, \"Ratio\": 2.023417976292244}, {\"ITTER107\": \"ITC1\", \"Value_pop\": 4256350, \"Territory\": \"Piemonte\", \"Value_hom\": 8766, \"Ratio\": 2.0595110834400367}, {\"ITTER107\": \"ITE3\", \"Value_pop\": 1487150, \"Territory\": \"Marche\", \"Value_hom\": 1107, \"Ratio\": 0.7443768281612481}, {\"ITTER107\": \"ITC2\", \"Value_pop\": 123360, \"Territory\": \"Valle d'Aosta / Vall\\u00e9e d'Aoste\", \"Value_hom\": 73, \"Ratio\": 0.5917639429312581}, {\"ITTER107\": \"ITD4\", \"Value_pop\": 1194647, \"Territory\": \"Friuli-Venezia Giulia\", \"Value_hom\": 1451, \"Ratio\": 1.2145847267016951}, {\"ITTER107\": \"ITDA\", \"Value_pop\": 1073574, \"Territory\": \"Trentino-Alto Adige/S\\u00fcdtirol\", \"Value_hom\": 612, \"Ratio\": 0.5700585148299047}]}}, {\"mode\": \"vega-lite\"});\n",
       "</script>"
      ],
      "text/plain": [
       "alt.Chart(...)"
      ]
     },
     "execution_count": 28,
     "metadata": {},
     "output_type": "execute_result"
    }
   ],
   "source": [
    "# Load the TopoJSON file by URL\n",
    "url = \"https://raw.githubusercontent.com/openpolis/geojson-italy/master/topojson/limits_IT_regions.topo.json\"\n",
    "\n",
    "\n",
    "source = alt.topo_feature(url, \"regions\")\n",
    "\n",
    "alt.Chart(source).mark_geoshape().encode(\n",
    "    tooltip='properties.reg_name:N',\n",
    "    color=alt.Color('Ratio:Q')\n",
    ").project('mercator').properties(\n",
    "    width=500,\n",
    "    height=500\n",
    ").transform_lookup(\n",
    "    lookup='properties.reg_name',\n",
    "    from_=alt.LookupData(df3, 'Territory', ['Territory', 'Ratio'])\n",
    ").properties(title='Homeless in Italy in 2021')\n"
   ]
  },
  {
   "cell_type": "markdown",
   "id": "0315d435",
   "metadata": {},
   "source": [
    "Drop Trentino Provinces"
   ]
  },
  {
   "cell_type": "code",
   "execution_count": 29,
   "id": "d0eff8aa",
   "metadata": {},
   "outputs": [],
   "source": [
    "df3.drop(labels=[11,1], axis=0,inplace=True)"
   ]
  },
  {
   "cell_type": "code",
   "execution_count": 30,
   "id": "f60dfc51",
   "metadata": {},
   "outputs": [
    {
     "data": {
      "text/html": [
       "\n",
       "<div id=\"altair-viz-8ae38ef92cc0446ba30b74be1c6331b8\"></div>\n",
       "<script type=\"text/javascript\">\n",
       "  var VEGA_DEBUG = (typeof VEGA_DEBUG == \"undefined\") ? {} : VEGA_DEBUG;\n",
       "  (function(spec, embedOpt){\n",
       "    let outputDiv = document.currentScript.previousElementSibling;\n",
       "    if (outputDiv.id !== \"altair-viz-8ae38ef92cc0446ba30b74be1c6331b8\") {\n",
       "      outputDiv = document.getElementById(\"altair-viz-8ae38ef92cc0446ba30b74be1c6331b8\");\n",
       "    }\n",
       "    const paths = {\n",
       "      \"vega\": \"https://cdn.jsdelivr.net/npm//vega@5?noext\",\n",
       "      \"vega-lib\": \"https://cdn.jsdelivr.net/npm//vega-lib?noext\",\n",
       "      \"vega-lite\": \"https://cdn.jsdelivr.net/npm//vega-lite@4.17.0?noext\",\n",
       "      \"vega-embed\": \"https://cdn.jsdelivr.net/npm//vega-embed@6?noext\",\n",
       "    };\n",
       "\n",
       "    function maybeLoadScript(lib, version) {\n",
       "      var key = `${lib.replace(\"-\", \"\")}_version`;\n",
       "      return (VEGA_DEBUG[key] == version) ?\n",
       "        Promise.resolve(paths[lib]) :\n",
       "        new Promise(function(resolve, reject) {\n",
       "          var s = document.createElement('script');\n",
       "          document.getElementsByTagName(\"head\")[0].appendChild(s);\n",
       "          s.async = true;\n",
       "          s.onload = () => {\n",
       "            VEGA_DEBUG[key] = version;\n",
       "            return resolve(paths[lib]);\n",
       "          };\n",
       "          s.onerror = () => reject(`Error loading script: ${paths[lib]}`);\n",
       "          s.src = paths[lib];\n",
       "        });\n",
       "    }\n",
       "\n",
       "    function showError(err) {\n",
       "      outputDiv.innerHTML = `<div class=\"error\" style=\"color:red;\">${err}</div>`;\n",
       "      throw err;\n",
       "    }\n",
       "\n",
       "    function displayChart(vegaEmbed) {\n",
       "      vegaEmbed(outputDiv, spec, embedOpt)\n",
       "        .catch(err => showError(`Javascript Error: ${err.message}<br>This usually means there's a typo in your chart specification. See the javascript console for the full traceback.`));\n",
       "    }\n",
       "\n",
       "    if(typeof define === \"function\" && define.amd) {\n",
       "      requirejs.config({paths});\n",
       "      require([\"vega-embed\"], displayChart, err => showError(`Error loading script: ${err.message}`));\n",
       "    } else {\n",
       "      maybeLoadScript(\"vega\", \"5\")\n",
       "        .then(() => maybeLoadScript(\"vega-lite\", \"4.17.0\"))\n",
       "        .then(() => maybeLoadScript(\"vega-embed\", \"6\"))\n",
       "        .catch(showError)\n",
       "        .then(() => displayChart(vegaEmbed));\n",
       "    }\n",
       "  })({\"config\": {\"view\": {\"continuousWidth\": 400, \"continuousHeight\": 300}}, \"data\": {\"name\": \"data-594c3a46053733240cfbeaf1f972a710\"}, \"mark\": \"bar\", \"encoding\": {\"x\": {\"field\": \"Ratio\", \"type\": \"quantitative\"}, \"y\": {\"field\": \"Territory\", \"sort\": \"-x\", \"type\": \"nominal\"}}, \"width\": 500, \"$schema\": \"https://vega.github.io/schema/vega-lite/v4.17.0.json\", \"datasets\": {\"data-594c3a46053733240cfbeaf1f972a710\": [{\"ITTER107\": \"ITF4\", \"Value_pop\": 3922941, \"Territory\": \"Puglia\", \"Value_hom\": 7655, \"Ratio\": 1.9513421180690713}, {\"ITTER107\": \"ITF3\", \"Value_pop\": 5624420, \"Territory\": \"Campania\", \"Value_hom\": 7828, \"Ratio\": 1.3917879532467348}, {\"ITTER107\": \"ITE4\", \"Value_pop\": 5714882, \"Territory\": \"Lazio\", \"Value_hom\": 24049, \"Ratio\": 4.208135881020815}, {\"ITTER107\": \"ITC3\", \"Value_pop\": 1509227, \"Territory\": \"Liguria\", \"Value_hom\": 4293, \"Ratio\": 2.8445025168513416}, {\"ITTER107\": \"ITE2\", \"Value_pop\": 858812, \"Territory\": \"Umbria\", \"Value_hom\": 431, \"Ratio\": 0.501856052314127}, {\"ITTER107\": \"ITF5\", \"Value_pop\": 541168, \"Territory\": \"Basilicata\", \"Value_hom\": 119, \"Ratio\": 0.21989474617863583}, {\"ITTER107\": \"ITE1\", \"Value_pop\": 3663191, \"Territory\": \"Toscana\", \"Value_hom\": 4450, \"Ratio\": 1.214787872103857}, {\"ITTER107\": \"ITD5\", \"Value_pop\": 4425366, \"Territory\": \"Emilia-Romagna\", \"Value_hom\": 4926, \"Ratio\": 1.1131282700685095}, {\"ITTER107\": \"ITD3\", \"Value_pop\": 4847745, \"Territory\": \"Veneto\", \"Value_hom\": 3794, \"Ratio\": 0.7826319247402658}, {\"ITTER107\": \"ITF2\", \"Value_pop\": 292150, \"Territory\": \"Molise\", \"Value_hom\": 101, \"Ratio\": 0.3457128187574876}, {\"ITTER107\": \"ITC4\", \"Value_pop\": 9943004, \"Territory\": \"Lombardia\", \"Value_hom\": 16346, \"Ratio\": 1.643969971248126}, {\"ITTER107\": \"ITF1\", \"Value_pop\": 1275950, \"Territory\": \"Abruzzo\", \"Value_hom\": 610, \"Ratio\": 0.47807515968494063}, {\"ITTER107\": \"ITF6\", \"Value_pop\": 1855454, \"Territory\": \"Calabria\", \"Value_hom\": 2351, \"Ratio\": 1.267075335739932}, {\"ITTER107\": \"ITG1\", \"Value_pop\": 4833329, \"Territory\": \"Sicilia\", \"Value_hom\": 4023, \"Ratio\": 0.8323455738270662}, {\"ITTER107\": \"ITG2\", \"Value_pop\": 1587413, \"Territory\": \"Sardegna\", \"Value_hom\": 3212, \"Ratio\": 2.023417976292244}, {\"ITTER107\": \"ITC1\", \"Value_pop\": 4256350, \"Territory\": \"Piemonte\", \"Value_hom\": 8766, \"Ratio\": 2.0595110834400367}, {\"ITTER107\": \"ITE3\", \"Value_pop\": 1487150, \"Territory\": \"Marche\", \"Value_hom\": 1107, \"Ratio\": 0.7443768281612481}, {\"ITTER107\": \"ITC2\", \"Value_pop\": 123360, \"Territory\": \"Valle d'Aosta / Vall\\u00e9e d'Aoste\", \"Value_hom\": 73, \"Ratio\": 0.5917639429312581}, {\"ITTER107\": \"ITD4\", \"Value_pop\": 1194647, \"Territory\": \"Friuli-Venezia Giulia\", \"Value_hom\": 1451, \"Ratio\": 1.2145847267016951}, {\"ITTER107\": \"ITDA\", \"Value_pop\": 1073574, \"Territory\": \"Trentino-Alto Adige/S\\u00fcdtirol\", \"Value_hom\": 612, \"Ratio\": 0.5700585148299047}]}}, {\"mode\": \"vega-lite\"});\n",
       "</script>"
      ],
      "text/plain": [
       "alt.Chart(...)"
      ]
     },
     "execution_count": 30,
     "metadata": {},
     "output_type": "execute_result"
    }
   ],
   "source": [
    "alt.Chart(df3).mark_bar().encode(\n",
    "    y = alt.Y('Territory', sort='-x'),\n",
    "    x = alt.X('Ratio')\n",
    "   \n",
    ").properties(width=500)"
   ]
  },
  {
   "cell_type": "code",
   "execution_count": 31,
   "id": "26d2635f",
   "metadata": {},
   "outputs": [
    {
     "data": {
      "text/html": [
       "\n",
       "<div id=\"altair-viz-660f328c556b4fddafdf5b2f77a8a58b\"></div>\n",
       "<script type=\"text/javascript\">\n",
       "  var VEGA_DEBUG = (typeof VEGA_DEBUG == \"undefined\") ? {} : VEGA_DEBUG;\n",
       "  (function(spec, embedOpt){\n",
       "    let outputDiv = document.currentScript.previousElementSibling;\n",
       "    if (outputDiv.id !== \"altair-viz-660f328c556b4fddafdf5b2f77a8a58b\") {\n",
       "      outputDiv = document.getElementById(\"altair-viz-660f328c556b4fddafdf5b2f77a8a58b\");\n",
       "    }\n",
       "    const paths = {\n",
       "      \"vega\": \"https://cdn.jsdelivr.net/npm//vega@5?noext\",\n",
       "      \"vega-lib\": \"https://cdn.jsdelivr.net/npm//vega-lib?noext\",\n",
       "      \"vega-lite\": \"https://cdn.jsdelivr.net/npm//vega-lite@4.17.0?noext\",\n",
       "      \"vega-embed\": \"https://cdn.jsdelivr.net/npm//vega-embed@6?noext\",\n",
       "    };\n",
       "\n",
       "    function maybeLoadScript(lib, version) {\n",
       "      var key = `${lib.replace(\"-\", \"\")}_version`;\n",
       "      return (VEGA_DEBUG[key] == version) ?\n",
       "        Promise.resolve(paths[lib]) :\n",
       "        new Promise(function(resolve, reject) {\n",
       "          var s = document.createElement('script');\n",
       "          document.getElementsByTagName(\"head\")[0].appendChild(s);\n",
       "          s.async = true;\n",
       "          s.onload = () => {\n",
       "            VEGA_DEBUG[key] = version;\n",
       "            return resolve(paths[lib]);\n",
       "          };\n",
       "          s.onerror = () => reject(`Error loading script: ${paths[lib]}`);\n",
       "          s.src = paths[lib];\n",
       "        });\n",
       "    }\n",
       "\n",
       "    function showError(err) {\n",
       "      outputDiv.innerHTML = `<div class=\"error\" style=\"color:red;\">${err}</div>`;\n",
       "      throw err;\n",
       "    }\n",
       "\n",
       "    function displayChart(vegaEmbed) {\n",
       "      vegaEmbed(outputDiv, spec, embedOpt)\n",
       "        .catch(err => showError(`Javascript Error: ${err.message}<br>This usually means there's a typo in your chart specification. See the javascript console for the full traceback.`));\n",
       "    }\n",
       "\n",
       "    if(typeof define === \"function\" && define.amd) {\n",
       "      requirejs.config({paths});\n",
       "      require([\"vega-embed\"], displayChart, err => showError(`Error loading script: ${err.message}`));\n",
       "    } else {\n",
       "      maybeLoadScript(\"vega\", \"5\")\n",
       "        .then(() => maybeLoadScript(\"vega-lite\", \"4.17.0\"))\n",
       "        .then(() => maybeLoadScript(\"vega-embed\", \"6\"))\n",
       "        .catch(showError)\n",
       "        .then(() => displayChart(vegaEmbed));\n",
       "    }\n",
       "  })({\"config\": {\"view\": {\"continuousWidth\": 400, \"continuousHeight\": 300}}, \"data\": {\"name\": \"data-594c3a46053733240cfbeaf1f972a710\"}, \"mark\": \"bar\", \"encoding\": {\"x\": {\"field\": \"Value_hom\", \"type\": \"quantitative\"}, \"y\": {\"field\": \"Territory\", \"sort\": \"-x\", \"type\": \"nominal\"}}, \"width\": 500, \"$schema\": \"https://vega.github.io/schema/vega-lite/v4.17.0.json\", \"datasets\": {\"data-594c3a46053733240cfbeaf1f972a710\": [{\"ITTER107\": \"ITF4\", \"Value_pop\": 3922941, \"Territory\": \"Puglia\", \"Value_hom\": 7655, \"Ratio\": 1.9513421180690713}, {\"ITTER107\": \"ITF3\", \"Value_pop\": 5624420, \"Territory\": \"Campania\", \"Value_hom\": 7828, \"Ratio\": 1.3917879532467348}, {\"ITTER107\": \"ITE4\", \"Value_pop\": 5714882, \"Territory\": \"Lazio\", \"Value_hom\": 24049, \"Ratio\": 4.208135881020815}, {\"ITTER107\": \"ITC3\", \"Value_pop\": 1509227, \"Territory\": \"Liguria\", \"Value_hom\": 4293, \"Ratio\": 2.8445025168513416}, {\"ITTER107\": \"ITE2\", \"Value_pop\": 858812, \"Territory\": \"Umbria\", \"Value_hom\": 431, \"Ratio\": 0.501856052314127}, {\"ITTER107\": \"ITF5\", \"Value_pop\": 541168, \"Territory\": \"Basilicata\", \"Value_hom\": 119, \"Ratio\": 0.21989474617863583}, {\"ITTER107\": \"ITE1\", \"Value_pop\": 3663191, \"Territory\": \"Toscana\", \"Value_hom\": 4450, \"Ratio\": 1.214787872103857}, {\"ITTER107\": \"ITD5\", \"Value_pop\": 4425366, \"Territory\": \"Emilia-Romagna\", \"Value_hom\": 4926, \"Ratio\": 1.1131282700685095}, {\"ITTER107\": \"ITD3\", \"Value_pop\": 4847745, \"Territory\": \"Veneto\", \"Value_hom\": 3794, \"Ratio\": 0.7826319247402658}, {\"ITTER107\": \"ITF2\", \"Value_pop\": 292150, \"Territory\": \"Molise\", \"Value_hom\": 101, \"Ratio\": 0.3457128187574876}, {\"ITTER107\": \"ITC4\", \"Value_pop\": 9943004, \"Territory\": \"Lombardia\", \"Value_hom\": 16346, \"Ratio\": 1.643969971248126}, {\"ITTER107\": \"ITF1\", \"Value_pop\": 1275950, \"Territory\": \"Abruzzo\", \"Value_hom\": 610, \"Ratio\": 0.47807515968494063}, {\"ITTER107\": \"ITF6\", \"Value_pop\": 1855454, \"Territory\": \"Calabria\", \"Value_hom\": 2351, \"Ratio\": 1.267075335739932}, {\"ITTER107\": \"ITG1\", \"Value_pop\": 4833329, \"Territory\": \"Sicilia\", \"Value_hom\": 4023, \"Ratio\": 0.8323455738270662}, {\"ITTER107\": \"ITG2\", \"Value_pop\": 1587413, \"Territory\": \"Sardegna\", \"Value_hom\": 3212, \"Ratio\": 2.023417976292244}, {\"ITTER107\": \"ITC1\", \"Value_pop\": 4256350, \"Territory\": \"Piemonte\", \"Value_hom\": 8766, \"Ratio\": 2.0595110834400367}, {\"ITTER107\": \"ITE3\", \"Value_pop\": 1487150, \"Territory\": \"Marche\", \"Value_hom\": 1107, \"Ratio\": 0.7443768281612481}, {\"ITTER107\": \"ITC2\", \"Value_pop\": 123360, \"Territory\": \"Valle d'Aosta / Vall\\u00e9e d'Aoste\", \"Value_hom\": 73, \"Ratio\": 0.5917639429312581}, {\"ITTER107\": \"ITD4\", \"Value_pop\": 1194647, \"Territory\": \"Friuli-Venezia Giulia\", \"Value_hom\": 1451, \"Ratio\": 1.2145847267016951}, {\"ITTER107\": \"ITDA\", \"Value_pop\": 1073574, \"Territory\": \"Trentino-Alto Adige/S\\u00fcdtirol\", \"Value_hom\": 612, \"Ratio\": 0.5700585148299047}]}}, {\"mode\": \"vega-lite\"});\n",
       "</script>"
      ],
      "text/plain": [
       "alt.Chart(...)"
      ]
     },
     "execution_count": 31,
     "metadata": {},
     "output_type": "execute_result"
    }
   ],
   "source": [
    "alt.Chart(df3).mark_bar().encode(\n",
    "    y = alt.Y('Territory', sort='-x'),\n",
    "    x = alt.X('Value_hom'),\n",
    "   \n",
    ").properties(width=500)"
   ]
  },
  {
   "cell_type": "code",
   "execution_count": 32,
   "id": "76ff7621",
   "metadata": {},
   "outputs": [
    {
     "data": {
      "text/html": [
       "\n",
       "<div id=\"altair-viz-d182d22e0d7643d9b04c1bfe4f16147a\"></div>\n",
       "<script type=\"text/javascript\">\n",
       "  var VEGA_DEBUG = (typeof VEGA_DEBUG == \"undefined\") ? {} : VEGA_DEBUG;\n",
       "  (function(spec, embedOpt){\n",
       "    let outputDiv = document.currentScript.previousElementSibling;\n",
       "    if (outputDiv.id !== \"altair-viz-d182d22e0d7643d9b04c1bfe4f16147a\") {\n",
       "      outputDiv = document.getElementById(\"altair-viz-d182d22e0d7643d9b04c1bfe4f16147a\");\n",
       "    }\n",
       "    const paths = {\n",
       "      \"vega\": \"https://cdn.jsdelivr.net/npm//vega@5?noext\",\n",
       "      \"vega-lib\": \"https://cdn.jsdelivr.net/npm//vega-lib?noext\",\n",
       "      \"vega-lite\": \"https://cdn.jsdelivr.net/npm//vega-lite@4.17.0?noext\",\n",
       "      \"vega-embed\": \"https://cdn.jsdelivr.net/npm//vega-embed@6?noext\",\n",
       "    };\n",
       "\n",
       "    function maybeLoadScript(lib, version) {\n",
       "      var key = `${lib.replace(\"-\", \"\")}_version`;\n",
       "      return (VEGA_DEBUG[key] == version) ?\n",
       "        Promise.resolve(paths[lib]) :\n",
       "        new Promise(function(resolve, reject) {\n",
       "          var s = document.createElement('script');\n",
       "          document.getElementsByTagName(\"head\")[0].appendChild(s);\n",
       "          s.async = true;\n",
       "          s.onload = () => {\n",
       "            VEGA_DEBUG[key] = version;\n",
       "            return resolve(paths[lib]);\n",
       "          };\n",
       "          s.onerror = () => reject(`Error loading script: ${paths[lib]}`);\n",
       "          s.src = paths[lib];\n",
       "        });\n",
       "    }\n",
       "\n",
       "    function showError(err) {\n",
       "      outputDiv.innerHTML = `<div class=\"error\" style=\"color:red;\">${err}</div>`;\n",
       "      throw err;\n",
       "    }\n",
       "\n",
       "    function displayChart(vegaEmbed) {\n",
       "      vegaEmbed(outputDiv, spec, embedOpt)\n",
       "        .catch(err => showError(`Javascript Error: ${err.message}<br>This usually means there's a typo in your chart specification. See the javascript console for the full traceback.`));\n",
       "    }\n",
       "\n",
       "    if(typeof define === \"function\" && define.amd) {\n",
       "      requirejs.config({paths});\n",
       "      require([\"vega-embed\"], displayChart, err => showError(`Error loading script: ${err.message}`));\n",
       "    } else {\n",
       "      maybeLoadScript(\"vega\", \"5\")\n",
       "        .then(() => maybeLoadScript(\"vega-lite\", \"4.17.0\"))\n",
       "        .then(() => maybeLoadScript(\"vega-embed\", \"6\"))\n",
       "        .catch(showError)\n",
       "        .then(() => displayChart(vegaEmbed));\n",
       "    }\n",
       "  })({\"config\": {\"view\": {\"continuousWidth\": 400, \"continuousHeight\": 300}}, \"data\": {\"name\": \"data-594c3a46053733240cfbeaf1f972a710\"}, \"mark\": \"bar\", \"encoding\": {\"color\": {\"condition\": {\"value\": \"darkred\", \"test\": \"(datum.Ratio > 2)\"}, \"value\": \"lightgray\"}, \"x\": {\"axis\": {\"tickCount\": 4, \"title\": \"\"}, \"field\": \"Ratio\", \"type\": \"quantitative\"}, \"y\": {\"axis\": {\"title\": \"\"}, \"field\": \"Territory\", \"sort\": \"-x\", \"type\": \"nominal\"}}, \"title\": \"Number of homeless people in a population of 1,000\", \"width\": 500, \"$schema\": \"https://vega.github.io/schema/vega-lite/v4.17.0.json\", \"datasets\": {\"data-594c3a46053733240cfbeaf1f972a710\": [{\"ITTER107\": \"ITF4\", \"Value_pop\": 3922941, \"Territory\": \"Puglia\", \"Value_hom\": 7655, \"Ratio\": 1.9513421180690713}, {\"ITTER107\": \"ITF3\", \"Value_pop\": 5624420, \"Territory\": \"Campania\", \"Value_hom\": 7828, \"Ratio\": 1.3917879532467348}, {\"ITTER107\": \"ITE4\", \"Value_pop\": 5714882, \"Territory\": \"Lazio\", \"Value_hom\": 24049, \"Ratio\": 4.208135881020815}, {\"ITTER107\": \"ITC3\", \"Value_pop\": 1509227, \"Territory\": \"Liguria\", \"Value_hom\": 4293, \"Ratio\": 2.8445025168513416}, {\"ITTER107\": \"ITE2\", \"Value_pop\": 858812, \"Territory\": \"Umbria\", \"Value_hom\": 431, \"Ratio\": 0.501856052314127}, {\"ITTER107\": \"ITF5\", \"Value_pop\": 541168, \"Territory\": \"Basilicata\", \"Value_hom\": 119, \"Ratio\": 0.21989474617863583}, {\"ITTER107\": \"ITE1\", \"Value_pop\": 3663191, \"Territory\": \"Toscana\", \"Value_hom\": 4450, \"Ratio\": 1.214787872103857}, {\"ITTER107\": \"ITD5\", \"Value_pop\": 4425366, \"Territory\": \"Emilia-Romagna\", \"Value_hom\": 4926, \"Ratio\": 1.1131282700685095}, {\"ITTER107\": \"ITD3\", \"Value_pop\": 4847745, \"Territory\": \"Veneto\", \"Value_hom\": 3794, \"Ratio\": 0.7826319247402658}, {\"ITTER107\": \"ITF2\", \"Value_pop\": 292150, \"Territory\": \"Molise\", \"Value_hom\": 101, \"Ratio\": 0.3457128187574876}, {\"ITTER107\": \"ITC4\", \"Value_pop\": 9943004, \"Territory\": \"Lombardia\", \"Value_hom\": 16346, \"Ratio\": 1.643969971248126}, {\"ITTER107\": \"ITF1\", \"Value_pop\": 1275950, \"Territory\": \"Abruzzo\", \"Value_hom\": 610, \"Ratio\": 0.47807515968494063}, {\"ITTER107\": \"ITF6\", \"Value_pop\": 1855454, \"Territory\": \"Calabria\", \"Value_hom\": 2351, \"Ratio\": 1.267075335739932}, {\"ITTER107\": \"ITG1\", \"Value_pop\": 4833329, \"Territory\": \"Sicilia\", \"Value_hom\": 4023, \"Ratio\": 0.8323455738270662}, {\"ITTER107\": \"ITG2\", \"Value_pop\": 1587413, \"Territory\": \"Sardegna\", \"Value_hom\": 3212, \"Ratio\": 2.023417976292244}, {\"ITTER107\": \"ITC1\", \"Value_pop\": 4256350, \"Territory\": \"Piemonte\", \"Value_hom\": 8766, \"Ratio\": 2.0595110834400367}, {\"ITTER107\": \"ITE3\", \"Value_pop\": 1487150, \"Territory\": \"Marche\", \"Value_hom\": 1107, \"Ratio\": 0.7443768281612481}, {\"ITTER107\": \"ITC2\", \"Value_pop\": 123360, \"Territory\": \"Valle d'Aosta / Vall\\u00e9e d'Aoste\", \"Value_hom\": 73, \"Ratio\": 0.5917639429312581}, {\"ITTER107\": \"ITD4\", \"Value_pop\": 1194647, \"Territory\": \"Friuli-Venezia Giulia\", \"Value_hom\": 1451, \"Ratio\": 1.2145847267016951}, {\"ITTER107\": \"ITDA\", \"Value_pop\": 1073574, \"Territory\": \"Trentino-Alto Adige/S\\u00fcdtirol\", \"Value_hom\": 612, \"Ratio\": 0.5700585148299047}]}}, {\"mode\": \"vega-lite\"});\n",
       "</script>"
      ],
      "text/plain": [
       "alt.Chart(...)"
      ]
     },
     "execution_count": 32,
     "metadata": {},
     "output_type": "execute_result"
    }
   ],
   "source": [
    "alt.Chart(df3).mark_bar().encode(\n",
    "    y = alt.Y('Territory', sort='-x', axis=alt.Axis(title='')),\n",
    "    x = alt.X('Ratio', axis=alt.Axis(tickCount=4,title='')),\n",
    "    color=alt.condition(alt.datum.Ratio > 2, alt.value('darkred'), alt.value('lightgray'))\n",
    "   \n",
    ").properties(width=500,title='Number of homeless people in a population of 1,000')"
   ]
  },
  {
   "cell_type": "code",
   "execution_count": null,
   "id": "3732b5d5",
   "metadata": {},
   "outputs": [],
   "source": []
  },
  {
   "cell_type": "code",
   "execution_count": null,
   "id": "cedbfa6d",
   "metadata": {},
   "outputs": [],
   "source": []
  },
  {
   "cell_type": "code",
   "execution_count": null,
   "id": "f1096077",
   "metadata": {},
   "outputs": [],
   "source": []
  }
 ],
 "metadata": {
  "kernelspec": {
   "display_name": "Python 3 (ipykernel)",
   "language": "python",
   "name": "python3"
  },
  "language_info": {
   "codemirror_mode": {
    "name": "ipython",
    "version": 3
   },
   "file_extension": ".py",
   "mimetype": "text/x-python",
   "name": "python",
   "nbconvert_exporter": "python",
   "pygments_lexer": "ipython3",
   "version": "3.8.10"
  }
 },
 "nbformat": 4,
 "nbformat_minor": 5
}
