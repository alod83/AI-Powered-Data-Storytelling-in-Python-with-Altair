{
 "cells": [
  {
   "cell_type": "markdown",
   "id": "86b6b4b5",
   "metadata": {},
   "source": [
    "# Case Study - Homeless"
   ]
  },
  {
   "cell_type": "code",
   "execution_count": 218,
   "id": "11bc2226",
   "metadata": {},
   "outputs": [
    {
     "data": {
      "text/html": [
       "<div>\n",
       "<style scoped>\n",
       "    .dataframe tbody tr th:only-of-type {\n",
       "        vertical-align: middle;\n",
       "    }\n",
       "\n",
       "    .dataframe tbody tr th {\n",
       "        vertical-align: top;\n",
       "    }\n",
       "\n",
       "    .dataframe thead th {\n",
       "        text-align: right;\n",
       "    }\n",
       "</style>\n",
       "<table border=\"1\" class=\"dataframe\">\n",
       "  <thead>\n",
       "    <tr style=\"text-align: right;\">\n",
       "      <th></th>\n",
       "      <th>ITTER107</th>\n",
       "      <th>Territory</th>\n",
       "      <th>Sex</th>\n",
       "      <th>Age</th>\n",
       "      <th>Citizenship</th>\n",
       "      <th>Value</th>\n",
       "    </tr>\n",
       "  </thead>\n",
       "  <tbody>\n",
       "    <tr>\n",
       "      <th>0</th>\n",
       "      <td>ITC1</td>\n",
       "      <td>Piemonte</td>\n",
       "      <td>M</td>\n",
       "      <td>TOTAL</td>\n",
       "      <td>ITL</td>\n",
       "      <td>4218</td>\n",
       "    </tr>\n",
       "    <tr>\n",
       "      <th>1</th>\n",
       "      <td>ITC1</td>\n",
       "      <td>Piemonte</td>\n",
       "      <td>F</td>\n",
       "      <td>TOTAL</td>\n",
       "      <td>ITL</td>\n",
       "      <td>1496</td>\n",
       "    </tr>\n",
       "    <tr>\n",
       "      <th>2</th>\n",
       "      <td>ITC1</td>\n",
       "      <td>Piemonte</td>\n",
       "      <td>T</td>\n",
       "      <td>TOTAL</td>\n",
       "      <td>ITL</td>\n",
       "      <td>5714</td>\n",
       "    </tr>\n",
       "    <tr>\n",
       "      <th>3</th>\n",
       "      <td>ITC2</td>\n",
       "      <td>Valle d'Aosta</td>\n",
       "      <td>M</td>\n",
       "      <td>TOTAL</td>\n",
       "      <td>ITL</td>\n",
       "      <td>41</td>\n",
       "    </tr>\n",
       "    <tr>\n",
       "      <th>4</th>\n",
       "      <td>ITC2</td>\n",
       "      <td>Valle d'Aosta</td>\n",
       "      <td>F</td>\n",
       "      <td>TOTAL</td>\n",
       "      <td>ITL</td>\n",
       "      <td>17</td>\n",
       "    </tr>\n",
       "  </tbody>\n",
       "</table>\n",
       "</div>"
      ],
      "text/plain": [
       "  ITTER107      Territory Sex    Age Citizenship  Value\n",
       "0     ITC1       Piemonte   M  TOTAL         ITL   4218\n",
       "1     ITC1       Piemonte   F  TOTAL         ITL   1496\n",
       "2     ITC1       Piemonte   T  TOTAL         ITL   5714\n",
       "3     ITC2  Valle d'Aosta   M  TOTAL         ITL     41\n",
       "4     ITC2  Valle d'Aosta   F  TOTAL         ITL     17"
      ]
     },
     "execution_count": 218,
     "metadata": {},
     "output_type": "execute_result"
    }
   ],
   "source": [
    "import pandas as pd\n",
    "from config import *\n",
    "\n",
    "df = pd.read_csv('source/homeless.csv')\n",
    "df.head()"
   ]
  },
  {
   "cell_type": "markdown",
   "id": "a8b0807d",
   "metadata": {},
   "source": [
    "Select only some fields"
   ]
  },
  {
   "cell_type": "code",
   "execution_count": 219,
   "id": "4fe7b7de",
   "metadata": {},
   "outputs": [
    {
     "data": {
      "text/plain": [
       "array(['ITL', 'FRGAPO', 'TOTAL'], dtype=object)"
      ]
     },
     "execution_count": 219,
     "metadata": {},
     "output_type": "execute_result"
    }
   ],
   "source": [
    "df.Citizenship.unique()"
   ]
  },
  {
   "cell_type": "code",
   "execution_count": 220,
   "id": "580aaac3",
   "metadata": {},
   "outputs": [],
   "source": [
    "df['Territory'] = df['Territory'].str.replace('Trentino Alto Adige', 'Trentino-Alto Adige/Südtirol')"
   ]
  },
  {
   "cell_type": "markdown",
   "id": "69890bda",
   "metadata": {},
   "source": [
    "Focus on total age, total sex and total citizenship"
   ]
  },
  {
   "cell_type": "code",
   "execution_count": 221,
   "id": "e692909d",
   "metadata": {},
   "outputs": [],
   "source": [
    "df_tot = df[(df['Age'] == 'TOTAL') & (df['Sex'] == 'T') &  (df['Citizenship'] == 'TOTAL')]"
   ]
  },
  {
   "cell_type": "markdown",
   "id": "851daed6",
   "metadata": {},
   "source": [
    "## Draw a preliminary map"
   ]
  },
  {
   "cell_type": "code",
   "execution_count": 222,
   "id": "0efb0b28",
   "metadata": {},
   "outputs": [
    {
     "name": "stderr",
     "output_type": "stream",
     "text": [
      "/Users/angelica/Library/Python/3.8/lib/python/site-packages/altair/utils/core.py:317: FutureWarning: iteritems is deprecated and will be removed in a future version. Use .items instead.\n",
      "  for col_name, dtype in df.dtypes.iteritems():\n"
     ]
    },
    {
     "data": {
      "text/html": [
       "\n",
       "<div id=\"altair-viz-78629f4ecfff4a128bd1df167c695b10\"></div>\n",
       "<script type=\"text/javascript\">\n",
       "  var VEGA_DEBUG = (typeof VEGA_DEBUG == \"undefined\") ? {} : VEGA_DEBUG;\n",
       "  (function(spec, embedOpt){\n",
       "    let outputDiv = document.currentScript.previousElementSibling;\n",
       "    if (outputDiv.id !== \"altair-viz-78629f4ecfff4a128bd1df167c695b10\") {\n",
       "      outputDiv = document.getElementById(\"altair-viz-78629f4ecfff4a128bd1df167c695b10\");\n",
       "    }\n",
       "    const paths = {\n",
       "      \"vega\": \"https://cdn.jsdelivr.net/npm//vega@5?noext\",\n",
       "      \"vega-lib\": \"https://cdn.jsdelivr.net/npm//vega-lib?noext\",\n",
       "      \"vega-lite\": \"https://cdn.jsdelivr.net/npm//vega-lite@4.17.0?noext\",\n",
       "      \"vega-embed\": \"https://cdn.jsdelivr.net/npm//vega-embed@6?noext\",\n",
       "    };\n",
       "\n",
       "    function maybeLoadScript(lib, version) {\n",
       "      var key = `${lib.replace(\"-\", \"\")}_version`;\n",
       "      return (VEGA_DEBUG[key] == version) ?\n",
       "        Promise.resolve(paths[lib]) :\n",
       "        new Promise(function(resolve, reject) {\n",
       "          var s = document.createElement('script');\n",
       "          document.getElementsByTagName(\"head\")[0].appendChild(s);\n",
       "          s.async = true;\n",
       "          s.onload = () => {\n",
       "            VEGA_DEBUG[key] = version;\n",
       "            return resolve(paths[lib]);\n",
       "          };\n",
       "          s.onerror = () => reject(`Error loading script: ${paths[lib]}`);\n",
       "          s.src = paths[lib];\n",
       "        });\n",
       "    }\n",
       "\n",
       "    function showError(err) {\n",
       "      outputDiv.innerHTML = `<div class=\"error\" style=\"color:red;\">${err}</div>`;\n",
       "      throw err;\n",
       "    }\n",
       "\n",
       "    function displayChart(vegaEmbed) {\n",
       "      vegaEmbed(outputDiv, spec, embedOpt)\n",
       "        .catch(err => showError(`Javascript Error: ${err.message}<br>This usually means there's a typo in your chart specification. See the javascript console for the full traceback.`));\n",
       "    }\n",
       "\n",
       "    if(typeof define === \"function\" && define.amd) {\n",
       "      requirejs.config({paths});\n",
       "      require([\"vega-embed\"], displayChart, err => showError(`Error loading script: ${err.message}`));\n",
       "    } else {\n",
       "      maybeLoadScript(\"vega\", \"5\")\n",
       "        .then(() => maybeLoadScript(\"vega-lite\", \"4.17.0\"))\n",
       "        .then(() => maybeLoadScript(\"vega-embed\", \"6\"))\n",
       "        .catch(showError)\n",
       "        .then(() => displayChart(vegaEmbed));\n",
       "    }\n",
       "  })({\"config\": {\"view\": {\"continuousWidth\": 400, \"continuousHeight\": 300}, \"axis\": {\"labelFontSize\": 15, \"titleFontSize\": 20}, \"legend\": {\"labelFontSize\": 15, \"titleFontSize\": 20}, \"title\": {\"fontSize\": 25, \"offset\": 25}}, \"data\": {\"url\": \"https://raw.githubusercontent.com/openpolis/geojson-italy/master/topojson/limits_IT_regions.topo.json\", \"format\": {\"feature\": \"regions\", \"type\": \"topojson\"}}, \"mark\": \"geoshape\", \"encoding\": {\"color\": {\"field\": \"Value\", \"type\": \"quantitative\"}, \"tooltip\": {\"field\": \"properties.reg_name\", \"type\": \"nominal\"}}, \"height\": 500, \"projection\": {\"type\": \"mercator\"}, \"title\": \"Homeless in Italy in 2021\", \"transform\": [{\"lookup\": \"properties.reg_name\", \"from\": {\"data\": {\"name\": \"data-173fc42a59142070ff2d85d416ae0312\"}, \"key\": \"Territory\", \"fields\": [\"Territory\", \"Value\"]}}], \"width\": 500, \"$schema\": \"https://vega.github.io/schema/vega-lite/v4.17.0.json\", \"datasets\": {\"data-173fc42a59142070ff2d85d416ae0312\": [{\"ITTER107\": \"ITC1\", \"Territory\": \"Piemonte\", \"Sex\": \"T\", \"Age\": \"TOTAL\", \"Citizenship\": \"TOTAL\", \"Value\": 8766}, {\"ITTER107\": \"ITC2\", \"Territory\": \"Valle d'Aosta\", \"Sex\": \"T\", \"Age\": \"TOTAL\", \"Citizenship\": \"TOTAL\", \"Value\": 73}, {\"ITTER107\": \"ITC3\", \"Territory\": \"Liguria\", \"Sex\": \"T\", \"Age\": \"TOTAL\", \"Citizenship\": \"TOTAL\", \"Value\": 4293}, {\"ITTER107\": \"ITC4\", \"Territory\": \"Lombardia\", \"Sex\": \"T\", \"Age\": \"TOTAL\", \"Citizenship\": \"TOTAL\", \"Value\": 16346}, {\"ITTER107\": \"ITDA\", \"Territory\": \"Trentino-Alto Adige/S\\u00fcdtirol\", \"Sex\": \"T\", \"Age\": \"TOTAL\", \"Citizenship\": \"TOTAL\", \"Value\": 612}, {\"ITTER107\": \"ITD3\", \"Territory\": \"Veneto\", \"Sex\": \"T\", \"Age\": \"TOTAL\", \"Citizenship\": \"TOTAL\", \"Value\": 3794}, {\"ITTER107\": \"ITD4\", \"Territory\": \"Friuli-Venezia Giulia\", \"Sex\": \"T\", \"Age\": \"TOTAL\", \"Citizenship\": \"TOTAL\", \"Value\": 1451}, {\"ITTER107\": \"ITD5\", \"Territory\": \"Emilia-Romagna\", \"Sex\": \"T\", \"Age\": \"TOTAL\", \"Citizenship\": \"TOTAL\", \"Value\": 4926}, {\"ITTER107\": \"ITE1\", \"Territory\": \"Toscana\", \"Sex\": \"T\", \"Age\": \"TOTAL\", \"Citizenship\": \"TOTAL\", \"Value\": 4450}, {\"ITTER107\": \"ITE2\", \"Territory\": \"Umbria\", \"Sex\": \"T\", \"Age\": \"TOTAL\", \"Citizenship\": \"TOTAL\", \"Value\": 431}, {\"ITTER107\": \"ITE3\", \"Territory\": \"Marche\", \"Sex\": \"T\", \"Age\": \"TOTAL\", \"Citizenship\": \"TOTAL\", \"Value\": 1107}, {\"ITTER107\": \"ITE4\", \"Territory\": \"Lazio\", \"Sex\": \"T\", \"Age\": \"TOTAL\", \"Citizenship\": \"TOTAL\", \"Value\": 24049}, {\"ITTER107\": \"ITF1\", \"Territory\": \"Abruzzo\", \"Sex\": \"T\", \"Age\": \"TOTAL\", \"Citizenship\": \"TOTAL\", \"Value\": 610}, {\"ITTER107\": \"ITF2\", \"Territory\": \"Molise\", \"Sex\": \"T\", \"Age\": \"TOTAL\", \"Citizenship\": \"TOTAL\", \"Value\": 101}, {\"ITTER107\": \"ITF3\", \"Territory\": \"Campania\", \"Sex\": \"T\", \"Age\": \"TOTAL\", \"Citizenship\": \"TOTAL\", \"Value\": 7828}, {\"ITTER107\": \"ITF4\", \"Territory\": \"Puglia\", \"Sex\": \"T\", \"Age\": \"TOTAL\", \"Citizenship\": \"TOTAL\", \"Value\": 7655}, {\"ITTER107\": \"ITF5\", \"Territory\": \"Basilicata\", \"Sex\": \"T\", \"Age\": \"TOTAL\", \"Citizenship\": \"TOTAL\", \"Value\": 119}, {\"ITTER107\": \"ITF6\", \"Territory\": \"Calabria\", \"Sex\": \"T\", \"Age\": \"TOTAL\", \"Citizenship\": \"TOTAL\", \"Value\": 2351}, {\"ITTER107\": \"ITG1\", \"Territory\": \"Sicilia\", \"Sex\": \"T\", \"Age\": \"TOTAL\", \"Citizenship\": \"TOTAL\", \"Value\": 4023}, {\"ITTER107\": \"ITG2\", \"Territory\": \"Sardegna\", \"Sex\": \"T\", \"Age\": \"TOTAL\", \"Citizenship\": \"TOTAL\", \"Value\": 3212}]}}, {\"mode\": \"vega-lite\"});\n",
       "</script>"
      ],
      "text/plain": [
       "alt.Chart(...)"
      ]
     },
     "execution_count": 222,
     "metadata": {},
     "output_type": "execute_result"
    }
   ],
   "source": [
    "import altair as alt\n",
    "\n",
    "# Load the TopoJSON file by URL\n",
    "url = \"https://raw.githubusercontent.com/openpolis/geojson-italy/master/topojson/limits_IT_regions.topo.json\"\n",
    "\n",
    "\n",
    "source = alt.topo_feature(url, \"regions\")\n",
    "\n",
    "chart = alt.Chart(source).mark_geoshape().encode(\n",
    "    tooltip='properties.reg_name:N',\n",
    "    color=alt.Color('Value:Q')\n",
    ").project('mercator').properties(\n",
    "    width=500,\n",
    "    height=500\n",
    ").transform_lookup(\n",
    "    lookup='properties.reg_name',\n",
    "    from_=alt.LookupData(df_tot, 'Territory', ['Territory', 'Value'])\n",
    ").properties(title='Homeless in Italy in 2021')\n",
    "\n",
    "configure_layout(chart)"
   ]
  },
  {
   "cell_type": "markdown",
   "id": "dbee4667",
   "metadata": {},
   "source": [
    "# Focus on the key message"
   ]
  },
  {
   "cell_type": "code",
   "execution_count": 223,
   "id": "774980c4",
   "metadata": {
    "scrolled": true
   },
   "outputs": [
    {
     "name": "stderr",
     "output_type": "stream",
     "text": [
      "/var/folders/yc/q002jxmj3lb5jz2p9nrxyt840000gn/T/ipykernel_14424/1574339668.py:1: SettingWithCopyWarning: \n",
      "A value is trying to be set on a copy of a slice from a DataFrame.\n",
      "Try using .loc[row_indexer,col_indexer] = value instead\n",
      "\n",
      "See the caveats in the documentation: https://pandas.pydata.org/pandas-docs/stable/user_guide/indexing.html#returning-a-view-versus-a-copy\n",
      "  df_tot['Territory'] = df_tot['Territory'].str.replace('Trentino-Alto Adige/Südtirol','Trentino Alto Adige')\n"
     ]
    },
    {
     "data": {
      "text/html": [
       "\n",
       "<div id=\"altair-viz-ad1f5e89a76140d5b4174c9e9af94fde\"></div>\n",
       "<script type=\"text/javascript\">\n",
       "  var VEGA_DEBUG = (typeof VEGA_DEBUG == \"undefined\") ? {} : VEGA_DEBUG;\n",
       "  (function(spec, embedOpt){\n",
       "    let outputDiv = document.currentScript.previousElementSibling;\n",
       "    if (outputDiv.id !== \"altair-viz-ad1f5e89a76140d5b4174c9e9af94fde\") {\n",
       "      outputDiv = document.getElementById(\"altair-viz-ad1f5e89a76140d5b4174c9e9af94fde\");\n",
       "    }\n",
       "    const paths = {\n",
       "      \"vega\": \"https://cdn.jsdelivr.net/npm//vega@5?noext\",\n",
       "      \"vega-lib\": \"https://cdn.jsdelivr.net/npm//vega-lib?noext\",\n",
       "      \"vega-lite\": \"https://cdn.jsdelivr.net/npm//vega-lite@4.17.0?noext\",\n",
       "      \"vega-embed\": \"https://cdn.jsdelivr.net/npm//vega-embed@6?noext\",\n",
       "    };\n",
       "\n",
       "    function maybeLoadScript(lib, version) {\n",
       "      var key = `${lib.replace(\"-\", \"\")}_version`;\n",
       "      return (VEGA_DEBUG[key] == version) ?\n",
       "        Promise.resolve(paths[lib]) :\n",
       "        new Promise(function(resolve, reject) {\n",
       "          var s = document.createElement('script');\n",
       "          document.getElementsByTagName(\"head\")[0].appendChild(s);\n",
       "          s.async = true;\n",
       "          s.onload = () => {\n",
       "            VEGA_DEBUG[key] = version;\n",
       "            return resolve(paths[lib]);\n",
       "          };\n",
       "          s.onerror = () => reject(`Error loading script: ${paths[lib]}`);\n",
       "          s.src = paths[lib];\n",
       "        });\n",
       "    }\n",
       "\n",
       "    function showError(err) {\n",
       "      outputDiv.innerHTML = `<div class=\"error\" style=\"color:red;\">${err}</div>`;\n",
       "      throw err;\n",
       "    }\n",
       "\n",
       "    function displayChart(vegaEmbed) {\n",
       "      vegaEmbed(outputDiv, spec, embedOpt)\n",
       "        .catch(err => showError(`Javascript Error: ${err.message}<br>This usually means there's a typo in your chart specification. See the javascript console for the full traceback.`));\n",
       "    }\n",
       "\n",
       "    if(typeof define === \"function\" && define.amd) {\n",
       "      requirejs.config({paths});\n",
       "      require([\"vega-embed\"], displayChart, err => showError(`Error loading script: ${err.message}`));\n",
       "    } else {\n",
       "      maybeLoadScript(\"vega\", \"5\")\n",
       "        .then(() => maybeLoadScript(\"vega-lite\", \"4.17.0\"))\n",
       "        .then(() => maybeLoadScript(\"vega-embed\", \"6\"))\n",
       "        .catch(showError)\n",
       "        .then(() => displayChart(vegaEmbed));\n",
       "    }\n",
       "  })({\"config\": {\"view\": {\"continuousWidth\": 400, \"continuousHeight\": 300}, \"axis\": {\"labelFontSize\": 15, \"titleFontSize\": 20}, \"legend\": {\"labelFontSize\": 15, \"titleFontSize\": 20}, \"title\": {\"fontSize\": 25, \"offset\": 25}}, \"data\": {\"name\": \"data-e1f042bb29ef9eb76753dfceac8823e4\"}, \"mark\": {\"type\": \"bar\", \"color\": \"#636466\"}, \"encoding\": {\"x\": {\"axis\": {\"title\": \"Number of homeless\"}, \"field\": \"Value\", \"type\": \"quantitative\"}, \"y\": {\"axis\": {\"title\": \"\"}, \"field\": \"Territory\", \"sort\": \"-x\", \"type\": \"nominal\"}}, \"title\": \"Homeless in Italy in 2021\", \"$schema\": \"https://vega.github.io/schema/vega-lite/v4.17.0.json\", \"datasets\": {\"data-e1f042bb29ef9eb76753dfceac8823e4\": [{\"ITTER107\": \"ITC1\", \"Territory\": \"Piemonte\", \"Sex\": \"T\", \"Age\": \"TOTAL\", \"Citizenship\": \"TOTAL\", \"Value\": 8766}, {\"ITTER107\": \"ITC2\", \"Territory\": \"Valle d'Aosta\", \"Sex\": \"T\", \"Age\": \"TOTAL\", \"Citizenship\": \"TOTAL\", \"Value\": 73}, {\"ITTER107\": \"ITC3\", \"Territory\": \"Liguria\", \"Sex\": \"T\", \"Age\": \"TOTAL\", \"Citizenship\": \"TOTAL\", \"Value\": 4293}, {\"ITTER107\": \"ITC4\", \"Territory\": \"Lombardia\", \"Sex\": \"T\", \"Age\": \"TOTAL\", \"Citizenship\": \"TOTAL\", \"Value\": 16346}, {\"ITTER107\": \"ITDA\", \"Territory\": \"Trentino Alto Adige\", \"Sex\": \"T\", \"Age\": \"TOTAL\", \"Citizenship\": \"TOTAL\", \"Value\": 612}, {\"ITTER107\": \"ITD3\", \"Territory\": \"Veneto\", \"Sex\": \"T\", \"Age\": \"TOTAL\", \"Citizenship\": \"TOTAL\", \"Value\": 3794}, {\"ITTER107\": \"ITD4\", \"Territory\": \"Friuli-Venezia Giulia\", \"Sex\": \"T\", \"Age\": \"TOTAL\", \"Citizenship\": \"TOTAL\", \"Value\": 1451}, {\"ITTER107\": \"ITD5\", \"Territory\": \"Emilia-Romagna\", \"Sex\": \"T\", \"Age\": \"TOTAL\", \"Citizenship\": \"TOTAL\", \"Value\": 4926}, {\"ITTER107\": \"ITE1\", \"Territory\": \"Toscana\", \"Sex\": \"T\", \"Age\": \"TOTAL\", \"Citizenship\": \"TOTAL\", \"Value\": 4450}, {\"ITTER107\": \"ITE2\", \"Territory\": \"Umbria\", \"Sex\": \"T\", \"Age\": \"TOTAL\", \"Citizenship\": \"TOTAL\", \"Value\": 431}, {\"ITTER107\": \"ITE3\", \"Territory\": \"Marche\", \"Sex\": \"T\", \"Age\": \"TOTAL\", \"Citizenship\": \"TOTAL\", \"Value\": 1107}, {\"ITTER107\": \"ITE4\", \"Territory\": \"Lazio\", \"Sex\": \"T\", \"Age\": \"TOTAL\", \"Citizenship\": \"TOTAL\", \"Value\": 24049}, {\"ITTER107\": \"ITF1\", \"Territory\": \"Abruzzo\", \"Sex\": \"T\", \"Age\": \"TOTAL\", \"Citizenship\": \"TOTAL\", \"Value\": 610}, {\"ITTER107\": \"ITF2\", \"Territory\": \"Molise\", \"Sex\": \"T\", \"Age\": \"TOTAL\", \"Citizenship\": \"TOTAL\", \"Value\": 101}, {\"ITTER107\": \"ITF3\", \"Territory\": \"Campania\", \"Sex\": \"T\", \"Age\": \"TOTAL\", \"Citizenship\": \"TOTAL\", \"Value\": 7828}, {\"ITTER107\": \"ITF4\", \"Territory\": \"Puglia\", \"Sex\": \"T\", \"Age\": \"TOTAL\", \"Citizenship\": \"TOTAL\", \"Value\": 7655}, {\"ITTER107\": \"ITF5\", \"Territory\": \"Basilicata\", \"Sex\": \"T\", \"Age\": \"TOTAL\", \"Citizenship\": \"TOTAL\", \"Value\": 119}, {\"ITTER107\": \"ITF6\", \"Territory\": \"Calabria\", \"Sex\": \"T\", \"Age\": \"TOTAL\", \"Citizenship\": \"TOTAL\", \"Value\": 2351}, {\"ITTER107\": \"ITG1\", \"Territory\": \"Sicilia\", \"Sex\": \"T\", \"Age\": \"TOTAL\", \"Citizenship\": \"TOTAL\", \"Value\": 4023}, {\"ITTER107\": \"ITG2\", \"Territory\": \"Sardegna\", \"Sex\": \"T\", \"Age\": \"TOTAL\", \"Citizenship\": \"TOTAL\", \"Value\": 3212}]}}, {\"mode\": \"vega-lite\"});\n",
       "</script>"
      ],
      "text/plain": [
       "alt.Chart(...)"
      ]
     },
     "execution_count": 223,
     "metadata": {},
     "output_type": "execute_result"
    }
   ],
   "source": [
    "df_tot['Territory'] = df_tot['Territory'].str.replace('Trentino-Alto Adige/Südtirol','Trentino Alto Adige')\n",
    "\n",
    "chart = alt.Chart(df_tot).mark_bar(color=color).encode(\n",
    "    y = alt.Y('Territory:N', sort='-x', axis=alt.Axis(title='')),\n",
    "    x = alt.X('Value:Q', axis=alt.Axis(title='Number of homeless')),\n",
    "   \n",
    ").properties(title='Homeless in Italy in 2021')\n",
    "\n",
    "configure_layout(chart)"
   ]
  },
  {
   "cell_type": "markdown",
   "id": "59f96213",
   "metadata": {},
   "source": [
    "Normalize by population"
   ]
  },
  {
   "cell_type": "code",
   "execution_count": 224,
   "id": "54196e28",
   "metadata": {},
   "outputs": [
    {
     "data": {
      "text/html": [
       "<div>\n",
       "<style scoped>\n",
       "    .dataframe tbody tr th:only-of-type {\n",
       "        vertical-align: middle;\n",
       "    }\n",
       "\n",
       "    .dataframe tbody tr th {\n",
       "        vertical-align: top;\n",
       "    }\n",
       "\n",
       "    .dataframe thead th {\n",
       "        text-align: right;\n",
       "    }\n",
       "</style>\n",
       "<table border=\"1\" class=\"dataframe\">\n",
       "  <thead>\n",
       "    <tr style=\"text-align: right;\">\n",
       "      <th></th>\n",
       "      <th>ITTER107</th>\n",
       "      <th>Territory</th>\n",
       "      <th>Sex</th>\n",
       "      <th>Age</th>\n",
       "      <th>Value</th>\n",
       "    </tr>\n",
       "  </thead>\n",
       "  <tbody>\n",
       "    <tr>\n",
       "      <th>0</th>\n",
       "      <td>ITF1</td>\n",
       "      <td>Abruzzo</td>\n",
       "      <td>M</td>\n",
       "      <td>Y50-54</td>\n",
       "      <td>50764</td>\n",
       "    </tr>\n",
       "    <tr>\n",
       "      <th>1</th>\n",
       "      <td>ITF1</td>\n",
       "      <td>Abruzzo</td>\n",
       "      <td>T</td>\n",
       "      <td>Y55-59</td>\n",
       "      <td>102824</td>\n",
       "    </tr>\n",
       "    <tr>\n",
       "      <th>2</th>\n",
       "      <td>ITF1</td>\n",
       "      <td>Abruzzo</td>\n",
       "      <td>T</td>\n",
       "      <td>Y80-84</td>\n",
       "      <td>50370</td>\n",
       "    </tr>\n",
       "    <tr>\n",
       "      <th>3</th>\n",
       "      <td>ITF1</td>\n",
       "      <td>Abruzzo</td>\n",
       "      <td>M</td>\n",
       "      <td>Y25-29</td>\n",
       "      <td>33107</td>\n",
       "    </tr>\n",
       "    <tr>\n",
       "      <th>4</th>\n",
       "      <td>ITF1</td>\n",
       "      <td>Abruzzo</td>\n",
       "      <td>M</td>\n",
       "      <td>Y45-49</td>\n",
       "      <td>48230</td>\n",
       "    </tr>\n",
       "  </tbody>\n",
       "</table>\n",
       "</div>"
      ],
      "text/plain": [
       "  ITTER107 Territory Sex     Age   Value\n",
       "0     ITF1   Abruzzo   M  Y50-54   50764\n",
       "1     ITF1   Abruzzo   T  Y55-59  102824\n",
       "2     ITF1   Abruzzo   T  Y80-84   50370\n",
       "3     ITF1   Abruzzo   M  Y25-29   33107\n",
       "4     ITF1   Abruzzo   M  Y45-49   48230"
      ]
     },
     "execution_count": 224,
     "metadata": {},
     "output_type": "execute_result"
    }
   ],
   "source": [
    "population = pd.read_csv('source/population.csv')\n",
    "population.head()"
   ]
  },
  {
   "cell_type": "code",
   "execution_count": 225,
   "id": "93afd3a0",
   "metadata": {},
   "outputs": [],
   "source": [
    "pop_tot = population[(population['Age'] == 'TOTAL') & (population['Sex'] == 'T')]"
   ]
  },
  {
   "cell_type": "code",
   "execution_count": 226,
   "id": "1270288d",
   "metadata": {},
   "outputs": [
    {
     "data": {
      "text/plain": [
       "(20, 20)"
      ]
     },
     "execution_count": 226,
     "metadata": {},
     "output_type": "execute_result"
    }
   ],
   "source": [
    "len(df_tot), len(pop_tot)"
   ]
  },
  {
   "cell_type": "code",
   "execution_count": 227,
   "id": "a70c735f",
   "metadata": {},
   "outputs": [
    {
     "data": {
      "text/plain": [
       "Index(['ITTER107', 'Territory', 'Sex', 'Age', 'Citizenship', 'Value'], dtype='object')"
      ]
     },
     "execution_count": 227,
     "metadata": {},
     "output_type": "execute_result"
    }
   ],
   "source": [
    "df_tot.columns"
   ]
  },
  {
   "cell_type": "code",
   "execution_count": 228,
   "id": "db0cd2c6",
   "metadata": {},
   "outputs": [
    {
     "data": {
      "text/plain": [
       "array(['Piemonte', \"Valle d'Aosta\", 'Liguria', 'Lombardia',\n",
       "       'Trentino Alto Adige', 'Veneto', 'Friuli-Venezia Giulia',\n",
       "       'Emilia-Romagna', 'Toscana', 'Umbria', 'Marche', 'Lazio',\n",
       "       'Abruzzo', 'Molise', 'Campania', 'Puglia', 'Basilicata',\n",
       "       'Calabria', 'Sicilia', 'Sardegna'], dtype=object)"
      ]
     },
     "execution_count": 228,
     "metadata": {},
     "output_type": "execute_result"
    }
   ],
   "source": [
    "df_tot.Territory.unique()"
   ]
  },
  {
   "cell_type": "code",
   "execution_count": 229,
   "id": "5d2f8851",
   "metadata": {},
   "outputs": [
    {
     "data": {
      "text/plain": [
       "array(['Abruzzo', 'Basilicata', 'Calabria', 'Campania', 'Emilia-Romagna',\n",
       "       'Friuli-Venezia Giulia', 'Lazio', 'Liguria', 'Lombardia', 'Marche',\n",
       "       'Molise', 'Piemonte', 'Puglia', 'Sardegna', 'Sicilia', 'Toscana',\n",
       "       'Trentino Alto Adige / Südtirol', 'Umbria',\n",
       "       \"Valle d'Aosta / Vallée d'Aoste\", 'Veneto'], dtype=object)"
      ]
     },
     "execution_count": 229,
     "metadata": {},
     "output_type": "execute_result"
    }
   ],
   "source": [
    "pop_tot.Territory.unique()"
   ]
  },
  {
   "cell_type": "markdown",
   "id": "e80cd5f5",
   "metadata": {},
   "source": [
    "Join the two datasets"
   ]
  },
  {
   "cell_type": "code",
   "execution_count": 230,
   "id": "2c5c2e9c",
   "metadata": {},
   "outputs": [],
   "source": [
    "df_tot = df_tot[['Value', 'ITTER107']]\n",
    "pop_tot = pop_tot[['Value', 'ITTER107','Territory']]"
   ]
  },
  {
   "cell_type": "code",
   "execution_count": 231,
   "id": "30135c81",
   "metadata": {},
   "outputs": [],
   "source": [
    "df3 = pop_tot.set_index('ITTER107').join(df_tot.set_index('ITTER107'),lsuffix='_pop', rsuffix='_hom').reset_index()"
   ]
  },
  {
   "cell_type": "markdown",
   "id": "15fcaef3",
   "metadata": {},
   "source": [
    "Calculate ratio: number of homeless people over 1000 inhabitants"
   ]
  },
  {
   "cell_type": "code",
   "execution_count": 232,
   "id": "bbc2828f",
   "metadata": {},
   "outputs": [],
   "source": [
    "df3['Ratio'] = df3['Value_hom']/df3['Value_pop']*1000"
   ]
  },
  {
   "cell_type": "code",
   "execution_count": 233,
   "id": "76ff7621",
   "metadata": {},
   "outputs": [
    {
     "name": "stderr",
     "output_type": "stream",
     "text": [
      "/Users/angelica/Library/Python/3.8/lib/python/site-packages/altair/utils/core.py:317: FutureWarning: iteritems is deprecated and will be removed in a future version. Use .items instead.\n",
      "  for col_name, dtype in df.dtypes.iteritems():\n"
     ]
    },
    {
     "data": {
      "text/html": [
       "\n",
       "<div id=\"altair-viz-fd60ae2a154f45529ce6b8ad5c17fdb1\"></div>\n",
       "<script type=\"text/javascript\">\n",
       "  var VEGA_DEBUG = (typeof VEGA_DEBUG == \"undefined\") ? {} : VEGA_DEBUG;\n",
       "  (function(spec, embedOpt){\n",
       "    let outputDiv = document.currentScript.previousElementSibling;\n",
       "    if (outputDiv.id !== \"altair-viz-fd60ae2a154f45529ce6b8ad5c17fdb1\") {\n",
       "      outputDiv = document.getElementById(\"altair-viz-fd60ae2a154f45529ce6b8ad5c17fdb1\");\n",
       "    }\n",
       "    const paths = {\n",
       "      \"vega\": \"https://cdn.jsdelivr.net/npm//vega@5?noext\",\n",
       "      \"vega-lib\": \"https://cdn.jsdelivr.net/npm//vega-lib?noext\",\n",
       "      \"vega-lite\": \"https://cdn.jsdelivr.net/npm//vega-lite@4.17.0?noext\",\n",
       "      \"vega-embed\": \"https://cdn.jsdelivr.net/npm//vega-embed@6?noext\",\n",
       "    };\n",
       "\n",
       "    function maybeLoadScript(lib, version) {\n",
       "      var key = `${lib.replace(\"-\", \"\")}_version`;\n",
       "      return (VEGA_DEBUG[key] == version) ?\n",
       "        Promise.resolve(paths[lib]) :\n",
       "        new Promise(function(resolve, reject) {\n",
       "          var s = document.createElement('script');\n",
       "          document.getElementsByTagName(\"head\")[0].appendChild(s);\n",
       "          s.async = true;\n",
       "          s.onload = () => {\n",
       "            VEGA_DEBUG[key] = version;\n",
       "            return resolve(paths[lib]);\n",
       "          };\n",
       "          s.onerror = () => reject(`Error loading script: ${paths[lib]}`);\n",
       "          s.src = paths[lib];\n",
       "        });\n",
       "    }\n",
       "\n",
       "    function showError(err) {\n",
       "      outputDiv.innerHTML = `<div class=\"error\" style=\"color:red;\">${err}</div>`;\n",
       "      throw err;\n",
       "    }\n",
       "\n",
       "    function displayChart(vegaEmbed) {\n",
       "      vegaEmbed(outputDiv, spec, embedOpt)\n",
       "        .catch(err => showError(`Javascript Error: ${err.message}<br>This usually means there's a typo in your chart specification. See the javascript console for the full traceback.`));\n",
       "    }\n",
       "\n",
       "    if(typeof define === \"function\" && define.amd) {\n",
       "      requirejs.config({paths});\n",
       "      require([\"vega-embed\"], displayChart, err => showError(`Error loading script: ${err.message}`));\n",
       "    } else {\n",
       "      maybeLoadScript(\"vega\", \"5\")\n",
       "        .then(() => maybeLoadScript(\"vega-lite\", \"4.17.0\"))\n",
       "        .then(() => maybeLoadScript(\"vega-embed\", \"6\"))\n",
       "        .catch(showError)\n",
       "        .then(() => displayChart(vegaEmbed));\n",
       "    }\n",
       "  })({\"config\": {\"view\": {\"continuousWidth\": 400, \"continuousHeight\": 300}, \"axis\": {\"labelFontSize\": 15, \"titleFontSize\": 20}, \"legend\": {\"labelFontSize\": 15, \"titleFontSize\": 20}, \"title\": {\"fontSize\": 25, \"offset\": 25}}, \"data\": {\"name\": \"data-6f1016a855a1815fe822fd0b44ed65d6\"}, \"mark\": \"bar\", \"encoding\": {\"color\": {\"condition\": {\"value\": \"#80C11E\", \"test\": \"(datum.Ratio > 2)\"}, \"value\": \"lightgray\"}, \"x\": {\"axis\": {\"tickCount\": 4, \"title\": \"\"}, \"field\": \"Ratio\", \"type\": \"quantitative\"}, \"y\": {\"axis\": {\"title\": \"\"}, \"field\": \"Territory\", \"sort\": \"-x\", \"type\": \"nominal\"}}, \"title\": \"Number of homeless people in a population of 1,000\", \"width\": 500, \"$schema\": \"https://vega.github.io/schema/vega-lite/v4.17.0.json\", \"datasets\": {\"data-6f1016a855a1815fe822fd0b44ed65d6\": [{\"ITTER107\": \"ITF1\", \"Value_pop\": 1275950, \"Territory\": \"Abruzzo\", \"Value_hom\": 610, \"Ratio\": 0.47807515968494063}, {\"ITTER107\": \"ITF5\", \"Value_pop\": 541168, \"Territory\": \"Basilicata\", \"Value_hom\": 119, \"Ratio\": 0.21989474617863583}, {\"ITTER107\": \"ITF6\", \"Value_pop\": 1855454, \"Territory\": \"Calabria\", \"Value_hom\": 2351, \"Ratio\": 1.267075335739932}, {\"ITTER107\": \"ITF3\", \"Value_pop\": 5624420, \"Territory\": \"Campania\", \"Value_hom\": 7828, \"Ratio\": 1.3917879532467348}, {\"ITTER107\": \"ITD5\", \"Value_pop\": 4425366, \"Territory\": \"Emilia-Romagna\", \"Value_hom\": 4926, \"Ratio\": 1.1131282700685095}, {\"ITTER107\": \"ITD4\", \"Value_pop\": 1194647, \"Territory\": \"Friuli-Venezia Giulia\", \"Value_hom\": 1451, \"Ratio\": 1.2145847267016951}, {\"ITTER107\": \"ITE4\", \"Value_pop\": 5714882, \"Territory\": \"Lazio\", \"Value_hom\": 24049, \"Ratio\": 4.208135881020815}, {\"ITTER107\": \"ITC3\", \"Value_pop\": 1509227, \"Territory\": \"Liguria\", \"Value_hom\": 4293, \"Ratio\": 2.8445025168513416}, {\"ITTER107\": \"ITC4\", \"Value_pop\": 9943004, \"Territory\": \"Lombardia\", \"Value_hom\": 16346, \"Ratio\": 1.643969971248126}, {\"ITTER107\": \"ITE3\", \"Value_pop\": 1487150, \"Territory\": \"Marche\", \"Value_hom\": 1107, \"Ratio\": 0.7443768281612481}, {\"ITTER107\": \"ITF2\", \"Value_pop\": 292150, \"Territory\": \"Molise\", \"Value_hom\": 101, \"Ratio\": 0.3457128187574876}, {\"ITTER107\": \"ITC1\", \"Value_pop\": 4256350, \"Territory\": \"Piemonte\", \"Value_hom\": 8766, \"Ratio\": 2.0595110834400367}, {\"ITTER107\": \"ITF4\", \"Value_pop\": 3922941, \"Territory\": \"Puglia\", \"Value_hom\": 7655, \"Ratio\": 1.9513421180690713}, {\"ITTER107\": \"ITG2\", \"Value_pop\": 1587413, \"Territory\": \"Sardegna\", \"Value_hom\": 3212, \"Ratio\": 2.023417976292244}, {\"ITTER107\": \"ITG1\", \"Value_pop\": 4833329, \"Territory\": \"Sicilia\", \"Value_hom\": 4023, \"Ratio\": 0.8323455738270662}, {\"ITTER107\": \"ITE1\", \"Value_pop\": 3663191, \"Territory\": \"Toscana\", \"Value_hom\": 4450, \"Ratio\": 1.214787872103857}, {\"ITTER107\": \"ITDA\", \"Value_pop\": 1073574, \"Territory\": \"Trentino Alto Adige / S\\u00fcdtirol\", \"Value_hom\": 612, \"Ratio\": 0.5700585148299047}, {\"ITTER107\": \"ITE2\", \"Value_pop\": 858812, \"Territory\": \"Umbria\", \"Value_hom\": 431, \"Ratio\": 0.501856052314127}, {\"ITTER107\": \"ITC2\", \"Value_pop\": 123360, \"Territory\": \"Valle d'Aosta / Vall\\u00e9e d'Aoste\", \"Value_hom\": 73, \"Ratio\": 0.5917639429312581}, {\"ITTER107\": \"ITD3\", \"Value_pop\": 4847745, \"Territory\": \"Veneto\", \"Value_hom\": 3794, \"Ratio\": 0.7826319247402658}]}}, {\"mode\": \"vega-lite\"});\n",
       "</script>"
      ],
      "text/plain": [
       "alt.Chart(...)"
      ]
     },
     "execution_count": 233,
     "metadata": {},
     "output_type": "execute_result"
    }
   ],
   "source": [
    "chart = alt.Chart(df3).mark_bar().encode(\n",
    "    y = alt.Y('Territory', sort='-x', axis=alt.Axis(title='')),\n",
    "    x = alt.X('Ratio', axis=alt.Axis(tickCount=4,title='')),\n",
    "    color=alt.condition(alt.datum.Ratio > 2, alt.value(iColor), alt.value('lightgray'))\n",
    "   \n",
    ").properties(width=500,title='Number of homeless people in a population of 1,000')\n",
    "\n",
    "configure_layout(chart)"
   ]
  },
  {
   "cell_type": "markdown",
   "id": "41272154",
   "metadata": {},
   "source": [
    "# Adding a context"
   ]
  },
  {
   "cell_type": "code",
   "execution_count": 217,
   "id": "cedbfa6d",
   "metadata": {},
   "outputs": [
    {
     "data": {
      "text/html": [
       "\n",
       "<div id=\"altair-viz-9c29d49cfa5c41788162b05025f4edb5\"></div>\n",
       "<script type=\"text/javascript\">\n",
       "  var VEGA_DEBUG = (typeof VEGA_DEBUG == \"undefined\") ? {} : VEGA_DEBUG;\n",
       "  (function(spec, embedOpt){\n",
       "    let outputDiv = document.currentScript.previousElementSibling;\n",
       "    if (outputDiv.id !== \"altair-viz-9c29d49cfa5c41788162b05025f4edb5\") {\n",
       "      outputDiv = document.getElementById(\"altair-viz-9c29d49cfa5c41788162b05025f4edb5\");\n",
       "    }\n",
       "    const paths = {\n",
       "      \"vega\": \"https://cdn.jsdelivr.net/npm//vega@5?noext\",\n",
       "      \"vega-lib\": \"https://cdn.jsdelivr.net/npm//vega-lib?noext\",\n",
       "      \"vega-lite\": \"https://cdn.jsdelivr.net/npm//vega-lite@4.17.0?noext\",\n",
       "      \"vega-embed\": \"https://cdn.jsdelivr.net/npm//vega-embed@6?noext\",\n",
       "    };\n",
       "\n",
       "    function maybeLoadScript(lib, version) {\n",
       "      var key = `${lib.replace(\"-\", \"\")}_version`;\n",
       "      return (VEGA_DEBUG[key] == version) ?\n",
       "        Promise.resolve(paths[lib]) :\n",
       "        new Promise(function(resolve, reject) {\n",
       "          var s = document.createElement('script');\n",
       "          document.getElementsByTagName(\"head\")[0].appendChild(s);\n",
       "          s.async = true;\n",
       "          s.onload = () => {\n",
       "            VEGA_DEBUG[key] = version;\n",
       "            return resolve(paths[lib]);\n",
       "          };\n",
       "          s.onerror = () => reject(`Error loading script: ${paths[lib]}`);\n",
       "          s.src = paths[lib];\n",
       "        });\n",
       "    }\n",
       "\n",
       "    function showError(err) {\n",
       "      outputDiv.innerHTML = `<div class=\"error\" style=\"color:red;\">${err}</div>`;\n",
       "      throw err;\n",
       "    }\n",
       "\n",
       "    function displayChart(vegaEmbed) {\n",
       "      vegaEmbed(outputDiv, spec, embedOpt)\n",
       "        .catch(err => showError(`Javascript Error: ${err.message}<br>This usually means there's a typo in your chart specification. See the javascript console for the full traceback.`));\n",
       "    }\n",
       "\n",
       "    if(typeof define === \"function\" && define.amd) {\n",
       "      requirejs.config({paths});\n",
       "      require([\"vega-embed\"], displayChart, err => showError(`Error loading script: ${err.message}`));\n",
       "    } else {\n",
       "      maybeLoadScript(\"vega\", \"5\")\n",
       "        .then(() => maybeLoadScript(\"vega-lite\", \"4.17.0\"))\n",
       "        .then(() => maybeLoadScript(\"vega-embed\", \"6\"))\n",
       "        .catch(showError)\n",
       "        .then(() => displayChart(vegaEmbed));\n",
       "    }\n",
       "  })({\"config\": {\"view\": {\"continuousWidth\": 400, \"continuousHeight\": 300}, \"axis\": {\"labelFontSize\": 15, \"titleFontSize\": 20}, \"legend\": {\"labelFontSize\": 15, \"titleFontSize\": 20}, \"title\": {\"fontSize\": 25, \"offset\": 25}}, \"data\": {\"name\": \"data-6f1016a855a1815fe822fd0b44ed65d6\"}, \"mark\": \"bar\", \"encoding\": {\"color\": {\"condition\": {\"value\": \"#80C11E\", \"test\": \"(datum.Ratio > 2)\"}, \"value\": \"lightgray\"}, \"x\": {\"axis\": {\"tickCount\": 4, \"title\": \"\"}, \"field\": \"Ratio\", \"type\": \"quantitative\"}, \"y\": {\"axis\": {\"title\": \"\"}, \"field\": \"Territory\", \"sort\": \"-x\", \"type\": \"nominal\"}}, \"title\": {\"text\": [\"Number of homeless people in a population of 1,000\"], \"subtitle\": [\"Homeless individuals need our empathy, support, and help\", \"to access basic needs and resources for finding stable housing and employment.\"], \"subtitleFontSize\": 18}, \"width\": 500, \"$schema\": \"https://vega.github.io/schema/vega-lite/v4.17.0.json\", \"datasets\": {\"data-6f1016a855a1815fe822fd0b44ed65d6\": [{\"ITTER107\": \"ITF1\", \"Value_pop\": 1275950, \"Territory\": \"Abruzzo\", \"Value_hom\": 610, \"Ratio\": 0.47807515968494063}, {\"ITTER107\": \"ITF5\", \"Value_pop\": 541168, \"Territory\": \"Basilicata\", \"Value_hom\": 119, \"Ratio\": 0.21989474617863583}, {\"ITTER107\": \"ITF6\", \"Value_pop\": 1855454, \"Territory\": \"Calabria\", \"Value_hom\": 2351, \"Ratio\": 1.267075335739932}, {\"ITTER107\": \"ITF3\", \"Value_pop\": 5624420, \"Territory\": \"Campania\", \"Value_hom\": 7828, \"Ratio\": 1.3917879532467348}, {\"ITTER107\": \"ITD5\", \"Value_pop\": 4425366, \"Territory\": \"Emilia-Romagna\", \"Value_hom\": 4926, \"Ratio\": 1.1131282700685095}, {\"ITTER107\": \"ITD4\", \"Value_pop\": 1194647, \"Territory\": \"Friuli-Venezia Giulia\", \"Value_hom\": 1451, \"Ratio\": 1.2145847267016951}, {\"ITTER107\": \"ITE4\", \"Value_pop\": 5714882, \"Territory\": \"Lazio\", \"Value_hom\": 24049, \"Ratio\": 4.208135881020815}, {\"ITTER107\": \"ITC3\", \"Value_pop\": 1509227, \"Territory\": \"Liguria\", \"Value_hom\": 4293, \"Ratio\": 2.8445025168513416}, {\"ITTER107\": \"ITC4\", \"Value_pop\": 9943004, \"Territory\": \"Lombardia\", \"Value_hom\": 16346, \"Ratio\": 1.643969971248126}, {\"ITTER107\": \"ITE3\", \"Value_pop\": 1487150, \"Territory\": \"Marche\", \"Value_hom\": 1107, \"Ratio\": 0.7443768281612481}, {\"ITTER107\": \"ITF2\", \"Value_pop\": 292150, \"Territory\": \"Molise\", \"Value_hom\": 101, \"Ratio\": 0.3457128187574876}, {\"ITTER107\": \"ITC1\", \"Value_pop\": 4256350, \"Territory\": \"Piemonte\", \"Value_hom\": 8766, \"Ratio\": 2.0595110834400367}, {\"ITTER107\": \"ITF4\", \"Value_pop\": 3922941, \"Territory\": \"Puglia\", \"Value_hom\": 7655, \"Ratio\": 1.9513421180690713}, {\"ITTER107\": \"ITG2\", \"Value_pop\": 1587413, \"Territory\": \"Sardegna\", \"Value_hom\": 3212, \"Ratio\": 2.023417976292244}, {\"ITTER107\": \"ITG1\", \"Value_pop\": 4833329, \"Territory\": \"Sicilia\", \"Value_hom\": 4023, \"Ratio\": 0.8323455738270662}, {\"ITTER107\": \"ITE1\", \"Value_pop\": 3663191, \"Territory\": \"Toscana\", \"Value_hom\": 4450, \"Ratio\": 1.214787872103857}, {\"ITTER107\": \"ITDA\", \"Value_pop\": 1073574, \"Territory\": \"Trentino Alto Adige / S\\u00fcdtirol\", \"Value_hom\": 612, \"Ratio\": 0.5700585148299047}, {\"ITTER107\": \"ITE2\", \"Value_pop\": 858812, \"Territory\": \"Umbria\", \"Value_hom\": 431, \"Ratio\": 0.501856052314127}, {\"ITTER107\": \"ITC2\", \"Value_pop\": 123360, \"Territory\": \"Valle d'Aosta / Vall\\u00e9e d'Aoste\", \"Value_hom\": 73, \"Ratio\": 0.5917639429312581}, {\"ITTER107\": \"ITD3\", \"Value_pop\": 4847745, \"Territory\": \"Veneto\", \"Value_hom\": 3794, \"Ratio\": 0.7826319247402658}]}}, {\"mode\": \"vega-lite\"});\n",
       "</script>"
      ],
      "text/plain": [
       "alt.Chart(...)"
      ]
     },
     "execution_count": 217,
     "metadata": {},
     "output_type": "execute_result"
    }
   ],
   "source": [
    "chart = alt.Chart(df3).mark_bar().encode(\n",
    "    y = alt.Y('Territory', sort='-x', axis=alt.Axis(title='')),\n",
    "    x = alt.X('Ratio', axis=alt.Axis(tickCount=4,title='')),\n",
    "    color=alt.condition(alt.datum.Ratio > 2, alt.value(iColor), alt.value('lightgray'))\n",
    "   \n",
    ").properties(width=500,title=alt.TitleParams(\n",
    "    text=['Number of homeless people in a population of 1,000'],\n",
    "    subtitle=['Homeless individuals need our empathy, support, and help', 'to access basic needs and resources for finding stable housing and employment.'],\n",
    "    subtitleFontSize=18\n",
    "))\n",
    "\n",
    "\n",
    "configure_layout(chart)"
   ]
  },
  {
   "cell_type": "code",
   "execution_count": 215,
   "id": "f1096077",
   "metadata": {},
   "outputs": [
    {
     "data": {
      "text/html": [
       "\n",
       "<div id=\"altair-viz-a8d8647886734df7bfc19f154e856541\"></div>\n",
       "<script type=\"text/javascript\">\n",
       "  var VEGA_DEBUG = (typeof VEGA_DEBUG == \"undefined\") ? {} : VEGA_DEBUG;\n",
       "  (function(spec, embedOpt){\n",
       "    let outputDiv = document.currentScript.previousElementSibling;\n",
       "    if (outputDiv.id !== \"altair-viz-a8d8647886734df7bfc19f154e856541\") {\n",
       "      outputDiv = document.getElementById(\"altair-viz-a8d8647886734df7bfc19f154e856541\");\n",
       "    }\n",
       "    const paths = {\n",
       "      \"vega\": \"https://cdn.jsdelivr.net/npm//vega@5?noext\",\n",
       "      \"vega-lib\": \"https://cdn.jsdelivr.net/npm//vega-lib?noext\",\n",
       "      \"vega-lite\": \"https://cdn.jsdelivr.net/npm//vega-lite@4.17.0?noext\",\n",
       "      \"vega-embed\": \"https://cdn.jsdelivr.net/npm//vega-embed@6?noext\",\n",
       "    };\n",
       "\n",
       "    function maybeLoadScript(lib, version) {\n",
       "      var key = `${lib.replace(\"-\", \"\")}_version`;\n",
       "      return (VEGA_DEBUG[key] == version) ?\n",
       "        Promise.resolve(paths[lib]) :\n",
       "        new Promise(function(resolve, reject) {\n",
       "          var s = document.createElement('script');\n",
       "          document.getElementsByTagName(\"head\")[0].appendChild(s);\n",
       "          s.async = true;\n",
       "          s.onload = () => {\n",
       "            VEGA_DEBUG[key] = version;\n",
       "            return resolve(paths[lib]);\n",
       "          };\n",
       "          s.onerror = () => reject(`Error loading script: ${paths[lib]}`);\n",
       "          s.src = paths[lib];\n",
       "        });\n",
       "    }\n",
       "\n",
       "    function showError(err) {\n",
       "      outputDiv.innerHTML = `<div class=\"error\" style=\"color:red;\">${err}</div>`;\n",
       "      throw err;\n",
       "    }\n",
       "\n",
       "    function displayChart(vegaEmbed) {\n",
       "      vegaEmbed(outputDiv, spec, embedOpt)\n",
       "        .catch(err => showError(`Javascript Error: ${err.message}<br>This usually means there's a typo in your chart specification. See the javascript console for the full traceback.`));\n",
       "    }\n",
       "\n",
       "    if(typeof define === \"function\" && define.amd) {\n",
       "      requirejs.config({paths});\n",
       "      require([\"vega-embed\"], displayChart, err => showError(`Error loading script: ${err.message}`));\n",
       "    } else {\n",
       "      maybeLoadScript(\"vega\", \"5\")\n",
       "        .then(() => maybeLoadScript(\"vega-lite\", \"4.17.0\"))\n",
       "        .then(() => maybeLoadScript(\"vega-embed\", \"6\"))\n",
       "        .catch(showError)\n",
       "        .then(() => displayChart(vegaEmbed));\n",
       "    }\n",
       "  })({\"config\": {\"view\": {\"continuousWidth\": 400, \"continuousHeight\": 300}, \"axis\": {\"labelFontSize\": 15, \"titleFontSize\": 20}, \"legend\": {\"labelFontSize\": 15, \"titleFontSize\": 20}, \"title\": {\"fontSize\": 25, \"offset\": 25}}, \"hconcat\": [{\"layer\": [{\"data\": {\"name\": \"data-54472d059aac7e7eb20b87acf986c92a\"}, \"mark\": {\"type\": \"image\", \"height\": 200, \"width\": 200}, \"encoding\": {\"url\": {\"field\": \"image_url\", \"type\": \"nominal\"}, \"x\": {\"value\": 0}, \"y\": {\"value\": 50}}}, {\"data\": {\"name\": \"data-a6543ab1f05cedfcb79693f060039abe\"}, \"mark\": {\"type\": \"image\", \"height\": 200, \"width\": 200}, \"encoding\": {\"url\": {\"field\": \"image_url\", \"type\": \"nominal\"}, \"x\": {\"value\": 0}, \"y\": {\"value\": 300}}}]}, {\"data\": {\"name\": \"data-6f1016a855a1815fe822fd0b44ed65d6\"}, \"mark\": \"bar\", \"encoding\": {\"color\": {\"condition\": {\"value\": \"#80C11E\", \"test\": \"(datum.Ratio > 2)\"}, \"value\": \"lightgray\"}, \"x\": {\"axis\": {\"tickCount\": 4, \"title\": \"\"}, \"field\": \"Ratio\", \"type\": \"quantitative\"}, \"y\": {\"axis\": {\"title\": \"\"}, \"field\": \"Territory\", \"sort\": \"-x\", \"type\": \"nominal\"}}, \"title\": {\"text\": [\"Number of homeless people in a population of 1,000\"], \"subtitle\": [\"Homeless individuals need our empathy, support, and help\", \"to access basic needs and resources for finding stable housing and employment.\"], \"subtitleFontSize\": 18}, \"width\": 500}], \"$schema\": \"https://vega.github.io/schema/vega-lite/v4.17.0.json\", \"datasets\": {\"data-54472d059aac7e7eb20b87acf986c92a\": [{\"image_url\": \"source/homeless1.png\"}], \"data-a6543ab1f05cedfcb79693f060039abe\": [{\"image_url\": \"source/homeless2.png\"}], \"data-6f1016a855a1815fe822fd0b44ed65d6\": [{\"ITTER107\": \"ITF1\", \"Value_pop\": 1275950, \"Territory\": \"Abruzzo\", \"Value_hom\": 610, \"Ratio\": 0.47807515968494063}, {\"ITTER107\": \"ITF5\", \"Value_pop\": 541168, \"Territory\": \"Basilicata\", \"Value_hom\": 119, \"Ratio\": 0.21989474617863583}, {\"ITTER107\": \"ITF6\", \"Value_pop\": 1855454, \"Territory\": \"Calabria\", \"Value_hom\": 2351, \"Ratio\": 1.267075335739932}, {\"ITTER107\": \"ITF3\", \"Value_pop\": 5624420, \"Territory\": \"Campania\", \"Value_hom\": 7828, \"Ratio\": 1.3917879532467348}, {\"ITTER107\": \"ITD5\", \"Value_pop\": 4425366, \"Territory\": \"Emilia-Romagna\", \"Value_hom\": 4926, \"Ratio\": 1.1131282700685095}, {\"ITTER107\": \"ITD4\", \"Value_pop\": 1194647, \"Territory\": \"Friuli-Venezia Giulia\", \"Value_hom\": 1451, \"Ratio\": 1.2145847267016951}, {\"ITTER107\": \"ITE4\", \"Value_pop\": 5714882, \"Territory\": \"Lazio\", \"Value_hom\": 24049, \"Ratio\": 4.208135881020815}, {\"ITTER107\": \"ITC3\", \"Value_pop\": 1509227, \"Territory\": \"Liguria\", \"Value_hom\": 4293, \"Ratio\": 2.8445025168513416}, {\"ITTER107\": \"ITC4\", \"Value_pop\": 9943004, \"Territory\": \"Lombardia\", \"Value_hom\": 16346, \"Ratio\": 1.643969971248126}, {\"ITTER107\": \"ITE3\", \"Value_pop\": 1487150, \"Territory\": \"Marche\", \"Value_hom\": 1107, \"Ratio\": 0.7443768281612481}, {\"ITTER107\": \"ITF2\", \"Value_pop\": 292150, \"Territory\": \"Molise\", \"Value_hom\": 101, \"Ratio\": 0.3457128187574876}, {\"ITTER107\": \"ITC1\", \"Value_pop\": 4256350, \"Territory\": \"Piemonte\", \"Value_hom\": 8766, \"Ratio\": 2.0595110834400367}, {\"ITTER107\": \"ITF4\", \"Value_pop\": 3922941, \"Territory\": \"Puglia\", \"Value_hom\": 7655, \"Ratio\": 1.9513421180690713}, {\"ITTER107\": \"ITG2\", \"Value_pop\": 1587413, \"Territory\": \"Sardegna\", \"Value_hom\": 3212, \"Ratio\": 2.023417976292244}, {\"ITTER107\": \"ITG1\", \"Value_pop\": 4833329, \"Territory\": \"Sicilia\", \"Value_hom\": 4023, \"Ratio\": 0.8323455738270662}, {\"ITTER107\": \"ITE1\", \"Value_pop\": 3663191, \"Territory\": \"Toscana\", \"Value_hom\": 4450, \"Ratio\": 1.214787872103857}, {\"ITTER107\": \"ITDA\", \"Value_pop\": 1073574, \"Territory\": \"Trentino Alto Adige / S\\u00fcdtirol\", \"Value_hom\": 612, \"Ratio\": 0.5700585148299047}, {\"ITTER107\": \"ITE2\", \"Value_pop\": 858812, \"Territory\": \"Umbria\", \"Value_hom\": 431, \"Ratio\": 0.501856052314127}, {\"ITTER107\": \"ITC2\", \"Value_pop\": 123360, \"Territory\": \"Valle d'Aosta / Vall\\u00e9e d'Aoste\", \"Value_hom\": 73, \"Ratio\": 0.5917639429312581}, {\"ITTER107\": \"ITD3\", \"Value_pop\": 4847745, \"Territory\": \"Veneto\", \"Value_hom\": 3794, \"Ratio\": 0.7826319247402658}]}}, {\"mode\": \"vega-lite\"});\n",
       "</script>"
      ],
      "text/plain": [
       "alt.HConcatChart(...)"
      ]
     },
     "execution_count": 215,
     "metadata": {},
     "output_type": "execute_result"
    }
   ],
   "source": [
    "\n",
    "# Create an Altair chart with an image mark\n",
    "image1 = alt.Chart(pd.DataFrame({'image_url': ['source/homeless1.png']})).mark_image(\n",
    "    width=200,\n",
    "    height=200,\n",
    ").encode(\n",
    "    url='image_url',\n",
    "    x=alt.value(0),  # pixels from left\n",
    "    y=alt.value(50)\n",
    ")\n",
    "\n",
    "image2 = alt.Chart(pd.DataFrame({'image_url': ['source/homeless2.png']})).mark_image(\n",
    "    width=200,\n",
    "    height=200,\n",
    ").encode(\n",
    "    url='image_url',\n",
    "    x=alt.value(0),  # pixels from left\n",
    "    y=alt.value(300)\n",
    ")\n",
    "\n",
    "configure_layout(image1 + image2| chart)"
   ]
  },
  {
   "cell_type": "code",
   "execution_count": null,
   "id": "9ddd2943",
   "metadata": {},
   "outputs": [],
   "source": []
  }
 ],
 "metadata": {
  "kernelspec": {
   "display_name": "Python 3 (ipykernel)",
   "language": "python",
   "name": "python3"
  },
  "language_info": {
   "codemirror_mode": {
    "name": "ipython",
    "version": 3
   },
   "file_extension": ".py",
   "mimetype": "text/x-python",
   "name": "python",
   "nbconvert_exporter": "python",
   "pygments_lexer": "ipython3",
   "version": "3.8.9"
  }
 },
 "nbformat": 4,
 "nbformat_minor": 5
}
